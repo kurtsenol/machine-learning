{
  "nbformat": 4,
  "nbformat_minor": 0,
  "metadata": {
    "colab": {
      "name": "tensorflow_1.ipynb",
      "provenance": [],
      "collapsed_sections": [],
      "mount_file_id": "1tkg9CLTRWW_9u-k1n8Uwa19XNy3gWCt8",
      "authorship_tag": "ABX9TyNs4CCZnBNJzpn9KoZNq4E1",
      "include_colab_link": true
    },
    "kernelspec": {
      "name": "python3",
      "display_name": "Python 3"
    }
  },
  "cells": [
    {
      "cell_type": "markdown",
      "metadata": {
        "id": "view-in-github",
        "colab_type": "text"
      },
      "source": [
        "<a href=\"https://colab.research.google.com/github/kurtsenol/machine-learning/blob/master/tensorflow_1.ipynb\" target=\"_parent\"><img src=\"https://colab.research.google.com/assets/colab-badge.svg\" alt=\"Open In Colab\"/></a>"
      ]
    },
    {
      "cell_type": "code",
      "metadata": {
        "id": "Ei-WWYUIrhoV",
        "colab_type": "code",
        "colab": {}
      },
      "source": [
        "import tensorflow as tf"
      ],
      "execution_count": null,
      "outputs": []
    },
    {
      "cell_type": "code",
      "metadata": {
        "id": "PPgvlQN5rdgK",
        "colab_type": "code",
        "colab": {
          "base_uri": "https://localhost:8080/",
          "height": 35
        },
        "outputId": "ec0a626b-cbf4-40e9-9ae5-c4509245b964"
      },
      "source": [
        "tf.__version__"
      ],
      "execution_count": null,
      "outputs": [
        {
          "output_type": "execute_result",
          "data": {
            "application/vnd.google.colaboratory.intrinsic": {
              "type": "string"
            },
            "text/plain": [
              "'2.2.0'"
            ]
          },
          "metadata": {
            "tags": []
          },
          "execution_count": 3
        }
      ]
    },
    {
      "cell_type": "markdown",
      "metadata": {
        "id": "ze8tkMGWv1Z8",
        "colab_type": "text"
      },
      "source": [
        "### Defining data as constants"
      ]
    },
    {
      "cell_type": "code",
      "metadata": {
        "id": "22dysS2RqZ5h",
        "colab_type": "code",
        "colab": {}
      },
      "source": [
        "import numpy as np"
      ],
      "execution_count": null,
      "outputs": []
    },
    {
      "cell_type": "code",
      "metadata": {
        "id": "lf43oqVJqZxP",
        "colab_type": "code",
        "colab": {}
      },
      "source": [
        "credit_numpy = np.array([[ 2.0000e+00,  1.0000e+00,  2.4000e+01,  3.9130e+03],\n",
        "       [ 2.0000e+00,  2.0000e+00,  2.6000e+01,  2.6820e+03],\n",
        "       [ 2.0000e+00,  2.0000e+00,  3.4000e+01,  2.9239e+04]])"
      ],
      "execution_count": null,
      "outputs": []
    },
    {
      "cell_type": "code",
      "metadata": {
        "id": "Gptvo5_yqVC0",
        "colab_type": "code",
        "colab": {
          "base_uri": "https://localhost:8080/",
          "height": 50
        },
        "outputId": "b07088a1-5188-44f0-d5be-69fa9a26c185"
      },
      "source": [
        "# Import constant from TensorFlow\n",
        "from tensorflow import constant, Variable\n",
        "\n",
        "# Convert the credit_numpy array into a tensorflow constant\n",
        "credit_constant = constant(credit_numpy)\n",
        "\n",
        "# Print constant datatype\n",
        "print('The datatype is:', credit_constant.dtype)\n",
        "\n",
        "# Print constant shape\n",
        "print('The shape is:', credit_constant.shape)"
      ],
      "execution_count": null,
      "outputs": [
        {
          "output_type": "stream",
          "text": [
            "The datatype is: <dtype: 'float64'>\n",
            "The shape is: (3, 4)\n"
          ],
          "name": "stdout"
        }
      ]
    },
    {
      "cell_type": "markdown",
      "metadata": {
        "id": "kPyQI1ghwCDA",
        "colab_type": "text"
      },
      "source": [
        "### Defining variables"
      ]
    },
    {
      "cell_type": "code",
      "metadata": {
        "id": "lmAH5hPIqVAF",
        "colab_type": "code",
        "colab": {
          "base_uri": "https://localhost:8080/",
          "height": 34
        },
        "outputId": "71d15ce1-fa06-4894-9a8b-9a44c0838513"
      },
      "source": [
        "# Define the 1-dimensional variable A1\n",
        "A1 = Variable([1, 2, 3, 4])\n",
        "\n",
        "# Print the variable A1\n",
        "print(A1)\n"
      ],
      "execution_count": null,
      "outputs": [
        {
          "output_type": "stream",
          "text": [
            "<tf.Variable 'Variable:0' shape=(4,) dtype=int32, numpy=array([1, 2, 3, 4], dtype=int32)>\n"
          ],
          "name": "stdout"
        }
      ]
    },
    {
      "cell_type": "code",
      "metadata": {
        "id": "dz1ZsSmfsj2O",
        "colab_type": "code",
        "colab": {
          "base_uri": "https://localhost:8080/",
          "height": 34
        },
        "outputId": "f8c433ad-7789-43ed-ff0b-72cffb77b7b3"
      },
      "source": [
        "\n",
        "# Convert A1 to a numpy array and assign it to B1\n",
        "B1 = A1.numpy()\n",
        "\n",
        "# Print B1\n",
        "print(B1)"
      ],
      "execution_count": null,
      "outputs": [
        {
          "output_type": "stream",
          "text": [
            "[1 2 3 4]\n"
          ],
          "name": "stdout"
        }
      ]
    },
    {
      "cell_type": "markdown",
      "metadata": {
        "id": "YuBqqNk3wJlN",
        "colab_type": "text"
      },
      "source": [
        "### Performing element-wise multiplication"
      ]
    },
    {
      "cell_type": "code",
      "metadata": {
        "id": "DU68OsoSqU6X",
        "colab_type": "code",
        "colab": {
          "base_uri": "https://localhost:8080/",
          "height": 67
        },
        "outputId": "7e4a58c3-ded7-4cac-89ce-fad041cfe723"
      },
      "source": [
        "# Define tensors A1 and A23 as constants\n",
        "A1 = constant([1, 2, 3, 4])\n",
        "A23 = constant([[1, 2, 3], [1, 6, 4]])\n",
        "\n",
        "# Define B1 and B23 to have the correct shape\n",
        "B1 = tf.ones_like(A1)\n",
        "B23 = tf.ones_like(A23)\n",
        "\n",
        "# Perform element-wise multiplication\n",
        "C1 = tf.multiply(A1, B1)\n",
        "C23 = tf.multiply(A23,B23)\n",
        "\n",
        "# Print the tensors C1 and C23\n",
        "print('C1: {}'.format(C1.numpy()))\n",
        "print('C23: {}'.format(C23.numpy()))"
      ],
      "execution_count": null,
      "outputs": [
        {
          "output_type": "stream",
          "text": [
            "C1: [1 2 3 4]\n",
            "C23: [[1 2 3]\n",
            " [1 6 4]]\n"
          ],
          "name": "stdout"
        }
      ]
    },
    {
      "cell_type": "markdown",
      "metadata": {
        "id": "btWLLB1ywqLS",
        "colab_type": "text"
      },
      "source": [
        "### Making predictions with matrix multiplication"
      ]
    },
    {
      "cell_type": "code",
      "metadata": {
        "id": "ki1pphZ-qU3b",
        "colab_type": "code",
        "colab": {
          "base_uri": "https://localhost:8080/",
          "height": 84
        },
        "outputId": "fa8fe856-a9f8-4079-980b-3cab34784d99"
      },
      "source": [
        "# Define features, params, and bill as constants\n",
        "features = constant([[2, 24], [2, 26], [2, 57], [1, 37]])\n",
        "params = constant([[1000], [150]])\n",
        "bill = constant([[3913], [2682], [8617], [64400]])\n",
        "\n",
        "# Compute billpred using features and params\n",
        "billpred = tf.matmul(features, params)\n",
        "\n",
        "# Compute and print the error\n",
        "error = bill - billpred\n",
        "print(error.numpy())"
      ],
      "execution_count": null,
      "outputs": [
        {
          "output_type": "stream",
          "text": [
            "[[-1687]\n",
            " [-3218]\n",
            " [-1933]\n",
            " [57850]]\n"
          ],
          "name": "stdout"
        }
      ]
    },
    {
      "cell_type": "markdown",
      "metadata": {
        "id": "Q4CT2_jSzRCj",
        "colab_type": "text"
      },
      "source": [
        "### Summing over tensor dimensions"
      ]
    },
    {
      "cell_type": "code",
      "metadata": {
        "id": "v0Zh4RSPqUyQ",
        "colab_type": "code",
        "colab": {}
      },
      "source": [
        "w = np.array([[11, 50],\n",
        "       [ 7,  2],\n",
        "       [ 4, 60],\n",
        "       [ 3,  0],\n",
        "       [25, 10]])"
      ],
      "execution_count": null,
      "outputs": []
    },
    {
      "cell_type": "code",
      "metadata": {
        "id": "doJZTgJdy_fM",
        "colab_type": "code",
        "colab": {}
      },
      "source": [
        "wealth = constant(w) "
      ],
      "execution_count": null,
      "outputs": []
    },
    {
      "cell_type": "code",
      "metadata": {
        "id": "W1bGK6lRzD3B",
        "colab_type": "code",
        "colab": {
          "base_uri": "https://localhost:8080/",
          "height": 34
        },
        "outputId": "711d08af-e49f-492e-ad23-19b569a86f0d"
      },
      "source": [
        "tf.reduce_sum(wealth,0).numpy()"
      ],
      "execution_count": null,
      "outputs": [
        {
          "output_type": "execute_result",
          "data": {
            "text/plain": [
              "array([ 50, 122])"
            ]
          },
          "metadata": {
            "tags": []
          },
          "execution_count": 13
        }
      ]
    },
    {
      "cell_type": "code",
      "metadata": {
        "id": "X0C9JfqCzJqz",
        "colab_type": "code",
        "colab": {
          "base_uri": "https://localhost:8080/",
          "height": 34
        },
        "outputId": "ac32f90d-a9e7-4894-b65e-5953fd991a8b"
      },
      "source": [
        "tf.reduce_sum(wealth,1).numpy()"
      ],
      "execution_count": null,
      "outputs": [
        {
          "output_type": "execute_result",
          "data": {
            "text/plain": [
              "array([61,  9, 64,  3, 35])"
            ]
          },
          "metadata": {
            "tags": []
          },
          "execution_count": 14
        }
      ]
    },
    {
      "cell_type": "markdown",
      "metadata": {
        "id": "qDkXOL38WxL7",
        "colab_type": "text"
      },
      "source": [
        "### Optimizing with gradients"
      ]
    },
    {
      "cell_type": "code",
      "metadata": {
        "id": "FrZrXe7tzNXS",
        "colab_type": "code",
        "colab": {
          "base_uri": "https://localhost:8080/",
          "height": 67
        },
        "outputId": "67237de2-de07-4f71-980c-3afa976c1fba"
      },
      "source": [
        "def compute_gradient(x0):\n",
        "  \t# Define x as a variable with an initial value of x0\n",
        "\tx = Variable(x0)\n",
        "\twith tf.GradientTape() as tape:\n",
        "\t\ttape.watch(x)\n",
        "        # Define y using the multiply operation\n",
        "\t\ty = tf.multiply(x,x)\n",
        "    # Return the gradient of y with respect to x\n",
        "\treturn tape.gradient(y, x).numpy()\n",
        "\n",
        "# Compute and print gradients at x = -1, 1, and 0\n",
        "print(compute_gradient(-1.0))\n",
        "print(compute_gradient(1.0))\n",
        "print(compute_gradient(0.0))"
      ],
      "execution_count": null,
      "outputs": [
        {
          "output_type": "stream",
          "text": [
            "-2.0\n",
            "2.0\n",
            "0.0\n"
          ],
          "name": "stdout"
        }
      ]
    },
    {
      "cell_type": "markdown",
      "metadata": {
        "id": "1XyRbqlBXPFI",
        "colab_type": "text"
      },
      "source": [
        "Notice that the slope is positive at x = 1, which means that we can lower the loss by reducing x. The slope is negative at x = -1, which means that we can lower the loss by increasing x. The slope at x = 0 is 0, which means that we cannot lower the loss by either increasing or decreasing x. This is because the loss is minimized at x = 0."
      ]
    },
    {
      "cell_type": "code",
      "metadata": {
        "id": "MPUNh6n7W2OB",
        "colab_type": "code",
        "colab": {}
      },
      "source": [
        ""
      ],
      "execution_count": null,
      "outputs": []
    }
  ]
}