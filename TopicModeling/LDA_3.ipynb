{
  "nbformat": 4,
  "nbformat_minor": 0,
  "metadata": {
    "colab": {
      "name": "LDA_3.ipynb",
      "provenance": [],
      "collapsed_sections": [],
      "mount_file_id": "1iKakUGTJHQPfRhYZ6ZyrJIew813o1CCM",
      "authorship_tag": "ABX9TyMkB476Y7Jz2mu3rGhoU9vb",
      "include_colab_link": true
    },
    "kernelspec": {
      "name": "python3",
      "display_name": "Python 3"
    },
    "widgets": {
      "application/vnd.jupyter.widget-state+json": {
        "e272fd08fb2e44aca4343a4f5428246d": {
          "model_module": "@jupyter-widgets/controls",
          "model_name": "HBoxModel",
          "state": {
            "_view_name": "HBoxView",
            "_dom_classes": [],
            "_model_name": "HBoxModel",
            "_view_module": "@jupyter-widgets/controls",
            "_model_module_version": "1.5.0",
            "_view_count": null,
            "_view_module_version": "1.5.0",
            "box_style": "",
            "layout": "IPY_MODEL_4a4c63b600cd44cc8e29e4de0ef8fc07",
            "_model_module": "@jupyter-widgets/controls",
            "children": [
              "IPY_MODEL_bfee5ac39e1c4168a8e5072da6888084",
              "IPY_MODEL_d6a243ba03414148bb8e84f065e663c0"
            ]
          }
        },
        "4a4c63b600cd44cc8e29e4de0ef8fc07": {
          "model_module": "@jupyter-widgets/base",
          "model_name": "LayoutModel",
          "state": {
            "_view_name": "LayoutView",
            "grid_template_rows": null,
            "right": null,
            "justify_content": null,
            "_view_module": "@jupyter-widgets/base",
            "overflow": null,
            "_model_module_version": "1.2.0",
            "_view_count": null,
            "flex_flow": null,
            "width": null,
            "min_width": null,
            "border": null,
            "align_items": null,
            "bottom": null,
            "_model_module": "@jupyter-widgets/base",
            "top": null,
            "grid_column": null,
            "overflow_y": null,
            "overflow_x": null,
            "grid_auto_flow": null,
            "grid_area": null,
            "grid_template_columns": null,
            "flex": null,
            "_model_name": "LayoutModel",
            "justify_items": null,
            "grid_row": null,
            "max_height": null,
            "align_content": null,
            "visibility": null,
            "align_self": null,
            "height": null,
            "min_height": null,
            "padding": null,
            "grid_auto_rows": null,
            "grid_gap": null,
            "max_width": null,
            "order": null,
            "_view_module_version": "1.2.0",
            "grid_template_areas": null,
            "object_position": null,
            "object_fit": null,
            "grid_auto_columns": null,
            "margin": null,
            "display": null,
            "left": null
          }
        },
        "bfee5ac39e1c4168a8e5072da6888084": {
          "model_module": "@jupyter-widgets/controls",
          "model_name": "FloatProgressModel",
          "state": {
            "_view_name": "ProgressView",
            "style": "IPY_MODEL_be528dc9295a454e85f0425ff0312f2a",
            "_dom_classes": [],
            "description": "100%",
            "_model_name": "FloatProgressModel",
            "bar_style": "success",
            "max": 10874,
            "_view_module": "@jupyter-widgets/controls",
            "_model_module_version": "1.5.0",
            "value": 10874,
            "_view_count": null,
            "_view_module_version": "1.5.0",
            "orientation": "horizontal",
            "min": 0,
            "description_tooltip": null,
            "_model_module": "@jupyter-widgets/controls",
            "layout": "IPY_MODEL_1b48f669489c4fbebcfe6bdc90c44cca"
          }
        },
        "d6a243ba03414148bb8e84f065e663c0": {
          "model_module": "@jupyter-widgets/controls",
          "model_name": "HTMLModel",
          "state": {
            "_view_name": "HTMLView",
            "style": "IPY_MODEL_4a5b119eac2645b5ac7ab15aaba9344f",
            "_dom_classes": [],
            "description": "",
            "_model_name": "HTMLModel",
            "placeholder": "​",
            "_view_module": "@jupyter-widgets/controls",
            "_model_module_version": "1.5.0",
            "value": " 10874/10874 [19:26&lt;00:00,  9.32it/s]",
            "_view_count": null,
            "_view_module_version": "1.5.0",
            "description_tooltip": null,
            "_model_module": "@jupyter-widgets/controls",
            "layout": "IPY_MODEL_2126c2c8a3d748469472e8e72fcc0bf5"
          }
        },
        "be528dc9295a454e85f0425ff0312f2a": {
          "model_module": "@jupyter-widgets/controls",
          "model_name": "ProgressStyleModel",
          "state": {
            "_view_name": "StyleView",
            "_model_name": "ProgressStyleModel",
            "description_width": "initial",
            "_view_module": "@jupyter-widgets/base",
            "_model_module_version": "1.5.0",
            "_view_count": null,
            "_view_module_version": "1.2.0",
            "bar_color": null,
            "_model_module": "@jupyter-widgets/controls"
          }
        },
        "1b48f669489c4fbebcfe6bdc90c44cca": {
          "model_module": "@jupyter-widgets/base",
          "model_name": "LayoutModel",
          "state": {
            "_view_name": "LayoutView",
            "grid_template_rows": null,
            "right": null,
            "justify_content": null,
            "_view_module": "@jupyter-widgets/base",
            "overflow": null,
            "_model_module_version": "1.2.0",
            "_view_count": null,
            "flex_flow": null,
            "width": null,
            "min_width": null,
            "border": null,
            "align_items": null,
            "bottom": null,
            "_model_module": "@jupyter-widgets/base",
            "top": null,
            "grid_column": null,
            "overflow_y": null,
            "overflow_x": null,
            "grid_auto_flow": null,
            "grid_area": null,
            "grid_template_columns": null,
            "flex": null,
            "_model_name": "LayoutModel",
            "justify_items": null,
            "grid_row": null,
            "max_height": null,
            "align_content": null,
            "visibility": null,
            "align_self": null,
            "height": null,
            "min_height": null,
            "padding": null,
            "grid_auto_rows": null,
            "grid_gap": null,
            "max_width": null,
            "order": null,
            "_view_module_version": "1.2.0",
            "grid_template_areas": null,
            "object_position": null,
            "object_fit": null,
            "grid_auto_columns": null,
            "margin": null,
            "display": null,
            "left": null
          }
        },
        "4a5b119eac2645b5ac7ab15aaba9344f": {
          "model_module": "@jupyter-widgets/controls",
          "model_name": "DescriptionStyleModel",
          "state": {
            "_view_name": "StyleView",
            "_model_name": "DescriptionStyleModel",
            "description_width": "",
            "_view_module": "@jupyter-widgets/base",
            "_model_module_version": "1.5.0",
            "_view_count": null,
            "_view_module_version": "1.2.0",
            "_model_module": "@jupyter-widgets/controls"
          }
        },
        "2126c2c8a3d748469472e8e72fcc0bf5": {
          "model_module": "@jupyter-widgets/base",
          "model_name": "LayoutModel",
          "state": {
            "_view_name": "LayoutView",
            "grid_template_rows": null,
            "right": null,
            "justify_content": null,
            "_view_module": "@jupyter-widgets/base",
            "overflow": null,
            "_model_module_version": "1.2.0",
            "_view_count": null,
            "flex_flow": null,
            "width": null,
            "min_width": null,
            "border": null,
            "align_items": null,
            "bottom": null,
            "_model_module": "@jupyter-widgets/base",
            "top": null,
            "grid_column": null,
            "overflow_y": null,
            "overflow_x": null,
            "grid_auto_flow": null,
            "grid_area": null,
            "grid_template_columns": null,
            "flex": null,
            "_model_name": "LayoutModel",
            "justify_items": null,
            "grid_row": null,
            "max_height": null,
            "align_content": null,
            "visibility": null,
            "align_self": null,
            "height": null,
            "min_height": null,
            "padding": null,
            "grid_auto_rows": null,
            "grid_gap": null,
            "max_width": null,
            "order": null,
            "_view_module_version": "1.2.0",
            "grid_template_areas": null,
            "object_position": null,
            "object_fit": null,
            "grid_auto_columns": null,
            "margin": null,
            "display": null,
            "left": null
          }
        }
      }
    }
  },
  "cells": [
    {
      "cell_type": "markdown",
      "metadata": {
        "id": "view-in-github",
        "colab_type": "text"
      },
      "source": [
        "<a href=\"https://colab.research.google.com/github/kurtsenol/machine-learning/blob/master/TopicModeling/LDA_3.ipynb\" target=\"_parent\"><img src=\"https://colab.research.google.com/assets/colab-badge.svg\" alt=\"Open In Colab\"/></a>"
      ]
    },
    {
      "cell_type": "code",
      "metadata": {
        "id": "eDYD5nWf-XLL",
        "colab_type": "code",
        "colab": {}
      },
      "source": [
        "import os\n",
        "import numpy as np\n",
        "import pandas as pd\n",
        "import pickle"
      ],
      "execution_count": null,
      "outputs": []
    },
    {
      "cell_type": "code",
      "metadata": {
        "id": "O2vwuKZWyjJd",
        "colab_type": "code",
        "colab": {}
      },
      "source": [
        "df = pd.read_pickle(\"drive/My Drive/Topic_Modeling/topic_df.pkl\")"
      ],
      "execution_count": null,
      "outputs": []
    },
    {
      "cell_type": "code",
      "metadata": {
        "id": "PvcCczLF2Nte",
        "colab_type": "code",
        "colab": {
          "base_uri": "https://localhost:8080/",
          "height": 35
        },
        "outputId": "ea694f50-9d77-4f8b-930d-b54d8a5022d4"
      },
      "source": [
        "from google.colab import drive\n",
        "drive.mount('/content/drive')"
      ],
      "execution_count": null,
      "outputs": [
        {
          "output_type": "stream",
          "text": [
            "Drive already mounted at /content/drive; to attempt to forcibly remount, call drive.mount(\"/content/drive\", force_remount=True).\n"
          ],
          "name": "stdout"
        }
      ]
    },
    {
      "cell_type": "code",
      "metadata": {
        "id": "3v_jbougyjGm",
        "colab_type": "code",
        "colab": {
          "base_uri": "https://localhost:8080/",
          "height": 399
        },
        "outputId": "0188d789-cf42-4ee0-d58d-3e235267bc9a"
      },
      "source": [
        "df"
      ],
      "execution_count": null,
      "outputs": [
        {
          "output_type": "execute_result",
          "data": {
            "text/html": [
              "<div>\n",
              "<style scoped>\n",
              "    .dataframe tbody tr th:only-of-type {\n",
              "        vertical-align: middle;\n",
              "    }\n",
              "\n",
              "    .dataframe tbody tr th {\n",
              "        vertical-align: top;\n",
              "    }\n",
              "\n",
              "    .dataframe thead th {\n",
              "        text-align: right;\n",
              "    }\n",
              "</style>\n",
              "<table border=\"1\" class=\"dataframe\">\n",
              "  <thead>\n",
              "    <tr style=\"text-align: right;\">\n",
              "      <th></th>\n",
              "      <th>Title</th>\n",
              "      <th>Journal</th>\n",
              "      <th>Year</th>\n",
              "      <th>Abstract</th>\n",
              "    </tr>\n",
              "  </thead>\n",
              "  <tbody>\n",
              "    <tr>\n",
              "      <th>0</th>\n",
              "      <td>TWO-DIRECTIONAL CONVERGENCE OF PLATFORM AND PI...</td>\n",
              "      <td>JOURNAL OF SERVICE MANAGEMENT</td>\n",
              "      <td>NaN</td>\n",
              "      <td>PURPOSE THIS ARTICLE EXAMINES THE NEW PHENOMEN...</td>\n",
              "    </tr>\n",
              "    <tr>\n",
              "      <th>1</th>\n",
              "      <td>EMPLOYEE WELLNESS ON THE FRONTLINE: AN INTERAC...</td>\n",
              "      <td>JOURNAL OF SERVICE MANAGEMENT</td>\n",
              "      <td>NaN</td>\n",
              "      <td>PURPOSE EMPLOYEE WELLNESS IS VITAL TO CREATING...</td>\n",
              "    </tr>\n",
              "    <tr>\n",
              "      <th>2</th>\n",
              "      <td>DEMOGRAPHIC AND ATTITUDINAL ANTECEDENTS OF CON...</td>\n",
              "      <td>JOURNAL OF SERVICE MANAGEMENT</td>\n",
              "      <td>NaN</td>\n",
              "      <td>PURPOSE TO INVESTIGATE IF ONLINE TV CONTENT PL...</td>\n",
              "    </tr>\n",
              "    <tr>\n",
              "      <th>3</th>\n",
              "      <td>MORE THAN A FEELING? TOWARD A THEORY OF CUSTOM...</td>\n",
              "      <td>JOURNAL OF SERVICE MANAGEMENT</td>\n",
              "      <td>NaN</td>\n",
              "      <td>PURPOSE RESPONDING TO AN INCREASING CALL FOR A...</td>\n",
              "    </tr>\n",
              "    <tr>\n",
              "      <th>4</th>\n",
              "      <td>ACCOUNTABLE ALGORITHMS? THE ETHICAL IMPLICATIO...</td>\n",
              "      <td>JOURNAL OF SERVICE MANAGEMENT</td>\n",
              "      <td>NaN</td>\n",
              "      <td>PURPOSE THE PURPOSE OF THIS STUDY IS TO IDENTI...</td>\n",
              "    </tr>\n",
              "    <tr>\n",
              "      <th>...</th>\n",
              "      <td>...</td>\n",
              "      <td>...</td>\n",
              "      <td>...</td>\n",
              "      <td>...</td>\n",
              "    </tr>\n",
              "    <tr>\n",
              "      <th>10869</th>\n",
              "      <td>A COMMENTARY ON THE CASE STUDY OF STATE-OWNED ...</td>\n",
              "      <td>CORNELL HOSPITALITY QUARTERLY</td>\n",
              "      <td>2011.0</td>\n",
              "      <td>THE COMPARISON OF STEPHEN RUSHMORE'S SEVEN HOT...</td>\n",
              "    </tr>\n",
              "    <tr>\n",
              "      <th>10870</th>\n",
              "      <td>COMMENTARY ON A CASE STUDY OF STATE-OWNED HOTE...</td>\n",
              "      <td>CORNELL HOSPITALITY QUARTERLY</td>\n",
              "      <td>2011.0</td>\n",
              "      <td>THE RECENT LIQUIDITY CRISIS IN THE GLOBAL HOTE...</td>\n",
              "    </tr>\n",
              "    <tr>\n",
              "      <th>10871</th>\n",
              "      <td>A MULTIDIMENSIONAL SCALE OF SWITCHING BARRIERS...</td>\n",
              "      <td>CORNELL HOSPITALITY QUARTERLY</td>\n",
              "      <td>2011.0</td>\n",
              "      <td>THIS RESEARCH ATTEMPTED TO DEVELOP A MEASUREME...</td>\n",
              "    </tr>\n",
              "    <tr>\n",
              "      <th>10872</th>\n",
              "      <td>A COMPARISON OF COLD-WATER THAWING OPTIONS IN ...</td>\n",
              "      <td>CORNELL HOSPITALITY QUARTERLY</td>\n",
              "      <td>2011.0</td>\n",
              "      <td>CONSIDERING ALL TYPES OF RESTAURANTS IN HONG K...</td>\n",
              "    </tr>\n",
              "    <tr>\n",
              "      <th>10873</th>\n",
              "      <td>RACE DIFFERENCES IN TIPPING: TESTING THE ROLE ...</td>\n",
              "      <td>CORNELL HOSPITALITY QUARTERLY</td>\n",
              "      <td>2011.0</td>\n",
              "      <td>ON AVERAGE, BLACKS TIP LESS THAN WHITES IN THE...</td>\n",
              "    </tr>\n",
              "  </tbody>\n",
              "</table>\n",
              "<p>10874 rows × 4 columns</p>\n",
              "</div>"
            ],
            "text/plain": [
              "                                                   Title  ...                                           Abstract\n",
              "0      TWO-DIRECTIONAL CONVERGENCE OF PLATFORM AND PI...  ...  PURPOSE THIS ARTICLE EXAMINES THE NEW PHENOMEN...\n",
              "1      EMPLOYEE WELLNESS ON THE FRONTLINE: AN INTERAC...  ...  PURPOSE EMPLOYEE WELLNESS IS VITAL TO CREATING...\n",
              "2      DEMOGRAPHIC AND ATTITUDINAL ANTECEDENTS OF CON...  ...  PURPOSE TO INVESTIGATE IF ONLINE TV CONTENT PL...\n",
              "3      MORE THAN A FEELING? TOWARD A THEORY OF CUSTOM...  ...  PURPOSE RESPONDING TO AN INCREASING CALL FOR A...\n",
              "4      ACCOUNTABLE ALGORITHMS? THE ETHICAL IMPLICATIO...  ...  PURPOSE THE PURPOSE OF THIS STUDY IS TO IDENTI...\n",
              "...                                                  ...  ...                                                ...\n",
              "10869  A COMMENTARY ON THE CASE STUDY OF STATE-OWNED ...  ...  THE COMPARISON OF STEPHEN RUSHMORE'S SEVEN HOT...\n",
              "10870  COMMENTARY ON A CASE STUDY OF STATE-OWNED HOTE...  ...  THE RECENT LIQUIDITY CRISIS IN THE GLOBAL HOTE...\n",
              "10871  A MULTIDIMENSIONAL SCALE OF SWITCHING BARRIERS...  ...  THIS RESEARCH ATTEMPTED TO DEVELOP A MEASUREME...\n",
              "10872  A COMPARISON OF COLD-WATER THAWING OPTIONS IN ...  ...  CONSIDERING ALL TYPES OF RESTAURANTS IN HONG K...\n",
              "10873  RACE DIFFERENCES IN TIPPING: TESTING THE ROLE ...  ...  ON AVERAGE, BLACKS TIP LESS THAN WHITES IN THE...\n",
              "\n",
              "[10874 rows x 4 columns]"
            ]
          },
          "metadata": {
            "tags": []
          },
          "execution_count": 4
        }
      ]
    },
    {
      "cell_type": "code",
      "metadata": {
        "id": "r-MH9TJneKUk",
        "colab_type": "code",
        "colab": {
          "base_uri": "https://localhost:8080/",
          "height": 372
        },
        "outputId": "93145a6e-9b36-41fe-a4d4-99a5065cae6b"
      },
      "source": [
        "df.groupby('Journal')['Abstract'].count()"
      ],
      "execution_count": null,
      "outputs": [
        {
          "output_type": "execute_result",
          "data": {
            "text/plain": [
              "Journal\n",
              "ANNALS OF TOURISM RESEARCH                                       706\n",
              "CORNELL HOSPITALITY QUARTERLY                                    331\n",
              "CURRENT ISSUES IN TOURISM                                        944\n",
              "INTERNATIONAL JOURNAL OF CONTEMPORARY HOSPITALITY MANAGEMENT    1037\n",
              "INTERNATIONAL JOURNAL OF HOSPITALITY MANAGEMENT                 1372\n",
              "INTERNATIONAL JOURNAL OF TOURISM RESEARCH                        552\n",
              "JOURNAL OF HOSPITALITY AND TOURISM MANAGEMENT                    259\n",
              "JOURNAL OF HOSPITALITY MARKETING & MANAGEMENT                    241\n",
              "JOURNAL OF SERVICE MANAGEMENT                                    316\n",
              "JOURNAL OF SUSTAINABLE TOURISM                                   746\n",
              "JOURNAL OF TRAVEL & TOURISM MARKETING                            624\n",
              "JOURNAL OF TRAVEL RESEARCH                                       686\n",
              "JOURNAL OF VACATION MARKETING                                    177\n",
              "RESEARCH IN TRANSPORTATION BUSINESS AND MANAGEMENT               195\n",
              "SCANDINAVIAN JOURNAL OF HOSPITALITY AND TOURISM                  257\n",
              "TOURISM MANAGEMENT                                              1748\n",
              "TOURISM MANAGEMENT PERSPECTIVES                                  459\n",
              "TOURISM RECREATION RESEARCH                                      224\n",
              "Name: Abstract, dtype: int64"
            ]
          },
          "metadata": {
            "tags": []
          },
          "execution_count": 5
        }
      ]
    },
    {
      "cell_type": "code",
      "metadata": {
        "id": "KsL4XPcAzer2",
        "colab_type": "code",
        "colab": {}
      },
      "source": [
        "papers = list(df.Abstract.values)"
      ],
      "execution_count": null,
      "outputs": []
    },
    {
      "cell_type": "code",
      "metadata": {
        "id": "ovO9LUExnLVa",
        "colab_type": "code",
        "colab": {
          "base_uri": "https://localhost:8080/",
          "height": 35
        },
        "outputId": "a1f90d03-7b14-4b52-a46f-95ae2b622a2a"
      },
      "source": [
        "len(papers)"
      ],
      "execution_count": null,
      "outputs": [
        {
          "output_type": "execute_result",
          "data": {
            "text/plain": [
              "10874"
            ]
          },
          "metadata": {
            "tags": []
          },
          "execution_count": 9
        }
      ]
    },
    {
      "cell_type": "code",
      "metadata": {
        "id": "9vuItb4m-qX-",
        "colab_type": "code",
        "colab": {
          "base_uri": "https://localhost:8080/",
          "height": 55
        },
        "outputId": "1b3de836-6abf-4c91-cdc0-9a554b75ff1c"
      },
      "source": [
        "print(papers[0][:1000])"
      ],
      "execution_count": null,
      "outputs": [
        {
          "output_type": "stream",
          "text": [
            "PURPOSE THIS ARTICLE EXAMINES THE NEW PHENOMENON OF THE CONVERGENCE OF PLATFORM AND PIPELINE BUSINESS MODELS. IT EXAMINES THE POTENTIAL SYNERGIES AND CHALLENGES FOR PLATFORMS TO ADD PIPELINE COMPONENTS AND VICE VERSA FOR PIPELINE BUSINESSES. DESIGN/METHODOLOGY/APPROACH THIS PAPER USES A CONCEPTUAL APPROACH THAT SYNTHESIZES AND INTEGRATES THE LITERATURE FROM SERVICE, HOSPITALITY, AND STRATEGY, AND SUPPLEMENTS THEM WITH TWO ILLUSTRATIVE MINI-CASE STUDIES. FINDINGS WHILE THE EXTANT LITERATURE TYPICALLY FOCUSES ON THE DICHOTOMY BETWEEN INCUMBENT PIPELINE BUSINESSES THAT CREATE VALUE BY CONTROLLING A LINEAR SERIES OF ACTIVITIES AND NETWORK EFFECTS-DRIVEN PLATFORMS, WE DIFFERENTIATE BETWEEN TWO TYPES OF PLATFORM BUSINESS MODELS (I.E. PLATFORMS WITH ASSET CONTROL AND PLATFORMS WITH PEER-PROVIDED ASSETS). FURTHER, WE IDENTIFY THREE COMMON PATHWAYS OF CONVERGENCE; THAT IS, PIPELINES MOVING TOWARDS (1) PLATFORMS WITH ASSET CONTROL AND (2) THOSE WITH PEER-PROVIDED ASSETS, AND (3) PLATFORMS WITH P\n"
          ],
          "name": "stdout"
        }
      ]
    },
    {
      "cell_type": "code",
      "metadata": {
        "id": "Eo0siRszSbfF",
        "colab_type": "code",
        "colab": {
          "base_uri": "https://localhost:8080/",
          "height": 106
        },
        "outputId": "e1a88049-b46e-44df-b564-e6d8ae4c6097"
      },
      "source": [
        "import nltk\n",
        "nltk.download('stopwords')\n",
        "nltk.download('wordnet')"
      ],
      "execution_count": null,
      "outputs": [
        {
          "output_type": "stream",
          "text": [
            "[nltk_data] Downloading package stopwords to /root/nltk_data...\n",
            "[nltk_data]   Unzipping corpora/stopwords.zip.\n",
            "[nltk_data] Downloading package wordnet to /root/nltk_data...\n",
            "[nltk_data]   Unzipping corpora/wordnet.zip.\n"
          ],
          "name": "stdout"
        },
        {
          "output_type": "execute_result",
          "data": {
            "text/plain": [
              "True"
            ]
          },
          "metadata": {
            "tags": []
          },
          "execution_count": 11
        }
      ]
    },
    {
      "cell_type": "code",
      "metadata": {
        "id": "JZZ95xhy2XNa",
        "colab_type": "code",
        "colab": {
          "base_uri": "https://localhost:8080/",
          "height": 606
        },
        "outputId": "1ce80523-5f7b-428c-d0fd-61b5cc536ba2"
      },
      "source": [
        "!python -m spacy download en_core_web_lg"
      ],
      "execution_count": null,
      "outputs": [
        {
          "output_type": "stream",
          "text": [
            "Collecting en_core_web_lg==2.2.5\n",
            "\u001b[?25l  Downloading https://github.com/explosion/spacy-models/releases/download/en_core_web_lg-2.2.5/en_core_web_lg-2.2.5.tar.gz (827.9MB)\n",
            "\u001b[K     |████████████████████████████████| 827.9MB 1.3MB/s \n",
            "\u001b[?25hRequirement already satisfied: spacy>=2.2.2 in /usr/local/lib/python3.6/dist-packages (from en_core_web_lg==2.2.5) (2.2.4)\n",
            "Requirement already satisfied: blis<0.5.0,>=0.4.0 in /usr/local/lib/python3.6/dist-packages (from spacy>=2.2.2->en_core_web_lg==2.2.5) (0.4.1)\n",
            "Requirement already satisfied: wasabi<1.1.0,>=0.4.0 in /usr/local/lib/python3.6/dist-packages (from spacy>=2.2.2->en_core_web_lg==2.2.5) (0.6.0)\n",
            "Requirement already satisfied: tqdm<5.0.0,>=4.38.0 in /usr/local/lib/python3.6/dist-packages (from spacy>=2.2.2->en_core_web_lg==2.2.5) (4.41.1)\n",
            "Requirement already satisfied: setuptools in /usr/local/lib/python3.6/dist-packages (from spacy>=2.2.2->en_core_web_lg==2.2.5) (47.1.1)\n",
            "Requirement already satisfied: murmurhash<1.1.0,>=0.28.0 in /usr/local/lib/python3.6/dist-packages (from spacy>=2.2.2->en_core_web_lg==2.2.5) (1.0.2)\n",
            "Requirement already satisfied: requests<3.0.0,>=2.13.0 in /usr/local/lib/python3.6/dist-packages (from spacy>=2.2.2->en_core_web_lg==2.2.5) (2.23.0)\n",
            "Requirement already satisfied: plac<1.2.0,>=0.9.6 in /usr/local/lib/python3.6/dist-packages (from spacy>=2.2.2->en_core_web_lg==2.2.5) (1.1.3)\n",
            "Requirement already satisfied: numpy>=1.15.0 in /usr/local/lib/python3.6/dist-packages (from spacy>=2.2.2->en_core_web_lg==2.2.5) (1.18.4)\n",
            "Requirement already satisfied: catalogue<1.1.0,>=0.0.7 in /usr/local/lib/python3.6/dist-packages (from spacy>=2.2.2->en_core_web_lg==2.2.5) (1.0.0)\n",
            "Requirement already satisfied: preshed<3.1.0,>=3.0.2 in /usr/local/lib/python3.6/dist-packages (from spacy>=2.2.2->en_core_web_lg==2.2.5) (3.0.2)\n",
            "Requirement already satisfied: srsly<1.1.0,>=1.0.2 in /usr/local/lib/python3.6/dist-packages (from spacy>=2.2.2->en_core_web_lg==2.2.5) (1.0.2)\n",
            "Requirement already satisfied: thinc==7.4.0 in /usr/local/lib/python3.6/dist-packages (from spacy>=2.2.2->en_core_web_lg==2.2.5) (7.4.0)\n",
            "Requirement already satisfied: cymem<2.1.0,>=2.0.2 in /usr/local/lib/python3.6/dist-packages (from spacy>=2.2.2->en_core_web_lg==2.2.5) (2.0.3)\n",
            "Requirement already satisfied: urllib3!=1.25.0,!=1.25.1,<1.26,>=1.21.1 in /usr/local/lib/python3.6/dist-packages (from requests<3.0.0,>=2.13.0->spacy>=2.2.2->en_core_web_lg==2.2.5) (1.24.3)\n",
            "Requirement already satisfied: certifi>=2017.4.17 in /usr/local/lib/python3.6/dist-packages (from requests<3.0.0,>=2.13.0->spacy>=2.2.2->en_core_web_lg==2.2.5) (2020.4.5.1)\n",
            "Requirement already satisfied: idna<3,>=2.5 in /usr/local/lib/python3.6/dist-packages (from requests<3.0.0,>=2.13.0->spacy>=2.2.2->en_core_web_lg==2.2.5) (2.9)\n",
            "Requirement already satisfied: chardet<4,>=3.0.2 in /usr/local/lib/python3.6/dist-packages (from requests<3.0.0,>=2.13.0->spacy>=2.2.2->en_core_web_lg==2.2.5) (3.0.4)\n",
            "Requirement already satisfied: importlib-metadata>=0.20; python_version < \"3.8\" in /usr/local/lib/python3.6/dist-packages (from catalogue<1.1.0,>=0.0.7->spacy>=2.2.2->en_core_web_lg==2.2.5) (1.6.0)\n",
            "Requirement already satisfied: zipp>=0.5 in /usr/local/lib/python3.6/dist-packages (from importlib-metadata>=0.20; python_version < \"3.8\"->catalogue<1.1.0,>=0.0.7->spacy>=2.2.2->en_core_web_lg==2.2.5) (3.1.0)\n",
            "Building wheels for collected packages: en-core-web-lg\n",
            "  Building wheel for en-core-web-lg (setup.py) ... \u001b[?25l\u001b[?25hdone\n",
            "  Created wheel for en-core-web-lg: filename=en_core_web_lg-2.2.5-cp36-none-any.whl size=829180944 sha256=7dfe0d66b6834acecc905b11290d9093b0185e6190f6e14cf4f51d465149b2f9\n",
            "  Stored in directory: /tmp/pip-ephem-wheel-cache-mldwxp5s/wheels/2a/c1/a6/fc7a877b1efca9bc6a089d6f506f16d3868408f9ff89f8dbfc\n",
            "Successfully built en-core-web-lg\n",
            "Installing collected packages: en-core-web-lg\n",
            "Successfully installed en-core-web-lg-2.2.5\n",
            "\u001b[38;5;2m✔ Download and installation successful\u001b[0m\n",
            "You can now load the model via spacy.load('en_core_web_lg')\n"
          ],
          "name": "stdout"
        }
      ]
    },
    {
      "cell_type": "code",
      "metadata": {
        "id": "sn8WR_922XRP",
        "colab_type": "code",
        "colab": {}
      },
      "source": [
        "import numpy as np\n",
        "import pandas as pd\n",
        "\n",
        "import gensim\n",
        "import gensim.corpora as corpora\n",
        "from gensim.utils import simple_preprocess\n",
        "from gensim.models import CoherenceModel\n",
        "\n",
        "import spacy\n",
        "from spacy.lemmatizer import Lemmatizer\n",
        "from spacy.lang.en.stop_words import STOP_WORDS\n",
        "import en_core_web_lg\n",
        "\n",
        "from tqdm import tqdm_notebook as tqdm\n",
        "from pprint import pprint"
      ],
      "execution_count": null,
      "outputs": []
    },
    {
      "cell_type": "code",
      "metadata": {
        "id": "QUqcBB-Q3tQw",
        "colab_type": "code",
        "colab": {}
      },
      "source": [
        "nlp= spacy.load(\"en\")"
      ],
      "execution_count": null,
      "outputs": []
    },
    {
      "cell_type": "code",
      "metadata": {
        "id": "1t2ovJyd2XJ7",
        "colab_type": "code",
        "colab": {}
      },
      "source": [
        "def lemmatizer(doc):\n",
        "    # This takes in a doc of tokens from the NER and lemmatizes them. \n",
        "    # Pronouns (like \"I\" and \"you\" get lemmatized to '-PRON-', so I'm removing those.\n",
        "    doc = [token.lemma_ for token in doc if token.lemma_ != '-PRON-']\n",
        "    doc = u' '.join(doc)\n",
        "    return nlp.make_doc(doc)\n",
        "    \n",
        "def remove_stopwords(doc):\n",
        "    # This will remove stopwords and punctuation.\n",
        "    # Use token.text to return strings, which we'll need for Gensim.\n",
        "    doc = [token.text for token in doc if token.is_stop != True and token.is_punct != True]\n",
        "    return doc\n",
        "\n",
        "# The add_pipe function appends our functions to the default pipeline.\n",
        "nlp.add_pipe(lemmatizer,name='lemmatizer',after='ner')\n",
        "nlp.add_pipe(remove_stopwords, name=\"stopwords\", last=True)"
      ],
      "execution_count": null,
      "outputs": []
    },
    {
      "cell_type": "code",
      "metadata": {
        "id": "2CZz-DTc2XHA",
        "colab_type": "code",
        "colab": {
          "base_uri": "https://localhost:8080/",
          "height": 140,
          "referenced_widgets": [
            "e272fd08fb2e44aca4343a4f5428246d",
            "4a4c63b600cd44cc8e29e4de0ef8fc07",
            "bfee5ac39e1c4168a8e5072da6888084",
            "d6a243ba03414148bb8e84f065e663c0",
            "be528dc9295a454e85f0425ff0312f2a",
            "1b48f669489c4fbebcfe6bdc90c44cca",
            "4a5b119eac2645b5ac7ab15aaba9344f",
            "2126c2c8a3d748469472e8e72fcc0bf5"
          ]
        },
        "outputId": "6d899f48-576f-4488-b2f2-54ab90ee7464"
      },
      "source": [
        "doc_list = []\n",
        "\n",
        "# Iterates through each article in the corpus.\n",
        "for doc in tqdm(papers):\n",
        "    # Passes that article through the pipeline and adds to a new list.\n",
        "    pr = nlp(doc)\n",
        "    doc_list.append(pr)"
      ],
      "execution_count": null,
      "outputs": [
        {
          "output_type": "stream",
          "text": [
            "/usr/local/lib/python3.6/dist-packages/ipykernel_launcher.py:4: TqdmDeprecationWarning: This function will be removed in tqdm==5.0.0\n",
            "Please use `tqdm.notebook.tqdm` instead of `tqdm.tqdm_notebook`\n",
            "  after removing the cwd from sys.path.\n"
          ],
          "name": "stderr"
        },
        {
          "output_type": "display_data",
          "data": {
            "application/vnd.jupyter.widget-view+json": {
              "model_id": "e272fd08fb2e44aca4343a4f5428246d",
              "version_minor": 0,
              "version_major": 2
            },
            "text/plain": [
              "HBox(children=(FloatProgress(value=0.0, max=10874.0), HTML(value='')))"
            ]
          },
          "metadata": {
            "tags": []
          }
        },
        {
          "output_type": "stream",
          "text": [
            "\n"
          ],
          "name": "stdout"
        }
      ]
    },
    {
      "cell_type": "code",
      "metadata": {
        "id": "AALLOysZ2XEA",
        "colab_type": "code",
        "colab": {}
      },
      "source": [
        "# Creates, which is a mapping of word IDs to words.\n",
        "words = corpora.Dictionary(doc_list)\n",
        "\n",
        "# Turns each document into a bag of words.\n",
        "corpus = [words.doc2bow(doc) for doc in doc_list]"
      ],
      "execution_count": null,
      "outputs": []
    },
    {
      "cell_type": "code",
      "metadata": {
        "id": "h3Sl3WBx2XBb",
        "colab_type": "code",
        "colab": {}
      },
      "source": [
        "lda_model = gensim.models.ldamodel.LdaModel(corpus=corpus,\n",
        "                                           id2word=words,\n",
        "                                           num_topics=10, \n",
        "                                           random_state=2,\n",
        "                                           update_every=1,\n",
        "                                           passes=10,\n",
        "                                           alpha='auto',\n",
        "                                           per_word_topics=True)"
      ],
      "execution_count": null,
      "outputs": []
    },
    {
      "cell_type": "code",
      "metadata": {
        "id": "da-wGC842W-O",
        "colab_type": "code",
        "colab": {
          "base_uri": "https://localhost:8080/",
          "height": 728
        },
        "outputId": "14a8aded-70e4-4ded-9716-7cc41411a173"
      },
      "source": [
        "pprint(lda_model.print_topics(num_words=10))"
      ],
      "execution_count": null,
      "outputs": [
        {
          "output_type": "stream",
          "text": [
            "[(0,\n",
            "  '0.019*\"value\" + 0.018*\"SERVICE\" + 0.013*\"study\" + 0.013*\"customer\" + '\n",
            "  '0.013*\"CUSTOMER\" + 0.011*\"service\" + 0.011*\"use\" + 0.011*\"FINDINGS\" + '\n",
            "  '0.011*\"model\" + 0.010*\"satisfaction\"'),\n",
            " (1,\n",
            "  '0.023*\"brand\" + 0.019*\"consumer\" + 0.015*\"customer\" + 0.012*\"restaurant\" + '\n",
            "  '0.011*\"SOCIAL\" + 0.011*\"STUDY\" + 0.009*\"online\" + 0.009*\"study\" + '\n",
            "  '0.009*\"influence\" + 0.008*\"effect\"'),\n",
            " (2,\n",
            "  '0.060*\"firm\" + 0.024*\"restaurant\" + 0.020*\"csr\" + 0.018*\"corporate\" + '\n",
            "  '0.011*\"FINANCIAL\" + 0.011*\"CSR\" + 0.008*\"performance\" + '\n",
            "  '0.007*\"RESPONSIBILITY\" + 0.007*\"FAMILY\" + 0.007*\"activity\"'),\n",
            " (3,\n",
            "  '0.034*\"employee\" + 0.013*\"JOB\" + 0.012*\"relationship\" + '\n",
            "  '0.011*\"ORGANIZATIONAL\" + 0.011*\"work\" + 0.011*\"STUDY\" + 0.011*\"HOSPITALITY\" '\n",
            "  '+ 0.010*\"effect\" + 0.010*\"performance\" + 0.009*\"study\"'),\n",
            " (4,\n",
            "  '0.016*\"TOURISM\" + 0.011*\"RESEARCH\" + 0.011*\"experience\" + 0.008*\"paper\" + '\n",
            "  '0.007*\"STUDY\" + 0.007*\"study\" + 0.007*\"research\" + 0.007*\"use\" + '\n",
            "  '0.006*\"travel\" + 0.006*\"TRAVEL\"'),\n",
            " (5,\n",
            "  '0.043*\"food\" + 0.012*\"climate\" + 0.011*\"ENERGY\" + 0.011*\"WINE\" + '\n",
            "  '0.010*\"CHANGE\" + 0.010*\"health\" + 0.008*\"safety\" + 0.008*\"wine\" + '\n",
            "  '0.007*\"restaurant\" + 0.006*\"water\"'),\n",
            " (6,\n",
            "  '0.041*\"hotel\" + 0.015*\"hotels\" + 0.012*\"performance\" + 0.009*\"LTD\" + '\n",
            "  '0.009*\"use\" + 0.008*\"manager\" + 0.008*\"MANAGEMENT\" + 0.007*\"HOTELS\" + '\n",
            "  '0.007*\"c\" + 0.007*\"ELSEVIER\"'),\n",
            " (7,\n",
            "  '0.017*\"destination\" + 0.011*\"STUDY\" + 0.011*\"TOURISM\" + 0.010*\"tourists\" + '\n",
            "  '0.009*\"DESTINATION\" + 0.009*\"study\" + 0.008*\"image\" + 0.008*\"TOURISTS\" + '\n",
            "  '0.007*\"perception\" + 0.007*\"TOURIST\"'),\n",
            " (8,\n",
            "  '0.031*\"TOURISM\" + 0.011*\"paper\" + 0.008*\"DEVELOPMENT\" + 0.007*\"SUSTAINABLE\" '\n",
            "  '+ 0.007*\"tourism\" + 0.006*\"development\" + 0.005*\"community\" + '\n",
            "  '0.005*\"SUSTAINABILITY\" + 0.005*\"MANAGEMENT\" + 0.005*\"stakeholder\"'),\n",
            " (9,\n",
            "  '0.011*\"use\" + 0.009*\"model\" + 0.007*\"market\" + 0.007*\"rate\" + 0.007*\"cost\" '\n",
            "  '+ 0.006*\"time\" + 0.006*\"result\" + 0.006*\"datum\" + 0.006*\"demand\" + '\n",
            "  '0.005*\"effect\"')]\n"
          ],
          "name": "stdout"
        }
      ]
    },
    {
      "cell_type": "code",
      "metadata": {
        "id": "AGQNgfGs46x2",
        "colab_type": "code",
        "colab": {
          "base_uri": "https://localhost:8080/",
          "height": 52
        },
        "outputId": "49d56eab-2d9b-45e8-d7fe-acac18bc37ec"
      },
      "source": [
        "# Compute Coherence Score using c_v\n",
        "coherence_model_lda = CoherenceModel(model=lda_model, texts=doc_list, dictionary=words, coherence='c_v')\n",
        "coherence_lda = coherence_model_lda.get_coherence()\n",
        "print('\\nCoherence Score: ', coherence_lda)"
      ],
      "execution_count": null,
      "outputs": [
        {
          "output_type": "stream",
          "text": [
            "\n",
            "Coherence Score:  0.41907118114551317\n"
          ],
          "name": "stdout"
        }
      ]
    },
    {
      "cell_type": "code",
      "metadata": {
        "id": "D7DcDejtROpk",
        "colab_type": "code",
        "colab": {}
      },
      "source": [
        "def compute_coherence_values(dictionary, corpus, texts, limit, start=2, step=3):\n",
        "    \"\"\"\n",
        "    Compute c_v coherence for various number of topics\n",
        "\n",
        "    Parameters:\n",
        "    ----------\n",
        "    dictionary : Gensim dictionary\n",
        "    corpus : Gensim corpus\n",
        "    texts : List of input texts\n",
        "    limit : Max num of topics\n",
        "\n",
        "    Returns:\n",
        "    -------\n",
        "    model_list : List of LDA topic models\n",
        "    coherence_values : Coherence values corresponding to the LDA model with respective number of topics\n",
        "    \"\"\"\n",
        "    coherence_values = []\n",
        "    model_list = []\n",
        "    for num_topics in range(start, limit, step):\n",
        "        model=gensim.models.ldamodel.LdaModel(corpus=corpus, id2word=dictionary, num_topics=num_topics)\n",
        "        model_list.append(model)\n",
        "        coherencemodel = CoherenceModel(model=model, texts=texts, dictionary=dictionary, coherence='c_v')\n",
        "        coherence_values.append(coherencemodel.get_coherence())\n",
        "\n",
        "    return model_list, coherence_values"
      ],
      "execution_count": null,
      "outputs": []
    },
    {
      "cell_type": "code",
      "metadata": {
        "id": "2ixLT4X3ROmH",
        "colab_type": "code",
        "colab": {}
      },
      "source": [
        "model_list, coherence_values = compute_coherence_values(dictionary=words, corpus=corpus, texts=doc_list, start=2, limit=40, step=1)"
      ],
      "execution_count": null,
      "outputs": []
    },
    {
      "cell_type": "code",
      "metadata": {
        "id": "BwllJe3fdqWl",
        "colab_type": "code",
        "colab": {
          "base_uri": "https://localhost:8080/",
          "height": 285
        },
        "outputId": "8f800f2c-cfc6-4dd6-9337-c637fa99266b"
      },
      "source": [
        "# Show graph\n",
        "import matplotlib.pyplot as plt\n",
        "limit=40; start=2; step=1;\n",
        "x = range(start, limit, step)\n",
        "plt.plot(x, coherence_values)\n",
        "plt.xlabel(\"Num Topics\")\n",
        "plt.ylabel(\"Coherence score\")\n",
        "plt.legend((\"coherence_values\"), loc='best')\n",
        "plt.show()"
      ],
      "execution_count": null,
      "outputs": [
        {
          "output_type": "display_data",
          "data": {
            "image/png": "[encoded data removed]",
            "text/plain": [
              "<Figure size 432x288 with 1 Axes>"
            ]
          },
          "metadata": {
            "tags": []
          }
        }
      ]
    },
    {
      "cell_type": "code",
      "metadata": {
        "id": "NCj0jVoQ65pW",
        "colab_type": "code",
        "colab": {}
      },
      "source": [
        ""
      ],
      "execution_count": null,
      "outputs": []
    },
    {
      "cell_type": "markdown",
      "metadata": {
        "id": "4E1uas0vTw6S",
        "colab_type": "text"
      },
      "source": [
        "Source: https://towardsdatascience.com/building-a-topic-modeling-pipeline-with-spacy-and-gensim-c5dc03ffc619"
      ]
    }
  ]
}