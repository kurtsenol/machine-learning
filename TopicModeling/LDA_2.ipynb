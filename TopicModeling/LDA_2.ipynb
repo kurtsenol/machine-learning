{
  "nbformat": 4,
  "nbformat_minor": 0,
  "metadata": {
    "colab": {
      "name": "LDA_2.ipynb",
      "provenance": [],
      "collapsed_sections": [],
      "toc_visible": true,
      "mount_file_id": "1sJ6NMEIqcBsPueohRjwcmH8I-qHnbg5U",
      "authorship_tag": "ABX9TyNm3cwkW7G9sDU3b0NuMYJY",
      "include_colab_link": true
    },
    "kernelspec": {
      "name": "python3",
      "display_name": "Python 3"
    }
  },
  "cells": [
    {
      "cell_type": "markdown",
      "metadata": {
        "id": "view-in-github",
        "colab_type": "text"
      },
      "source": [
        "<a href=\"https://colab.research.google.com/github/kurtsenol/machine-learning/blob/master/TopicModeling/LDA_2.ipynb\" target=\"_parent\"><img src=\"https://colab.research.google.com/assets/colab-badge.svg\" alt=\"Open In Colab\"/></a>"
      ]
    },
    {
      "cell_type": "code",
      "metadata": {
        "id": "eDYD5nWf-XLL",
        "colab_type": "code",
        "colab": {}
      },
      "source": [
        "import os\n",
        "import numpy as np\n",
        "import pandas as pd\n",
        "import pickle"
      ],
      "execution_count": null,
      "outputs": []
    },
    {
      "cell_type": "code",
      "metadata": {
        "id": "O2vwuKZWyjJd",
        "colab_type": "code",
        "colab": {}
      },
      "source": [
        "df = pd.read_pickle(\"drive/My Drive/Topic_Modeling/topic_df.pkl\")"
      ],
      "execution_count": null,
      "outputs": []
    },
    {
      "cell_type": "code",
      "metadata": {
        "id": "3v_jbougyjGm",
        "colab_type": "code",
        "colab": {
          "base_uri": "https://localhost:8080/",
          "height": 399
        },
        "outputId": "192e7449-7997-47a6-a503-703ee86f0396"
      },
      "source": [
        "df"
      ],
      "execution_count": null,
      "outputs": [
        {
          "output_type": "execute_result",
          "data": {
            "text/html": [
              "<div>\n",
              "<style scoped>\n",
              "    .dataframe tbody tr th:only-of-type {\n",
              "        vertical-align: middle;\n",
              "    }\n",
              "\n",
              "    .dataframe tbody tr th {\n",
              "        vertical-align: top;\n",
              "    }\n",
              "\n",
              "    .dataframe thead th {\n",
              "        text-align: right;\n",
              "    }\n",
              "</style>\n",
              "<table border=\"1\" class=\"dataframe\">\n",
              "  <thead>\n",
              "    <tr style=\"text-align: right;\">\n",
              "      <th></th>\n",
              "      <th>Title</th>\n",
              "      <th>Journal</th>\n",
              "      <th>Year</th>\n",
              "      <th>Abstract</th>\n",
              "    </tr>\n",
              "  </thead>\n",
              "  <tbody>\n",
              "    <tr>\n",
              "      <th>0</th>\n",
              "      <td>TWO-DIRECTIONAL CONVERGENCE OF PLATFORM AND PI...</td>\n",
              "      <td>JOURNAL OF SERVICE MANAGEMENT</td>\n",
              "      <td>NaN</td>\n",
              "      <td>PURPOSE THIS ARTICLE EXAMINES THE NEW PHENOMEN...</td>\n",
              "    </tr>\n",
              "    <tr>\n",
              "      <th>1</th>\n",
              "      <td>EMPLOYEE WELLNESS ON THE FRONTLINE: AN INTERAC...</td>\n",
              "      <td>JOURNAL OF SERVICE MANAGEMENT</td>\n",
              "      <td>NaN</td>\n",
              "      <td>PURPOSE EMPLOYEE WELLNESS IS VITAL TO CREATING...</td>\n",
              "    </tr>\n",
              "    <tr>\n",
              "      <th>2</th>\n",
              "      <td>DEMOGRAPHIC AND ATTITUDINAL ANTECEDENTS OF CON...</td>\n",
              "      <td>JOURNAL OF SERVICE MANAGEMENT</td>\n",
              "      <td>NaN</td>\n",
              "      <td>PURPOSE TO INVESTIGATE IF ONLINE TV CONTENT PL...</td>\n",
              "    </tr>\n",
              "    <tr>\n",
              "      <th>3</th>\n",
              "      <td>MORE THAN A FEELING? TOWARD A THEORY OF CUSTOM...</td>\n",
              "      <td>JOURNAL OF SERVICE MANAGEMENT</td>\n",
              "      <td>NaN</td>\n",
              "      <td>PURPOSE RESPONDING TO AN INCREASING CALL FOR A...</td>\n",
              "    </tr>\n",
              "    <tr>\n",
              "      <th>4</th>\n",
              "      <td>ACCOUNTABLE ALGORITHMS? THE ETHICAL IMPLICATIO...</td>\n",
              "      <td>JOURNAL OF SERVICE MANAGEMENT</td>\n",
              "      <td>NaN</td>\n",
              "      <td>PURPOSE THE PURPOSE OF THIS STUDY IS TO IDENTI...</td>\n",
              "    </tr>\n",
              "    <tr>\n",
              "      <th>...</th>\n",
              "      <td>...</td>\n",
              "      <td>...</td>\n",
              "      <td>...</td>\n",
              "      <td>...</td>\n",
              "    </tr>\n",
              "    <tr>\n",
              "      <th>10869</th>\n",
              "      <td>A COMMENTARY ON THE CASE STUDY OF STATE-OWNED ...</td>\n",
              "      <td>CORNELL HOSPITALITY QUARTERLY</td>\n",
              "      <td>2011.0</td>\n",
              "      <td>THE COMPARISON OF STEPHEN RUSHMORE'S SEVEN HOT...</td>\n",
              "    </tr>\n",
              "    <tr>\n",
              "      <th>10870</th>\n",
              "      <td>COMMENTARY ON A CASE STUDY OF STATE-OWNED HOTE...</td>\n",
              "      <td>CORNELL HOSPITALITY QUARTERLY</td>\n",
              "      <td>2011.0</td>\n",
              "      <td>THE RECENT LIQUIDITY CRISIS IN THE GLOBAL HOTE...</td>\n",
              "    </tr>\n",
              "    <tr>\n",
              "      <th>10871</th>\n",
              "      <td>A MULTIDIMENSIONAL SCALE OF SWITCHING BARRIERS...</td>\n",
              "      <td>CORNELL HOSPITALITY QUARTERLY</td>\n",
              "      <td>2011.0</td>\n",
              "      <td>THIS RESEARCH ATTEMPTED TO DEVELOP A MEASUREME...</td>\n",
              "    </tr>\n",
              "    <tr>\n",
              "      <th>10872</th>\n",
              "      <td>A COMPARISON OF COLD-WATER THAWING OPTIONS IN ...</td>\n",
              "      <td>CORNELL HOSPITALITY QUARTERLY</td>\n",
              "      <td>2011.0</td>\n",
              "      <td>CONSIDERING ALL TYPES OF RESTAURANTS IN HONG K...</td>\n",
              "    </tr>\n",
              "    <tr>\n",
              "      <th>10873</th>\n",
              "      <td>RACE DIFFERENCES IN TIPPING: TESTING THE ROLE ...</td>\n",
              "      <td>CORNELL HOSPITALITY QUARTERLY</td>\n",
              "      <td>2011.0</td>\n",
              "      <td>ON AVERAGE, BLACKS TIP LESS THAN WHITES IN THE...</td>\n",
              "    </tr>\n",
              "  </tbody>\n",
              "</table>\n",
              "<p>10874 rows × 4 columns</p>\n",
              "</div>"
            ],
            "text/plain": [
              "                                                   Title  ...                                           Abstract\n",
              "0      TWO-DIRECTIONAL CONVERGENCE OF PLATFORM AND PI...  ...  PURPOSE THIS ARTICLE EXAMINES THE NEW PHENOMEN...\n",
              "1      EMPLOYEE WELLNESS ON THE FRONTLINE: AN INTERAC...  ...  PURPOSE EMPLOYEE WELLNESS IS VITAL TO CREATING...\n",
              "2      DEMOGRAPHIC AND ATTITUDINAL ANTECEDENTS OF CON...  ...  PURPOSE TO INVESTIGATE IF ONLINE TV CONTENT PL...\n",
              "3      MORE THAN A FEELING? TOWARD A THEORY OF CUSTOM...  ...  PURPOSE RESPONDING TO AN INCREASING CALL FOR A...\n",
              "4      ACCOUNTABLE ALGORITHMS? THE ETHICAL IMPLICATIO...  ...  PURPOSE THE PURPOSE OF THIS STUDY IS TO IDENTI...\n",
              "...                                                  ...  ...                                                ...\n",
              "10869  A COMMENTARY ON THE CASE STUDY OF STATE-OWNED ...  ...  THE COMPARISON OF STEPHEN RUSHMORE'S SEVEN HOT...\n",
              "10870  COMMENTARY ON A CASE STUDY OF STATE-OWNED HOTE...  ...  THE RECENT LIQUIDITY CRISIS IN THE GLOBAL HOTE...\n",
              "10871  A MULTIDIMENSIONAL SCALE OF SWITCHING BARRIERS...  ...  THIS RESEARCH ATTEMPTED TO DEVELOP A MEASUREME...\n",
              "10872  A COMPARISON OF COLD-WATER THAWING OPTIONS IN ...  ...  CONSIDERING ALL TYPES OF RESTAURANTS IN HONG K...\n",
              "10873  RACE DIFFERENCES IN TIPPING: TESTING THE ROLE ...  ...  ON AVERAGE, BLACKS TIP LESS THAN WHITES IN THE...\n",
              "\n",
              "[10874 rows x 4 columns]"
            ]
          },
          "metadata": {
            "tags": []
          },
          "execution_count": 6
        }
      ]
    },
    {
      "cell_type": "code",
      "metadata": {
        "id": "r-MH9TJneKUk",
        "colab_type": "code",
        "colab": {
          "base_uri": "https://localhost:8080/",
          "height": 372
        },
        "outputId": "d5aab95c-f4c8-467e-d783-946bc48e5b97"
      },
      "source": [
        "df.groupby('Journal')['Abstract'].count()"
      ],
      "execution_count": null,
      "outputs": [
        {
          "output_type": "execute_result",
          "data": {
            "text/plain": [
              "Journal\n",
              "ANNALS OF TOURISM RESEARCH                                       706\n",
              "CORNELL HOSPITALITY QUARTERLY                                    331\n",
              "CURRENT ISSUES IN TOURISM                                        944\n",
              "INTERNATIONAL JOURNAL OF CONTEMPORARY HOSPITALITY MANAGEMENT    1037\n",
              "INTERNATIONAL JOURNAL OF HOSPITALITY MANAGEMENT                 1372\n",
              "INTERNATIONAL JOURNAL OF TOURISM RESEARCH                        552\n",
              "JOURNAL OF HOSPITALITY AND TOURISM MANAGEMENT                    259\n",
              "JOURNAL OF HOSPITALITY MARKETING & MANAGEMENT                    241\n",
              "JOURNAL OF SERVICE MANAGEMENT                                    316\n",
              "JOURNAL OF SUSTAINABLE TOURISM                                   746\n",
              "JOURNAL OF TRAVEL & TOURISM MARKETING                            624\n",
              "JOURNAL OF TRAVEL RESEARCH                                       686\n",
              "JOURNAL OF VACATION MARKETING                                    177\n",
              "RESEARCH IN TRANSPORTATION BUSINESS AND MANAGEMENT               195\n",
              "SCANDINAVIAN JOURNAL OF HOSPITALITY AND TOURISM                  257\n",
              "TOURISM MANAGEMENT                                              1748\n",
              "TOURISM MANAGEMENT PERSPECTIVES                                  459\n",
              "TOURISM RECREATION RESEARCH                                      224\n",
              "Name: Abstract, dtype: int64"
            ]
          },
          "metadata": {
            "tags": []
          },
          "execution_count": 7
        }
      ]
    },
    {
      "cell_type": "code",
      "metadata": {
        "id": "yiJEdkAbf3pr",
        "colab_type": "code",
        "colab": {}
      },
      "source": [
        "order = df.Journal.value_counts(ascending=True).index"
      ],
      "execution_count": null,
      "outputs": []
    },
    {
      "cell_type": "code",
      "metadata": {
        "id": "vRYxyVeXeKj5",
        "colab_type": "code",
        "colab": {
          "base_uri": "https://localhost:8080/",
          "height": 72
        },
        "outputId": "f9af6fab-19dd-495b-c0d5-15ff0e5887d1"
      },
      "source": [
        "import seaborn as sns\n",
        "import matplotlib.pyplot as plt\n",
        "\n",
        "sns.set()"
      ],
      "execution_count": null,
      "outputs": [
        {
          "output_type": "stream",
          "text": [
            "/usr/local/lib/python3.6/dist-packages/statsmodels/tools/_testing.py:19: FutureWarning: pandas.util.testing is deprecated. Use the functions in the public API at pandas.testing instead.\n",
            "  import pandas.util.testing as tm\n"
          ],
          "name": "stderr"
        }
      ]
    },
    {
      "cell_type": "code",
      "metadata": {
        "id": "s4z5lp8SeKhB",
        "colab_type": "code",
        "colab": {
          "base_uri": "https://localhost:8080/",
          "height": 540
        },
        "outputId": "ecd317a2-0f38-4c92-c44e-2aba5849740a"
      },
      "source": [
        "plt.figure(figsize=(18,10))\n",
        "sns.countplot(y='Journal', data=df, orient='h', order=order);"
      ],
      "execution_count": null,
      "outputs": [
        {
          "output_type": "display_data",
          "data": {
            "image/png": "[encoded data removed]",
            "text/plain": [
              "<Figure size 1296x720 with 1 Axes>"
            ]
          },
          "metadata": {
            "tags": []
          }
        }
      ]
    },
    {
      "cell_type": "code",
      "metadata": {
        "id": "2iVvOTqU3lmW",
        "colab_type": "code",
        "colab": {
          "base_uri": "https://localhost:8080/",
          "height": 394
        },
        "outputId": "3dc74fa1-9399-4f2f-a35d-b433c0321059"
      },
      "source": [
        "plt.figure(figsize=(12,6))\n",
        "sns.countplot(x='Year', data=df, orient='v');"
      ],
      "execution_count": null,
      "outputs": [
        {
          "output_type": "display_data",
          "data": {
            "image/png": "[encoded data removed]",
            "text/plain": [
              "<Figure size 864x432 with 1 Axes>"
            ]
          },
          "metadata": {
            "tags": []
          }
        }
      ]
    },
    {
      "cell_type": "code",
      "metadata": {
        "id": "KsL4XPcAzer2",
        "colab_type": "code",
        "colab": {}
      },
      "source": [
        "papers = list(df.Abstract.values)"
      ],
      "execution_count": null,
      "outputs": []
    },
    {
      "cell_type": "code",
      "metadata": {
        "id": "ovO9LUExnLVa",
        "colab_type": "code",
        "colab": {
          "base_uri": "https://localhost:8080/",
          "height": 35
        },
        "outputId": "e9748c85-783e-4910-ad5c-42613904bc02"
      },
      "source": [
        "len(papers)"
      ],
      "execution_count": null,
      "outputs": [
        {
          "output_type": "execute_result",
          "data": {
            "text/plain": [
              "10874"
            ]
          },
          "metadata": {
            "tags": []
          },
          "execution_count": 26
        }
      ]
    },
    {
      "cell_type": "code",
      "metadata": {
        "id": "9vuItb4m-qX-",
        "colab_type": "code",
        "colab": {
          "base_uri": "https://localhost:8080/",
          "height": 55
        },
        "outputId": "53a76952-071b-4359-c76b-256534233944"
      },
      "source": [
        "print(papers[0][:1000])"
      ],
      "execution_count": null,
      "outputs": [
        {
          "output_type": "stream",
          "text": [
            "PURPOSE THIS ARTICLE EXAMINES THE NEW PHENOMENON OF THE CONVERGENCE OF PLATFORM AND PIPELINE BUSINESS MODELS. IT EXAMINES THE POTENTIAL SYNERGIES AND CHALLENGES FOR PLATFORMS TO ADD PIPELINE COMPONENTS AND VICE VERSA FOR PIPELINE BUSINESSES. DESIGN/METHODOLOGY/APPROACH THIS PAPER USES A CONCEPTUAL APPROACH THAT SYNTHESIZES AND INTEGRATES THE LITERATURE FROM SERVICE, HOSPITALITY, AND STRATEGY, AND SUPPLEMENTS THEM WITH TWO ILLUSTRATIVE MINI-CASE STUDIES. FINDINGS WHILE THE EXTANT LITERATURE TYPICALLY FOCUSES ON THE DICHOTOMY BETWEEN INCUMBENT PIPELINE BUSINESSES THAT CREATE VALUE BY CONTROLLING A LINEAR SERIES OF ACTIVITIES AND NETWORK EFFECTS-DRIVEN PLATFORMS, WE DIFFERENTIATE BETWEEN TWO TYPES OF PLATFORM BUSINESS MODELS (I.E. PLATFORMS WITH ASSET CONTROL AND PLATFORMS WITH PEER-PROVIDED ASSETS). FURTHER, WE IDENTIFY THREE COMMON PATHWAYS OF CONVERGENCE; THAT IS, PIPELINES MOVING TOWARDS (1) PLATFORMS WITH ASSET CONTROL AND (2) THOSE WITH PEER-PROVIDED ASSETS, AND (3) PLATFORMS WITH P\n"
          ],
          "name": "stdout"
        }
      ]
    },
    {
      "cell_type": "code",
      "metadata": {
        "id": "Eo0siRszSbfF",
        "colab_type": "code",
        "colab": {
          "base_uri": "https://localhost:8080/",
          "height": 106
        },
        "outputId": "136d5424-7883-4e4a-f862-832c27a66a87"
      },
      "source": [
        "import nltk\n",
        "nltk.download('stopwords')\n",
        "nltk.download('wordnet')"
      ],
      "execution_count": null,
      "outputs": [
        {
          "output_type": "stream",
          "text": [
            "[nltk_data] Downloading package stopwords to /root/nltk_data...\n",
            "[nltk_data]   Package stopwords is already up-to-date!\n",
            "[nltk_data] Downloading package wordnet to /root/nltk_data...\n",
            "[nltk_data]   Package wordnet is already up-to-date!\n"
          ],
          "name": "stdout"
        },
        {
          "output_type": "execute_result",
          "data": {
            "text/plain": [
              "True"
            ]
          },
          "metadata": {
            "tags": []
          },
          "execution_count": 28
        }
      ]
    },
    {
      "cell_type": "code",
      "metadata": {
        "id": "EEZ5LOY4TEua",
        "colab_type": "code",
        "colab": {}
      },
      "source": [
        "from gensim.models.coherencemodel import CoherenceModel\n",
        "from gensim.models.ldamodel import LdaModel\n",
        "from gensim.corpora.dictionary import Dictionary"
      ],
      "execution_count": null,
      "outputs": []
    },
    {
      "cell_type": "code",
      "metadata": {
        "id": "yvxofUDvRO_S",
        "colab_type": "code",
        "colab": {}
      },
      "source": [
        "from nltk.stem.wordnet import WordNetLemmatizer\n",
        "from nltk.tokenize import RegexpTokenizer\n",
        "\n",
        "def docs_preprocessor(docs):\n",
        "    tokenizer = RegexpTokenizer(r'\\w+')\n",
        "    for idx in range(len(docs)):\n",
        "        docs[idx] = docs[idx].lower()  # Convert to lowercase.\n",
        "        docs[idx] = tokenizer.tokenize(docs[idx])  # Split into words.\n",
        "\n",
        "    # Remove numbers, but not words that contain numbers.\n",
        "    docs = [[token for token in doc if not token.isdigit()] for doc in docs]\n",
        "    \n",
        "    # Remove words that are only one character.\n",
        "    docs = [[token for token in doc if len(token) > 3] for doc in docs]\n",
        "    \n",
        "    # Lemmatize all words in documents.\n",
        "    lemmatizer = WordNetLemmatizer()\n",
        "    docs = [[lemmatizer.lemmatize(token) for token in doc] for doc in docs]\n",
        "  \n",
        "    return docs\n"
      ],
      "execution_count": null,
      "outputs": []
    },
    {
      "cell_type": "code",
      "metadata": {
        "id": "CLmt27QORnqb",
        "colab_type": "code",
        "colab": {}
      },
      "source": [
        "# Perform function on our document\n",
        "docs = docs_preprocessor(papers)\n"
      ],
      "execution_count": null,
      "outputs": []
    },
    {
      "cell_type": "code",
      "metadata": {
        "id": "z1ZYaNrLRqE8",
        "colab_type": "code",
        "colab": {
          "base_uri": "https://localhost:8080/",
          "height": 52
        },
        "outputId": "6fef203c-2bfd-4e4b-805a-79308c369322"
      },
      "source": [
        "#Create Biagram & Trigram Models \n",
        "from gensim.models import Phrases\n",
        "\n",
        "# Add bigrams and trigrams to docs,minimum count 10 means only that appear 10 times or more.\n",
        "bigram = Phrases(docs, min_count=10)\n",
        "trigram = Phrases(bigram[docs])\n"
      ],
      "execution_count": null,
      "outputs": [
        {
          "output_type": "stream",
          "text": [
            "/usr/local/lib/python3.6/dist-packages/gensim/models/phrases.py:598: UserWarning: For a faster implementation, use the gensim.models.phrases.Phraser class\n",
            "  warnings.warn(\"For a faster implementation, use the gensim.models.phrases.Phraser class\")\n"
          ],
          "name": "stderr"
        }
      ]
    },
    {
      "cell_type": "code",
      "metadata": {
        "id": "6EpiOA_ISrex",
        "colab_type": "code",
        "colab": {
          "base_uri": "https://localhost:8080/",
          "height": 52
        },
        "outputId": "639d1ffe-afaa-4320-a29b-3dd760a41ce0"
      },
      "source": [
        "for idx in range(len(docs)):\n",
        "    for token in bigram[docs[idx]]:\n",
        "        if '_' in token:\n",
        "            # Token is a bigram, add to document.\n",
        "            docs[idx].append(token)\n",
        "    for token in trigram[docs[idx]]:\n",
        "        if '_' in token:\n",
        "            # Token is a bigram, add to document.\n",
        "            docs[idx].append(token)\n"
      ],
      "execution_count": null,
      "outputs": [
        {
          "output_type": "stream",
          "text": [
            "/usr/local/lib/python3.6/dist-packages/gensim/models/phrases.py:598: UserWarning: For a faster implementation, use the gensim.models.phrases.Phraser class\n",
            "  warnings.warn(\"For a faster implementation, use the gensim.models.phrases.Phraser class\")\n"
          ],
          "name": "stderr"
        }
      ]
    },
    {
      "cell_type": "code",
      "metadata": {
        "id": "1fnlRXNMSswk",
        "colab_type": "code",
        "colab": {}
      },
      "source": [
        "#Remove rare & common tokens \n",
        "# Create a dictionary representation of the documents.\n",
        "dictionary = Dictionary(docs)\n",
        "dictionary.filter_extremes(no_below=10, no_above=0.5)"
      ],
      "execution_count": null,
      "outputs": []
    },
    {
      "cell_type": "code",
      "metadata": {
        "id": "_NTME-2kStrK",
        "colab_type": "code",
        "colab": {
          "base_uri": "https://localhost:8080/",
          "height": 90
        },
        "outputId": "4e7f9507-0be0-458c-aeee-1b29964e21cb"
      },
      "source": [
        "#Create dictionary and corpus required for Topic Modeling\n",
        "corpus = [dictionary.doc2bow(doc) for doc in docs]\n",
        "print('Number of unique tokens: %d' % len(dictionary))\n",
        "print('Number of documents: %d' % len(corpus))\n",
        "print(corpus[:1])"
      ],
      "execution_count": null,
      "outputs": [
        {
          "output_type": "stream",
          "text": [
            "Number of unique tokens: 8553\n",
            "Number of documents: 10874\n",
            "[[(0, 1), (1, 1), (2, 1), (3, 2), (4, 3), (5, 2), (6, 10), (7, 5), (8, 12), (9, 8), (10, 1), (11, 3), (12, 8), (13, 2), (14, 1), (15, 1), (16, 1), (17, 1), (18, 1), (19, 2), (20, 4), (21, 1), (22, 9), (23, 1), (24, 1), (25, 1), (26, 1), (27, 1), (28, 3), (29, 1), (30, 1), (31, 1), (32, 1), (33, 1), (34, 1), (35, 1), (36, 1), (37, 1), (38, 2), (39, 2), (40, 1), (41, 3), (42, 1), (43, 1), (44, 2), (45, 3), (46, 2), (47, 1), (48, 1), (49, 4), (50, 1), (51, 1), (52, 1), (53, 1), (54, 1), (55, 2), (56, 1), (57, 1), (58, 1), (59, 1), (60, 1), (61, 1), (62, 3), (63, 1), (64, 1), (65, 1), (66, 1), (67, 1), (68, 8), (69, 1), (70, 1), (71, 1), (72, 1), (73, 1), (74, 1), (75, 3), (76, 1), (77, 1), (78, 1), (79, 1), (80, 6), (81, 1), (82, 13), (83, 5), (84, 1), (85, 3), (86, 6), (87, 1), (88, 3), (89, 1), (90, 1), (91, 1), (92, 1), (93, 1), (94, 1), (95, 2), (96, 3), (97, 1), (98, 1), (99, 8), (100, 1), (101, 1), (102, 1), (103, 1), (104, 1), (105, 6), (106, 3), (107, 2), (108, 2), (109, 1), (110, 1), (111, 1), (112, 1), (113, 1), (114, 2), (115, 1), (116, 1), (117, 2), (118, 1)]]\n"
          ],
          "name": "stdout"
        }
      ]
    },
    {
      "cell_type": "code",
      "metadata": {
        "id": "PfyzEkA8RO76",
        "colab_type": "code",
        "colab": {}
      },
      "source": [
        "# Set parameters.\n",
        "num_topics = 5\n",
        "chunksize = 500 \n",
        "passes = 20 \n",
        "iterations = 400\n",
        "eval_every = 1  "
      ],
      "execution_count": null,
      "outputs": []
    },
    {
      "cell_type": "code",
      "metadata": {
        "id": "-QslbH_sTgCp",
        "colab_type": "code",
        "colab": {
          "base_uri": "https://localhost:8080/",
          "height": 55
        },
        "outputId": "4d69893a-e506-4162-ecb1-7acf73fe383e"
      },
      "source": [
        "# Make a index to word dictionary.\n",
        "temp = dictionary[0]  # only to \"load\" the dictionary.\n",
        "id2word = dictionary.id2token\n",
        "\n",
        "lda_model = LdaModel(corpus=corpus, id2word=id2word, chunksize=chunksize, \\\n",
        "                       alpha='auto', eta='auto', \\\n",
        "                       iterations=iterations, num_topics=num_topics, \\\n",
        "                       passes=passes, eval_every=eval_every)\n",
        "# Print the Keyword in the 5 topics\n",
        "print(lda_model.print_topics())"
      ],
      "execution_count": null,
      "outputs": [
        {
          "output_type": "stream",
          "text": [
            "[(0, '0.027*\"this_study\" + 0.018*\"customer\" + 0.015*\"relationship_between\" + 0.012*\"relationship\" + 0.012*\"satisfaction\" + 0.012*\"employee\" + 0.011*\"effect\" + 0.011*\"intention\" + 0.010*\"service\" + 0.010*\"brand\"'), (1, '0.041*\"tourism\" + 0.017*\"this_paper\" + 0.010*\"this_article\" + 0.009*\"development\" + 0.008*\"paper\" + 0.007*\"destination\" + 0.007*\"elsevier_right\" + 0.006*\"from\" + 0.006*\"have\" + 0.005*\"community\"'), (2, '0.033*\"hotel\" + 0.019*\"this_study\" + 0.010*\"result\" + 0.009*\"effect\" + 0.008*\"model\" + 0.008*\"performance\" + 0.007*\"elsevier_right\" + 0.007*\"firm\" + 0.006*\"relationship_between\" + 0.006*\"restaurant\"'), (3, '0.022*\"this_study\" + 0.017*\"tourist\" + 0.014*\"were\" + 0.013*\"experience\" + 0.012*\"their\" + 0.012*\"travel\" + 0.010*\"destination\" + 0.006*\"food\" + 0.006*\"visitor\" + 0.006*\"more\"'), (4, '0.015*\"research\" + 0.011*\"design_methodology\" + 0.010*\"hospitality\" + 0.010*\"originality_value\" + 0.010*\"service\" + 0.009*\"this_study\" + 0.008*\"value\" + 0.008*\"approach\" + 0.007*\"finding\" + 0.007*\"practical_implication\"')]\n"
          ],
          "name": "stdout"
        }
      ]
    },
    {
      "cell_type": "code",
      "metadata": {
        "id": "H_OM_WmmRO4n",
        "colab_type": "code",
        "colab": {
          "base_uri": "https://localhost:8080/",
          "height": 52
        },
        "outputId": "a057dd1d-4a44-4255-a9f8-d2680545154e"
      },
      "source": [
        "# Compute Coherence Score using c_v\n",
        "coherence_model_lda = CoherenceModel(model=lda_model, texts=docs, dictionary=dictionary, coherence='c_v')\n",
        "coherence_lda = coherence_model_lda.get_coherence()\n",
        "print('\\nCoherence Score: ', coherence_lda)"
      ],
      "execution_count": null,
      "outputs": [
        {
          "output_type": "stream",
          "text": [
            "\n",
            "Coherence Score:  0.3918793608216192\n"
          ],
          "name": "stdout"
        }
      ]
    },
    {
      "cell_type": "code",
      "metadata": {
        "id": "DGSk6qgXRO1b",
        "colab_type": "code",
        "colab": {
          "base_uri": "https://localhost:8080/",
          "height": 52
        },
        "outputId": "96e984b7-2588-400c-bb0c-2008fa4513c3"
      },
      "source": [
        "# Compute Coherence Score using UMass\n",
        "coherence_model_lda = CoherenceModel(model=lda_model, texts=docs, dictionary=dictionary, coherence=\"u_mass\")\n",
        "coherence_lda = coherence_model_lda.get_coherence()\n",
        "print('\\nCoherence Score: ', coherence_lda)"
      ],
      "execution_count": null,
      "outputs": [
        {
          "output_type": "stream",
          "text": [
            "\n",
            "Coherence Score:  -1.7191199115009639\n"
          ],
          "name": "stdout"
        }
      ]
    },
    {
      "cell_type": "code",
      "metadata": {
        "id": "D7DcDejtROpk",
        "colab_type": "code",
        "colab": {}
      },
      "source": [
        "def compute_coherence_values(dictionary, corpus, texts, limit, start=2, step=3):\n",
        "    \"\"\"\n",
        "    Compute c_v coherence for various number of topics\n",
        "\n",
        "    Parameters:\n",
        "    ----------\n",
        "    dictionary : Gensim dictionary\n",
        "    corpus : Gensim corpus\n",
        "    texts : List of input texts\n",
        "    limit : Max num of topics\n",
        "\n",
        "    Returns:\n",
        "    -------\n",
        "    model_list : List of LDA topic models\n",
        "    coherence_values : Coherence values corresponding to the LDA model with respective number of topics\n",
        "    \"\"\"\n",
        "    coherence_values = []\n",
        "    model_list = []\n",
        "    for num_topics in range(start, limit, step):\n",
        "        model=LdaModel(corpus=corpus, id2word=dictionary, num_topics=num_topics)\n",
        "        model_list.append(model)\n",
        "        coherencemodel = CoherenceModel(model=model, texts=texts, dictionary=dictionary, coherence='c_v')\n",
        "        coherence_values.append(coherencemodel.get_coherence())\n",
        "\n",
        "    return model_list, coherence_values"
      ],
      "execution_count": null,
      "outputs": []
    },
    {
      "cell_type": "code",
      "metadata": {
        "id": "2ixLT4X3ROmH",
        "colab_type": "code",
        "colab": {}
      },
      "source": [
        "model_list, coherence_values = compute_coherence_values(dictionary=dictionary, corpus=corpus, texts=docs, start=2, limit=40, step=1)\n"
      ],
      "execution_count": null,
      "outputs": []
    },
    {
      "cell_type": "code",
      "metadata": {
        "id": "BwllJe3fdqWl",
        "colab_type": "code",
        "colab": {
          "base_uri": "https://localhost:8080/",
          "height": 287
        },
        "outputId": "d008bc2f-801e-43c4-9371-a897a9108bd1"
      },
      "source": [
        "# Show graph\n",
        "import matplotlib.pyplot as plt\n",
        "limit=40; start=2; step=1;\n",
        "x = range(start, limit, step)\n",
        "plt.plot(x, coherence_values)\n",
        "plt.xlabel(\"Num Topics\")\n",
        "plt.ylabel(\"Coherence score\")\n",
        "plt.legend((\"coherence_values\"), loc='best')\n",
        "plt.show()"
      ],
      "execution_count": null,
      "outputs": [
        {
          "output_type": "display_data",
          "data": {
            "image/png": "[encoded data removed]",
            "text/plain": [
              "<Figure size 432x288 with 1 Axes>"
            ]
          },
          "metadata": {
            "tags": []
          }
        }
      ]
    },
    {
      "cell_type": "markdown",
      "metadata": {
        "id": "oFHX1Bo2ex46",
        "colab_type": "text"
      },
      "source": [
        "### 2nd Trial "
      ]
    },
    {
      "cell_type": "code",
      "metadata": {
        "id": "tdwlyXthfEEX",
        "colab_type": "code",
        "colab": {}
      },
      "source": [
        "papers = list(df.Abstract.values)"
      ],
      "execution_count": null,
      "outputs": []
    },
    {
      "cell_type": "code",
      "metadata": {
        "id": "N3JKiov1equ6",
        "colab_type": "code",
        "colab": {}
      },
      "source": [
        "def docs_preprocessor(docs):\n",
        "    tokenizer = RegexpTokenizer(r'\\w+')\n",
        "    for idx in range(len(docs)):\n",
        "        docs[idx] = docs[idx].lower()  # Convert to lowercase.\n",
        "        docs[idx] = tokenizer.tokenize(docs[idx])  # Split into words.\n",
        "\n",
        "    # Remove numbers, but not words that contain numbers.\n",
        "    docs = [[token for token in doc if token.isalpha()] for doc in docs] # replace 'not isdigit()' with 'isalpha'\n",
        "    \n",
        "    # Remove words that are only one character.\n",
        "    docs = [[token for token in doc if len(token) > 3] for doc in docs]\n",
        "    \n",
        "    # Lemmatize all words in documents.\n",
        "    lemmatizer = WordNetLemmatizer()\n",
        "    docs = [[lemmatizer.lemmatize(token) for token in doc] for doc in docs]\n",
        "  \n",
        "    return docs"
      ],
      "execution_count": null,
      "outputs": []
    },
    {
      "cell_type": "code",
      "metadata": {
        "id": "ARsvmshee62g",
        "colab_type": "code",
        "colab": {}
      },
      "source": [
        "# Perform function on our document\n",
        "docs = docs_preprocessor(papers)"
      ],
      "execution_count": null,
      "outputs": []
    },
    {
      "cell_type": "code",
      "metadata": {
        "id": "LFJZCx61e_E4",
        "colab_type": "code",
        "colab": {
          "base_uri": "https://localhost:8080/",
          "height": 52
        },
        "outputId": "5f6ce05f-2b47-4f65-e2be-f4488863be8f"
      },
      "source": [
        "# Add bigrams and trigrams to docs,minimum count 10 means only that appear 100 times or more.\n",
        "bigram = Phrases(docs, min_count=100) # replace 10 with 100\n",
        "trigram = Phrases(bigram[docs])"
      ],
      "execution_count": null,
      "outputs": [
        {
          "output_type": "stream",
          "text": [
            "/usr/local/lib/python3.6/dist-packages/gensim/models/phrases.py:598: UserWarning: For a faster implementation, use the gensim.models.phrases.Phraser class\n",
            "  warnings.warn(\"For a faster implementation, use the gensim.models.phrases.Phraser class\")\n"
          ],
          "name": "stderr"
        }
      ]
    },
    {
      "cell_type": "code",
      "metadata": {
        "id": "LFjOsNOpfZxo",
        "colab_type": "code",
        "colab": {
          "base_uri": "https://localhost:8080/",
          "height": 52
        },
        "outputId": "d74907dc-565e-4ced-90ba-a2e2ca2da091"
      },
      "source": [
        "for idx in range(len(docs)):\n",
        "    for token in bigram[docs[idx]]:\n",
        "        if '_' in token:\n",
        "            # Token is a bigram, add to document.\n",
        "            docs[idx].append(token)\n",
        "    for token in trigram[docs[idx]]:\n",
        "        if '_' in token:\n",
        "            # Token is a bigram, add to document.\n",
        "            docs[idx].append(token)"
      ],
      "execution_count": null,
      "outputs": [
        {
          "output_type": "stream",
          "text": [
            "/usr/local/lib/python3.6/dist-packages/gensim/models/phrases.py:598: UserWarning: For a faster implementation, use the gensim.models.phrases.Phraser class\n",
            "  warnings.warn(\"For a faster implementation, use the gensim.models.phrases.Phraser class\")\n"
          ],
          "name": "stderr"
        }
      ]
    },
    {
      "cell_type": "code",
      "metadata": {
        "id": "Mid6uk7efknW",
        "colab_type": "code",
        "colab": {}
      },
      "source": [
        "#Remove rare & common tokens \n",
        "# Create a dictionary representation of the documents.\n",
        "dictionary = Dictionary(docs)\n",
        "dictionary.filter_extremes(no_below=20, no_above=0.6) #replace 10 with 20, 0.5 with 0.6"
      ],
      "execution_count": null,
      "outputs": []
    },
    {
      "cell_type": "code",
      "metadata": {
        "id": "jGycvUMjfzcX",
        "colab_type": "code",
        "colab": {
          "base_uri": "https://localhost:8080/",
          "height": 90
        },
        "outputId": "b24d1c1d-9948-49f9-afc3-456cb957e595"
      },
      "source": [
        "#Create dictionary and corpus required for Topic Modeling\n",
        "corpus = [dictionary.doc2bow(doc) for doc in docs]\n",
        "print('Number of unique tokens: %d' % len(dictionary))\n",
        "print('Number of documents: %d' % len(corpus))\n",
        "print(corpus[:1])"
      ],
      "execution_count": null,
      "outputs": [
        {
          "output_type": "stream",
          "text": [
            "Number of unique tokens: 5103\n",
            "Number of documents: 10874\n",
            "[[(0, 1), (1, 1), (2, 1), (3, 2), (4, 3), (5, 10), (6, 5), (7, 12), (8, 1), (9, 3), (10, 8), (11, 2), (12, 1), (13, 1), (14, 1), (15, 1), (16, 1), (17, 2), (18, 4), (19, 1), (20, 9), (21, 1), (22, 1), (23, 1), (24, 1), (25, 1), (26, 3), (27, 1), (28, 1), (29, 1), (30, 1), (31, 1), (32, 1), (33, 1), (34, 1), (35, 2), (36, 2), (37, 1), (38, 1), (39, 1), (40, 1), (41, 2), (42, 3), (43, 2), (44, 1), (45, 4), (46, 1), (47, 1), (48, 1), (49, 1), (50, 1), (51, 2), (52, 1), (53, 1), (54, 1), (55, 1), (56, 1), (57, 3), (58, 1), (59, 1), (60, 1), (61, 1), (62, 8), (63, 1), (64, 1), (65, 1), (66, 1), (67, 1), (68, 1), (69, 3), (70, 1), (71, 1), (72, 1), (73, 1), (74, 6), (75, 1), (76, 13), (77, 5), (78, 1), (79, 3), (80, 6), (81, 1), (82, 3), (83, 1), (84, 1), (85, 1), (86, 1), (87, 1), (88, 1), (89, 2), (90, 3), (91, 1), (92, 8), (93, 1), (94, 1), (95, 1), (96, 1), (97, 6), (98, 3), (99, 2), (100, 2), (101, 1), (102, 1), (103, 1), (104, 1), (105, 1), (106, 2), (107, 1), (108, 11)]]\n"
          ],
          "name": "stdout"
        }
      ]
    },
    {
      "cell_type": "code",
      "metadata": {
        "id": "L8aTlUVMf22A",
        "colab_type": "code",
        "colab": {}
      },
      "source": [
        "# Set parameters.\n",
        "num_topics = 5\n",
        "chunksize = 500 \n",
        "passes = 20 \n",
        "iterations = 400\n",
        "eval_every = 1  "
      ],
      "execution_count": null,
      "outputs": []
    },
    {
      "cell_type": "code",
      "metadata": {
        "id": "t0uKLj_6f6Xn",
        "colab_type": "code",
        "colab": {
          "base_uri": "https://localhost:8080/",
          "height": 55
        },
        "outputId": "0940e8f1-683e-4041-a769-0c8292e1e9c5"
      },
      "source": [
        "# Make a index to word dictionary.\n",
        "temp = dictionary[0]  # only to \"load\" the dictionary.\n",
        "id2word = dictionary.id2token\n",
        "\n",
        "lda_model = LdaModel(corpus=corpus, id2word=id2word, chunksize=chunksize, \\\n",
        "                       alpha='auto', eta='auto', \\\n",
        "                       iterations=iterations, num_topics=num_topics, \\\n",
        "                       passes=passes, eval_every=eval_every)\n",
        "# Print the Keyword in the 5 topics\n",
        "print(lda_model.print_topics())"
      ],
      "execution_count": null,
      "outputs": [
        {
          "output_type": "stream",
          "text": [
            "[(0, '0.015*\"research\" + 0.013*\"this_paper\" + 0.010*\"with\" + 0.010*\"paper\" + 0.009*\"approach\" + 0.009*\"hospitality\" + 0.008*\"design_methodology\" + 0.007*\"industry\" + 0.007*\"originality_value\" + 0.007*\"management\"'), (1, '0.024*\"hotel\" + 0.016*\"this_study\" + 0.012*\"elsevier_right\" + 0.012*\"firm\" + 0.011*\"performance\" + 0.010*\"result\" + 0.010*\"model\" + 0.009*\"port\" + 0.009*\"effect\" + 0.008*\"tourism\"'), (2, '0.055*\"tourism\" + 0.018*\"destination\" + 0.014*\"development\" + 0.010*\"local\" + 0.009*\"environmental\" + 0.009*\"this_paper\" + 0.009*\"community\" + 0.008*\"with\" + 0.008*\"destination_image\" + 0.008*\"event\"'), (3, '0.024*\"this_study\" + 0.021*\"tourist\" + 0.016*\"travel\" + 0.014*\"their\" + 0.014*\"with\" + 0.013*\"experience\" + 0.013*\"were\" + 0.012*\"elsevier_right\" + 0.011*\"destination\" + 0.008*\"decision_making\"'), (4, '0.033*\"this_study\" + 0.018*\"customer\" + 0.016*\"relationship_between\" + 0.014*\"service\" + 0.013*\"hotel\" + 0.013*\"employee\" + 0.011*\"relationship\" + 0.011*\"effect\" + 0.010*\"satisfaction\" + 0.009*\"intention\"')]\n"
          ],
          "name": "stdout"
        }
      ]
    },
    {
      "cell_type": "code",
      "metadata": {
        "id": "xy7jxao0f82H",
        "colab_type": "code",
        "colab": {
          "base_uri": "https://localhost:8080/",
          "height": 52
        },
        "outputId": "58a9908a-2882-4751-9ce6-bf12c21d1620"
      },
      "source": [
        "# Compute Coherence Score using c_v\n",
        "coherence_model_lda = CoherenceModel(model=lda_model, texts=docs, dictionary=dictionary, coherence='c_v')\n",
        "coherence_lda = coherence_model_lda.get_coherence()\n",
        "print('\\nCoherence Score: ', coherence_lda)"
      ],
      "execution_count": null,
      "outputs": [
        {
          "output_type": "stream",
          "text": [
            "\n",
            "Coherence Score:  0.39264997496448284\n"
          ],
          "name": "stdout"
        }
      ]
    },
    {
      "cell_type": "code",
      "metadata": {
        "id": "QIq67kHpf_fX",
        "colab_type": "code",
        "colab": {
          "base_uri": "https://localhost:8080/",
          "height": 52
        },
        "outputId": "010b4b2a-2888-4c54-94b9-2966f87fd9bf"
      },
      "source": [
        "# Compute Coherence Score using UMass\n",
        "coherence_model_lda = CoherenceModel(model=lda_model, texts=docs, dictionary=dictionary, coherence=\"u_mass\")\n",
        "coherence_lda = coherence_model_lda.get_coherence()\n",
        "print('\\nCoherence Score: ', coherence_lda)"
      ],
      "execution_count": null,
      "outputs": [
        {
          "output_type": "stream",
          "text": [
            "\n",
            "Coherence Score:  -1.7606765014834516\n"
          ],
          "name": "stdout"
        }
      ]
    },
    {
      "cell_type": "code",
      "metadata": {
        "id": "5yhlUzaQgCbf",
        "colab_type": "code",
        "colab": {}
      },
      "source": [
        "model_list, coherence_values = compute_coherence_values(dictionary=dictionary, corpus=corpus, texts=docs, start=2, limit=40, step=1)"
      ],
      "execution_count": null,
      "outputs": []
    },
    {
      "cell_type": "code",
      "metadata": {
        "id": "caCYYQn1gJqr",
        "colab_type": "code",
        "colab": {
          "base_uri": "https://localhost:8080/",
          "height": 285
        },
        "outputId": "435abf0a-1a78-479a-df16-adf3fbad7731"
      },
      "source": [
        "# Show graph\n",
        "import matplotlib.pyplot as plt\n",
        "limit=40; start=2; step=1;\n",
        "x = range(start, limit, step)\n",
        "plt.plot(x, coherence_values)\n",
        "plt.xlabel(\"Num Topics\")\n",
        "plt.ylabel(\"Coherence score\")\n",
        "plt.legend((\"coherence_values\"), loc='best')\n",
        "plt.show()"
      ],
      "execution_count": null,
      "outputs": [
        {
          "output_type": "display_data",
          "data": {
            "image/png": "[encoded data removed]",
            "text/plain": [
              "<Figure size 432x288 with 1 Axes>"
            ]
          },
          "metadata": {
            "tags": []
          }
        }
      ]
    },
    {
      "cell_type": "code",
      "metadata": {
        "id": "KxFdzQh9gMPA",
        "colab_type": "code",
        "colab": {}
      },
      "source": [
        ""
      ],
      "execution_count": null,
      "outputs": []
    },
    {
      "cell_type": "markdown",
      "metadata": {
        "id": "4E1uas0vTw6S",
        "colab_type": "text"
      },
      "source": [
        "Source: https://datascienceplus.com/valuation-of-topic-modeling-topic-coherence/"
      ]
    }
  ]
}