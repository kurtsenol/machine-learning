{
  "nbformat": 4,
  "nbformat_minor": 0,
  "metadata": {
    "colab": {
      "name": "Model.ipynb",
      "provenance": [],
      "collapsed_sections": [],
      "mount_file_id": "1XyQ2dyDcpmeNwP95F8xfi--uq9eUXiaM",
      "authorship_tag": "ABX9TyO3T5W7rAy/peLChEtmqHiJ",
      "include_colab_link": true
    },
    "kernelspec": {
      "name": "python3",
      "display_name": "Python 3"
    }
  },
  "cells": [
    {
      "cell_type": "markdown",
      "metadata": {
        "id": "view-in-github",
        "colab_type": "text"
      },
      "source": [
        "<a href=\"https://colab.research.google.com/github/kurtsenol/machine-learning/blob/master/TopicModeling/Methodology/Model.ipynb\" target=\"_parent\"><img src=\"https://colab.research.google.com/assets/colab-badge.svg\" alt=\"Open In Colab\"/></a>"
      ]
    },
    {
      "cell_type": "code",
      "metadata": {
        "colab": {
          "base_uri": "https://localhost:8080/"
        },
        "id": "aZwtfSaqATMR",
        "outputId": "fd90338a-62d0-407e-d617-44a5b14e37e0"
      },
      "source": [
        "!python -m spacy download en_core_web_md"
      ],
      "execution_count": null,
      "outputs": [
        {
          "output_type": "stream",
          "text": [
            "Requirement already satisfied: en_core_web_md==2.2.5 from https://github.com/explosion/spacy-models/releases/download/en_core_web_md-2.2.5/en_core_web_md-2.2.5.tar.gz#egg=en_core_web_md==2.2.5 in /usr/local/lib/python3.7/dist-packages (2.2.5)\n",
            "Requirement already satisfied: spacy>=2.2.2 in /usr/local/lib/python3.7/dist-packages (from en_core_web_md==2.2.5) (2.2.4)\n",
            "Requirement already satisfied: murmurhash<1.1.0,>=0.28.0 in /usr/local/lib/python3.7/dist-packages (from spacy>=2.2.2->en_core_web_md==2.2.5) (1.0.5)\n",
            "Requirement already satisfied: cymem<2.1.0,>=2.0.2 in /usr/local/lib/python3.7/dist-packages (from spacy>=2.2.2->en_core_web_md==2.2.5) (2.0.5)\n",
            "Requirement already satisfied: blis<0.5.0,>=0.4.0 in /usr/local/lib/python3.7/dist-packages (from spacy>=2.2.2->en_core_web_md==2.2.5) (0.4.1)\n",
            "Requirement already satisfied: wasabi<1.1.0,>=0.4.0 in /usr/local/lib/python3.7/dist-packages (from spacy>=2.2.2->en_core_web_md==2.2.5) (0.8.2)\n",
            "Requirement already satisfied: setuptools in /usr/local/lib/python3.7/dist-packages (from spacy>=2.2.2->en_core_web_md==2.2.5) (54.0.0)\n",
            "Requirement already satisfied: plac<1.2.0,>=0.9.6 in /usr/local/lib/python3.7/dist-packages (from spacy>=2.2.2->en_core_web_md==2.2.5) (1.1.3)\n",
            "Requirement already satisfied: numpy>=1.15.0 in /usr/local/lib/python3.7/dist-packages (from spacy>=2.2.2->en_core_web_md==2.2.5) (1.19.5)\n",
            "Requirement already satisfied: preshed<3.1.0,>=3.0.2 in /usr/local/lib/python3.7/dist-packages (from spacy>=2.2.2->en_core_web_md==2.2.5) (3.0.5)\n",
            "Requirement already satisfied: tqdm<5.0.0,>=4.38.0 in /usr/local/lib/python3.7/dist-packages (from spacy>=2.2.2->en_core_web_md==2.2.5) (4.41.1)\n",
            "Requirement already satisfied: thinc==7.4.0 in /usr/local/lib/python3.7/dist-packages (from spacy>=2.2.2->en_core_web_md==2.2.5) (7.4.0)\n",
            "Requirement already satisfied: requests<3.0.0,>=2.13.0 in /usr/local/lib/python3.7/dist-packages (from spacy>=2.2.2->en_core_web_md==2.2.5) (2.23.0)\n",
            "Requirement already satisfied: srsly<1.1.0,>=1.0.2 in /usr/local/lib/python3.7/dist-packages (from spacy>=2.2.2->en_core_web_md==2.2.5) (1.0.5)\n",
            "Requirement already satisfied: catalogue<1.1.0,>=0.0.7 in /usr/local/lib/python3.7/dist-packages (from spacy>=2.2.2->en_core_web_md==2.2.5) (1.0.0)\n",
            "Requirement already satisfied: urllib3!=1.25.0,!=1.25.1,<1.26,>=1.21.1 in /usr/local/lib/python3.7/dist-packages (from requests<3.0.0,>=2.13.0->spacy>=2.2.2->en_core_web_md==2.2.5) (1.24.3)\n",
            "Requirement already satisfied: chardet<4,>=3.0.2 in /usr/local/lib/python3.7/dist-packages (from requests<3.0.0,>=2.13.0->spacy>=2.2.2->en_core_web_md==2.2.5) (3.0.4)\n",
            "Requirement already satisfied: idna<3,>=2.5 in /usr/local/lib/python3.7/dist-packages (from requests<3.0.0,>=2.13.0->spacy>=2.2.2->en_core_web_md==2.2.5) (2.10)\n",
            "Requirement already satisfied: certifi>=2017.4.17 in /usr/local/lib/python3.7/dist-packages (from requests<3.0.0,>=2.13.0->spacy>=2.2.2->en_core_web_md==2.2.5) (2020.12.5)\n",
            "Requirement already satisfied: importlib-metadata>=0.20; python_version < \"3.8\" in /usr/local/lib/python3.7/dist-packages (from catalogue<1.1.0,>=0.0.7->spacy>=2.2.2->en_core_web_md==2.2.5) (3.7.0)\n",
            "Requirement already satisfied: typing-extensions>=3.6.4; python_version < \"3.8\" in /usr/local/lib/python3.7/dist-packages (from importlib-metadata>=0.20; python_version < \"3.8\"->catalogue<1.1.0,>=0.0.7->spacy>=2.2.2->en_core_web_md==2.2.5) (3.7.4.3)\n",
            "Requirement already satisfied: zipp>=0.5 in /usr/local/lib/python3.7/dist-packages (from importlib-metadata>=0.20; python_version < \"3.8\"->catalogue<1.1.0,>=0.0.7->spacy>=2.2.2->en_core_web_md==2.2.5) (3.4.1)\n",
            "\u001b[38;5;2m✔ Download and installation successful\u001b[0m\n",
            "You can now load the model via spacy.load('en_core_web_md')\n"
          ],
          "name": "stdout"
        }
      ]
    },
    {
      "cell_type": "code",
      "metadata": {
        "id": "fNP7G9qovI_-",
        "colab": {
          "base_uri": "https://localhost:8080/"
        },
        "outputId": "3234317b-dd8a-4285-b46b-c8cd6ac96e6e"
      },
      "source": [
        "!pip install pyLDAvis"
      ],
      "execution_count": null,
      "outputs": [
        {
          "output_type": "stream",
          "text": [
            "Requirement already satisfied: pyLDAvis in /usr/local/lib/python3.7/dist-packages (3.2.2)\n",
            "Requirement already satisfied: scipy>=0.18.0 in /usr/local/lib/python3.7/dist-packages (from pyLDAvis) (1.4.1)\n",
            "Requirement already satisfied: joblib>=0.8.4 in /usr/local/lib/python3.7/dist-packages (from pyLDAvis) (1.0.1)\n",
            "Requirement already satisfied: jinja2>=2.7.2 in /usr/local/lib/python3.7/dist-packages (from pyLDAvis) (2.11.3)\n",
            "Requirement already satisfied: future in /usr/local/lib/python3.7/dist-packages (from pyLDAvis) (0.16.0)\n",
            "Requirement already satisfied: funcy in /usr/local/lib/python3.7/dist-packages (from pyLDAvis) (1.15)\n",
            "Requirement already satisfied: pandas>=0.17.0; python_version > \"3.5\" in /usr/local/lib/python3.7/dist-packages (from pyLDAvis) (1.1.5)\n",
            "Requirement already satisfied: numexpr in /usr/local/lib/python3.7/dist-packages (from pyLDAvis) (2.7.3)\n",
            "Requirement already satisfied: numpy>=1.9.2 in /usr/local/lib/python3.7/dist-packages (from pyLDAvis) (1.19.5)\n",
            "Requirement already satisfied: wheel>=0.23.0 in /usr/local/lib/python3.7/dist-packages (from pyLDAvis) (0.36.2)\n",
            "Requirement already satisfied: MarkupSafe>=0.23 in /usr/local/lib/python3.7/dist-packages (from jinja2>=2.7.2->pyLDAvis) (1.1.1)\n",
            "Requirement already satisfied: pytz>=2017.2 in /usr/local/lib/python3.7/dist-packages (from pandas>=0.17.0; python_version > \"3.5\"->pyLDAvis) (2018.9)\n",
            "Requirement already satisfied: python-dateutil>=2.7.3 in /usr/local/lib/python3.7/dist-packages (from pandas>=0.17.0; python_version > \"3.5\"->pyLDAvis) (2.8.1)\n",
            "Requirement already satisfied: six>=1.5 in /usr/local/lib/python3.7/dist-packages (from python-dateutil>=2.7.3->pandas>=0.17.0; python_version > \"3.5\"->pyLDAvis) (1.15.0)\n"
          ],
          "name": "stdout"
        }
      ]
    },
    {
      "cell_type": "code",
      "metadata": {
        "colab": {
          "base_uri": "https://localhost:8080/"
        },
        "id": "vAcelrr29ZjW",
        "outputId": "57991cb1-33a8-4d2b-f917-a1f728404a18"
      },
      "source": [
        "!pip3 install pickle5"
      ],
      "execution_count": null,
      "outputs": [
        {
          "output_type": "stream",
          "text": [
            "Requirement already satisfied: pickle5 in /usr/local/lib/python3.7/dist-packages (0.0.11)\n"
          ],
          "name": "stdout"
        }
      ]
    },
    {
      "cell_type": "code",
      "metadata": {
        "id": "eDYD5nWf-XLL"
      },
      "source": [
        "import os\n",
        "import numpy as np\n",
        "import pandas as pd\n",
        "import pickle5 as pickle\n",
        "from pprint import pprint"
      ],
      "execution_count": null,
      "outputs": []
    },
    {
      "cell_type": "markdown",
      "metadata": {
        "id": "NqMmHXYk9baY"
      },
      "source": [
        "## Dataset\n",
        "\n",
        "Below is our dataset:"
      ]
    },
    {
      "cell_type": "code",
      "metadata": {
        "id": "ginSQBRq9epM"
      },
      "source": [
        "with open(\"/content/drive/MyDrive/Colab Notebooks/TopicModeling/Methodology/df_all_final.pkl\", \"rb\") as fh:\r\n",
        "  df = pickle.load(fh)"
      ],
      "execution_count": null,
      "outputs": []
    },
    {
      "cell_type": "code",
      "metadata": {
        "colab": {
          "base_uri": "https://localhost:8080/",
          "height": 572
        },
        "id": "HI4Q2gb79taN",
        "outputId": "c746b2fe-91fe-45fc-a59a-c06726656f02"
      },
      "source": [
        "df"
      ],
      "execution_count": null,
      "outputs": [
        {
          "output_type": "execute_result",
          "data": {
            "text/html": [
              "<div>\n",
              "<style scoped>\n",
              "    .dataframe tbody tr th:only-of-type {\n",
              "        vertical-align: middle;\n",
              "    }\n",
              "\n",
              "    .dataframe tbody tr th {\n",
              "        vertical-align: top;\n",
              "    }\n",
              "\n",
              "    .dataframe thead th {\n",
              "        text-align: right;\n",
              "    }\n",
              "</style>\n",
              "<table border=\"1\" class=\"dataframe\">\n",
              "  <thead>\n",
              "    <tr style=\"text-align: right;\">\n",
              "      <th></th>\n",
              "      <th>JO</th>\n",
              "      <th>AU</th>\n",
              "      <th>TI</th>\n",
              "      <th>PY</th>\n",
              "      <th>DI</th>\n",
              "      <th>urls</th>\n",
              "      <th>filename</th>\n",
              "      <th>methodology</th>\n",
              "    </tr>\n",
              "  </thead>\n",
              "  <tbody>\n",
              "    <tr>\n",
              "      <th>0</th>\n",
              "      <td>IJCHM</td>\n",
              "      <td>Ineson, EM; Comic, D; Kalmic, L</td>\n",
              "      <td>Towards a hierarchy of hotel guests' in-room n...</td>\n",
              "      <td>2019.0</td>\n",
              "      <td>10.1108/IJCHM-01-2019-0061</td>\n",
              "      <td>https://www.emerald.com/insight/content/doi/10...</td>\n",
              "      <td>IJCHM_0.txt</td>\n",
              "      <td>Methodology\\nThe design is qualitative and exp...</td>\n",
              "    </tr>\n",
              "    <tr>\n",
              "      <th>1</th>\n",
              "      <td>IJCHM</td>\n",
              "      <td>Benitez-Aurioles, B</td>\n",
              "      <td>Barcelona's peer-to-peer tourist accommodation...</td>\n",
              "      <td>2019.0</td>\n",
              "      <td>10.1108/IJCHM-01-2019-0090</td>\n",
              "      <td>https://www.emerald.com/insight/content/doi/10...</td>\n",
              "      <td>IJCHM_1.txt</td>\n",
              "      <td>Data\\nThere are no official statistics on the ...</td>\n",
              "    </tr>\n",
              "    <tr>\n",
              "      <th>2</th>\n",
              "      <td>IJCHM</td>\n",
              "      <td>Hu, XB; Yang, Y; Park, S</td>\n",
              "      <td>A meta-regression on the effect of online rati...</td>\n",
              "      <td>2019.0</td>\n",
              "      <td>10.1108/IJCHM-10-2018-0835</td>\n",
              "      <td>https://www.emerald.com/insight/content/doi/10...</td>\n",
              "      <td>IJCHM_2.txt</td>\n",
              "      <td>3. Research method\\nWe searched the empirical ...</td>\n",
              "    </tr>\n",
              "    <tr>\n",
              "      <th>3</th>\n",
              "      <td>IJCHM</td>\n",
              "      <td>Ahmat, NHC; Arendt, SW; Russell, DW</td>\n",
              "      <td>Examining work factors after Malaysia's minimu...</td>\n",
              "      <td>2019.0</td>\n",
              "      <td>10.1108/IJCHM-10-2018-0827</td>\n",
              "      <td>https://www.emerald.com/insight/content/doi/10...</td>\n",
              "      <td>IJCHM_3.txt</td>\n",
              "      <td>Methods\\nParticipants\\nEmployees from operatio...</td>\n",
              "    </tr>\n",
              "    <tr>\n",
              "      <th>4</th>\n",
              "      <td>IJCHM</td>\n",
              "      <td>Kim, EL; Tanford, S</td>\n",
              "      <td>Seeking reward or avoiding risk from restauran...</td>\n",
              "      <td>2019.0</td>\n",
              "      <td>10.1108/IJCHM-03-2018-0235</td>\n",
              "      <td>https://www.emerald.com/insight/content/doi/10...</td>\n",
              "      <td>IJCHM_4.txt</td>\n",
              "      <td>Method\\nDesign\\nParticipants made dining decis...</td>\n",
              "    </tr>\n",
              "    <tr>\n",
              "      <th>...</th>\n",
              "      <td>...</td>\n",
              "      <td>...</td>\n",
              "      <td>...</td>\n",
              "      <td>...</td>\n",
              "      <td>...</td>\n",
              "      <td>...</td>\n",
              "      <td>...</td>\n",
              "      <td>...</td>\n",
              "    </tr>\n",
              "    <tr>\n",
              "      <th>3264</th>\n",
              "      <td>JHTR</td>\n",
              "      <td>Kim, W; Ok, C</td>\n",
              "      <td>CUSTOMER ORIENTATION OF SERVICE EMPLOYEES AND ...</td>\n",
              "      <td>2010.0</td>\n",
              "      <td>10.1177/1096348009344234</td>\n",
              "      <td>NaN</td>\n",
              "      <td>NaN</td>\n",
              "      <td>\\nMETHOD\\nMeasures\\nSignificant discrepant res...</td>\n",
              "    </tr>\n",
              "    <tr>\n",
              "      <th>3265</th>\n",
              "      <td>JHTR</td>\n",
              "      <td>Gazzoli, G; Hancer, M; Park, Y</td>\n",
              "      <td>THE ROLE AND EFFECT OF JOB SATISFACTION AND EM...</td>\n",
              "      <td>2010.0</td>\n",
              "      <td>10.1177/1096348009344235</td>\n",
              "      <td>NaN</td>\n",
              "      <td>NaN</td>\n",
              "      <td>\\nMETHOD\\nSample and Data Collection\\nBecause ...</td>\n",
              "    </tr>\n",
              "    <tr>\n",
              "      <th>3266</th>\n",
              "      <td>JHTR</td>\n",
              "      <td>Young, CA; Corsun, DL</td>\n",
              "      <td>BURNED! THE IMPACT OF WORK ASPECTS, INJURY, AN...</td>\n",
              "      <td>2010.0</td>\n",
              "      <td>10.1177/1096348009349816</td>\n",
              "      <td>NaN</td>\n",
              "      <td>NaN</td>\n",
              "      <td>\\nMETHOD\\nData Collection\\nManagement from 13 ...</td>\n",
              "    </tr>\n",
              "    <tr>\n",
              "      <th>3267</th>\n",
              "      <td>JHTR</td>\n",
              "      <td>Kim, DY; Wen, L; Doh, K</td>\n",
              "      <td>DOES CULTURAL DIFFERENCE AFFECT CUSTOMER'S RES...</td>\n",
              "      <td>2010.0</td>\n",
              "      <td>10.1177/1096348009349817</td>\n",
              "      <td>NaN</td>\n",
              "      <td>NaN</td>\n",
              "      <td>\\nMETHOD\\nSample\\nAn experimental design was e...</td>\n",
              "    </tr>\n",
              "    <tr>\n",
              "      <th>3268</th>\n",
              "      <td>JHTR</td>\n",
              "      <td>Pike, S</td>\n",
              "      <td>DESTINATION BRANDING CASE STUDY: TRACKING BRAN...</td>\n",
              "      <td>2010.0</td>\n",
              "      <td>10.1177/1096348009349820</td>\n",
              "      <td>NaN</td>\n",
              "      <td>NaN</td>\n",
              "      <td>\\nMETHOD\\nThe 2003 longitudinal study took pla...</td>\n",
              "    </tr>\n",
              "  </tbody>\n",
              "</table>\n",
              "<p>3269 rows × 8 columns</p>\n",
              "</div>"
            ],
            "text/plain": [
              "         JO  ...                                        methodology\n",
              "0     IJCHM  ...  Methodology\\nThe design is qualitative and exp...\n",
              "1     IJCHM  ...  Data\\nThere are no official statistics on the ...\n",
              "2     IJCHM  ...  3. Research method\\nWe searched the empirical ...\n",
              "3     IJCHM  ...  Methods\\nParticipants\\nEmployees from operatio...\n",
              "4     IJCHM  ...  Method\\nDesign\\nParticipants made dining decis...\n",
              "...     ...  ...                                                ...\n",
              "3264   JHTR  ...  \\nMETHOD\\nMeasures\\nSignificant discrepant res...\n",
              "3265   JHTR  ...  \\nMETHOD\\nSample and Data Collection\\nBecause ...\n",
              "3266   JHTR  ...  \\nMETHOD\\nData Collection\\nManagement from 13 ...\n",
              "3267   JHTR  ...  \\nMETHOD\\nSample\\nAn experimental design was e...\n",
              "3268   JHTR  ...  \\nMETHOD\\nThe 2003 longitudinal study took pla...\n",
              "\n",
              "[3269 rows x 8 columns]"
            ]
          },
          "metadata": {
            "tags": []
          },
          "execution_count": 6
        }
      ]
    },
    {
      "cell_type": "markdown",
      "metadata": {
        "id": "efh0rScH9iG-"
      },
      "source": [
        "The dataset includes **3269** articles from **5 journals**."
      ]
    },
    {
      "cell_type": "code",
      "metadata": {
        "id": "nEgKSjdKG8i-"
      },
      "source": [
        "df.dropna(subset=[\"methodology\"], inplace=True)"
      ],
      "execution_count": null,
      "outputs": []
    },
    {
      "cell_type": "code",
      "metadata": {
        "colab": {
          "base_uri": "https://localhost:8080/",
          "height": 572
        },
        "id": "kh-AExFSHm16",
        "outputId": "3a506f8d-5fc1-42ee-8436-20bd983c78e5"
      },
      "source": [
        "df"
      ],
      "execution_count": null,
      "outputs": [
        {
          "output_type": "execute_result",
          "data": {
            "text/html": [
              "<div>\n",
              "<style scoped>\n",
              "    .dataframe tbody tr th:only-of-type {\n",
              "        vertical-align: middle;\n",
              "    }\n",
              "\n",
              "    .dataframe tbody tr th {\n",
              "        vertical-align: top;\n",
              "    }\n",
              "\n",
              "    .dataframe thead th {\n",
              "        text-align: right;\n",
              "    }\n",
              "</style>\n",
              "<table border=\"1\" class=\"dataframe\">\n",
              "  <thead>\n",
              "    <tr style=\"text-align: right;\">\n",
              "      <th></th>\n",
              "      <th>JO</th>\n",
              "      <th>AU</th>\n",
              "      <th>TI</th>\n",
              "      <th>PY</th>\n",
              "      <th>DI</th>\n",
              "      <th>urls</th>\n",
              "      <th>filename</th>\n",
              "      <th>methodology</th>\n",
              "    </tr>\n",
              "  </thead>\n",
              "  <tbody>\n",
              "    <tr>\n",
              "      <th>0</th>\n",
              "      <td>IJCHM</td>\n",
              "      <td>Ineson, EM; Comic, D; Kalmic, L</td>\n",
              "      <td>Towards a hierarchy of hotel guests' in-room n...</td>\n",
              "      <td>2019.0</td>\n",
              "      <td>10.1108/IJCHM-01-2019-0061</td>\n",
              "      <td>https://www.emerald.com/insight/content/doi/10...</td>\n",
              "      <td>IJCHM_0.txt</td>\n",
              "      <td>Methodology\\nThe design is qualitative and exp...</td>\n",
              "    </tr>\n",
              "    <tr>\n",
              "      <th>1</th>\n",
              "      <td>IJCHM</td>\n",
              "      <td>Benitez-Aurioles, B</td>\n",
              "      <td>Barcelona's peer-to-peer tourist accommodation...</td>\n",
              "      <td>2019.0</td>\n",
              "      <td>10.1108/IJCHM-01-2019-0090</td>\n",
              "      <td>https://www.emerald.com/insight/content/doi/10...</td>\n",
              "      <td>IJCHM_1.txt</td>\n",
              "      <td>Data\\nThere are no official statistics on the ...</td>\n",
              "    </tr>\n",
              "    <tr>\n",
              "      <th>2</th>\n",
              "      <td>IJCHM</td>\n",
              "      <td>Hu, XB; Yang, Y; Park, S</td>\n",
              "      <td>A meta-regression on the effect of online rati...</td>\n",
              "      <td>2019.0</td>\n",
              "      <td>10.1108/IJCHM-10-2018-0835</td>\n",
              "      <td>https://www.emerald.com/insight/content/doi/10...</td>\n",
              "      <td>IJCHM_2.txt</td>\n",
              "      <td>3. Research method\\nWe searched the empirical ...</td>\n",
              "    </tr>\n",
              "    <tr>\n",
              "      <th>3</th>\n",
              "      <td>IJCHM</td>\n",
              "      <td>Ahmat, NHC; Arendt, SW; Russell, DW</td>\n",
              "      <td>Examining work factors after Malaysia's minimu...</td>\n",
              "      <td>2019.0</td>\n",
              "      <td>10.1108/IJCHM-10-2018-0827</td>\n",
              "      <td>https://www.emerald.com/insight/content/doi/10...</td>\n",
              "      <td>IJCHM_3.txt</td>\n",
              "      <td>Methods\\nParticipants\\nEmployees from operatio...</td>\n",
              "    </tr>\n",
              "    <tr>\n",
              "      <th>4</th>\n",
              "      <td>IJCHM</td>\n",
              "      <td>Kim, EL; Tanford, S</td>\n",
              "      <td>Seeking reward or avoiding risk from restauran...</td>\n",
              "      <td>2019.0</td>\n",
              "      <td>10.1108/IJCHM-03-2018-0235</td>\n",
              "      <td>https://www.emerald.com/insight/content/doi/10...</td>\n",
              "      <td>IJCHM_4.txt</td>\n",
              "      <td>Method\\nDesign\\nParticipants made dining decis...</td>\n",
              "    </tr>\n",
              "    <tr>\n",
              "      <th>...</th>\n",
              "      <td>...</td>\n",
              "      <td>...</td>\n",
              "      <td>...</td>\n",
              "      <td>...</td>\n",
              "      <td>...</td>\n",
              "      <td>...</td>\n",
              "      <td>...</td>\n",
              "      <td>...</td>\n",
              "    </tr>\n",
              "    <tr>\n",
              "      <th>3264</th>\n",
              "      <td>JHTR</td>\n",
              "      <td>Kim, W; Ok, C</td>\n",
              "      <td>CUSTOMER ORIENTATION OF SERVICE EMPLOYEES AND ...</td>\n",
              "      <td>2010.0</td>\n",
              "      <td>10.1177/1096348009344234</td>\n",
              "      <td>NaN</td>\n",
              "      <td>NaN</td>\n",
              "      <td>\\nMETHOD\\nMeasures\\nSignificant discrepant res...</td>\n",
              "    </tr>\n",
              "    <tr>\n",
              "      <th>3265</th>\n",
              "      <td>JHTR</td>\n",
              "      <td>Gazzoli, G; Hancer, M; Park, Y</td>\n",
              "      <td>THE ROLE AND EFFECT OF JOB SATISFACTION AND EM...</td>\n",
              "      <td>2010.0</td>\n",
              "      <td>10.1177/1096348009344235</td>\n",
              "      <td>NaN</td>\n",
              "      <td>NaN</td>\n",
              "      <td>\\nMETHOD\\nSample and Data Collection\\nBecause ...</td>\n",
              "    </tr>\n",
              "    <tr>\n",
              "      <th>3266</th>\n",
              "      <td>JHTR</td>\n",
              "      <td>Young, CA; Corsun, DL</td>\n",
              "      <td>BURNED! THE IMPACT OF WORK ASPECTS, INJURY, AN...</td>\n",
              "      <td>2010.0</td>\n",
              "      <td>10.1177/1096348009349816</td>\n",
              "      <td>NaN</td>\n",
              "      <td>NaN</td>\n",
              "      <td>\\nMETHOD\\nData Collection\\nManagement from 13 ...</td>\n",
              "    </tr>\n",
              "    <tr>\n",
              "      <th>3267</th>\n",
              "      <td>JHTR</td>\n",
              "      <td>Kim, DY; Wen, L; Doh, K</td>\n",
              "      <td>DOES CULTURAL DIFFERENCE AFFECT CUSTOMER'S RES...</td>\n",
              "      <td>2010.0</td>\n",
              "      <td>10.1177/1096348009349817</td>\n",
              "      <td>NaN</td>\n",
              "      <td>NaN</td>\n",
              "      <td>\\nMETHOD\\nSample\\nAn experimental design was e...</td>\n",
              "    </tr>\n",
              "    <tr>\n",
              "      <th>3268</th>\n",
              "      <td>JHTR</td>\n",
              "      <td>Pike, S</td>\n",
              "      <td>DESTINATION BRANDING CASE STUDY: TRACKING BRAN...</td>\n",
              "      <td>2010.0</td>\n",
              "      <td>10.1177/1096348009349820</td>\n",
              "      <td>NaN</td>\n",
              "      <td>NaN</td>\n",
              "      <td>\\nMETHOD\\nThe 2003 longitudinal study took pla...</td>\n",
              "    </tr>\n",
              "  </tbody>\n",
              "</table>\n",
              "<p>3076 rows × 8 columns</p>\n",
              "</div>"
            ],
            "text/plain": [
              "         JO  ...                                        methodology\n",
              "0     IJCHM  ...  Methodology\\nThe design is qualitative and exp...\n",
              "1     IJCHM  ...  Data\\nThere are no official statistics on the ...\n",
              "2     IJCHM  ...  3. Research method\\nWe searched the empirical ...\n",
              "3     IJCHM  ...  Methods\\nParticipants\\nEmployees from operatio...\n",
              "4     IJCHM  ...  Method\\nDesign\\nParticipants made dining decis...\n",
              "...     ...  ...                                                ...\n",
              "3264   JHTR  ...  \\nMETHOD\\nMeasures\\nSignificant discrepant res...\n",
              "3265   JHTR  ...  \\nMETHOD\\nSample and Data Collection\\nBecause ...\n",
              "3266   JHTR  ...  \\nMETHOD\\nData Collection\\nManagement from 13 ...\n",
              "3267   JHTR  ...  \\nMETHOD\\nSample\\nAn experimental design was e...\n",
              "3268   JHTR  ...  \\nMETHOD\\nThe 2003 longitudinal study took pla...\n",
              "\n",
              "[3076 rows x 8 columns]"
            ]
          },
          "metadata": {
            "tags": []
          },
          "execution_count": 8
        }
      ]
    },
    {
      "cell_type": "markdown",
      "metadata": {
        "id": "45glVsDiIKCR"
      },
      "source": [
        "After dropping papers without methodology section, there remained **3076 papers**."
      ]
    },
    {
      "cell_type": "code",
      "metadata": {
        "id": "r-MH9TJneKUk",
        "colab": {
          "base_uri": "https://localhost:8080/"
        },
        "outputId": "68af62da-5b61-421e-878d-4a130c85da94"
      },
      "source": [
        "df.groupby('JO')['methodology'].count().sort_values(ascending=False)"
      ],
      "execution_count": null,
      "outputs": [
        {
          "output_type": "execute_result",
          "data": {
            "text/plain": [
              "JO\n",
              "IJHM     1299\n",
              "IJCHM     932\n",
              "JHTR      316\n",
              "CHQ       309\n",
              "JHMM      220\n",
              "Name: methodology, dtype: int64"
            ]
          },
          "metadata": {
            "tags": []
          },
          "execution_count": 9
        }
      ]
    },
    {
      "cell_type": "markdown",
      "metadata": {
        "id": "eWwXKRLf-XrA"
      },
      "source": [
        "The number of articles per journal is as above: "
      ]
    },
    {
      "cell_type": "markdown",
      "metadata": {
        "id": "Eg9sL8y_AWFA"
      },
      "source": [
        "## Analysis"
      ]
    },
    {
      "cell_type": "code",
      "metadata": {
        "id": "ORY4q2tZ_FFU"
      },
      "source": [
        "# spacy for lemmatization\r\n",
        "import spacy\r\n",
        "nlp = spacy.load('en_core_web_md', disable=['ner'])"
      ],
      "execution_count": null,
      "outputs": []
    },
    {
      "cell_type": "code",
      "metadata": {
        "id": "KsL4XPcAzer2"
      },
      "source": [
        "papers = list(df.methodology.values)"
      ],
      "execution_count": null,
      "outputs": []
    },
    {
      "cell_type": "code",
      "metadata": {
        "id": "uqVsdeYiSugg"
      },
      "source": [
        "stop_words = spacy.lang.en.stop_words.STOP_WORDS"
      ],
      "execution_count": null,
      "outputs": []
    },
    {
      "cell_type": "code",
      "metadata": {
        "id": "J4G7u107Sukt",
        "colab": {
          "base_uri": "https://localhost:8080/"
        },
        "outputId": "ec79708f-68b8-4c28-c50a-3a171c66e547"
      },
      "source": [
        "len(stop_words)"
      ],
      "execution_count": null,
      "outputs": [
        {
          "output_type": "execute_result",
          "data": {
            "text/plain": [
              "326"
            ]
          },
          "metadata": {
            "tags": []
          },
          "execution_count": 13
        }
      ]
    },
    {
      "cell_type": "code",
      "metadata": {
        "id": "jMNz6lhjRGno"
      },
      "source": [
        "# Gensim\n",
        "import gensim\n",
        "import gensim.corpora as corpora\n",
        "from gensim.utils import simple_preprocess\n",
        "from gensim.models import CoherenceModel\n",
        "\n",
        "# Plotting tools\n",
        "import pyLDAvis\n",
        "import pyLDAvis.gensim  # don't skip this\n",
        "import matplotlib.pyplot as plt"
      ],
      "execution_count": null,
      "outputs": []
    },
    {
      "cell_type": "markdown",
      "metadata": {
        "id": "eAOjj6V-Qugz"
      },
      "source": [
        "### Tokenize Sentences and Clean"
      ]
    },
    {
      "cell_type": "code",
      "metadata": {
        "id": "5d8AwL-BMxRO"
      },
      "source": [
        "def sent_to_words(sentences):\n",
        "    for sent in sentences:\n",
        "        sent = gensim.utils.simple_preprocess(str(sent), deacc=True) \n",
        "        yield(sent)  \n",
        "\n",
        "# Convert to list\n",
        "data = papers\n",
        "data_words = list(sent_to_words(data))"
      ],
      "execution_count": null,
      "outputs": []
    },
    {
      "cell_type": "markdown",
      "metadata": {
        "id": "Tt3LfbqMSdHw"
      },
      "source": [
        "### Build the Bigram, Trigram Models and Lemmatize"
      ]
    },
    {
      "cell_type": "code",
      "metadata": {
        "id": "2An-shywMxL8",
        "colab": {
          "base_uri": "https://localhost:8080/"
        },
        "outputId": "5f711064-bec0-4529-eae4-60d5e16e4b08"
      },
      "source": [
        "# Build the bigram and trigram models\n",
        "bigram = gensim.models.Phrases(data_words, min_count=20, threshold=100) # higher threshold fewer phrases.\n",
        "trigram = gensim.models.Phrases(bigram[data_words], threshold=100)  \n",
        "\n",
        "bigram_mod = gensim.models.phrases.Phraser(bigram)\n",
        "trigram_mod = gensim.models.phrases.Phraser(trigram)\n",
        "\n",
        "# !python3 -m spacy download en  # run in terminal once\n",
        "def process_words(texts, stop_words=stop_words, allowed_postags=['NOUN', 'ADJ', 'VERB', 'ADV']):\n",
        "    \"\"\"Remove Stopwords, Form Bigrams, Trigrams and Lemmatization\"\"\"\n",
        "    texts = [[word for word in simple_preprocess(str(doc), deacc=True, min_len=3) if word not in stop_words] for doc in texts]\n",
        "    texts = [bigram_mod[doc] for doc in texts]\n",
        "    texts = [trigram_mod[bigram_mod[doc]] for doc in texts]\n",
        "    texts_out = []\n",
        "    \n",
        "    \n",
        "    for sent in texts:\n",
        "        doc = nlp(\" \".join(sent)) \n",
        "        texts_out.append([token.lemma_ for token in doc if token.pos_ in allowed_postags and len(token.text)>3])\n",
        "    # remove stopwords once more after lemmatization\n",
        "    texts_out = [[word for word in simple_preprocess(str(doc), deacc=True, min_len=3) if word not in stop_words] for doc in texts_out]    \n",
        "    return texts_out"
      ],
      "execution_count": null,
      "outputs": [
        {
          "output_type": "stream",
          "text": [
            "/usr/local/lib/python3.7/dist-packages/gensim/models/phrases.py:598: UserWarning: For a faster implementation, use the gensim.models.phrases.Phraser class\n",
            "  warnings.warn(\"For a faster implementation, use the gensim.models.phrases.Phraser class\")\n"
          ],
          "name": "stderr"
        }
      ]
    },
    {
      "cell_type": "code",
      "metadata": {
        "id": "uP_mYKxsMxH4"
      },
      "source": [
        "data_ready = process_words(data_words)  # processed Text Data!"
      ],
      "execution_count": null,
      "outputs": []
    },
    {
      "cell_type": "markdown",
      "metadata": {
        "id": "r7id16JBBgm5"
      },
      "source": [
        "Above we preprocess the corpus that includes: \n",
        "- removing stop words,\n",
        "- doing lemmatization,\n",
        "- implementing ngrams,\n",
        "- selection of tokens based on speech of tags (*keep the words that are either noun, adjective, verb or adverb*)"
      ]
    },
    {
      "cell_type": "code",
      "metadata": {
        "id": "wiJ43QVRVNR5"
      },
      "source": [
        "# from collections import Counter\n",
        "# bi_grams = [w for list in data_ready for w in list if \"_\" in w]\n",
        "# bi = Counter(bi_grams)\n",
        "# [a for a,b in bi.most_common(40)]"
      ],
      "execution_count": null,
      "outputs": []
    },
    {
      "cell_type": "code",
      "metadata": {
        "id": "4g5viHjrIL1v"
      },
      "source": [
        "# import re\n",
        "# subs = r\"\\w+_\\w+_\\w+\"\n",
        "# tri_grams = [w for list in data_ready for w in list if re.search(subs, w)]\n",
        "# tri = Counter(tri_grams)\n",
        "# [a for a,b in tri.most_common(30)]"
      ],
      "execution_count": null,
      "outputs": []
    },
    {
      "cell_type": "code",
      "metadata": {
        "id": "1fDUzrsjJfF0"
      },
      "source": [
        "# l = [\"uses\", \"use\", \"used\", \"using\", \"have used\"]\n",
        "# doc = nlp(\" \".join(l))\n",
        "\n",
        "# [a.lemma_ for a in doc]"
      ],
      "execution_count": null,
      "outputs": []
    },
    {
      "cell_type": "markdown",
      "metadata": {
        "id": "UApAoTAVYLDk"
      },
      "source": [
        "### Create the Dictionary and Corpus needed for Topic Modeling"
      ]
    },
    {
      "cell_type": "code",
      "metadata": {
        "id": "yeQWxcFFYKai",
        "colab": {
          "base_uri": "https://localhost:8080/"
        },
        "outputId": "4e0b5c3f-bd47-419f-8b3e-2e9f9753ed46"
      },
      "source": [
        "# Create Dictionary\n",
        "id2word = corpora.Dictionary(data_ready)\n",
        "\n",
        "print('Total Vocabulary Size:', len(id2word))"
      ],
      "execution_count": null,
      "outputs": [
        {
          "output_type": "stream",
          "text": [
            "Total Vocabulary Size: 15557\n"
          ],
          "name": "stdout"
        }
      ]
    },
    {
      "cell_type": "markdown",
      "metadata": {
        "id": "OYUMlrI9D0nk"
      },
      "source": [
        "After preprocessing step we form a dictionary that the model requires."
      ]
    },
    {
      "cell_type": "code",
      "metadata": {
        "id": "cil09j2Paimu"
      },
      "source": [
        "# Create Corpus: Term Document Frequency\n",
        "corpus = [id2word.doc2bow(text) for text in data_ready]"
      ],
      "execution_count": null,
      "outputs": []
    },
    {
      "cell_type": "code",
      "metadata": {
        "id": "nenvsq3PDG6i"
      },
      "source": [
        "dict_corpus = {}\n",
        "\n",
        "for i in range(len(corpus)):\n",
        "  for idx, freq in corpus[i]:\n",
        "    if id2word[idx] in dict_corpus:\n",
        "      dict_corpus[id2word[idx]] += freq\n",
        "    else:\n",
        "       dict_corpus[id2word[idx]] = freq\n"
      ],
      "execution_count": null,
      "outputs": []
    },
    {
      "cell_type": "code",
      "metadata": {
        "id": "46vQRyskFnwa"
      },
      "source": [
        "dict_df = pd.DataFrame.from_dict(dict_corpus, orient='index', columns=['freq'])"
      ],
      "execution_count": null,
      "outputs": []
    },
    {
      "cell_type": "code",
      "metadata": {
        "id": "OFHxtSFiQXQb",
        "colab": {
          "base_uri": "https://localhost:8080/",
          "height": 551
        },
        "outputId": "32239189-64bd-481d-d485-798074700a2a"
      },
      "source": [
        "import seaborn as sns\n",
        "plt.figure(figsize=(12,8))\n",
        "sns.distplot(dict_df['freq'], bins=100);"
      ],
      "execution_count": null,
      "outputs": [
        {
          "output_type": "stream",
          "text": [
            "/usr/local/lib/python3.7/dist-packages/seaborn/distributions.py:2557: FutureWarning: `distplot` is a deprecated function and will be removed in a future version. Please adapt your code to use either `displot` (a figure-level function with similar flexibility) or `histplot` (an axes-level function for histograms).\n",
            "  warnings.warn(msg, FutureWarning)\n"
          ],
          "name": "stderr"
        },
        {
          "output_type": "display_data",
          "data": {
            "image/png": "[encoded data removed]",
            "text/plain": [
              "<Figure size 864x576 with 1 Axes>"
            ]
          },
          "metadata": {
            "tags": [],
            "needs_background": "light"
          }
        }
      ]
    },
    {
      "cell_type": "markdown",
      "metadata": {
        "id": "-lXnB4O4EncR"
      },
      "source": [
        "Above is the graph for word frequencies of our dictionary, just to have general idea about the words and their frequencies. Most of the words have frequency values less than 500. "
      ]
    },
    {
      "cell_type": "markdown",
      "metadata": {
        "id": "EJRcXyeBDeA_"
      },
      "source": [
        "Below you can find the list of high frequency words in descending order. We will add those words that appear 3000 times or  more to stop list and restart the preprocess step to get better topic clusters. As expected, sector specific and general writing words have high frequencies.  "
      ]
    },
    {
      "cell_type": "code",
      "metadata": {
        "id": "cHLXPCwBvYXq",
        "colab": {
          "base_uri": "https://localhost:8080/",
          "height": 1000
        },
        "outputId": "8b5299ef-dbc9-4ea5-fc60-2bcf214b5515"
      },
      "source": [
        "dict_df[dict_df.freq>3000].sort_values('freq', ascending=False).head(60)"
      ],
      "execution_count": null,
      "outputs": [
        {
          "output_type": "execute_result",
          "data": {
            "text/html": [
              "<div>\n",
              "<style scoped>\n",
              "    .dataframe tbody tr th:only-of-type {\n",
              "        vertical-align: middle;\n",
              "    }\n",
              "\n",
              "    .dataframe tbody tr th {\n",
              "        vertical-align: top;\n",
              "    }\n",
              "\n",
              "    .dataframe thead th {\n",
              "        text-align: right;\n",
              "    }\n",
              "</style>\n",
              "<table border=\"1\" class=\"dataframe\">\n",
              "  <thead>\n",
              "    <tr style=\"text-align: right;\">\n",
              "      <th></th>\n",
              "      <th>freq</th>\n",
              "    </tr>\n",
              "  </thead>\n",
              "  <tbody>\n",
              "    <tr>\n",
              "      <th>study</th>\n",
              "      <td>16839</td>\n",
              "    </tr>\n",
              "    <tr>\n",
              "      <th>hotel</th>\n",
              "      <td>16214</td>\n",
              "    </tr>\n",
              "    <tr>\n",
              "      <th>item</th>\n",
              "      <td>16121</td>\n",
              "    </tr>\n",
              "    <tr>\n",
              "      <th>measure</th>\n",
              "      <td>12330</td>\n",
              "    </tr>\n",
              "    <tr>\n",
              "      <th>scale</th>\n",
              "      <td>9771</td>\n",
              "    </tr>\n",
              "    <tr>\n",
              "      <th>variable</th>\n",
              "      <td>9663</td>\n",
              "    </tr>\n",
              "    <tr>\n",
              "      <th>model</th>\n",
              "      <td>9005</td>\n",
              "    </tr>\n",
              "    <tr>\n",
              "      <th>datum</th>\n",
              "      <td>8819</td>\n",
              "    </tr>\n",
              "    <tr>\n",
              "      <th>sample</th>\n",
              "      <td>8785</td>\n",
              "    </tr>\n",
              "    <tr>\n",
              "      <th>respondent</th>\n",
              "      <td>8599</td>\n",
              "    </tr>\n",
              "    <tr>\n",
              "      <th>analysis</th>\n",
              "      <td>8544</td>\n",
              "    </tr>\n",
              "    <tr>\n",
              "      <th>include</th>\n",
              "      <td>7789</td>\n",
              "    </tr>\n",
              "    <tr>\n",
              "      <th>restaurant</th>\n",
              "      <td>7669</td>\n",
              "    </tr>\n",
              "    <tr>\n",
              "      <th>survey</th>\n",
              "      <td>7642</td>\n",
              "    </tr>\n",
              "    <tr>\n",
              "      <th>questionnaire</th>\n",
              "      <td>7491</td>\n",
              "    </tr>\n",
              "    <tr>\n",
              "      <th>service</th>\n",
              "      <td>7305</td>\n",
              "    </tr>\n",
              "    <tr>\n",
              "      <th>participant</th>\n",
              "      <td>6982</td>\n",
              "    </tr>\n",
              "    <tr>\n",
              "      <th>customer</th>\n",
              "      <td>6719</td>\n",
              "    </tr>\n",
              "    <tr>\n",
              "      <th>employee</th>\n",
              "      <td>6641</td>\n",
              "    </tr>\n",
              "    <tr>\n",
              "      <th>research</th>\n",
              "      <td>6639</td>\n",
              "    </tr>\n",
              "    <tr>\n",
              "      <th>base</th>\n",
              "      <td>6200</td>\n",
              "    </tr>\n",
              "    <tr>\n",
              "      <th>value</th>\n",
              "      <td>6191</td>\n",
              "    </tr>\n",
              "    <tr>\n",
              "      <th>test</th>\n",
              "      <td>6067</td>\n",
              "    </tr>\n",
              "    <tr>\n",
              "      <th>table</th>\n",
              "      <td>5814</td>\n",
              "    </tr>\n",
              "    <tr>\n",
              "      <th>level</th>\n",
              "      <td>5714</td>\n",
              "    </tr>\n",
              "    <tr>\n",
              "      <th>firm</th>\n",
              "      <td>5473</td>\n",
              "    </tr>\n",
              "    <tr>\n",
              "      <th>year</th>\n",
              "      <td>5329</td>\n",
              "    </tr>\n",
              "    <tr>\n",
              "      <th>result</th>\n",
              "      <td>5319</td>\n",
              "    </tr>\n",
              "    <tr>\n",
              "      <th>number</th>\n",
              "      <td>5260</td>\n",
              "    </tr>\n",
              "    <tr>\n",
              "      <th>total</th>\n",
              "      <td>5122</td>\n",
              "    </tr>\n",
              "    <tr>\n",
              "      <th>follow</th>\n",
              "      <td>4930</td>\n",
              "    </tr>\n",
              "    <tr>\n",
              "      <th>time</th>\n",
              "      <td>4882</td>\n",
              "    </tr>\n",
              "    <tr>\n",
              "      <th>factor</th>\n",
              "      <td>4731</td>\n",
              "    </tr>\n",
              "    <tr>\n",
              "      <th>group</th>\n",
              "      <td>4695</td>\n",
              "    </tr>\n",
              "    <tr>\n",
              "      <th>question</th>\n",
              "      <td>4614</td>\n",
              "    </tr>\n",
              "    <tr>\n",
              "      <th>work</th>\n",
              "      <td>4490</td>\n",
              "    </tr>\n",
              "    <tr>\n",
              "      <th>experience</th>\n",
              "      <td>4473</td>\n",
              "    </tr>\n",
              "    <tr>\n",
              "      <th>high</th>\n",
              "      <td>4463</td>\n",
              "    </tr>\n",
              "    <tr>\n",
              "      <th>construct</th>\n",
              "      <td>4453</td>\n",
              "    </tr>\n",
              "    <tr>\n",
              "      <th>provide</th>\n",
              "      <td>4392</td>\n",
              "    </tr>\n",
              "    <tr>\n",
              "      <th>manager</th>\n",
              "      <td>4381</td>\n",
              "    </tr>\n",
              "    <tr>\n",
              "      <th>response</th>\n",
              "      <td>4258</td>\n",
              "    </tr>\n",
              "    <tr>\n",
              "      <th>method</th>\n",
              "      <td>4229</td>\n",
              "    </tr>\n",
              "    <tr>\n",
              "      <th>information</th>\n",
              "      <td>4220</td>\n",
              "    </tr>\n",
              "    <tr>\n",
              "      <th>conduct</th>\n",
              "      <td>3988</td>\n",
              "    </tr>\n",
              "    <tr>\n",
              "      <th>ask</th>\n",
              "      <td>3888</td>\n",
              "    </tr>\n",
              "    <tr>\n",
              "      <th>effect</th>\n",
              "      <td>3831</td>\n",
              "    </tr>\n",
              "    <tr>\n",
              "      <th>performance</th>\n",
              "      <td>3669</td>\n",
              "    </tr>\n",
              "    <tr>\n",
              "      <th>review</th>\n",
              "      <td>3588</td>\n",
              "    </tr>\n",
              "    <tr>\n",
              "      <th>collect</th>\n",
              "      <td>3555</td>\n",
              "    </tr>\n",
              "    <tr>\n",
              "      <th>different</th>\n",
              "      <td>3402</td>\n",
              "    </tr>\n",
              "    <tr>\n",
              "      <th>indicate</th>\n",
              "      <td>3341</td>\n",
              "    </tr>\n",
              "    <tr>\n",
              "      <th>interview</th>\n",
              "      <td>3335</td>\n",
              "    </tr>\n",
              "    <tr>\n",
              "      <th>develop</th>\n",
              "      <td>3309</td>\n",
              "    </tr>\n",
              "    <tr>\n",
              "      <th>identify</th>\n",
              "      <td>3303</td>\n",
              "    </tr>\n",
              "    <tr>\n",
              "      <th>measurement</th>\n",
              "      <td>3299</td>\n",
              "    </tr>\n",
              "    <tr>\n",
              "      <th>industry</th>\n",
              "      <td>3176</td>\n",
              "    </tr>\n",
              "    <tr>\n",
              "      <th>researcher</th>\n",
              "      <td>3062</td>\n",
              "    </tr>\n",
              "    <tr>\n",
              "      <th>rate</th>\n",
              "      <td>3046</td>\n",
              "    </tr>\n",
              "    <tr>\n",
              "      <th>represent</th>\n",
              "      <td>3021</td>\n",
              "    </tr>\n",
              "  </tbody>\n",
              "</table>\n",
              "</div>"
            ],
            "text/plain": [
              "                freq\n",
              "study          16839\n",
              "hotel          16214\n",
              "item           16121\n",
              "measure        12330\n",
              "scale           9771\n",
              "variable        9663\n",
              "model           9005\n",
              "datum           8819\n",
              "sample          8785\n",
              "respondent      8599\n",
              "analysis        8544\n",
              "include         7789\n",
              "restaurant      7669\n",
              "survey          7642\n",
              "questionnaire   7491\n",
              "service         7305\n",
              "participant     6982\n",
              "customer        6719\n",
              "employee        6641\n",
              "research        6639\n",
              "base            6200\n",
              "value           6191\n",
              "test            6067\n",
              "table           5814\n",
              "level           5714\n",
              "firm            5473\n",
              "year            5329\n",
              "result          5319\n",
              "number          5260\n",
              "total           5122\n",
              "follow          4930\n",
              "time            4882\n",
              "factor          4731\n",
              "group           4695\n",
              "question        4614\n",
              "work            4490\n",
              "experience      4473\n",
              "high            4463\n",
              "construct       4453\n",
              "provide         4392\n",
              "manager         4381\n",
              "response        4258\n",
              "method          4229\n",
              "information     4220\n",
              "conduct         3988\n",
              "ask             3888\n",
              "effect          3831\n",
              "performance     3669\n",
              "review          3588\n",
              "collect         3555\n",
              "different       3402\n",
              "indicate        3341\n",
              "interview       3335\n",
              "develop         3309\n",
              "identify        3303\n",
              "measurement     3299\n",
              "industry        3176\n",
              "researcher      3062\n",
              "rate            3046\n",
              "represent       3021"
            ]
          },
          "metadata": {
            "tags": []
          },
          "execution_count": 26
        }
      ]
    },
    {
      "cell_type": "code",
      "metadata": {
        "id": "G7CSAFWkGT85"
      },
      "source": [
        "extension = dict_df[dict_df.freq>3000].index.tolist()"
      ],
      "execution_count": null,
      "outputs": []
    },
    {
      "cell_type": "code",
      "metadata": {
        "id": "3rwT1e_5IJO9"
      },
      "source": [
        "stop_words.update(extension)"
      ],
      "execution_count": null,
      "outputs": []
    },
    {
      "cell_type": "code",
      "metadata": {
        "id": "dbMrS-O0IJMB"
      },
      "source": [
        "data_ready = process_words(data_words)"
      ],
      "execution_count": null,
      "outputs": []
    },
    {
      "cell_type": "code",
      "metadata": {
        "id": "vwJnrb7HJA_p",
        "colab": {
          "base_uri": "https://localhost:8080/"
        },
        "outputId": "253ca9de-d0a2-47e7-f76e-3b21c2708f05"
      },
      "source": [
        "# Create Dictionary\n",
        "id2word = corpora.Dictionary(data_ready)\n",
        "\n",
        "print('Total Vocabulary Size:', len(id2word))"
      ],
      "execution_count": null,
      "outputs": [
        {
          "output_type": "stream",
          "text": [
            "Total Vocabulary Size: 15669\n"
          ],
          "name": "stdout"
        }
      ]
    },
    {
      "cell_type": "markdown",
      "metadata": {
        "id": "IdgDLoqN25zY"
      },
      "source": [
        " After removing the high frequency words there remains **15669** words in our dictionary."
      ]
    },
    {
      "cell_type": "code",
      "metadata": {
        "id": "xfuh9yC70yw1"
      },
      "source": [
        "# Create Corpus: Term Document Frequency\n",
        "corpus = [id2word.doc2bow(text) for text in data_ready]"
      ],
      "execution_count": null,
      "outputs": []
    },
    {
      "cell_type": "code",
      "metadata": {
        "id": "K9DgNvAAB9nv"
      },
      "source": [
        "#ids = [id2word.token2id[extension[i]] for i in range(len(extension))]"
      ],
      "execution_count": null,
      "outputs": []
    },
    {
      "cell_type": "code",
      "metadata": {
        "id": "gwoVCbIK_MFo"
      },
      "source": [
        "#id2word.filter_tokens(bad_ids=ids)"
      ],
      "execution_count": null,
      "outputs": []
    },
    {
      "cell_type": "markdown",
      "metadata": {
        "id": "-OcVpvc0APYn"
      },
      "source": [
        "Next, we removed all terms that appear in less than 5 documents and all\n",
        "terms that occur in more than 50% of all the documents. We are interested in finding different themes and topics and not recurring themes."
      ]
    },
    {
      "cell_type": "code",
      "metadata": {
        "id": "lL8xCgtWaj47",
        "colab": {
          "base_uri": "https://localhost:8080/"
        },
        "outputId": "bdad2847-e45c-4960-92e3-cc44ae3c5275"
      },
      "source": [
        "# Filter out words that occur less than 20 documents, or more than 50% of the documents.\n",
        "\n",
        "id2word.filter_extremes(no_below=5, no_above=0.5)\n",
        "\n",
        "print('Total Vocabulary Size:', len(id2word))"
      ],
      "execution_count": null,
      "outputs": [
        {
          "output_type": "stream",
          "text": [
            "Total Vocabulary Size: 6045\n"
          ],
          "name": "stdout"
        }
      ]
    },
    {
      "cell_type": "markdown",
      "metadata": {
        "id": "JLZpNSd3FcgQ"
      },
      "source": [
        "After final step there are **6189** words in the dictionary."
      ]
    },
    {
      "cell_type": "code",
      "metadata": {
        "id": "s6GIwx1MMt-y"
      },
      "source": [
        "# Create Corpus: Term Document Frequency\n",
        "corpus = [id2word.doc2bow(text) for text in data_ready]"
      ],
      "execution_count": null,
      "outputs": []
    },
    {
      "cell_type": "code",
      "metadata": {
        "id": "M3hmxf1AJTSn"
      },
      "source": [
        "# pickle.dump(id2word, open(\"/content/drive/MyDrive/Colab Notebooks/TopicModeling/Methodology/id2word.pkl\", \"wb\"))\r\n",
        "# pickle.dump(corpus, open(\"/content/drive/MyDrive/Colab Notebooks/TopicModeling/Methodology/corpus.pkl\", \"wb\"))\r\n",
        "# pickle.dump(data_ready, open(\"/content/drive/MyDrive/Colab Notebooks/TopicModeling/Methodology/data_ready.pkl\", \"wb\"))"
      ],
      "execution_count": null,
      "outputs": []
    },
    {
      "cell_type": "code",
      "metadata": {
        "id": "n8xUuAtYJTKe"
      },
      "source": [
        "id2word = pickle.load(open(\"/content/drive/MyDrive/Colab Notebooks/TopicModeling/Methodology/id2word.pkl\", \"rb\"))\r\n",
        "corpus = pickle.load(open(\"/content/drive/MyDrive/Colab Notebooks/TopicModeling/Methodology/corpus.pkl\", \"rb\"))\r\n",
        "data_ready = pickle.load(open(\"/content/drive/MyDrive/Colab Notebooks/TopicModeling/Methodology/data_ready.pkl\", \"rb\"))\r\n"
      ],
      "execution_count": null,
      "outputs": []
    },
    {
      "cell_type": "markdown",
      "metadata": {
        "id": "YuJLXFt9XDSU"
      },
      "source": [
        "### Build the Topic Model"
      ]
    },
    {
      "cell_type": "code",
      "metadata": {
        "id": "H5UuEp97MxEK",
        "colab": {
          "base_uri": "https://localhost:8080/"
        },
        "outputId": "88516890-a3bc-4ba2-e1cc-4bd9d4045505"
      },
      "source": [
        "!wget http://mallet.cs.umass.edu/dist/mallet-2.0.8.zip"
      ],
      "execution_count": null,
      "outputs": [
        {
          "output_type": "stream",
          "text": [
            "--2021-03-14 08:03:30--  http://mallet.cs.umass.edu/dist/mallet-2.0.8.zip\n",
            "Resolving mallet.cs.umass.edu (mallet.cs.umass.edu)... 128.119.246.70\n",
            "Connecting to mallet.cs.umass.edu (mallet.cs.umass.edu)|128.119.246.70|:80... connected.\n",
            "HTTP request sent, awaiting response... 200 OK\n",
            "Length: 16184794 (15M) [application/zip]\n",
            "Saving to: ‘mallet-2.0.8.zip’\n",
            "\n",
            "mallet-2.0.8.zip    100%[===================>]  15.43M  9.03MB/s    in 1.7s    \n",
            "\n",
            "2021-03-14 08:03:32 (9.03 MB/s) - ‘mallet-2.0.8.zip’ saved [16184794/16184794]\n",
            "\n"
          ],
          "name": "stdout"
        }
      ]
    },
    {
      "cell_type": "code",
      "metadata": {
        "id": "Wh4hS6zYJ4VI",
        "colab": {
          "base_uri": "https://localhost:8080/"
        },
        "outputId": "09326abf-d382-4bb8-8ce2-eb877a9a0ef4"
      },
      "source": [
        "!unzip mallet-2.0.8.zip"
      ],
      "execution_count": null,
      "outputs": [
        {
          "output_type": "stream",
          "text": [
            "Archive:  mallet-2.0.8.zip\n",
            "   creating: mallet-2.0.8/\n",
            "   creating: mallet-2.0.8/bin/\n",
            "  inflating: mallet-2.0.8/bin/classifier2info  \n",
            "  inflating: mallet-2.0.8/bin/csv2classify  \n",
            "  inflating: mallet-2.0.8/bin/csv2vectors  \n",
            "  inflating: mallet-2.0.8/bin/mallet  \n",
            "  inflating: mallet-2.0.8/bin/mallet.bat  \n",
            "  inflating: mallet-2.0.8/bin/mallethon  \n",
            "  inflating: mallet-2.0.8/bin/prepend-license.sh  \n",
            "  inflating: mallet-2.0.8/bin/svmlight2vectors  \n",
            "  inflating: mallet-2.0.8/bin/text2classify  \n",
            "  inflating: mallet-2.0.8/bin/text2vectors  \n",
            "  inflating: mallet-2.0.8/bin/vectors2classify  \n",
            "  inflating: mallet-2.0.8/bin/vectors2info  \n",
            "  inflating: mallet-2.0.8/bin/vectors2topics  \n",
            "  inflating: mallet-2.0.8/bin/vectors2vectors  \n",
            "  inflating: mallet-2.0.8/build.xml  \n",
            "   creating: mallet-2.0.8/class/\n",
            "   creating: mallet-2.0.8/class/cc/\n",
            "   creating: mallet-2.0.8/class/cc/mallet/\n",
            "   creating: mallet-2.0.8/class/cc/mallet/classify/\n",
            "  inflating: mallet-2.0.8/class/cc/mallet/classify/AdaBoost.class  \n",
            "  inflating: mallet-2.0.8/class/cc/mallet/classify/AdaBoostM2.class  \n",
            "  inflating: mallet-2.0.8/class/cc/mallet/classify/AdaBoostM2Trainer.class  \n",
            "  inflating: mallet-2.0.8/class/cc/mallet/classify/AdaBoostTrainer.class  \n",
            "  inflating: mallet-2.0.8/class/cc/mallet/classify/BaggingClassifier.class  \n",
            "  inflating: mallet-2.0.8/class/cc/mallet/classify/BaggingTrainer.class  \n",
            "  inflating: mallet-2.0.8/class/cc/mallet/classify/BalancedWinnow.class  \n",
            "  inflating: mallet-2.0.8/class/cc/mallet/classify/BalancedWinnowTrainer.class  \n",
            "  inflating: mallet-2.0.8/class/cc/mallet/classify/Boostable.class  \n",
            "  inflating: mallet-2.0.8/class/cc/mallet/classify/C45$Node.class  \n",
            "  inflating: mallet-2.0.8/class/cc/mallet/classify/C45.class  \n",
            "  inflating: mallet-2.0.8/class/cc/mallet/classify/C45Trainer.class  \n",
            "  inflating: mallet-2.0.8/class/cc/mallet/classify/Classification.class  \n",
            "  inflating: mallet-2.0.8/class/cc/mallet/classify/Classifier.class  \n",
            "  inflating: mallet-2.0.8/class/cc/mallet/classify/ClassifierAccuracyEvaluator.class  \n",
            "  inflating: mallet-2.0.8/class/cc/mallet/classify/ClassifierEnsemble.class  \n",
            "  inflating: mallet-2.0.8/class/cc/mallet/classify/ClassifierEnsembleTrainer.class  \n",
            "  inflating: mallet-2.0.8/class/cc/mallet/classify/ClassifierEvaluator.class  \n",
            "  inflating: mallet-2.0.8/class/cc/mallet/classify/ClassifierTrainer$ByActiveLearning.class  \n",
            "  inflating: mallet-2.0.8/class/cc/mallet/classify/ClassifierTrainer$ByIncrements.class  \n",
            "  inflating: mallet-2.0.8/class/cc/mallet/classify/ClassifierTrainer$ByInstanceIncrements.class  \n",
            "  inflating: mallet-2.0.8/class/cc/mallet/classify/ClassifierTrainer$ByOptimization.class  \n",
            "  inflating: mallet-2.0.8/class/cc/mallet/classify/ClassifierTrainer$Factory.class  \n",
            "  inflating: mallet-2.0.8/class/cc/mallet/classify/ClassifierTrainer.class  \n",
            "  inflating: mallet-2.0.8/class/cc/mallet/classify/ConfidencePredictingClassifier.class  \n",
            "  inflating: mallet-2.0.8/class/cc/mallet/classify/ConfidencePredictingClassifierTrainer.class  \n",
            "   creating: mallet-2.0.8/class/cc/mallet/classify/constraints/\n",
            "   creating: mallet-2.0.8/class/cc/mallet/classify/constraints/ge/\n",
            "  inflating: mallet-2.0.8/class/cc/mallet/classify/constraints/ge/MaxEntFLGEConstraints$MaxEntFLGEConstraint.class  \n",
            "  inflating: mallet-2.0.8/class/cc/mallet/classify/constraints/ge/MaxEntFLGEConstraints.class  \n",
            "  inflating: mallet-2.0.8/class/cc/mallet/classify/constraints/ge/MaxEntGEConstraint.class  \n",
            "  inflating: mallet-2.0.8/class/cc/mallet/classify/constraints/ge/MaxEntKLFLGEConstraints$MaxEntKLFLGEConstraint.class  \n",
            "  inflating: mallet-2.0.8/class/cc/mallet/classify/constraints/ge/MaxEntKLFLGEConstraints.class  \n",
            "  inflating: mallet-2.0.8/class/cc/mallet/classify/constraints/ge/MaxEntL2FLGEConstraints$MaxEntL2FLGEConstraint.class  \n",
            "  inflating: mallet-2.0.8/class/cc/mallet/classify/constraints/ge/MaxEntL2FLGEConstraints.class  \n",
            "  inflating: mallet-2.0.8/class/cc/mallet/classify/constraints/ge/MaxEntRangeL2FLGEConstraints$MaxEntL2IndGEConstraint.class  \n",
            "  inflating: mallet-2.0.8/class/cc/mallet/classify/constraints/ge/MaxEntRangeL2FLGEConstraints.class  \n",
            "   creating: mallet-2.0.8/class/cc/mallet/classify/constraints/pr/\n",
            "  inflating: mallet-2.0.8/class/cc/mallet/classify/constraints/pr/MaxEntFLPRConstraints$MaxEntFLPRConstraint.class  \n",
            "  inflating: mallet-2.0.8/class/cc/mallet/classify/constraints/pr/MaxEntFLPRConstraints.class  \n",
            "  inflating: mallet-2.0.8/class/cc/mallet/classify/constraints/pr/MaxEntL2FLPRConstraints$MaxEntL2FLPRConstraint.class  \n",
            "  inflating: mallet-2.0.8/class/cc/mallet/classify/constraints/pr/MaxEntL2FLPRConstraints.class  \n",
            "  inflating: mallet-2.0.8/class/cc/mallet/classify/constraints/pr/MaxEntPRConstraint.class  \n",
            "  inflating: mallet-2.0.8/class/cc/mallet/classify/DecisionTree$Node.class  \n",
            "  inflating: mallet-2.0.8/class/cc/mallet/classify/DecisionTree.class  \n",
            "  inflating: mallet-2.0.8/class/cc/mallet/classify/DecisionTreeTrainer$Factory.class  \n",
            "  inflating: mallet-2.0.8/class/cc/mallet/classify/DecisionTreeTrainer.class  \n",
            "   creating: mallet-2.0.8/class/cc/mallet/classify/evaluate/\n",
            "  inflating: mallet-2.0.8/class/cc/mallet/classify/evaluate/AccuracyCoverage$1.class  \n",
            "  inflating: mallet-2.0.8/class/cc/mallet/classify/evaluate/AccuracyCoverage$ClassificationComparator.class  \n",
            "  inflating: mallet-2.0.8/class/cc/mallet/classify/evaluate/AccuracyCoverage.class  \n",
            "  inflating: mallet-2.0.8/class/cc/mallet/classify/evaluate/ConfusionMatrix.class  \n",
            "  inflating: mallet-2.0.8/class/cc/mallet/classify/evaluate/Graph$Legend.class  \n",
            "  inflating: mallet-2.0.8/class/cc/mallet/classify/evaluate/Graph.class  \n",
            "  inflating: mallet-2.0.8/class/cc/mallet/classify/evaluate/Graph2.class  \n",
            "  inflating: mallet-2.0.8/class/cc/mallet/classify/evaluate/GraphItem.class  \n",
            "   creating: mallet-2.0.8/class/cc/mallet/classify/examples/\n",
            "  inflating: mallet-2.0.8/class/cc/mallet/classify/examples/DocumentClassifier.class  \n",
            "  inflating: mallet-2.0.8/class/cc/mallet/classify/FeatureConstraintUtil$Element.class  \n",
            "  inflating: mallet-2.0.8/class/cc/mallet/classify/FeatureConstraintUtil.class  \n",
            "  inflating: mallet-2.0.8/class/cc/mallet/classify/FeatureSelectingClassifierTrainer.class  \n",
            "  inflating: mallet-2.0.8/class/cc/mallet/classify/MaxEnt.class  \n",
            "  inflating: mallet-2.0.8/class/cc/mallet/classify/MaxEntGERangeTrainer.class  \n",
            "  inflating: mallet-2.0.8/class/cc/mallet/classify/MaxEntGETrainer.class  \n",
            "  inflating: mallet-2.0.8/class/cc/mallet/classify/MaxEntL1Trainer.class  \n",
            "  inflating: mallet-2.0.8/class/cc/mallet/classify/MaxEntOptimizableByGE.class  \n",
            "  inflating: mallet-2.0.8/class/cc/mallet/classify/MaxEntOptimizableByLabelDistribution.class  \n",
            "  inflating: mallet-2.0.8/class/cc/mallet/classify/MaxEntOptimizableByLabelLikelihood.class  \n",
            "  inflating: mallet-2.0.8/class/cc/mallet/classify/MaxEntPRTrainer.class  \n",
            "  inflating: mallet-2.0.8/class/cc/mallet/classify/MaxEntTrainer.class  \n",
            "  inflating: mallet-2.0.8/class/cc/mallet/classify/MCMaxEnt.class  \n",
            "  inflating: mallet-2.0.8/class/cc/mallet/classify/MCMaxEntTrainer$MaximizableTrainer.class  \n",
            "  inflating: mallet-2.0.8/class/cc/mallet/classify/MCMaxEntTrainer.class  \n",
            "  inflating: mallet-2.0.8/class/cc/mallet/classify/MostFrequentClassAssignmentTrainer.class  \n",
            "  inflating: mallet-2.0.8/class/cc/mallet/classify/MostFrequentClassifier.class  \n",
            "  inflating: mallet-2.0.8/class/cc/mallet/classify/NaiveBayes.class  \n",
            "  inflating: mallet-2.0.8/class/cc/mallet/classify/NaiveBayesEMTrainer.class  \n",
            "  inflating: mallet-2.0.8/class/cc/mallet/classify/NaiveBayesTrainer$Factory.class  \n",
            "  inflating: mallet-2.0.8/class/cc/mallet/classify/NaiveBayesTrainer.class  \n",
            "  inflating: mallet-2.0.8/class/cc/mallet/classify/PRAuxClassifier.class  \n",
            "  inflating: mallet-2.0.8/class/cc/mallet/classify/PRAuxClassifierOptimizable.class  \n",
            "  inflating: mallet-2.0.8/class/cc/mallet/classify/RandomAssignmentTrainer.class  \n",
            "  inflating: mallet-2.0.8/class/cc/mallet/classify/RandomClassifier.class  \n",
            "  inflating: mallet-2.0.8/class/cc/mallet/classify/RankMaxEnt.class  \n",
            "  inflating: mallet-2.0.8/class/cc/mallet/classify/RankMaxEntTrainer$MaximizableTrainer.class  \n",
            "  inflating: mallet-2.0.8/class/cc/mallet/classify/RankMaxEntTrainer.class  \n",
            "   creating: mallet-2.0.8/class/cc/mallet/classify/tests/\n",
            "  inflating: mallet-2.0.8/class/cc/mallet/classify/tests/TestClassifiers.class  \n",
            "  inflating: mallet-2.0.8/class/cc/mallet/classify/tests/TestMaxEntTrainer.class  \n",
            "  inflating: mallet-2.0.8/class/cc/mallet/classify/tests/TestNaiveBayes.class  \n",
            "  inflating: mallet-2.0.8/class/cc/mallet/classify/tests/TestStaticParameters$1.class  \n",
            "  inflating: mallet-2.0.8/class/cc/mallet/classify/tests/TestStaticParameters$Factory.class  \n",
            "  inflating: mallet-2.0.8/class/cc/mallet/classify/tests/TestStaticParameters.class  \n",
            "  inflating: mallet-2.0.8/class/cc/mallet/classify/Trial.class  \n",
            "   creating: mallet-2.0.8/class/cc/mallet/classify/tui/\n",
            "  inflating: mallet-2.0.8/class/cc/mallet/classify/tui/Calo2Classify$1.class  \n",
            "  inflating: mallet-2.0.8/class/cc/mallet/classify/tui/Calo2Classify$2.class  \n",
            "  inflating: mallet-2.0.8/class/cc/mallet/classify/tui/Calo2Classify$ReportOption.class  \n",
            "  inflating: mallet-2.0.8/class/cc/mallet/classify/tui/Calo2Classify.class  \n",
            "  inflating: mallet-2.0.8/class/cc/mallet/classify/tui/Classifier2Info.class  \n",
            "  inflating: mallet-2.0.8/class/cc/mallet/classify/tui/Csv2Classify.class  \n",
            "  inflating: mallet-2.0.8/class/cc/mallet/classify/tui/Csv2Vectors.class  \n",
            "  inflating: mallet-2.0.8/class/cc/mallet/classify/tui/SvmLight2Classify.class  \n",
            "  inflating: mallet-2.0.8/class/cc/mallet/classify/tui/SvmLight2Vectors.class  \n",
            "  inflating: mallet-2.0.8/class/cc/mallet/classify/tui/Text2Classify.class  \n",
            "  inflating: mallet-2.0.8/class/cc/mallet/classify/tui/Text2Vectors.class  \n",
            "  inflating: mallet-2.0.8/class/cc/mallet/classify/tui/Vectors2Classify$1.class  \n",
            "  inflating: mallet-2.0.8/class/cc/mallet/classify/tui/Vectors2Classify$2.class  \n",
            "  inflating: mallet-2.0.8/class/cc/mallet/classify/tui/Vectors2Classify$ReportOption.class  \n",
            "  inflating: mallet-2.0.8/class/cc/mallet/classify/tui/Vectors2Classify.class  \n",
            "  inflating: mallet-2.0.8/class/cc/mallet/classify/tui/Vectors2FeatureConstraints.class  \n",
            "  inflating: mallet-2.0.8/class/cc/mallet/classify/tui/Vectors2Info$1.class  \n",
            "  inflating: mallet-2.0.8/class/cc/mallet/classify/tui/Vectors2Info.class  \n",
            "  inflating: mallet-2.0.8/class/cc/mallet/classify/tui/Vectors2Vectors.class  \n",
            "  inflating: mallet-2.0.8/class/cc/mallet/classify/Winnow.class  \n",
            "  inflating: mallet-2.0.8/class/cc/mallet/classify/WinnowTrainer.class  \n",
            "   creating: mallet-2.0.8/class/cc/mallet/cluster/\n",
            "  inflating: mallet-2.0.8/class/cc/mallet/cluster/Clusterer.class  \n",
            "  inflating: mallet-2.0.8/class/cc/mallet/cluster/Clustering.class  \n",
            "   creating: mallet-2.0.8/class/cc/mallet/cluster/clustering_scorer/\n",
            "  inflating: mallet-2.0.8/class/cc/mallet/cluster/clustering_scorer/ClusteringScorer.class  \n",
            "  inflating: mallet-2.0.8/class/cc/mallet/cluster/clustering_scorer/PairwiseScorer.class  \n",
            "  inflating: mallet-2.0.8/class/cc/mallet/cluster/Clusterings.class  \n",
            "   creating: mallet-2.0.8/class/cc/mallet/cluster/evaluate/\n",
            "  inflating: mallet-2.0.8/class/cc/mallet/cluster/evaluate/AccuracyEvaluator.class  \n",
            "  inflating: mallet-2.0.8/class/cc/mallet/cluster/evaluate/BCubedEvaluator.class  \n",
            "  inflating: mallet-2.0.8/class/cc/mallet/cluster/evaluate/ClusteringEvaluator.class  \n",
            "  inflating: mallet-2.0.8/class/cc/mallet/cluster/evaluate/ClusteringEvaluators.class  \n",
            "  inflating: mallet-2.0.8/class/cc/mallet/cluster/evaluate/MUCEvaluator.class  \n",
            "  inflating: mallet-2.0.8/class/cc/mallet/cluster/evaluate/PairF1Evaluator.class  \n",
            "   creating: mallet-2.0.8/class/cc/mallet/cluster/evaluate/tests/\n",
            "  inflating: mallet-2.0.8/class/cc/mallet/cluster/evaluate/tests/TestClusteringEvaluators.class  \n",
            "   creating: mallet-2.0.8/class/cc/mallet/cluster/examples/\n",
            "  inflating: mallet-2.0.8/class/cc/mallet/cluster/examples/FirstOrderClusterExample$OverlappingFeaturePipe.class  \n",
            "  inflating: mallet-2.0.8/class/cc/mallet/cluster/examples/FirstOrderClusterExample.class  \n",
            "  inflating: mallet-2.0.8/class/cc/mallet/cluster/GreedyAgglomerative.class  \n",
            "  inflating: mallet-2.0.8/class/cc/mallet/cluster/GreedyAgglomerativeByDensity.class  \n",
            "  inflating: mallet-2.0.8/class/cc/mallet/cluster/HillClimbingClusterer.class  \n",
            "   creating: mallet-2.0.8/class/cc/mallet/cluster/iterator/\n",
            "  inflating: mallet-2.0.8/class/cc/mallet/cluster/iterator/AllPairsIterator.class  \n",
            "  inflating: mallet-2.0.8/class/cc/mallet/cluster/iterator/ClusterSampleIterator.class  \n",
            "  inflating: mallet-2.0.8/class/cc/mallet/cluster/iterator/NeighborIterator.class  \n",
            "  inflating: mallet-2.0.8/class/cc/mallet/cluster/iterator/NodeClusterSampleIterator.class  \n",
            "  inflating: mallet-2.0.8/class/cc/mallet/cluster/iterator/PairSampleIterator.class  \n",
            "   creating: mallet-2.0.8/class/cc/mallet/cluster/iterator/tests/\n",
            "  inflating: mallet-2.0.8/class/cc/mallet/cluster/iterator/tests/TestIterators.class  \n",
            "  inflating: mallet-2.0.8/class/cc/mallet/cluster/KBestClusterer.class  \n",
            "  inflating: mallet-2.0.8/class/cc/mallet/cluster/KMeans.class  \n",
            "   creating: mallet-2.0.8/class/cc/mallet/cluster/neighbor_evaluator/\n",
            "  inflating: mallet-2.0.8/class/cc/mallet/cluster/neighbor_evaluator/AgglomerativeNeighbor.class  \n",
            "  inflating: mallet-2.0.8/class/cc/mallet/cluster/neighbor_evaluator/ClassifyingNeighborEvaluator.class  \n",
            "  inflating: mallet-2.0.8/class/cc/mallet/cluster/neighbor_evaluator/MedoidEvaluator$Average.class  \n",
            "  inflating: mallet-2.0.8/class/cc/mallet/cluster/neighbor_evaluator/MedoidEvaluator$CombiningStrategy.class  \n",
            "  inflating: mallet-2.0.8/class/cc/mallet/cluster/neighbor_evaluator/MedoidEvaluator$Maximum.class  \n",
            "  inflating: mallet-2.0.8/class/cc/mallet/cluster/neighbor_evaluator/MedoidEvaluator$Minimum.class  \n",
            "  inflating: mallet-2.0.8/class/cc/mallet/cluster/neighbor_evaluator/MedoidEvaluator.class  \n",
            "  inflating: mallet-2.0.8/class/cc/mallet/cluster/neighbor_evaluator/Neighbor.class  \n",
            "  inflating: mallet-2.0.8/class/cc/mallet/cluster/neighbor_evaluator/NeighborEvaluator.class  \n",
            "  inflating: mallet-2.0.8/class/cc/mallet/cluster/neighbor_evaluator/PairwiseEvaluator$Average.class  \n",
            "  inflating: mallet-2.0.8/class/cc/mallet/cluster/neighbor_evaluator/PairwiseEvaluator$CombiningStrategy.class  \n",
            "  inflating: mallet-2.0.8/class/cc/mallet/cluster/neighbor_evaluator/PairwiseEvaluator$Maximum.class  \n",
            "  inflating: mallet-2.0.8/class/cc/mallet/cluster/neighbor_evaluator/PairwiseEvaluator$Minimum.class  \n",
            "  inflating: mallet-2.0.8/class/cc/mallet/cluster/neighbor_evaluator/PairwiseEvaluator.class  \n",
            "  inflating: mallet-2.0.8/class/cc/mallet/cluster/neighbor_evaluator/RandomEvaluator.class  \n",
            "  inflating: mallet-2.0.8/class/cc/mallet/cluster/neighbor_evaluator/RankingNeighborEvaluator.class  \n",
            "  inflating: mallet-2.0.8/class/cc/mallet/cluster/Record.class  \n",
            "   creating: mallet-2.0.8/class/cc/mallet/cluster/tui/\n",
            "  inflating: mallet-2.0.8/class/cc/mallet/cluster/tui/Clusterings2Clusterer$ClusteringPipe.class  \n",
            "  inflating: mallet-2.0.8/class/cc/mallet/cluster/tui/Clusterings2Clusterer.class  \n",
            "  inflating: mallet-2.0.8/class/cc/mallet/cluster/tui/Clusterings2Clusterings.class  \n",
            "  inflating: mallet-2.0.8/class/cc/mallet/cluster/tui/Clusterings2Info.class  \n",
            "  inflating: mallet-2.0.8/class/cc/mallet/cluster/tui/Text2Clusterings.class  \n",
            "   creating: mallet-2.0.8/class/cc/mallet/cluster/util/\n",
            "  inflating: mallet-2.0.8/class/cc/mallet/cluster/util/ClusterUtils.class  \n",
            "  inflating: mallet-2.0.8/class/cc/mallet/cluster/util/PairwiseMatrix.class  \n",
            "   creating: mallet-2.0.8/class/cc/mallet/examples/\n",
            "  inflating: mallet-2.0.8/class/cc/mallet/examples/TestCRFPipe.class  \n",
            "  inflating: mallet-2.0.8/class/cc/mallet/examples/TopicModel.class  \n",
            "  inflating: mallet-2.0.8/class/cc/mallet/examples/TrainCRF.class  \n",
            "  inflating: mallet-2.0.8/class/cc/mallet/examples/TrainHMM.class  \n",
            "   creating: mallet-2.0.8/class/cc/mallet/extract/\n",
            "  inflating: mallet-2.0.8/class/cc/mallet/extract/AccuracyCoverageEvaluator.class  \n",
            "  inflating: mallet-2.0.8/class/cc/mallet/extract/BIOTokenizationFilter.class  \n",
            "  inflating: mallet-2.0.8/class/cc/mallet/extract/BIOTokenizationFilterWithTokenIndices.class  \n",
            "  inflating: mallet-2.0.8/class/cc/mallet/extract/ConfidenceTokenizationFilter.class  \n",
            "  inflating: mallet-2.0.8/class/cc/mallet/extract/CRFExtractor.class  \n",
            "  inflating: mallet-2.0.8/class/cc/mallet/extract/DefaultTokenizationFilter.class  \n",
            "  inflating: mallet-2.0.8/class/cc/mallet/extract/DocumentExtraction$1.class  \n",
            "  inflating: mallet-2.0.8/class/cc/mallet/extract/DocumentExtraction.class  \n",
            "  inflating: mallet-2.0.8/class/cc/mallet/extract/DocumentViewer$DualLabeledSpans.class  \n",
            "  inflating: mallet-2.0.8/class/cc/mallet/extract/DocumentViewer.class  \n",
            "  inflating: mallet-2.0.8/class/cc/mallet/extract/ExactMatchComparator.class  \n",
            "  inflating: mallet-2.0.8/class/cc/mallet/extract/Extraction.class  \n",
            "  inflating: mallet-2.0.8/class/cc/mallet/extract/ExtractionConfidenceEstimator.class  \n",
            "  inflating: mallet-2.0.8/class/cc/mallet/extract/ExtractionEvaluator.class  \n",
            "  inflating: mallet-2.0.8/class/cc/mallet/extract/Extractor.class  \n",
            "  inflating: mallet-2.0.8/class/cc/mallet/extract/Field.class  \n",
            "  inflating: mallet-2.0.8/class/cc/mallet/extract/FieldCleaner.class  \n",
            "  inflating: mallet-2.0.8/class/cc/mallet/extract/FieldComparator.class  \n",
            "  inflating: mallet-2.0.8/class/cc/mallet/extract/HierarchicalTokenizationFilter$TagStart.class  \n",
            "  inflating: mallet-2.0.8/class/cc/mallet/extract/HierarchicalTokenizationFilter.class  \n",
            "  inflating: mallet-2.0.8/class/cc/mallet/extract/LabeledSpan.class  \n",
            "  inflating: mallet-2.0.8/class/cc/mallet/extract/LabeledSpans.class  \n",
            "  inflating: mallet-2.0.8/class/cc/mallet/extract/LatticeViewer$ExtorInfo.class  \n",
            "  inflating: mallet-2.0.8/class/cc/mallet/extract/LatticeViewer.class  \n",
            "  inflating: mallet-2.0.8/class/cc/mallet/extract/PerDocumentF1Evaluator.class  \n",
            "  inflating: mallet-2.0.8/class/cc/mallet/extract/PerFieldF1Evaluator.class  \n",
            "   creating: mallet-2.0.8/class/cc/mallet/extract/pipe/\n",
            "  inflating: mallet-2.0.8/class/cc/mallet/extract/pipe/TokenSequence2Tokenization.class  \n",
            "  inflating: mallet-2.0.8/class/cc/mallet/extract/PunctuationIgnoringComparator.class  \n",
            "  inflating: mallet-2.0.8/class/cc/mallet/extract/Record.class  \n",
            "  inflating: mallet-2.0.8/class/cc/mallet/extract/RegexFieldCleaner.class  \n",
            "  inflating: mallet-2.0.8/class/cc/mallet/extract/Span.class  \n",
            "  inflating: mallet-2.0.8/class/cc/mallet/extract/StringSpan.class  \n",
            "  inflating: mallet-2.0.8/class/cc/mallet/extract/StringTokenization.class  \n",
            "   creating: mallet-2.0.8/class/cc/mallet/extract/test/\n",
            "  inflating: mallet-2.0.8/class/cc/mallet/extract/test/TestDocumentExtraction.class  \n",
            "  inflating: mallet-2.0.8/class/cc/mallet/extract/test/TestDocumentViewer.class  \n",
            "  inflating: mallet-2.0.8/class/cc/mallet/extract/test/TestLatticeViewer.class  \n",
            "  inflating: mallet-2.0.8/class/cc/mallet/extract/test/TestPerDocumentF1Evaluator.class  \n",
            "  inflating: mallet-2.0.8/class/cc/mallet/extract/Tokenization.class  \n",
            "  inflating: mallet-2.0.8/class/cc/mallet/extract/TokenizationFilter.class  \n",
            "  inflating: mallet-2.0.8/class/cc/mallet/extract/TransducerExtractionConfidenceEstimator.class  \n",
            "   creating: mallet-2.0.8/class/cc/mallet/fst/\n",
            "  inflating: mallet-2.0.8/class/cc/mallet/fst/CacheStaleIndicator.class  \n",
            "   creating: mallet-2.0.8/class/cc/mallet/fst/confidence/\n",
            "  inflating: mallet-2.0.8/class/cc/mallet/fst/confidence/ConfidenceCorrectorEvaluator.class  \n",
            "  inflating: mallet-2.0.8/class/cc/mallet/fst/confidence/ConfidenceEvaluator$1.class  \n",
            "  inflating: mallet-2.0.8/class/cc/mallet/fst/confidence/ConfidenceEvaluator$ConfidenceComparator.class  \n",
            "  inflating: mallet-2.0.8/class/cc/mallet/fst/confidence/ConfidenceEvaluator$EntityConfidence.class  \n",
            "  inflating: mallet-2.0.8/class/cc/mallet/fst/confidence/ConfidenceEvaluator.class  \n",
            "  inflating: mallet-2.0.8/class/cc/mallet/fst/confidence/ConstrainedForwardBackwardConfidenceEstimator.class  \n",
            "  inflating: mallet-2.0.8/class/cc/mallet/fst/confidence/ConstrainedViterbiTransducerCorrector.class  \n",
            "  inflating: mallet-2.0.8/class/cc/mallet/fst/confidence/GammaAverageConfidenceEstimator.class  \n",
            "  inflating: mallet-2.0.8/class/cc/mallet/fst/confidence/GammaProductConfidenceEstimator.class  \n",
            "  inflating: mallet-2.0.8/class/cc/mallet/fst/confidence/InstanceWithConfidence.class  \n",
            "  inflating: mallet-2.0.8/class/cc/mallet/fst/confidence/IsolatedSegmentTransducerCorrector.class  \n",
            "  inflating: mallet-2.0.8/class/cc/mallet/fst/confidence/MaxEntConfidenceEstimator.class  \n",
            "  inflating: mallet-2.0.8/class/cc/mallet/fst/confidence/MaxEntSequenceConfidenceEstimator.class  \n",
            "  inflating: mallet-2.0.8/class/cc/mallet/fst/confidence/MinSegmentConfidenceEstimator.class  \n",
            "  inflating: mallet-2.0.8/class/cc/mallet/fst/confidence/NBestViterbiConfidenceEstimator.class  \n",
            "  inflating: mallet-2.0.8/class/cc/mallet/fst/confidence/PipedInstanceWithConfidence.class  \n",
            "  inflating: mallet-2.0.8/class/cc/mallet/fst/confidence/QBCSequenceConfidenceEstimator.class  \n",
            "  inflating: mallet-2.0.8/class/cc/mallet/fst/confidence/RandomConfidenceEstimator.class  \n",
            "  inflating: mallet-2.0.8/class/cc/mallet/fst/confidence/RandomSequenceConfidenceEstimator.class  \n",
            "  inflating: mallet-2.0.8/class/cc/mallet/fst/confidence/SegmentProductConfidenceEstimator.class  \n",
            "  inflating: mallet-2.0.8/class/cc/mallet/fst/confidence/SequenceConfidenceInstance.class  \n",
            "  inflating: mallet-2.0.8/class/cc/mallet/fst/confidence/TransducerConfidenceEstimator.class  \n",
            "  inflating: mallet-2.0.8/class/cc/mallet/fst/confidence/TransducerCorrector.class  \n",
            "  inflating: mallet-2.0.8/class/cc/mallet/fst/confidence/TransducerSequenceConfidenceEstimator.class  \n",
            "  inflating: mallet-2.0.8/class/cc/mallet/fst/confidence/ViterbiConfidenceEstimator.class  \n",
            "  inflating: mallet-2.0.8/class/cc/mallet/fst/confidence/ViterbiRatioConfidenceEstimator.class  \n",
            "  inflating: mallet-2.0.8/class/cc/mallet/fst/CRF$1.class  \n",
            "  inflating: mallet-2.0.8/class/cc/mallet/fst/CRF$2.class  \n",
            "  inflating: mallet-2.0.8/class/cc/mallet/fst/CRF$Factors$Incrementor.class  \n",
            "  inflating: mallet-2.0.8/class/cc/mallet/fst/CRF$Factors$WeightedIncrementor.class  \n",
            "  inflating: mallet-2.0.8/class/cc/mallet/fst/CRF$Factors.class  \n",
            "  inflating: mallet-2.0.8/class/cc/mallet/fst/CRF$State.class  \n",
            "  inflating: mallet-2.0.8/class/cc/mallet/fst/CRF$TransitionIterator.class  \n",
            "  inflating: mallet-2.0.8/class/cc/mallet/fst/CRF.class  \n",
            "  inflating: mallet-2.0.8/class/cc/mallet/fst/CRFCacheStaleIndicator.class  \n",
            "  inflating: mallet-2.0.8/class/cc/mallet/fst/CRFOptimizableByBatchLabelLikelihood$Factory.class  \n",
            "  inflating: mallet-2.0.8/class/cc/mallet/fst/CRFOptimizableByBatchLabelLikelihood.class  \n",
            "  inflating: mallet-2.0.8/class/cc/mallet/fst/CRFOptimizableByGradientValues.class  \n",
            "  inflating: mallet-2.0.8/class/cc/mallet/fst/CRFOptimizableByLabelLikelihood$Factory.class  \n",
            "  inflating: mallet-2.0.8/class/cc/mallet/fst/CRFOptimizableByLabelLikelihood.class  \n",
            "  inflating: mallet-2.0.8/class/cc/mallet/fst/CRFTrainerByL1LabelLikelihood.class  \n",
            "  inflating: mallet-2.0.8/class/cc/mallet/fst/CRFTrainerByLabelLikelihood.class  \n",
            "  inflating: mallet-2.0.8/class/cc/mallet/fst/CRFTrainerByStochasticGradient.class  \n",
            "  inflating: mallet-2.0.8/class/cc/mallet/fst/CRFTrainerByThreadedLabelLikelihood.class  \n",
            "  inflating: mallet-2.0.8/class/cc/mallet/fst/CRFTrainerByValueGradients$OptimizableCRF.class  \n",
            "  inflating: mallet-2.0.8/class/cc/mallet/fst/CRFTrainerByValueGradients.class  \n",
            "  inflating: mallet-2.0.8/class/cc/mallet/fst/CRFWriter.class  \n",
            "  inflating: mallet-2.0.8/class/cc/mallet/fst/FeatureTransducer$State.class  \n",
            "  inflating: mallet-2.0.8/class/cc/mallet/fst/FeatureTransducer$Transition.class  \n",
            "  inflating: mallet-2.0.8/class/cc/mallet/fst/FeatureTransducer$TransitionIterator.class  \n",
            "  inflating: mallet-2.0.8/class/cc/mallet/fst/FeatureTransducer.class  \n",
            "  inflating: mallet-2.0.8/class/cc/mallet/fst/HMM$Incrementor.class  \n",
            "  inflating: mallet-2.0.8/class/cc/mallet/fst/HMM$State.class  \n",
            "  inflating: mallet-2.0.8/class/cc/mallet/fst/HMM$TransitionIterator.class  \n",
            "  inflating: mallet-2.0.8/class/cc/mallet/fst/HMM$WeightedIncrementor.class  \n",
            "  inflating: mallet-2.0.8/class/cc/mallet/fst/HMM.class  \n",
            "  inflating: mallet-2.0.8/class/cc/mallet/fst/HMMTrainerByLikelihood.class  \n",
            "  inflating: mallet-2.0.8/class/cc/mallet/fst/InstanceAccuracyEvaluator.class  \n",
            "  inflating: mallet-2.0.8/class/cc/mallet/fst/LabelDistributionEvaluator.class  \n",
            "  inflating: mallet-2.0.8/class/cc/mallet/fst/MaxLattice.class  \n",
            "  inflating: mallet-2.0.8/class/cc/mallet/fst/MaxLatticeDefault$1.class  \n",
            "  inflating: mallet-2.0.8/class/cc/mallet/fst/MaxLatticeDefault$Factory.class  \n",
            "  inflating: mallet-2.0.8/class/cc/mallet/fst/MaxLatticeDefault$ViterbiNode$PreviousStateIterator.class  \n",
            "  inflating: mallet-2.0.8/class/cc/mallet/fst/MaxLatticeDefault$ViterbiNode.class  \n",
            "  inflating: mallet-2.0.8/class/cc/mallet/fst/MaxLatticeDefault$WeightCache.class  \n",
            "  inflating: mallet-2.0.8/class/cc/mallet/fst/MaxLatticeDefault.class  \n",
            "  inflating: mallet-2.0.8/class/cc/mallet/fst/MaxLatticeFactory.class  \n",
            "  inflating: mallet-2.0.8/class/cc/mallet/fst/MEMM$State.class  \n",
            "  inflating: mallet-2.0.8/class/cc/mallet/fst/MEMM$TransitionIterator.class  \n",
            "  inflating: mallet-2.0.8/class/cc/mallet/fst/MEMM.class  \n",
            "  inflating: mallet-2.0.8/class/cc/mallet/fst/MEMMTrainer$1.class  \n",
            "  inflating: mallet-2.0.8/class/cc/mallet/fst/MEMMTrainer$MEMMOptimizableByLabelLikelihood.class  \n",
            "  inflating: mallet-2.0.8/class/cc/mallet/fst/MEMMTrainer.class  \n",
            "  inflating: mallet-2.0.8/class/cc/mallet/fst/MultiSegmentationEvaluator.class  \n",
            "  inflating: mallet-2.0.8/class/cc/mallet/fst/NoopTransducerTrainer.class  \n",
            "  inflating: mallet-2.0.8/class/cc/mallet/fst/PerClassAccuracyEvaluator.class  \n",
            "  inflating: mallet-2.0.8/class/cc/mallet/fst/Segment.class  \n",
            "  inflating: mallet-2.0.8/class/cc/mallet/fst/SegmentationEvaluator$1.class  \n",
            "  inflating: mallet-2.0.8/class/cc/mallet/fst/SegmentationEvaluator$2.class  \n",
            "  inflating: mallet-2.0.8/class/cc/mallet/fst/SegmentationEvaluator.class  \n",
            "   creating: mallet-2.0.8/class/cc/mallet/fst/semi_supervised/\n",
            "   creating: mallet-2.0.8/class/cc/mallet/fst/semi_supervised/constraints/\n",
            "  inflating: mallet-2.0.8/class/cc/mallet/fst/semi_supervised/constraints/GEConstraint.class  \n",
            "  inflating: mallet-2.0.8/class/cc/mallet/fst/semi_supervised/constraints/OneLabelGEConstraints$OneLabelGEConstraint.class  \n",
            "  inflating: mallet-2.0.8/class/cc/mallet/fst/semi_supervised/constraints/OneLabelGEConstraints.class  \n",
            "  inflating: mallet-2.0.8/class/cc/mallet/fst/semi_supervised/constraints/OneLabelKLGEConstraints$OneLabelGEKLConstraint.class  \n",
            "  inflating: mallet-2.0.8/class/cc/mallet/fst/semi_supervised/constraints/OneLabelKLGEConstraints.class  \n",
            "  inflating: mallet-2.0.8/class/cc/mallet/fst/semi_supervised/constraints/OneLabelL2GEConstraints$OneLabelGEL2Constraint.class  \n",
            "  inflating: mallet-2.0.8/class/cc/mallet/fst/semi_supervised/constraints/OneLabelL2GEConstraints.class  \n",
            "  inflating: mallet-2.0.8/class/cc/mallet/fst/semi_supervised/constraints/OneLabelL2RangeGEConstraints$OneLabelL2IndGEConstraint.class  \n",
            "  inflating: mallet-2.0.8/class/cc/mallet/fst/semi_supervised/constraints/OneLabelL2RangeGEConstraints.class  \n",
            "  inflating: mallet-2.0.8/class/cc/mallet/fst/semi_supervised/constraints/SelfTransitionGEConstraint.class  \n",
            "  inflating: mallet-2.0.8/class/cc/mallet/fst/semi_supervised/constraints/TwoLabelGEConstraints$TwoLabelGEConstraint.class  \n",
            "  inflating: mallet-2.0.8/class/cc/mallet/fst/semi_supervised/constraints/TwoLabelGEConstraints.class  \n",
            "  inflating: mallet-2.0.8/class/cc/mallet/fst/semi_supervised/constraints/TwoLabelKLGEConstraints$TwoLabelKLGEConstraint.class  \n",
            "  inflating: mallet-2.0.8/class/cc/mallet/fst/semi_supervised/constraints/TwoLabelKLGEConstraints.class  \n",
            "  inflating: mallet-2.0.8/class/cc/mallet/fst/semi_supervised/constraints/TwoLabelL2GEConstraints$TwoLabelL2GEConstraint.class  \n",
            "  inflating: mallet-2.0.8/class/cc/mallet/fst/semi_supervised/constraints/TwoLabelL2GEConstraints.class  \n",
            "  inflating: mallet-2.0.8/class/cc/mallet/fst/semi_supervised/CRFOptimizableByEntropyRegularization.class  \n",
            "  inflating: mallet-2.0.8/class/cc/mallet/fst/semi_supervised/CRFOptimizableByGE.class  \n",
            "  inflating: mallet-2.0.8/class/cc/mallet/fst/semi_supervised/CRFTrainerByEntropyRegularization.class  \n",
            "  inflating: mallet-2.0.8/class/cc/mallet/fst/semi_supervised/CRFTrainerByGE.class  \n",
            "  inflating: mallet-2.0.8/class/cc/mallet/fst/semi_supervised/CRFTrainerByLikelihoodAndGE.class  \n",
            "  inflating: mallet-2.0.8/class/cc/mallet/fst/semi_supervised/EntropyLattice$LatticeNode.class  \n",
            "  inflating: mallet-2.0.8/class/cc/mallet/fst/semi_supervised/EntropyLattice.class  \n",
            "  inflating: mallet-2.0.8/class/cc/mallet/fst/semi_supervised/FSTConstraintUtil.class  \n",
            "  inflating: mallet-2.0.8/class/cc/mallet/fst/semi_supervised/GELattice$LatticeNode.class  \n",
            "  inflating: mallet-2.0.8/class/cc/mallet/fst/semi_supervised/GELattice.class  \n",
            "  inflating: mallet-2.0.8/class/cc/mallet/fst/semi_supervised/GELatticeTask.class  \n",
            "   creating: mallet-2.0.8/class/cc/mallet/fst/semi_supervised/pr/\n",
            "  inflating: mallet-2.0.8/class/cc/mallet/fst/semi_supervised/pr/CachedDotTransitionIterator.class  \n",
            "   creating: mallet-2.0.8/class/cc/mallet/fst/semi_supervised/pr/constraints/\n",
            "  inflating: mallet-2.0.8/class/cc/mallet/fst/semi_supervised/pr/constraints/OneLabelL2IndPRConstraints$OneLabelL2IndPRConstraint.class  \n",
            "  inflating: mallet-2.0.8/class/cc/mallet/fst/semi_supervised/pr/constraints/OneLabelL2IndPRConstraints.class  \n",
            "  inflating: mallet-2.0.8/class/cc/mallet/fst/semi_supervised/pr/constraints/OneLabelL2PRConstraints$OneLabelPRConstraint.class  \n",
            "  inflating: mallet-2.0.8/class/cc/mallet/fst/semi_supervised/pr/constraints/OneLabelL2PRConstraints.class  \n",
            "  inflating: mallet-2.0.8/class/cc/mallet/fst/semi_supervised/pr/constraints/PRConstraint.class  \n",
            "  inflating: mallet-2.0.8/class/cc/mallet/fst/semi_supervised/pr/ConstraintsOptimizableByPR$ExpectationTask.class  \n",
            "  inflating: mallet-2.0.8/class/cc/mallet/fst/semi_supervised/pr/ConstraintsOptimizableByPR.class  \n",
            "  inflating: mallet-2.0.8/class/cc/mallet/fst/semi_supervised/pr/CRFOptimizableByKL$ExpectationTask.class  \n",
            "  inflating: mallet-2.0.8/class/cc/mallet/fst/semi_supervised/pr/CRFOptimizableByKL.class  \n",
            "  inflating: mallet-2.0.8/class/cc/mallet/fst/semi_supervised/pr/CRFTrainerByPR.class  \n",
            "  inflating: mallet-2.0.8/class/cc/mallet/fst/semi_supervised/pr/PRAuxiliaryModel.class  \n",
            "  inflating: mallet-2.0.8/class/cc/mallet/fst/semi_supervised/pr/SumLatticeDefaultCachedDot$LatticeNode.class  \n",
            "  inflating: mallet-2.0.8/class/cc/mallet/fst/semi_supervised/pr/SumLatticeDefaultCachedDot.class  \n",
            "  inflating: mallet-2.0.8/class/cc/mallet/fst/semi_supervised/pr/SumLatticeKL.class  \n",
            "  inflating: mallet-2.0.8/class/cc/mallet/fst/semi_supervised/pr/SumLatticePR$LatticeNode.class  \n",
            "  inflating: mallet-2.0.8/class/cc/mallet/fst/semi_supervised/pr/SumLatticePR.class  \n",
            "  inflating: mallet-2.0.8/class/cc/mallet/fst/semi_supervised/StateLabelMap.class  \n",
            "  inflating: mallet-2.0.8/class/cc/mallet/fst/semi_supervised/SumLatticeTask.class  \n",
            "   creating: mallet-2.0.8/class/cc/mallet/fst/semi_supervised/tui/\n",
            "  inflating: mallet-2.0.8/class/cc/mallet/fst/semi_supervised/tui/SimpleTaggerWithConstraints.class  \n",
            "  inflating: mallet-2.0.8/class/cc/mallet/fst/ShallowTransducerTrainer.class  \n",
            "  inflating: mallet-2.0.8/class/cc/mallet/fst/SimpleTagger$SimpleTaggerSentence2FeatureVectorSequence.class  \n",
            "  inflating: mallet-2.0.8/class/cc/mallet/fst/SimpleTagger.class  \n",
            "  inflating: mallet-2.0.8/class/cc/mallet/fst/SumLattice.class  \n",
            "  inflating: mallet-2.0.8/class/cc/mallet/fst/SumLatticeBeam$Factory$1.class  \n",
            "  inflating: mallet-2.0.8/class/cc/mallet/fst/SumLatticeBeam$Factory.class  \n",
            "  inflating: mallet-2.0.8/class/cc/mallet/fst/SumLatticeBeam$LatticeNode.class  \n",
            "  inflating: mallet-2.0.8/class/cc/mallet/fst/SumLatticeBeam$NBestSlist.class  \n",
            "  inflating: mallet-2.0.8/class/cc/mallet/fst/SumLatticeBeam$NBForBackNode.class  \n",
            "  inflating: mallet-2.0.8/class/cc/mallet/fst/SumLatticeBeam.class  \n",
            "  inflating: mallet-2.0.8/class/cc/mallet/fst/SumLatticeConstrained.class  \n",
            "  inflating: mallet-2.0.8/class/cc/mallet/fst/SumLatticeDefault$Factory.class  \n",
            "  inflating: mallet-2.0.8/class/cc/mallet/fst/SumLatticeDefault$LatticeNode.class  \n",
            "  inflating: mallet-2.0.8/class/cc/mallet/fst/SumLatticeDefault.class  \n",
            "  inflating: mallet-2.0.8/class/cc/mallet/fst/SumLatticeFactory.class  \n",
            "  inflating: mallet-2.0.8/class/cc/mallet/fst/SumLatticeScaling$Factory.class  \n",
            "  inflating: mallet-2.0.8/class/cc/mallet/fst/SumLatticeScaling$LatticeNode.class  \n",
            "  inflating: mallet-2.0.8/class/cc/mallet/fst/SumLatticeScaling.class  \n",
            "   creating: mallet-2.0.8/class/cc/mallet/fst/tests/\n",
            "  inflating: mallet-2.0.8/class/cc/mallet/fst/tests/TestCRF$TestCRF2String.class  \n",
            "  inflating: mallet-2.0.8/class/cc/mallet/fst/tests/TestCRF$TestCRFTokenSequenceRemoveSpaces.class  \n",
            "  inflating: mallet-2.0.8/class/cc/mallet/fst/tests/TestCRF.class  \n",
            "  inflating: mallet-2.0.8/class/cc/mallet/fst/tests/TestFeatureTransducer.class  \n",
            "  inflating: mallet-2.0.8/class/cc/mallet/fst/tests/TestMEMM$TestMEMM2String.class  \n",
            "  inflating: mallet-2.0.8/class/cc/mallet/fst/tests/TestMEMM$TestMEMMTokenSequenceRemoveSpaces.class  \n",
            "  inflating: mallet-2.0.8/class/cc/mallet/fst/tests/TestMEMM.class  \n",
            "  inflating: mallet-2.0.8/class/cc/mallet/fst/tests/TestSumNegLogProb2.class  \n",
            "  inflating: mallet-2.0.8/class/cc/mallet/fst/ThreadedOptimizable$GradientHandler.class  \n",
            "  inflating: mallet-2.0.8/class/cc/mallet/fst/ThreadedOptimizable$ValueHandler.class  \n",
            "  inflating: mallet-2.0.8/class/cc/mallet/fst/ThreadedOptimizable.class  \n",
            "  inflating: mallet-2.0.8/class/cc/mallet/fst/TokenAccuracyEvaluator.class  \n",
            "  inflating: mallet-2.0.8/class/cc/mallet/fst/Transducer$Incrementor.class  \n",
            "  inflating: mallet-2.0.8/class/cc/mallet/fst/Transducer$State.class  \n",
            "  inflating: mallet-2.0.8/class/cc/mallet/fst/Transducer$TransitionIterator.class  \n",
            "  inflating: mallet-2.0.8/class/cc/mallet/fst/Transducer.class  \n",
            "  inflating: mallet-2.0.8/class/cc/mallet/fst/TransducerEvaluator.class  \n",
            "  inflating: mallet-2.0.8/class/cc/mallet/fst/TransducerTrainer$ByIncrements.class  \n",
            "  inflating: mallet-2.0.8/class/cc/mallet/fst/TransducerTrainer$ByInstanceIncrements.class  \n",
            "  inflating: mallet-2.0.8/class/cc/mallet/fst/TransducerTrainer$ByOptimization.class  \n",
            "  inflating: mallet-2.0.8/class/cc/mallet/fst/TransducerTrainer.class  \n",
            "  inflating: mallet-2.0.8/class/cc/mallet/fst/ViterbiWriter.class  \n",
            "   creating: mallet-2.0.8/class/cc/mallet/grmm/\n",
            "   creating: mallet-2.0.8/class/cc/mallet/grmm/examples/\n",
            "  inflating: mallet-2.0.8/class/cc/mallet/grmm/examples/CrossTemplate1.class  \n",
            "  inflating: mallet-2.0.8/class/cc/mallet/grmm/examples/ModelReaderExample.class  \n",
            "  inflating: mallet-2.0.8/class/cc/mallet/grmm/examples/SimpleCrfExample.class  \n",
            "  inflating: mallet-2.0.8/class/cc/mallet/grmm/examples/SimpleFactorExample.class  \n",
            "  inflating: mallet-2.0.8/class/cc/mallet/grmm/examples/SimpleGraphExample.class  \n",
            "   creating: mallet-2.0.8/class/cc/mallet/grmm/inference/\n",
            "  inflating: mallet-2.0.8/class/cc/mallet/grmm/inference/AbstractBeliefPropagation$AbstractMessageStrategy.class  \n",
            "  inflating: mallet-2.0.8/class/cc/mallet/grmm/inference/AbstractBeliefPropagation$MaxProductMessageStrategy.class  \n",
            "  inflating: mallet-2.0.8/class/cc/mallet/grmm/inference/AbstractBeliefPropagation$MessageStrategy.class  \n",
            "  inflating: mallet-2.0.8/class/cc/mallet/grmm/inference/AbstractBeliefPropagation$SumProductMessageStrategy.class  \n",
            "  inflating: mallet-2.0.8/class/cc/mallet/grmm/inference/AbstractBeliefPropagation.class  \n",
            "  inflating: mallet-2.0.8/class/cc/mallet/grmm/inference/AbstractInferencer.class  \n",
            "  inflating: mallet-2.0.8/class/cc/mallet/grmm/inference/BruteForceInferencer.class  \n",
            "  inflating: mallet-2.0.8/class/cc/mallet/grmm/inference/ExactSampler.class  \n",
            "   creating: mallet-2.0.8/class/cc/mallet/grmm/inference/gbp/\n",
            "  inflating: mallet-2.0.8/class/cc/mallet/grmm/inference/gbp/AbstractMessageStrategy.class  \n",
            "  inflating: mallet-2.0.8/class/cc/mallet/grmm/inference/gbp/BPRegionGenerator.class  \n",
            "  inflating: mallet-2.0.8/class/cc/mallet/grmm/inference/gbp/ClusterVariationalRegionGenerator$BaseRegionComputer.class  \n",
            "  inflating: mallet-2.0.8/class/cc/mallet/grmm/inference/gbp/ClusterVariationalRegionGenerator$ByFactorRegionComputer.class  \n",
            "  inflating: mallet-2.0.8/class/cc/mallet/grmm/inference/gbp/ClusterVariationalRegionGenerator$Grid2x2RegionComputer.class  \n",
            "  inflating: mallet-2.0.8/class/cc/mallet/grmm/inference/gbp/ClusterVariationalRegionGenerator.class  \n",
            "  inflating: mallet-2.0.8/class/cc/mallet/grmm/inference/gbp/FactorizedRegion.class  \n",
            "  inflating: mallet-2.0.8/class/cc/mallet/grmm/inference/gbp/FullMessageStrategy.class  \n",
            "  inflating: mallet-2.0.8/class/cc/mallet/grmm/inference/gbp/Kikuchi4SquareRegionGenerator.class  \n",
            "  inflating: mallet-2.0.8/class/cc/mallet/grmm/inference/gbp/MessageArray.class  \n",
            "  inflating: mallet-2.0.8/class/cc/mallet/grmm/inference/gbp/MessageStrategy.class  \n",
            "  inflating: mallet-2.0.8/class/cc/mallet/grmm/inference/gbp/ParentChildGBP$1.class  \n",
            "  inflating: mallet-2.0.8/class/cc/mallet/grmm/inference/gbp/ParentChildGBP.class  \n",
            "  inflating: mallet-2.0.8/class/cc/mallet/grmm/inference/gbp/Region.class  \n",
            "  inflating: mallet-2.0.8/class/cc/mallet/grmm/inference/gbp/RegionEdge.class  \n",
            "  inflating: mallet-2.0.8/class/cc/mallet/grmm/inference/gbp/RegionGraph.class  \n",
            "  inflating: mallet-2.0.8/class/cc/mallet/grmm/inference/gbp/RegionGraphGenerator.class  \n",
            "  inflating: mallet-2.0.8/class/cc/mallet/grmm/inference/gbp/SparseMessageSender.class  \n",
            "  inflating: mallet-2.0.8/class/cc/mallet/grmm/inference/GibbsSampler.class  \n",
            "  inflating: mallet-2.0.8/class/cc/mallet/grmm/inference/Inferencer.class  \n",
            "  inflating: mallet-2.0.8/class/cc/mallet/grmm/inference/JunctionTree$Sepset.class  \n",
            "  inflating: mallet-2.0.8/class/cc/mallet/grmm/inference/JunctionTree.class  \n",
            "  inflating: mallet-2.0.8/class/cc/mallet/grmm/inference/JunctionTreeInferencer$1.class  \n",
            "  inflating: mallet-2.0.8/class/cc/mallet/grmm/inference/JunctionTreeInferencer.class  \n",
            "  inflating: mallet-2.0.8/class/cc/mallet/grmm/inference/JunctionTreePropagation$MaxProductMessageStrategy.class  \n",
            "  inflating: mallet-2.0.8/class/cc/mallet/grmm/inference/JunctionTreePropagation$MessageStrategy.class  \n",
            "  inflating: mallet-2.0.8/class/cc/mallet/grmm/inference/JunctionTreePropagation$SumProductMessageStrategy.class  \n",
            "  inflating: mallet-2.0.8/class/cc/mallet/grmm/inference/JunctionTreePropagation.class  \n",
            "  inflating: mallet-2.0.8/class/cc/mallet/grmm/inference/LoopyBP.class  \n",
            "  inflating: mallet-2.0.8/class/cc/mallet/grmm/inference/MessageArray$1.class  \n",
            "  inflating: mallet-2.0.8/class/cc/mallet/grmm/inference/MessageArray$Iterator.class  \n",
            "  inflating: mallet-2.0.8/class/cc/mallet/grmm/inference/MessageArray$ToMsgsIterator.class  \n",
            "  inflating: mallet-2.0.8/class/cc/mallet/grmm/inference/MessageArray.class  \n",
            "  inflating: mallet-2.0.8/class/cc/mallet/grmm/inference/RandomGraphs$FactorGenerator.class  \n",
            "  inflating: mallet-2.0.8/class/cc/mallet/grmm/inference/RandomGraphs$UniformFactorGenerator.class  \n",
            "  inflating: mallet-2.0.8/class/cc/mallet/grmm/inference/RandomGraphs.class  \n",
            "  inflating: mallet-2.0.8/class/cc/mallet/grmm/inference/ResidualBP.class  \n",
            "  inflating: mallet-2.0.8/class/cc/mallet/grmm/inference/Sampler.class  \n",
            "  inflating: mallet-2.0.8/class/cc/mallet/grmm/inference/SamplingInferencer.class  \n",
            "  inflating: mallet-2.0.8/class/cc/mallet/grmm/inference/TreeBP.class  \n",
            "  inflating: mallet-2.0.8/class/cc/mallet/grmm/inference/TRP$1.class  \n",
            "  inflating: mallet-2.0.8/class/cc/mallet/grmm/inference/TRP$AlmostRandomTreeFactory.class  \n",
            "  inflating: mallet-2.0.8/class/cc/mallet/grmm/inference/TRP$ConvergenceTerminator.class  \n",
            "  inflating: mallet-2.0.8/class/cc/mallet/grmm/inference/TRP$DefaultConvergenceTerminator.class  \n",
            "  inflating: mallet-2.0.8/class/cc/mallet/grmm/inference/TRP$IterationTerminator.class  \n",
            "  inflating: mallet-2.0.8/class/cc/mallet/grmm/inference/TRP$SimpleUnionFind.class  \n",
            "  inflating: mallet-2.0.8/class/cc/mallet/grmm/inference/TRP$TerminationCondition.class  \n",
            "  inflating: mallet-2.0.8/class/cc/mallet/grmm/inference/TRP$TreeFactory.class  \n",
            "  inflating: mallet-2.0.8/class/cc/mallet/grmm/inference/TRP$TreeListFactory.class  \n",
            "  inflating: mallet-2.0.8/class/cc/mallet/grmm/inference/TRP.class  \n",
            "  inflating: mallet-2.0.8/class/cc/mallet/grmm/inference/Utils.class  \n",
            "  inflating: mallet-2.0.8/class/cc/mallet/grmm/inference/VariableElimination.class  \n",
            "   creating: mallet-2.0.8/class/cc/mallet/grmm/learning/\n",
            "  inflating: mallet-2.0.8/class/cc/mallet/grmm/learning/ACRF$BigramTemplate.class  \n",
            "  inflating: mallet-2.0.8/class/cc/mallet/grmm/learning/ACRF$FixedFactorTemplate.class  \n",
            "  inflating: mallet-2.0.8/class/cc/mallet/grmm/learning/ACRF$GraphPostProcessor.class  \n",
            "  inflating: mallet-2.0.8/class/cc/mallet/grmm/learning/ACRF$MaximizableACRF.class  \n",
            "  inflating: mallet-2.0.8/class/cc/mallet/grmm/learning/ACRF$PairwiseFactorTemplate.class  \n",
            "  inflating: mallet-2.0.8/class/cc/mallet/grmm/learning/ACRF$SequenceTemplate.class  \n",
            "  inflating: mallet-2.0.8/class/cc/mallet/grmm/learning/ACRF$Template.class  \n",
            "  inflating: mallet-2.0.8/class/cc/mallet/grmm/learning/ACRF$UnigramTemplate.class  \n",
            "  inflating: mallet-2.0.8/class/cc/mallet/grmm/learning/ACRF$UnrolledGraph.class  \n",
            "  inflating: mallet-2.0.8/class/cc/mallet/grmm/learning/ACRF$UnrolledVarSet.class  \n",
            "  inflating: mallet-2.0.8/class/cc/mallet/grmm/learning/ACRF.class  \n",
            "  inflating: mallet-2.0.8/class/cc/mallet/grmm/learning/ACRFEvaluator.class  \n",
            "  inflating: mallet-2.0.8/class/cc/mallet/grmm/learning/AcrfSerialEvaluator.class  \n",
            "  inflating: mallet-2.0.8/class/cc/mallet/grmm/learning/ACRFTrainer.class  \n",
            "  inflating: mallet-2.0.8/class/cc/mallet/grmm/learning/DefaultAcrfTrainer$FileEvaluator.class  \n",
            "  inflating: mallet-2.0.8/class/cc/mallet/grmm/learning/DefaultAcrfTrainer$LogEvaluator.class  \n",
            "  inflating: mallet-2.0.8/class/cc/mallet/grmm/learning/DefaultAcrfTrainer$TestResults.class  \n",
            "  inflating: mallet-2.0.8/class/cc/mallet/grmm/learning/DefaultAcrfTrainer.class  \n",
            "   creating: mallet-2.0.8/class/cc/mallet/grmm/learning/extract/\n",
            "  inflating: mallet-2.0.8/class/cc/mallet/grmm/learning/extract/ACRFExtractor.class  \n",
            "  inflating: mallet-2.0.8/class/cc/mallet/grmm/learning/extract/ACRFExtractorTrainer$CheckpointingEvaluator.class  \n",
            "  inflating: mallet-2.0.8/class/cc/mallet/grmm/learning/extract/ACRFExtractorTrainer.class  \n",
            "  inflating: mallet-2.0.8/class/cc/mallet/grmm/learning/extract/AcrfExtractorTui.class  \n",
            "  inflating: mallet-2.0.8/class/cc/mallet/grmm/learning/GenericAcrfData2TokenSequence.class  \n",
            "  inflating: mallet-2.0.8/class/cc/mallet/grmm/learning/GenericAcrfTui.class  \n",
            "  inflating: mallet-2.0.8/class/cc/mallet/grmm/learning/MultiSegmentationEvaluatorACRF$TestResults.class  \n",
            "  inflating: mallet-2.0.8/class/cc/mallet/grmm/learning/MultiSegmentationEvaluatorACRF.class  \n",
            "  inflating: mallet-2.0.8/class/cc/mallet/grmm/learning/PiecewiseACRFTrainer$Maxable.class  \n",
            "  inflating: mallet-2.0.8/class/cc/mallet/grmm/learning/PiecewiseACRFTrainer.class  \n",
            "  inflating: mallet-2.0.8/class/cc/mallet/grmm/learning/PseudolikelihoodACRFTrainer$CliquesIterator.class  \n",
            "  inflating: mallet-2.0.8/class/cc/mallet/grmm/learning/PseudolikelihoodACRFTrainer$EdgesIterator.class  \n",
            "  inflating: mallet-2.0.8/class/cc/mallet/grmm/learning/PseudolikelihoodACRFTrainer$Maxable.class  \n",
            "  inflating: mallet-2.0.8/class/cc/mallet/grmm/learning/PseudolikelihoodACRFTrainer$VariablesIterator.class  \n",
            "  inflating: mallet-2.0.8/class/cc/mallet/grmm/learning/PseudolikelihoodACRFTrainer.class  \n",
            "  inflating: mallet-2.0.8/class/cc/mallet/grmm/learning/PwplACRFTrainer$Maxable$WrongWrong.class  \n",
            "  inflating: mallet-2.0.8/class/cc/mallet/grmm/learning/PwplACRFTrainer$Maxable.class  \n",
            "  inflating: mallet-2.0.8/class/cc/mallet/grmm/learning/PwplACRFTrainer.class  \n",
            "   creating: mallet-2.0.8/class/cc/mallet/grmm/learning/templates/\n",
            "  inflating: mallet-2.0.8/class/cc/mallet/grmm/learning/templates/SimilarTokensTemplate$CapWordsBinner.class  \n",
            "  inflating: mallet-2.0.8/class/cc/mallet/grmm/learning/templates/SimilarTokensTemplate$FeatureVectorBinner.class  \n",
            "  inflating: mallet-2.0.8/class/cc/mallet/grmm/learning/templates/SimilarTokensTemplate$TokenInfo.class  \n",
            "  inflating: mallet-2.0.8/class/cc/mallet/grmm/learning/templates/SimilarTokensTemplate$WordFeatureBinner.class  \n",
            "  inflating: mallet-2.0.8/class/cc/mallet/grmm/learning/templates/SimilarTokensTemplate.class  \n",
            "   creating: mallet-2.0.8/class/cc/mallet/grmm/test/\n",
            "  inflating: mallet-2.0.8/class/cc/mallet/grmm/test/TestAbstractBeliefPropagation.class  \n",
            "  inflating: mallet-2.0.8/class/cc/mallet/grmm/test/TestAssignment.class  \n",
            "  inflating: mallet-2.0.8/class/cc/mallet/grmm/test/TestAssignmentIterator.class  \n",
            "  inflating: mallet-2.0.8/class/cc/mallet/grmm/test/TestBetaFactor.class  \n",
            "  inflating: mallet-2.0.8/class/cc/mallet/grmm/test/TestBitVarSet.class  \n",
            "  inflating: mallet-2.0.8/class/cc/mallet/grmm/test/TestDirectedModel.class  \n",
            "  inflating: mallet-2.0.8/class/cc/mallet/grmm/test/TestFactorGraph.class  \n",
            "  inflating: mallet-2.0.8/class/cc/mallet/grmm/test/TestFactors.class  \n",
            "  inflating: mallet-2.0.8/class/cc/mallet/grmm/test/TestGenericAcrfData2TokenSequence.class  \n",
            "  inflating: mallet-2.0.8/class/cc/mallet/grmm/test/TestGibbsSampler.class  \n",
            "  inflating: mallet-2.0.8/class/cc/mallet/grmm/test/TestHashClique.class  \n",
            "  inflating: mallet-2.0.8/class/cc/mallet/grmm/test/TestInference$1.class  \n",
            "  inflating: mallet-2.0.8/class/cc/mallet/grmm/test/TestInference.class  \n",
            "  inflating: mallet-2.0.8/class/cc/mallet/grmm/test/TestListVarSet.class  \n",
            "  inflating: mallet-2.0.8/class/cc/mallet/grmm/test/TestLogTableFactor.class  \n",
            "  inflating: mallet-2.0.8/class/cc/mallet/grmm/test/TestMIntInt2ObjectMap.class  \n",
            "  inflating: mallet-2.0.8/class/cc/mallet/grmm/test/TestNormalFactor.class  \n",
            "  inflating: mallet-2.0.8/class/cc/mallet/grmm/test/TestPottsFactor.class  \n",
            "  inflating: mallet-2.0.8/class/cc/mallet/grmm/test/TestRandomGraphs.class  \n",
            "  inflating: mallet-2.0.8/class/cc/mallet/grmm/test/TestTableFactor.class  \n",
            "  inflating: mallet-2.0.8/class/cc/mallet/grmm/test/TestTRP.class  \n",
            "  inflating: mallet-2.0.8/class/cc/mallet/grmm/test/TestUndirectedModel.class  \n",
            "  inflating: mallet-2.0.8/class/cc/mallet/grmm/test/TestUniformFactor.class  \n",
            "  inflating: mallet-2.0.8/class/cc/mallet/grmm/test/TestUniNormalFactor.class  \n",
            "   creating: mallet-2.0.8/class/cc/mallet/grmm/types/\n",
            "  inflating: mallet-2.0.8/class/cc/mallet/grmm/types/AbstractAssignmentIterator.class  \n",
            "  inflating: mallet-2.0.8/class/cc/mallet/grmm/types/AbstractFactor.class  \n",
            "  inflating: mallet-2.0.8/class/cc/mallet/grmm/types/AbstractTableFactor.class  \n",
            "  inflating: mallet-2.0.8/class/cc/mallet/grmm/types/Assignment.class  \n",
            "  inflating: mallet-2.0.8/class/cc/mallet/grmm/types/AssignmentIterator.class  \n",
            "  inflating: mallet-2.0.8/class/cc/mallet/grmm/types/BetaFactor.class  \n",
            "  inflating: mallet-2.0.8/class/cc/mallet/grmm/types/BidirectionalIntObjectMap.class  \n",
            "  inflating: mallet-2.0.8/class/cc/mallet/grmm/types/BinaryUnaryFactor.class  \n",
            "  inflating: mallet-2.0.8/class/cc/mallet/grmm/types/BitVarSet$Iterator.class  \n",
            "  inflating: mallet-2.0.8/class/cc/mallet/grmm/types/BitVarSet.class  \n",
            "  inflating: mallet-2.0.8/class/cc/mallet/grmm/types/BoltzmannPairFactor.class  \n",
            "  inflating: mallet-2.0.8/class/cc/mallet/grmm/types/BoltzmannUnaryFactor.class  \n",
            "  inflating: mallet-2.0.8/class/cc/mallet/grmm/types/ConstantFactor.class  \n",
            "  inflating: mallet-2.0.8/class/cc/mallet/grmm/types/CPT.class  \n",
            "  inflating: mallet-2.0.8/class/cc/mallet/grmm/types/DenseAssignmentIterator.class  \n",
            "  inflating: mallet-2.0.8/class/cc/mallet/grmm/types/DirectedModel.class  \n",
            "  inflating: mallet-2.0.8/class/cc/mallet/grmm/types/DiscreteFactor.class  \n",
            "  inflating: mallet-2.0.8/class/cc/mallet/grmm/types/Factor.class  \n",
            "  inflating: mallet-2.0.8/class/cc/mallet/grmm/types/FactorGraph$1.class  \n",
            "  inflating: mallet-2.0.8/class/cc/mallet/grmm/types/FactorGraph$2.class  \n",
            "  inflating: mallet-2.0.8/class/cc/mallet/grmm/types/FactorGraph$3.class  \n",
            "  inflating: mallet-2.0.8/class/cc/mallet/grmm/types/FactorGraph.class  \n",
            "  inflating: mallet-2.0.8/class/cc/mallet/grmm/types/Factors$1.class  \n",
            "  inflating: mallet-2.0.8/class/cc/mallet/grmm/types/Factors.class  \n",
            "  inflating: mallet-2.0.8/class/cc/mallet/grmm/types/HashVarSet.class  \n",
            "  inflating: mallet-2.0.8/class/cc/mallet/grmm/types/ListVarSet$Iterator.class  \n",
            "  inflating: mallet-2.0.8/class/cc/mallet/grmm/types/ListVarSet.class  \n",
            "  inflating: mallet-2.0.8/class/cc/mallet/grmm/types/LogTableFactor.class  \n",
            "  inflating: mallet-2.0.8/class/cc/mallet/grmm/types/NormalFactor.class  \n",
            "  inflating: mallet-2.0.8/class/cc/mallet/grmm/types/ParameterizedFactor.class  \n",
            "  inflating: mallet-2.0.8/class/cc/mallet/grmm/types/PottsTableFactor.class  \n",
            "  inflating: mallet-2.0.8/class/cc/mallet/grmm/types/SkeletonFactor.class  \n",
            "  inflating: mallet-2.0.8/class/cc/mallet/grmm/types/SparseAssignmentIterator.class  \n",
            "  inflating: mallet-2.0.8/class/cc/mallet/grmm/types/TableFactor.class  \n",
            "  inflating: mallet-2.0.8/class/cc/mallet/grmm/types/Tree.class  \n",
            "  inflating: mallet-2.0.8/class/cc/mallet/grmm/types/UndirectedGrid.class  \n",
            "  inflating: mallet-2.0.8/class/cc/mallet/grmm/types/UndirectedModel.class  \n",
            "  inflating: mallet-2.0.8/class/cc/mallet/grmm/types/UniformFactor.class  \n",
            "  inflating: mallet-2.0.8/class/cc/mallet/grmm/types/UniNormalFactor.class  \n",
            "  inflating: mallet-2.0.8/class/cc/mallet/grmm/types/Universe.class  \n",
            "  inflating: mallet-2.0.8/class/cc/mallet/grmm/types/UnmodifiableVarSet.class  \n",
            "  inflating: mallet-2.0.8/class/cc/mallet/grmm/types/Variable.class  \n",
            "  inflating: mallet-2.0.8/class/cc/mallet/grmm/types/VarSet.class  \n",
            "   creating: mallet-2.0.8/class/cc/mallet/grmm/util/\n",
            "  inflating: mallet-2.0.8/class/cc/mallet/grmm/util/CachingOptimizable$1.class  \n",
            "  inflating: mallet-2.0.8/class/cc/mallet/grmm/util/CachingOptimizable$Base.class  \n",
            "  inflating: mallet-2.0.8/class/cc/mallet/grmm/util/CachingOptimizable$ByBatchGradient.class  \n",
            "  inflating: mallet-2.0.8/class/cc/mallet/grmm/util/CachingOptimizable$ByGradient.class  \n",
            "  inflating: mallet-2.0.8/class/cc/mallet/grmm/util/CachingOptimizable.class  \n",
            "  inflating: mallet-2.0.8/class/cc/mallet/grmm/util/CSIntInt2ObjectMultiMap$1.class  \n",
            "  inflating: mallet-2.0.8/class/cc/mallet/grmm/util/CSIntInt2ObjectMultiMap.class  \n",
            "  inflating: mallet-2.0.8/class/cc/mallet/grmm/util/Flops$Watch.class  \n",
            "  inflating: mallet-2.0.8/class/cc/mallet/grmm/util/Flops.class  \n",
            "  inflating: mallet-2.0.8/class/cc/mallet/grmm/util/GeneralUtils.class  \n",
            "  inflating: mallet-2.0.8/class/cc/mallet/grmm/util/Graphs.class  \n",
            "  inflating: mallet-2.0.8/class/cc/mallet/grmm/util/LabelsAssignment.class  \n",
            "  inflating: mallet-2.0.8/class/cc/mallet/grmm/util/LabelsSequence2Assignment.class  \n",
            "  inflating: mallet-2.0.8/class/cc/mallet/grmm/util/Matrices.class  \n",
            "  inflating: mallet-2.0.8/class/cc/mallet/grmm/util/MIntInt2ObjectMap$1.class  \n",
            "  inflating: mallet-2.0.8/class/cc/mallet/grmm/util/MIntInt2ObjectMap.class  \n",
            "  inflating: mallet-2.0.8/class/cc/mallet/grmm/util/ModelReader.class  \n",
            "  inflating: mallet-2.0.8/class/cc/mallet/grmm/util/Models.class  \n",
            "  inflating: mallet-2.0.8/class/cc/mallet/grmm/util/ModelWriter.class  \n",
            "  inflating: mallet-2.0.8/class/cc/mallet/grmm/util/PipedIterator.class  \n",
            "  inflating: mallet-2.0.8/class/cc/mallet/grmm/util/RememberTokenizationPipe.class  \n",
            "  inflating: mallet-2.0.8/class/cc/mallet/grmm/util/SliceLabelsSequence.class  \n",
            "  inflating: mallet-2.0.8/class/cc/mallet/grmm/util/THashMultiMap.class  \n",
            "   creating: mallet-2.0.8/class/cc/mallet/optimize/\n",
            "  inflating: mallet-2.0.8/class/cc/mallet/optimize/AGIS.class  \n",
            "  inflating: mallet-2.0.8/class/cc/mallet/optimize/BackTrackLineSearch.class  \n",
            "  inflating: mallet-2.0.8/class/cc/mallet/optimize/ConjugateGradient.class  \n",
            "  inflating: mallet-2.0.8/class/cc/mallet/optimize/GradientAscent.class  \n",
            "  inflating: mallet-2.0.8/class/cc/mallet/optimize/GradientBracketLineOptimizer.class  \n",
            "  inflating: mallet-2.0.8/class/cc/mallet/optimize/InvalidOptimizableException.class  \n",
            "  inflating: mallet-2.0.8/class/cc/mallet/optimize/LimitedMemoryBFGS.class  \n",
            "  inflating: mallet-2.0.8/class/cc/mallet/optimize/LineOptimizer$ByGradient.class  \n",
            "  inflating: mallet-2.0.8/class/cc/mallet/optimize/LineOptimizer.class  \n",
            "  inflating: mallet-2.0.8/class/cc/mallet/optimize/Optimizable$ByBatchGradient.class  \n",
            "  inflating: mallet-2.0.8/class/cc/mallet/optimize/Optimizable$ByCombiningBatchGradient.class  \n",
            "  inflating: mallet-2.0.8/class/cc/mallet/optimize/Optimizable$ByGISUpdate.class  \n",
            "  inflating: mallet-2.0.8/class/cc/mallet/optimize/Optimizable$ByGradient.class  \n",
            "  inflating: mallet-2.0.8/class/cc/mallet/optimize/Optimizable$ByGradientValue.class  \n",
            "  inflating: mallet-2.0.8/class/cc/mallet/optimize/Optimizable$ByHessian.class  \n",
            "  inflating: mallet-2.0.8/class/cc/mallet/optimize/Optimizable$ByValue.class  \n",
            "  inflating: mallet-2.0.8/class/cc/mallet/optimize/Optimizable$ByVotedPerceptron.class  \n",
            "  inflating: mallet-2.0.8/class/cc/mallet/optimize/Optimizable.class  \n",
            "  inflating: mallet-2.0.8/class/cc/mallet/optimize/OptimizableCollection$ByGradientValue.class  \n",
            "  inflating: mallet-2.0.8/class/cc/mallet/optimize/OptimizableCollection.class  \n",
            "  inflating: mallet-2.0.8/class/cc/mallet/optimize/OptimizationException.class  \n",
            "  inflating: mallet-2.0.8/class/cc/mallet/optimize/Optimizer$ByBatches.class  \n",
            "  inflating: mallet-2.0.8/class/cc/mallet/optimize/Optimizer.class  \n",
            "  inflating: mallet-2.0.8/class/cc/mallet/optimize/OptimizerEvaluator$ByBatchGradient.class  \n",
            "  inflating: mallet-2.0.8/class/cc/mallet/optimize/OptimizerEvaluator$ByGradient.class  \n",
            "  inflating: mallet-2.0.8/class/cc/mallet/optimize/OptimizerEvaluator.class  \n",
            "  inflating: mallet-2.0.8/class/cc/mallet/optimize/OrthantWiseLimitedMemoryBFGS.class  \n",
            "  inflating: mallet-2.0.8/class/cc/mallet/optimize/StochasticMetaAscent.class  \n",
            "   creating: mallet-2.0.8/class/cc/mallet/optimize/tests/\n",
            "  inflating: mallet-2.0.8/class/cc/mallet/optimize/tests/TestOptimizable$SimplePoly.class  \n",
            "  inflating: mallet-2.0.8/class/cc/mallet/optimize/tests/TestOptimizable$WrongSimplePoly.class  \n",
            "  inflating: mallet-2.0.8/class/cc/mallet/optimize/tests/TestOptimizable.class  \n",
            "  inflating: mallet-2.0.8/class/cc/mallet/optimize/tests/TestOptimizer$SimplePoly.class  \n",
            "  inflating: mallet-2.0.8/class/cc/mallet/optimize/tests/TestOptimizer.class  \n",
            "   creating: mallet-2.0.8/class/cc/mallet/pipe/\n",
            "  inflating: mallet-2.0.8/class/cc/mallet/pipe/AddClassifierTokenPredictions$TokenClassifiers.class  \n",
            "  inflating: mallet-2.0.8/class/cc/mallet/pipe/AddClassifierTokenPredictions.class  \n",
            "  inflating: mallet-2.0.8/class/cc/mallet/pipe/Array2FeatureVector.class  \n",
            "  inflating: mallet-2.0.8/class/cc/mallet/pipe/AugmentableFeatureVectorAddConjunctions.class  \n",
            "  inflating: mallet-2.0.8/class/cc/mallet/pipe/AugmentableFeatureVectorLogScale.class  \n",
            "  inflating: mallet-2.0.8/class/cc/mallet/pipe/BranchingPipe$1.class  \n",
            "  inflating: mallet-2.0.8/class/cc/mallet/pipe/BranchingPipe$BranchingInstanceIterator.class  \n",
            "  inflating: mallet-2.0.8/class/cc/mallet/pipe/BranchingPipe$GateKeepingInstanceIterator.class  \n",
            "  inflating: mallet-2.0.8/class/cc/mallet/pipe/BranchingPipe$PeekingInstanceIterator.class  \n",
            "  inflating: mallet-2.0.8/class/cc/mallet/pipe/BranchingPipe.class  \n",
            "  inflating: mallet-2.0.8/class/cc/mallet/pipe/CharSequence2CharNGrams.class  \n",
            "  inflating: mallet-2.0.8/class/cc/mallet/pipe/CharSequence2TokenSequence.class  \n",
            "  inflating: mallet-2.0.8/class/cc/mallet/pipe/CharSequenceArray2TokenSequence.class  \n",
            "  inflating: mallet-2.0.8/class/cc/mallet/pipe/CharSequenceLowercase.class  \n",
            "  inflating: mallet-2.0.8/class/cc/mallet/pipe/CharSequenceRemoveHTML$1.class  \n",
            "  inflating: mallet-2.0.8/class/cc/mallet/pipe/CharSequenceRemoveHTML$ParserGetter.class  \n",
            "  inflating: mallet-2.0.8/class/cc/mallet/pipe/CharSequenceRemoveHTML$TagStripper.class  \n",
            "  inflating: mallet-2.0.8/class/cc/mallet/pipe/CharSequenceRemoveHTML.class  \n",
            "  inflating: mallet-2.0.8/class/cc/mallet/pipe/CharSequenceRemoveUUEncodedBlocks.class  \n",
            "  inflating: mallet-2.0.8/class/cc/mallet/pipe/CharSequenceReplace.class  \n",
            "  inflating: mallet-2.0.8/class/cc/mallet/pipe/CharSubsequence.class  \n",
            "  inflating: mallet-2.0.8/class/cc/mallet/pipe/Classification2ConfidencePredictingFeatureVector.class  \n",
            "  inflating: mallet-2.0.8/class/cc/mallet/pipe/Csv2Array.class  \n",
            "  inflating: mallet-2.0.8/class/cc/mallet/pipe/Csv2FeatureVector.class  \n",
            "  inflating: mallet-2.0.8/class/cc/mallet/pipe/Directory2FileIterator.class  \n",
            "  inflating: mallet-2.0.8/class/cc/mallet/pipe/FeatureCountPipe.class  \n",
            "  inflating: mallet-2.0.8/class/cc/mallet/pipe/FeatureDocFreqPipe.class  \n",
            "  inflating: mallet-2.0.8/class/cc/mallet/pipe/FeatureSequence2AugmentableFeatureVector.class  \n",
            "  inflating: mallet-2.0.8/class/cc/mallet/pipe/FeatureSequence2FeatureVector.class  \n",
            "  inflating: mallet-2.0.8/class/cc/mallet/pipe/FeatureSequenceConvolution.class  \n",
            "  inflating: mallet-2.0.8/class/cc/mallet/pipe/FeatureValueString2FeatureVector.class  \n",
            "  inflating: mallet-2.0.8/class/cc/mallet/pipe/FeatureVectorConjunctions.class  \n",
            "  inflating: mallet-2.0.8/class/cc/mallet/pipe/FeatureVectorSequence2FeatureVectors$FeatureVectorIterator.class  \n",
            "  inflating: mallet-2.0.8/class/cc/mallet/pipe/FeatureVectorSequence2FeatureVectors.class  \n",
            "  inflating: mallet-2.0.8/class/cc/mallet/pipe/Filename2CharSequence.class  \n",
            "  inflating: mallet-2.0.8/class/cc/mallet/pipe/FilterEmptyFeatureVectors$FilteringPipeInstanceIterator.class  \n",
            "  inflating: mallet-2.0.8/class/cc/mallet/pipe/FilterEmptyFeatureVectors.class  \n",
            "  inflating: mallet-2.0.8/class/cc/mallet/pipe/FixedVocabTokenizer.class  \n",
            "  inflating: mallet-2.0.8/class/cc/mallet/pipe/Input2CharSequence.class  \n",
            "  inflating: mallet-2.0.8/class/cc/mallet/pipe/InstanceListTrimFeaturesByCount.class  \n",
            "   creating: mallet-2.0.8/class/cc/mallet/pipe/iterator/\n",
            "  inflating: mallet-2.0.8/class/cc/mallet/pipe/iterator/ArrayDataAndTargetIterator.class  \n",
            "  inflating: mallet-2.0.8/class/cc/mallet/pipe/iterator/ArrayIterator.class  \n",
            "  inflating: mallet-2.0.8/class/cc/mallet/pipe/iterator/ConcatenatedInstanceIterator.class  \n",
            "  inflating: mallet-2.0.8/class/cc/mallet/pipe/iterator/CsvIterator.class  \n",
            "  inflating: mallet-2.0.8/class/cc/mallet/pipe/iterator/DBInstanceIterator.class  \n",
            "  inflating: mallet-2.0.8/class/cc/mallet/pipe/iterator/EmptyInstanceIterator.class  \n",
            "  inflating: mallet-2.0.8/class/cc/mallet/pipe/iterator/FileIterator.class  \n",
            "  inflating: mallet-2.0.8/class/cc/mallet/pipe/iterator/FileListIterator.class  \n",
            "  inflating: mallet-2.0.8/class/cc/mallet/pipe/iterator/FileUriIterator.class  \n",
            "  inflating: mallet-2.0.8/class/cc/mallet/pipe/iterator/LineGroupIterator.class  \n",
            "  inflating: mallet-2.0.8/class/cc/mallet/pipe/iterator/LineIterator.class  \n",
            "  inflating: mallet-2.0.8/class/cc/mallet/pipe/iterator/ParenGroupIterator.class  \n",
            "  inflating: mallet-2.0.8/class/cc/mallet/pipe/iterator/PatternMatchIterator.class  \n",
            "  inflating: mallet-2.0.8/class/cc/mallet/pipe/iterator/PipeExtendedIterator.class  \n",
            "  inflating: mallet-2.0.8/class/cc/mallet/pipe/iterator/PipeInputIterator.class  \n",
            "  inflating: mallet-2.0.8/class/cc/mallet/pipe/iterator/RandomFeatureVectorIterator.class  \n",
            "  inflating: mallet-2.0.8/class/cc/mallet/pipe/iterator/RandomTokenSequenceIterator.class  \n",
            "  inflating: mallet-2.0.8/class/cc/mallet/pipe/iterator/SegmentIterator.class  \n",
            "  inflating: mallet-2.0.8/class/cc/mallet/pipe/iterator/SelectiveFileLineIterator.class  \n",
            "  inflating: mallet-2.0.8/class/cc/mallet/pipe/iterator/SimpleFileLineIterator.class  \n",
            "  inflating: mallet-2.0.8/class/cc/mallet/pipe/iterator/StringArrayIterator.class  \n",
            "   creating: mallet-2.0.8/class/cc/mallet/pipe/iterator/tests/\n",
            "  inflating: mallet-2.0.8/class/cc/mallet/pipe/iterator/tests/TestPatternMatchIterator.class  \n",
            "  inflating: mallet-2.0.8/class/cc/mallet/pipe/iterator/UnlabeledFileIterator.class  \n",
            "  inflating: mallet-2.0.8/class/cc/mallet/pipe/LineGroupString2TokenSequence.class  \n",
            "  inflating: mallet-2.0.8/class/cc/mallet/pipe/MakeAmpersandXMLFriendly.class  \n",
            "  inflating: mallet-2.0.8/class/cc/mallet/pipe/NGramPreprocessor$ReplacementSet.class  \n",
            "  inflating: mallet-2.0.8/class/cc/mallet/pipe/NGramPreprocessor.class  \n",
            "  inflating: mallet-2.0.8/class/cc/mallet/pipe/Noop.class  \n",
            "  inflating: mallet-2.0.8/class/cc/mallet/pipe/Pipe$SimplePipeInstanceIterator.class  \n",
            "  inflating: mallet-2.0.8/class/cc/mallet/pipe/Pipe.class  \n",
            "  inflating: mallet-2.0.8/class/cc/mallet/pipe/PipeException.class  \n",
            "  inflating: mallet-2.0.8/class/cc/mallet/pipe/PipeUtils.class  \n",
            "  inflating: mallet-2.0.8/class/cc/mallet/pipe/PrintInput.class  \n",
            "  inflating: mallet-2.0.8/class/cc/mallet/pipe/PrintInputAndTarget.class  \n",
            "  inflating: mallet-2.0.8/class/cc/mallet/pipe/PrintTokenSequenceFeatures.class  \n",
            "  inflating: mallet-2.0.8/class/cc/mallet/pipe/SaveDataInSource.class  \n",
            "  inflating: mallet-2.0.8/class/cc/mallet/pipe/SelectiveSGML2TokenSequence.class  \n",
            "  inflating: mallet-2.0.8/class/cc/mallet/pipe/SerialPipes$Predicate.class  \n",
            "  inflating: mallet-2.0.8/class/cc/mallet/pipe/SerialPipes.class  \n",
            "  inflating: mallet-2.0.8/class/cc/mallet/pipe/SGML2TokenSequence.class  \n",
            "  inflating: mallet-2.0.8/class/cc/mallet/pipe/SimpleTaggerSentence2StringTokenization.class  \n",
            "  inflating: mallet-2.0.8/class/cc/mallet/pipe/SimpleTaggerSentence2TokenSequence.class  \n",
            "  inflating: mallet-2.0.8/class/cc/mallet/pipe/SimpleTokenizer.class  \n",
            "  inflating: mallet-2.0.8/class/cc/mallet/pipe/SourceLocation2TokenSequence.class  \n",
            "  inflating: mallet-2.0.8/class/cc/mallet/pipe/StringAddNewLineDelimiter.class  \n",
            "  inflating: mallet-2.0.8/class/cc/mallet/pipe/StringList2FeatureSequence.class  \n",
            "  inflating: mallet-2.0.8/class/cc/mallet/pipe/SvmLight2FeatureVectorAndLabel.class  \n",
            "  inflating: mallet-2.0.8/class/cc/mallet/pipe/Target2Double.class  \n",
            "  inflating: mallet-2.0.8/class/cc/mallet/pipe/Target2FeatureSequence.class  \n",
            "  inflating: mallet-2.0.8/class/cc/mallet/pipe/Target2Integer.class  \n",
            "  inflating: mallet-2.0.8/class/cc/mallet/pipe/Target2Label.class  \n",
            "  inflating: mallet-2.0.8/class/cc/mallet/pipe/Target2LabelSequence.class  \n",
            "  inflating: mallet-2.0.8/class/cc/mallet/pipe/TargetRememberLastLabel.class  \n",
            "  inflating: mallet-2.0.8/class/cc/mallet/pipe/TargetStringToFeatures.class  \n",
            "   creating: mallet-2.0.8/class/cc/mallet/pipe/tests/\n",
            "  inflating: mallet-2.0.8/class/cc/mallet/pipe/tests/TestInstancePipe$Array2ArrayIterator.class  \n",
            "  inflating: mallet-2.0.8/class/cc/mallet/pipe/tests/TestInstancePipe.class  \n",
            "  inflating: mallet-2.0.8/class/cc/mallet/pipe/tests/TestIterators.class  \n",
            "  inflating: mallet-2.0.8/class/cc/mallet/pipe/tests/TestPipeUtils$1.class  \n",
            "  inflating: mallet-2.0.8/class/cc/mallet/pipe/tests/TestPipeUtils$StupidPipe.class  \n",
            "  inflating: mallet-2.0.8/class/cc/mallet/pipe/tests/TestPipeUtils.class  \n",
            "  inflating: mallet-2.0.8/class/cc/mallet/pipe/tests/TestRainbowStyle.class  \n",
            "  inflating: mallet-2.0.8/class/cc/mallet/pipe/tests/TestSGML2TokenSequence$Array2ArrayIterator.class  \n",
            "  inflating: mallet-2.0.8/class/cc/mallet/pipe/tests/TestSGML2TokenSequence.class  \n",
            "  inflating: mallet-2.0.8/class/cc/mallet/pipe/tests/TestSpacePipe.class  \n",
            "  inflating: mallet-2.0.8/class/cc/mallet/pipe/Token2FeatureVector.class  \n",
            "  inflating: mallet-2.0.8/class/cc/mallet/pipe/TokenSequence2FeatureSequence.class  \n",
            "  inflating: mallet-2.0.8/class/cc/mallet/pipe/TokenSequence2FeatureSequenceWithBigrams.class  \n",
            "  inflating: mallet-2.0.8/class/cc/mallet/pipe/TokenSequence2FeatureVectorSequence.class  \n",
            "  inflating: mallet-2.0.8/class/cc/mallet/pipe/TokenSequence2TokenInstances$TokenInstanceIterator.class  \n",
            "  inflating: mallet-2.0.8/class/cc/mallet/pipe/TokenSequence2TokenInstances.class  \n",
            "  inflating: mallet-2.0.8/class/cc/mallet/pipe/TokenSequenceLowercase.class  \n",
            "  inflating: mallet-2.0.8/class/cc/mallet/pipe/TokenSequenceMatchDataAndTarget.class  \n",
            "  inflating: mallet-2.0.8/class/cc/mallet/pipe/TokenSequenceNGrams.class  \n",
            "  inflating: mallet-2.0.8/class/cc/mallet/pipe/TokenSequenceParseFeatureString.class  \n",
            "  inflating: mallet-2.0.8/class/cc/mallet/pipe/TokenSequenceRemoveNonAlpha.class  \n",
            "  inflating: mallet-2.0.8/class/cc/mallet/pipe/TokenSequenceRemoveStopPatterns.class  \n",
            "  inflating: mallet-2.0.8/class/cc/mallet/pipe/TokenSequenceRemoveStopwords.class  \n",
            "   creating: mallet-2.0.8/class/cc/mallet/pipe/tsf/\n",
            "  inflating: mallet-2.0.8/class/cc/mallet/pipe/tsf/CountMatches.class  \n",
            "  inflating: mallet-2.0.8/class/cc/mallet/pipe/tsf/CountMatchesAlignedWithOffsets.class  \n",
            "  inflating: mallet-2.0.8/class/cc/mallet/pipe/tsf/CountMatchesMatching.class  \n",
            "  inflating: mallet-2.0.8/class/cc/mallet/pipe/tsf/FeaturesInWindow.class  \n",
            "  inflating: mallet-2.0.8/class/cc/mallet/pipe/tsf/FeaturesOfFirstMention.class  \n",
            "  inflating: mallet-2.0.8/class/cc/mallet/pipe/tsf/LexiconMembership.class  \n",
            "  inflating: mallet-2.0.8/class/cc/mallet/pipe/tsf/OffsetConjunctions.class  \n",
            "  inflating: mallet-2.0.8/class/cc/mallet/pipe/tsf/OffsetFeatureConjunction.class  \n",
            "  inflating: mallet-2.0.8/class/cc/mallet/pipe/tsf/OffsetPropertyConjunctions.class  \n",
            "  inflating: mallet-2.0.8/class/cc/mallet/pipe/tsf/RegexMatches.class  \n",
            "  inflating: mallet-2.0.8/class/cc/mallet/pipe/tsf/SequencePrintingPipe.class  \n",
            "  inflating: mallet-2.0.8/class/cc/mallet/pipe/tsf/Target2BIOFormat.class  \n",
            "   creating: mallet-2.0.8/class/cc/mallet/pipe/tsf/tests/\n",
            "  inflating: mallet-2.0.8/class/cc/mallet/pipe/tsf/tests/TestOffsetConjunctions.class  \n",
            "  inflating: mallet-2.0.8/class/cc/mallet/pipe/tsf/tests/TestOffsetFeatureConjunctions.class  \n",
            "  inflating: mallet-2.0.8/class/cc/mallet/pipe/tsf/tests/TestSequencePrintingPipe.class  \n",
            "  inflating: mallet-2.0.8/class/cc/mallet/pipe/tsf/TokenFirstPosition.class  \n",
            "  inflating: mallet-2.0.8/class/cc/mallet/pipe/tsf/TokenText.class  \n",
            "  inflating: mallet-2.0.8/class/cc/mallet/pipe/tsf/TokenTextCharNGrams.class  \n",
            "  inflating: mallet-2.0.8/class/cc/mallet/pipe/tsf/TokenTextCharPrefix.class  \n",
            "  inflating: mallet-2.0.8/class/cc/mallet/pipe/tsf/TokenTextCharSuffix.class  \n",
            "  inflating: mallet-2.0.8/class/cc/mallet/pipe/tsf/TokenTextNGrams.class  \n",
            "  inflating: mallet-2.0.8/class/cc/mallet/pipe/tsf/TrieLexiconMembership$TrieLexicon.class  \n",
            "  inflating: mallet-2.0.8/class/cc/mallet/pipe/tsf/TrieLexiconMembership.class  \n",
            "  inflating: mallet-2.0.8/class/cc/mallet/pipe/tsf/WordVectors.class  \n",
            "  inflating: mallet-2.0.8/class/cc/mallet/pipe/ValueString2FeatureVector.class  \n",
            "   creating: mallet-2.0.8/class/cc/mallet/regression/\n",
            "  inflating: mallet-2.0.8/class/cc/mallet/regression/CoordinateDescent.class  \n",
            "  inflating: mallet-2.0.8/class/cc/mallet/regression/LeastSquares.class  \n",
            "  inflating: mallet-2.0.8/class/cc/mallet/regression/LinearRegression.class  \n",
            "  inflating: mallet-2.0.8/class/cc/mallet/regression/LinearRegressionTrainer.class  \n",
            "   creating: mallet-2.0.8/class/cc/mallet/regression/tui/\n",
            "  inflating: mallet-2.0.8/class/cc/mallet/regression/tui/Regression.class  \n",
            "  inflating: mallet-2.0.8/class/cc/mallet/regression/tui/RegressionImporter.class  \n",
            "   creating: mallet-2.0.8/class/cc/mallet/share/\n",
            "   creating: mallet-2.0.8/class/cc/mallet/share/casutton/\n",
            "   creating: mallet-2.0.8/class/cc/mallet/share/casutton/ner/\n",
            "  inflating: mallet-2.0.8/class/cc/mallet/share/casutton/ner/ConllNer2003Sentence2TokenSequence.class  \n",
            "   creating: mallet-2.0.8/class/cc/mallet/share/mccallum/\n",
            "   creating: mallet-2.0.8/class/cc/mallet/share/mccallum/ner/\n",
            "  inflating: mallet-2.0.8/class/cc/mallet/share/mccallum/ner/ConllNer2003Sentence2TokenSequence.class  \n",
            "  inflating: mallet-2.0.8/class/cc/mallet/share/mccallum/ner/TokenSequenceDocHeader.class  \n",
            "  inflating: mallet-2.0.8/class/cc/mallet/share/mccallum/ner/TUI.class  \n",
            "   creating: mallet-2.0.8/class/cc/mallet/share/upenn/\n",
            "  inflating: mallet-2.0.8/class/cc/mallet/share/upenn/MaxEntShell.class  \n",
            "   creating: mallet-2.0.8/class/cc/mallet/share/upenn/ner/\n",
            "  inflating: mallet-2.0.8/class/cc/mallet/share/upenn/ner/FeatureWindow.class  \n",
            "  inflating: mallet-2.0.8/class/cc/mallet/share/upenn/ner/LengthBins.class  \n",
            "  inflating: mallet-2.0.8/class/cc/mallet/share/upenn/ner/ListMember.class  \n",
            "  inflating: mallet-2.0.8/class/cc/mallet/share/upenn/ner/LongRegexMatches.class  \n",
            "  inflating: mallet-2.0.8/class/cc/mallet/share/upenn/ner/NEPipes.class  \n",
            "   creating: mallet-2.0.8/class/cc/mallet/share/weili/\n",
            "   creating: mallet-2.0.8/class/cc/mallet/share/weili/ner/\n",
            "   creating: mallet-2.0.8/class/cc/mallet/share/weili/ner/enron/\n",
            "  inflating: mallet-2.0.8/class/cc/mallet/share/weili/ner/enron/EnronMessage2TokenSequence.class  \n",
            "  inflating: mallet-2.0.8/class/cc/mallet/share/weili/ner/enron/TUI.class  \n",
            "  inflating: mallet-2.0.8/class/cc/mallet/share/weili/ner/WordTransformation.class  \n",
            "   creating: mallet-2.0.8/class/cc/mallet/topics/\n",
            "  inflating: mallet-2.0.8/class/cc/mallet/topics/AbstractTopicReports.class  \n",
            "  inflating: mallet-2.0.8/class/cc/mallet/topics/DMROptimizable.class  \n",
            "  inflating: mallet-2.0.8/class/cc/mallet/topics/DMRTopicModel.class  \n",
            "  inflating: mallet-2.0.8/class/cc/mallet/topics/HierarchicalLDA$NCRPNode.class  \n",
            "  inflating: mallet-2.0.8/class/cc/mallet/topics/HierarchicalLDA.class  \n",
            "  inflating: mallet-2.0.8/class/cc/mallet/topics/HierarchicalPAM.class  \n",
            "  inflating: mallet-2.0.8/class/cc/mallet/topics/JSONTopicReports.class  \n",
            "  inflating: mallet-2.0.8/class/cc/mallet/topics/LabeledLDA.class  \n",
            "  inflating: mallet-2.0.8/class/cc/mallet/topics/LDA$1WordProb.class  \n",
            "  inflating: mallet-2.0.8/class/cc/mallet/topics/LDA.class  \n",
            "  inflating: mallet-2.0.8/class/cc/mallet/topics/LDAHyper$Topication.class  \n",
            "  inflating: mallet-2.0.8/class/cc/mallet/topics/LDAHyper.class  \n",
            "  inflating: mallet-2.0.8/class/cc/mallet/topics/LDAStream.class  \n",
            "  inflating: mallet-2.0.8/class/cc/mallet/topics/MarginalProbEstimator.class  \n",
            "  inflating: mallet-2.0.8/class/cc/mallet/topics/MultinomialHMM.class  \n",
            "  inflating: mallet-2.0.8/class/cc/mallet/topics/NPTopicModel.class  \n",
            "  inflating: mallet-2.0.8/class/cc/mallet/topics/PAM4L$IDSorter.class  \n",
            "  inflating: mallet-2.0.8/class/cc/mallet/topics/PAM4L.class  \n",
            "  inflating: mallet-2.0.8/class/cc/mallet/topics/ParallelTopicModel.class  \n",
            "  inflating: mallet-2.0.8/class/cc/mallet/topics/PolylingualTopicModel$TopicAssignment.class  \n",
            "  inflating: mallet-2.0.8/class/cc/mallet/topics/PolylingualTopicModel.class  \n",
            "  inflating: mallet-2.0.8/class/cc/mallet/topics/RTopicModel.class  \n",
            "  inflating: mallet-2.0.8/class/cc/mallet/topics/SimpleLDA.class  \n",
            "  inflating: mallet-2.0.8/class/cc/mallet/topics/TopicalNGrams$1WordProb.class  \n",
            "  inflating: mallet-2.0.8/class/cc/mallet/topics/TopicalNGrams.class  \n",
            "  inflating: mallet-2.0.8/class/cc/mallet/topics/TopicAssignment.class  \n",
            "  inflating: mallet-2.0.8/class/cc/mallet/topics/TopicInferencer.class  \n",
            "  inflating: mallet-2.0.8/class/cc/mallet/topics/TopicModelDiagnostics$TopicScores.class  \n",
            "  inflating: mallet-2.0.8/class/cc/mallet/topics/TopicModelDiagnostics.class  \n",
            "  inflating: mallet-2.0.8/class/cc/mallet/topics/TopicReports.class  \n",
            "   creating: mallet-2.0.8/class/cc/mallet/topics/tui/\n",
            "  inflating: mallet-2.0.8/class/cc/mallet/topics/tui/DMRLoader.class  \n",
            "  inflating: mallet-2.0.8/class/cc/mallet/topics/tui/EvaluateTopics.class  \n",
            "  inflating: mallet-2.0.8/class/cc/mallet/topics/tui/HierarchicalLDATUI.class  \n",
            "  inflating: mallet-2.0.8/class/cc/mallet/topics/tui/InferTopics.class  \n",
            "  inflating: mallet-2.0.8/class/cc/mallet/topics/tui/TopicTrainer.class  \n",
            "  inflating: mallet-2.0.8/class/cc/mallet/topics/tui/Vectors2Topics.class  \n",
            "  inflating: mallet-2.0.8/class/cc/mallet/topics/WeightedTopicModel.class  \n",
            "  inflating: mallet-2.0.8/class/cc/mallet/topics/WordEmbeddingRunnable.class  \n",
            "  inflating: mallet-2.0.8/class/cc/mallet/topics/WordEmbeddings.class  \n",
            "  inflating: mallet-2.0.8/class/cc/mallet/topics/WorkerRunnable.class  \n",
            "   creating: mallet-2.0.8/class/cc/mallet/types/\n",
            "  inflating: mallet-2.0.8/class/cc/mallet/types/Alphabet.class  \n",
            "  inflating: mallet-2.0.8/class/cc/mallet/types/AlphabetCarrying.class  \n",
            "  inflating: mallet-2.0.8/class/cc/mallet/types/AlphabetFactory.class  \n",
            "  inflating: mallet-2.0.8/class/cc/mallet/types/ArrayListSequence.class  \n",
            "  inflating: mallet-2.0.8/class/cc/mallet/types/ArraySequence.class  \n",
            "  inflating: mallet-2.0.8/class/cc/mallet/types/AugmentableFeatureVector.class  \n",
            "  inflating: mallet-2.0.8/class/cc/mallet/types/BiNormalSeparation$Factory.class  \n",
            "  inflating: mallet-2.0.8/class/cc/mallet/types/BiNormalSeparation.class  \n",
            "  inflating: mallet-2.0.8/class/cc/mallet/types/CachedMetric.class  \n",
            "  inflating: mallet-2.0.8/class/cc/mallet/types/ChainedInstanceIterator.class  \n",
            "  inflating: mallet-2.0.8/class/cc/mallet/types/ConstantMatrix.class  \n",
            "  inflating: mallet-2.0.8/class/cc/mallet/types/CrossValidationIterator.class  \n",
            "  inflating: mallet-2.0.8/class/cc/mallet/types/DenseMatrix.class  \n",
            "  inflating: mallet-2.0.8/class/cc/mallet/types/DenseVector.class  \n",
            "  inflating: mallet-2.0.8/class/cc/mallet/types/Dirichlet$Estimator.class  \n",
            "  inflating: mallet-2.0.8/class/cc/mallet/types/Dirichlet$MethodOfMomentsEstimator.class  \n",
            "  inflating: mallet-2.0.8/class/cc/mallet/types/Dirichlet.class  \n",
            "  inflating: mallet-2.0.8/class/cc/mallet/types/EuclideanDistance.class  \n",
            "  inflating: mallet-2.0.8/class/cc/mallet/types/ExpGain$Factory.class  \n",
            "  inflating: mallet-2.0.8/class/cc/mallet/types/ExpGain.class  \n",
            "  inflating: mallet-2.0.8/class/cc/mallet/types/FeatureConjunction$List.class  \n",
            "  inflating: mallet-2.0.8/class/cc/mallet/types/FeatureConjunction.class  \n",
            "  inflating: mallet-2.0.8/class/cc/mallet/types/FeatureCounter.class  \n",
            "  inflating: mallet-2.0.8/class/cc/mallet/types/FeatureCounts$Factory.class  \n",
            "  inflating: mallet-2.0.8/class/cc/mallet/types/FeatureCounts.class  \n",
            "  inflating: mallet-2.0.8/class/cc/mallet/types/FeatureInducer.class  \n",
            "  inflating: mallet-2.0.8/class/cc/mallet/types/FeatureSelection.class  \n",
            "  inflating: mallet-2.0.8/class/cc/mallet/types/FeatureSelector.class  \n",
            "  inflating: mallet-2.0.8/class/cc/mallet/types/FeatureSequence.class  \n",
            "  inflating: mallet-2.0.8/class/cc/mallet/types/FeatureSequenceWithBigrams.class  \n",
            "  inflating: mallet-2.0.8/class/cc/mallet/types/FeatureVector.class  \n",
            "  inflating: mallet-2.0.8/class/cc/mallet/types/FeatureVectorSequence$Iterator.class  \n",
            "  inflating: mallet-2.0.8/class/cc/mallet/types/FeatureVectorSequence.class  \n",
            "  inflating: mallet-2.0.8/class/cc/mallet/types/GainRatio$1.class  \n",
            "  inflating: mallet-2.0.8/class/cc/mallet/types/GainRatio.class  \n",
            "  inflating: mallet-2.0.8/class/cc/mallet/types/GradientGain$Factory.class  \n",
            "  inflating: mallet-2.0.8/class/cc/mallet/types/GradientGain.class  \n",
            "  inflating: mallet-2.0.8/class/cc/mallet/types/HashedSparseVector.class  \n",
            "  inflating: mallet-2.0.8/class/cc/mallet/types/IDSorter.class  \n",
            "  inflating: mallet-2.0.8/class/cc/mallet/types/IndexedSparseVector.class  \n",
            "  inflating: mallet-2.0.8/class/cc/mallet/types/InfiniteDistance.class  \n",
            "  inflating: mallet-2.0.8/class/cc/mallet/types/InfoGain$Factory.class  \n",
            "  inflating: mallet-2.0.8/class/cc/mallet/types/InfoGain.class  \n",
            "  inflating: mallet-2.0.8/class/cc/mallet/types/Instance.class  \n",
            "  inflating: mallet-2.0.8/class/cc/mallet/types/InstanceList$1.class  \n",
            "  inflating: mallet-2.0.8/class/cc/mallet/types/InstanceList$CrossValidationIterator.class  \n",
            "  inflating: mallet-2.0.8/class/cc/mallet/types/InstanceList$NotYetSetPipe.class  \n",
            "  inflating: mallet-2.0.8/class/cc/mallet/types/InstanceList.class  \n",
            "  inflating: mallet-2.0.8/class/cc/mallet/types/InstanceListTUI.class  \n",
            "  inflating: mallet-2.0.8/class/cc/mallet/types/InvertedIndex.class  \n",
            "  inflating: mallet-2.0.8/class/cc/mallet/types/KLGain.class  \n",
            "  inflating: mallet-2.0.8/class/cc/mallet/types/Label.class  \n",
            "  inflating: mallet-2.0.8/class/cc/mallet/types/LabelAlphabet.class  \n",
            "  inflating: mallet-2.0.8/class/cc/mallet/types/Labeler.class  \n",
            "  inflating: mallet-2.0.8/class/cc/mallet/types/Labeling.class  \n",
            "  inflating: mallet-2.0.8/class/cc/mallet/types/Labelings.class  \n",
            "  inflating: mallet-2.0.8/class/cc/mallet/types/Labels.class  \n",
            "  inflating: mallet-2.0.8/class/cc/mallet/types/LabelSequence$Iterator.class  \n",
            "  inflating: mallet-2.0.8/class/cc/mallet/types/LabelSequence.class  \n",
            "  inflating: mallet-2.0.8/class/cc/mallet/types/LabelsSequence.class  \n",
            "  inflating: mallet-2.0.8/class/cc/mallet/types/LabelVector.class  \n",
            "  inflating: mallet-2.0.8/class/cc/mallet/types/LogNumber.class  \n",
            "  inflating: mallet-2.0.8/class/cc/mallet/types/ManhattenDistance.class  \n",
            "  inflating: mallet-2.0.8/class/cc/mallet/types/Matrix.class  \n",
            "  inflating: mallet-2.0.8/class/cc/mallet/types/Matrix2.class  \n",
            "  inflating: mallet-2.0.8/class/cc/mallet/types/Matrixn.class  \n",
            "  inflating: mallet-2.0.8/class/cc/mallet/types/MatrixOps.class  \n",
            "  inflating: mallet-2.0.8/class/cc/mallet/types/Metric.class  \n",
            "  inflating: mallet-2.0.8/class/cc/mallet/types/Minkowski.class  \n",
            "  inflating: mallet-2.0.8/class/cc/mallet/types/MultiInstanceList$MultiIterator.class  \n",
            "  inflating: mallet-2.0.8/class/cc/mallet/types/MultiInstanceList.class  \n",
            "  inflating: mallet-2.0.8/class/cc/mallet/types/Multinomial$Estimator.class  \n",
            "  inflating: mallet-2.0.8/class/cc/mallet/types/Multinomial$LaplaceEstimator.class  \n",
            "  inflating: mallet-2.0.8/class/cc/mallet/types/Multinomial$Logged.class  \n",
            "  inflating: mallet-2.0.8/class/cc/mallet/types/Multinomial$MAPEstimator.class  \n",
            "  inflating: mallet-2.0.8/class/cc/mallet/types/Multinomial$MEstimator.class  \n",
            "  inflating: mallet-2.0.8/class/cc/mallet/types/Multinomial$MLEstimator.class  \n",
            "  inflating: mallet-2.0.8/class/cc/mallet/types/Multinomial.class  \n",
            "  inflating: mallet-2.0.8/class/cc/mallet/types/NormalizedDotProductMetric.class  \n",
            "  inflating: mallet-2.0.8/class/cc/mallet/types/NullLabel.class  \n",
            "  inflating: mallet-2.0.8/class/cc/mallet/types/PagedInstanceList.class  \n",
            "  inflating: mallet-2.0.8/class/cc/mallet/types/PartiallyRankedFeatureVector$Factory.class  \n",
            "  inflating: mallet-2.0.8/class/cc/mallet/types/PartiallyRankedFeatureVector$PerLabelFactory.class  \n",
            "  inflating: mallet-2.0.8/class/cc/mallet/types/PartiallyRankedFeatureVector.class  \n",
            "  inflating: mallet-2.0.8/class/cc/mallet/types/PerLabelFeatureCounts$Factory.class  \n",
            "  inflating: mallet-2.0.8/class/cc/mallet/types/PerLabelFeatureCounts.class  \n",
            "  inflating: mallet-2.0.8/class/cc/mallet/types/PerLabelInfoGain$Factory.class  \n",
            "  inflating: mallet-2.0.8/class/cc/mallet/types/PerLabelInfoGain.class  \n",
            "  inflating: mallet-2.0.8/class/cc/mallet/types/PropertyHolder.class  \n",
            "  inflating: mallet-2.0.8/class/cc/mallet/types/RankedFeatureVector$EntryWithOriginalIndex.class  \n",
            "  inflating: mallet-2.0.8/class/cc/mallet/types/RankedFeatureVector$Factory.class  \n",
            "  inflating: mallet-2.0.8/class/cc/mallet/types/RankedFeatureVector$PerLabelFactory.class  \n",
            "  inflating: mallet-2.0.8/class/cc/mallet/types/RankedFeatureVector.class  \n",
            "  inflating: mallet-2.0.8/class/cc/mallet/types/ROCData.class  \n",
            "  inflating: mallet-2.0.8/class/cc/mallet/types/Sequence.class  \n",
            "  inflating: mallet-2.0.8/class/cc/mallet/types/SequencePair.class  \n",
            "  inflating: mallet-2.0.8/class/cc/mallet/types/SequencePairAlignment.class  \n",
            "  inflating: mallet-2.0.8/class/cc/mallet/types/SingleInstanceIterator.class  \n",
            "  inflating: mallet-2.0.8/class/cc/mallet/types/SparseMatrixn.class  \n",
            "  inflating: mallet-2.0.8/class/cc/mallet/types/SparseVector.class  \n",
            "  inflating: mallet-2.0.8/class/cc/mallet/types/StringEditFeatureVectorSequence.class  \n",
            "  inflating: mallet-2.0.8/class/cc/mallet/types/StringEditVector.class  \n",
            "  inflating: mallet-2.0.8/class/cc/mallet/types/StringKernel.class  \n",
            "   creating: mallet-2.0.8/class/cc/mallet/types/tests/\n",
            "  inflating: mallet-2.0.8/class/cc/mallet/types/tests/TestAlphabet.class  \n",
            "  inflating: mallet-2.0.8/class/cc/mallet/types/tests/TestAugmentableFeatureVector.class  \n",
            "  inflating: mallet-2.0.8/class/cc/mallet/types/tests/TestBiNormalSeparation$BinaryTestData.class  \n",
            "  inflating: mallet-2.0.8/class/cc/mallet/types/tests/TestBiNormalSeparation.class  \n",
            "  inflating: mallet-2.0.8/class/cc/mallet/types/tests/TestFeatureSequence.class  \n",
            "  inflating: mallet-2.0.8/class/cc/mallet/types/tests/TestFeatureVector.class  \n",
            "  inflating: mallet-2.0.8/class/cc/mallet/types/tests/TestHashedSparseVector.class  \n",
            "  inflating: mallet-2.0.8/class/cc/mallet/types/tests/TestIndexedSparseVector.class  \n",
            "  inflating: mallet-2.0.8/class/cc/mallet/types/tests/TestInstanceListWeights.class  \n",
            "  inflating: mallet-2.0.8/class/cc/mallet/types/tests/TestLabelAlphabet$Labelee.class  \n",
            "  inflating: mallet-2.0.8/class/cc/mallet/types/tests/TestLabelAlphabet.class  \n",
            "  inflating: mallet-2.0.8/class/cc/mallet/types/tests/TestLabelsSequence.class  \n",
            "  inflating: mallet-2.0.8/class/cc/mallet/types/tests/TestLabelVector.class  \n",
            "  inflating: mallet-2.0.8/class/cc/mallet/types/tests/TestMatrix.class  \n",
            "  inflating: mallet-2.0.8/class/cc/mallet/types/tests/TestMatrixn.class  \n",
            "  inflating: mallet-2.0.8/class/cc/mallet/types/tests/TestMultinomial.class  \n",
            "  inflating: mallet-2.0.8/class/cc/mallet/types/tests/TestPagedInstanceList.class  \n",
            "  inflating: mallet-2.0.8/class/cc/mallet/types/tests/TestRankedFeatureVector.class  \n",
            "  inflating: mallet-2.0.8/class/cc/mallet/types/tests/TestSerializable$1.class  \n",
            "  inflating: mallet-2.0.8/class/cc/mallet/types/tests/TestSerializable$WriteMe.class  \n",
            "  inflating: mallet-2.0.8/class/cc/mallet/types/tests/TestSerializable.class  \n",
            "  inflating: mallet-2.0.8/class/cc/mallet/types/tests/TestSparseMatrixn.class  \n",
            "  inflating: mallet-2.0.8/class/cc/mallet/types/tests/TestSparseVector.class  \n",
            "  inflating: mallet-2.0.8/class/cc/mallet/types/tests/TestToken.class  \n",
            "  inflating: mallet-2.0.8/class/cc/mallet/types/Token.class  \n",
            "  inflating: mallet-2.0.8/class/cc/mallet/types/TokenSequence.class  \n",
            "  inflating: mallet-2.0.8/class/cc/mallet/types/Vector.class  \n",
            "   creating: mallet-2.0.8/class/cc/mallet/util/\n",
            "  inflating: mallet-2.0.8/class/cc/mallet/util/Addable.class  \n",
            "  inflating: mallet-2.0.8/class/cc/mallet/util/ArrayListUtils.class  \n",
            "  inflating: mallet-2.0.8/class/cc/mallet/util/ArrayUtils.class  \n",
            "  inflating: mallet-2.0.8/class/cc/mallet/util/BshInterpreter.class  \n",
            "  inflating: mallet-2.0.8/class/cc/mallet/util/BulkLoader.class  \n",
            "  inflating: mallet-2.0.8/class/cc/mallet/util/CharSequenceLexer.class  \n",
            "  inflating: mallet-2.0.8/class/cc/mallet/util/CollectionUtils$1Accumulator.class  \n",
            "  inflating: mallet-2.0.8/class/cc/mallet/util/CollectionUtils$Fn.class  \n",
            "  inflating: mallet-2.0.8/class/cc/mallet/util/CollectionUtils.class  \n",
            "  inflating: mallet-2.0.8/class/cc/mallet/util/ColorUtils.class  \n",
            "  inflating: mallet-2.0.8/class/cc/mallet/util/CommandOption$1.class  \n",
            "  inflating: mallet-2.0.8/class/cc/mallet/util/CommandOption$Boolean.class  \n",
            "  inflating: mallet-2.0.8/class/cc/mallet/util/CommandOption$Double.class  \n",
            "  inflating: mallet-2.0.8/class/cc/mallet/util/CommandOption$DoubleArray.class  \n",
            "  inflating: mallet-2.0.8/class/cc/mallet/util/CommandOption$File.class  \n",
            "  inflating: mallet-2.0.8/class/cc/mallet/util/CommandOption$Integer.class  \n",
            "  inflating: mallet-2.0.8/class/cc/mallet/util/CommandOption$IntegerArray.class  \n",
            "  inflating: mallet-2.0.8/class/cc/mallet/util/CommandOption$List$1.class  \n",
            "  inflating: mallet-2.0.8/class/cc/mallet/util/CommandOption$List$2.class  \n",
            "  inflating: mallet-2.0.8/class/cc/mallet/util/CommandOption$List.class  \n",
            "  inflating: mallet-2.0.8/class/cc/mallet/util/CommandOption$ListProviding.class  \n",
            "  inflating: mallet-2.0.8/class/cc/mallet/util/CommandOption$Object.class  \n",
            "  inflating: mallet-2.0.8/class/cc/mallet/util/CommandOption$ObjectFromBean.class  \n",
            "  inflating: mallet-2.0.8/class/cc/mallet/util/CommandOption$Set.class  \n",
            "  inflating: mallet-2.0.8/class/cc/mallet/util/CommandOption$SpacedStrings.class  \n",
            "  inflating: mallet-2.0.8/class/cc/mallet/util/CommandOption$String.class  \n",
            "  inflating: mallet-2.0.8/class/cc/mallet/util/CommandOption.class  \n",
            "  inflating: mallet-2.0.8/class/cc/mallet/util/DBBulkLoader.class  \n",
            "  inflating: mallet-2.0.8/class/cc/mallet/util/DBInstanceStore.class  \n",
            "  inflating: mallet-2.0.8/class/cc/mallet/util/DirectoryFilter.class  \n",
            "  inflating: mallet-2.0.8/class/cc/mallet/util/DocumentLengths.class  \n",
            "  inflating: mallet-2.0.8/class/cc/mallet/util/DoubleList.class  \n",
            "  inflating: mallet-2.0.8/class/cc/mallet/util/FeatureCooccurrenceCounter.class  \n",
            "  inflating: mallet-2.0.8/class/cc/mallet/util/FeatureCountTool.class  \n",
            "  inflating: mallet-2.0.8/class/cc/mallet/util/FileUtils.class  \n",
            "  inflating: mallet-2.0.8/class/cc/mallet/util/InstanceListPrinter.class  \n",
            "  inflating: mallet-2.0.8/class/cc/mallet/util/IoUtils.class  \n",
            "  inflating: mallet-2.0.8/class/cc/mallet/util/Lexer.class  \n",
            "  inflating: mallet-2.0.8/class/cc/mallet/util/MalletLogger.class  \n",
            "  inflating: mallet-2.0.8/class/cc/mallet/util/MalletProgressMessageLogger.class  \n",
            "  inflating: mallet-2.0.8/class/cc/mallet/util/Maths.class  \n",
            "  inflating: mallet-2.0.8/class/cc/mallet/util/MVNormal.class  \n",
            "  inflating: mallet-2.0.8/class/cc/mallet/util/PlainLogFormatter.class  \n",
            "  inflating: mallet-2.0.8/class/cc/mallet/util/PrintUtilities.class  \n",
            "  inflating: mallet-2.0.8/class/cc/mallet/util/ProgressMessageLogFormatter.class  \n",
            "  inflating: mallet-2.0.8/class/cc/mallet/util/ProgressMessageLogRecord.class  \n",
            "  inflating: mallet-2.0.8/class/cc/mallet/util/PropertyList$Iterator.class  \n",
            "  inflating: mallet-2.0.8/class/cc/mallet/util/PropertyList$NumericIterator.class  \n",
            "  inflating: mallet-2.0.8/class/cc/mallet/util/PropertyList$NumericProperty.class  \n",
            "  inflating: mallet-2.0.8/class/cc/mallet/util/PropertyList$ObjectIterator.class  \n",
            "  inflating: mallet-2.0.8/class/cc/mallet/util/PropertyList$ObjectProperty.class  \n",
            "  inflating: mallet-2.0.8/class/cc/mallet/util/PropertyList.class  \n",
            "  inflating: mallet-2.0.8/class/cc/mallet/util/Randoms$1.class  \n",
            "  inflating: mallet-2.0.8/class/cc/mallet/util/Randoms.class  \n",
            "  inflating: mallet-2.0.8/class/cc/mallet/util/RegexFileFilter.class  \n",
            "  inflating: mallet-2.0.8/class/cc/mallet/util/Replacement.class  \n",
            "  inflating: mallet-2.0.8/class/cc/mallet/util/Replacer.class  \n",
            "   creating: mallet-2.0.8/class/cc/mallet/util/resources/\n",
            "  inflating: mallet-2.0.8/class/cc/mallet/util/resources/logging.properties  \n",
            "   creating: mallet-2.0.8/class/cc/mallet/util/resources/wn/\n",
            "  inflating: mallet-2.0.8/class/cc/mallet/util/resources/wn/Examples.class  \n",
            "   creating: mallet-2.0.8/class/cc/mallet/util/search/\n",
            "  inflating: mallet-2.0.8/class/cc/mallet/util/search/AStar.class  \n",
            "  inflating: mallet-2.0.8/class/cc/mallet/util/search/AStarNode$NextNodeIterator.class  \n",
            "  inflating: mallet-2.0.8/class/cc/mallet/util/search/AStarNode.class  \n",
            "  inflating: mallet-2.0.8/class/cc/mallet/util/search/AStarState.class  \n",
            "  inflating: mallet-2.0.8/class/cc/mallet/util/search/MinHeap.class  \n",
            "  inflating: mallet-2.0.8/class/cc/mallet/util/search/PriorityQueue.class  \n",
            "  inflating: mallet-2.0.8/class/cc/mallet/util/search/QueueElement.class  \n",
            "  inflating: mallet-2.0.8/class/cc/mallet/util/search/SearchNode$NextNodeIterator.class  \n",
            "  inflating: mallet-2.0.8/class/cc/mallet/util/search/SearchNode.class  \n",
            "  inflating: mallet-2.0.8/class/cc/mallet/util/search/SearchState$NextStateIterator.class  \n",
            "  inflating: mallet-2.0.8/class/cc/mallet/util/search/SearchState.class  \n",
            "  inflating: mallet-2.0.8/class/cc/mallet/util/Sequences.class  \n",
            "  inflating: mallet-2.0.8/class/cc/mallet/util/StatFunctions.class  \n",
            "  inflating: mallet-2.0.8/class/cc/mallet/util/Strings.class  \n",
            "   creating: mallet-2.0.8/class/cc/mallet/util/tests/\n",
            "  inflating: mallet-2.0.8/class/cc/mallet/util/tests/TestAStar$1.class  \n",
            "  inflating: mallet-2.0.8/class/cc/mallet/util/tests/TestAStar$State$NextStates.class  \n",
            "  inflating: mallet-2.0.8/class/cc/mallet/util/tests/TestAStar$State.class  \n",
            "  inflating: mallet-2.0.8/class/cc/mallet/util/tests/TestAStar.class  \n",
            "  inflating: mallet-2.0.8/class/cc/mallet/util/tests/TestMaths.class  \n",
            "  inflating: mallet-2.0.8/class/cc/mallet/util/tests/TestPriorityQueue$1.class  \n",
            "  inflating: mallet-2.0.8/class/cc/mallet/util/tests/TestPriorityQueue$Item.class  \n",
            "  inflating: mallet-2.0.8/class/cc/mallet/util/tests/TestPriorityQueue.class  \n",
            "  inflating: mallet-2.0.8/class/cc/mallet/util/tests/TestPropertyList.class  \n",
            "  inflating: mallet-2.0.8/class/cc/mallet/util/tests/TestRandom.class  \n",
            "  inflating: mallet-2.0.8/class/cc/mallet/util/tests/TestStrings.class  \n",
            "  inflating: mallet-2.0.8/class/cc/mallet/util/Timing.class  \n",
            "  inflating: mallet-2.0.8/class/cc/mallet/util/Univariate.class  \n",
            "  inflating: mallet-2.0.8/class/cc/mallet/util/UriUtils.class  \n",
            "  inflating: mallet-2.0.8/class/cc/mallet/util/VectorStats.class  \n",
            "   creating: mallet-2.0.8/dist/\n",
            "  inflating: mallet-2.0.8/dist/mallet-deps.jar  \n",
            "  inflating: mallet-2.0.8/dist/mallet.jar  \n",
            "   creating: mallet-2.0.8/lib/\n",
            "  inflating: mallet-2.0.8/lib/bsh.jar  \n",
            "  inflating: mallet-2.0.8/lib/derby.jar  \n",
            "  inflating: mallet-2.0.8/lib/grmm-deps.jar  \n",
            "  inflating: mallet-2.0.8/lib/jdom-1.0.jar  \n",
            "  inflating: mallet-2.0.8/lib/jgrapht-0.6.0.jar  \n",
            "  inflating: mallet-2.0.8/lib/junit-4.5.jar  \n",
            "  inflating: mallet-2.0.8/lib/jwnl-1.3.jar  \n",
            "  inflating: mallet-2.0.8/lib/LICENSES  \n",
            "  inflating: mallet-2.0.8/lib/Makefile  \n",
            "  inflating: mallet-2.0.8/lib/mallet-deps.jar  \n",
            "  inflating: mallet-2.0.8/lib/mtj-0.9.9.jar  \n",
            "  inflating: mallet-2.0.8/lib/openjgraph.jar  \n",
            "  inflating: mallet-2.0.8/lib/trove-2.0.2.jar  \n",
            "  inflating: mallet-2.0.8/LICENSE    \n",
            "  inflating: mallet-2.0.8/Makefile   \n",
            "  inflating: mallet-2.0.8/pom.xml    \n",
            "  inflating: mallet-2.0.8/README.md  \n",
            "   creating: mallet-2.0.8/sample-data/\n",
            "   creating: mallet-2.0.8/sample-data/numeric/\n",
            "  inflating: mallet-2.0.8/sample-data/numeric/boxes.txt  \n",
            "  inflating: mallet-2.0.8/sample-data/numeric/puffins.txt  \n",
            "  inflating: mallet-2.0.8/sample-data/README  \n",
            "   creating: mallet-2.0.8/sample-data/web/\n",
            "   creating: mallet-2.0.8/sample-data/web/de/\n",
            "  inflating: mallet-2.0.8/sample-data/web/de/apollo8.txt  \n",
            "  inflating: mallet-2.0.8/sample-data/web/de/fiv.txt  \n",
            "  inflating: mallet-2.0.8/sample-data/web/de/habichtsadler.txt  \n",
            "  inflating: mallet-2.0.8/sample-data/web/de/hoechst.txt  \n",
            "  inflating: mallet-2.0.8/sample-data/web/de/indogermanische.txt  \n",
            "  inflating: mallet-2.0.8/sample-data/web/de/konrad.txt  \n",
            "  inflating: mallet-2.0.8/sample-data/web/de/marcellinus.txt  \n",
            "  inflating: mallet-2.0.8/sample-data/web/de/rostock.txt  \n",
            "  inflating: mallet-2.0.8/sample-data/web/de/sadat.txt  \n",
            "  inflating: mallet-2.0.8/sample-data/web/de/t40.txt  \n",
            "  inflating: mallet-2.0.8/sample-data/web/de/ulrich.txt  \n",
            "  inflating: mallet-2.0.8/sample-data/web/de/wildenstein.txt  \n",
            "   creating: mallet-2.0.8/sample-data/web/en/\n",
            "  inflating: mallet-2.0.8/sample-data/web/en/elizabeth_needham.txt  \n",
            "  inflating: mallet-2.0.8/sample-data/web/en/equipartition_theorem.txt  \n",
            "  inflating: mallet-2.0.8/sample-data/web/en/gunnhild.txt  \n",
            "  inflating: mallet-2.0.8/sample-data/web/en/hawes.txt  \n",
            "  inflating: mallet-2.0.8/sample-data/web/en/hill.txt  \n",
            "  inflating: mallet-2.0.8/sample-data/web/en/shiloh.txt  \n",
            "  inflating: mallet-2.0.8/sample-data/web/en/sunderland_echo.txt  \n",
            "  inflating: mallet-2.0.8/sample-data/web/en/thespis.txt  \n",
            "  inflating: mallet-2.0.8/sample-data/web/en/thylacine.txt  \n",
            "  inflating: mallet-2.0.8/sample-data/web/en/uranus.txt  \n",
            "  inflating: mallet-2.0.8/sample-data/web/en/yard.txt  \n",
            "  inflating: mallet-2.0.8/sample-data/web/en/zinta.txt  \n",
            "   creating: mallet-2.0.8/src/\n",
            "   creating: mallet-2.0.8/src/cc/\n",
            "   creating: mallet-2.0.8/src/cc/mallet/\n",
            "   creating: mallet-2.0.8/src/cc/mallet/classify/\n",
            "  inflating: mallet-2.0.8/src/cc/mallet/classify/AdaBoost.java  \n",
            "  inflating: mallet-2.0.8/src/cc/mallet/classify/AdaBoostM2.java  \n",
            "  inflating: mallet-2.0.8/src/cc/mallet/classify/AdaBoostM2Trainer.java  \n",
            "  inflating: mallet-2.0.8/src/cc/mallet/classify/AdaBoostTrainer.java  \n",
            "  inflating: mallet-2.0.8/src/cc/mallet/classify/BaggingClassifier.java  \n",
            "  inflating: mallet-2.0.8/src/cc/mallet/classify/BaggingTrainer.java  \n",
            "  inflating: mallet-2.0.8/src/cc/mallet/classify/BalancedWinnow.java  \n",
            "  inflating: mallet-2.0.8/src/cc/mallet/classify/BalancedWinnowTrainer.java  \n",
            "  inflating: mallet-2.0.8/src/cc/mallet/classify/Boostable.java  \n",
            "  inflating: mallet-2.0.8/src/cc/mallet/classify/C45.java  \n",
            "  inflating: mallet-2.0.8/src/cc/mallet/classify/C45Trainer.java  \n",
            "  inflating: mallet-2.0.8/src/cc/mallet/classify/Classification.java  \n",
            "  inflating: mallet-2.0.8/src/cc/mallet/classify/Classifier.java  \n",
            "  inflating: mallet-2.0.8/src/cc/mallet/classify/ClassifierAccuracyEvaluator.java  \n",
            "  inflating: mallet-2.0.8/src/cc/mallet/classify/ClassifierEnsemble.java  \n",
            "  inflating: mallet-2.0.8/src/cc/mallet/classify/ClassifierEnsembleTrainer.java  \n",
            "  inflating: mallet-2.0.8/src/cc/mallet/classify/ClassifierEvaluator.java  \n",
            "  inflating: mallet-2.0.8/src/cc/mallet/classify/ClassifierTrainer.java  \n",
            "  inflating: mallet-2.0.8/src/cc/mallet/classify/ConfidencePredictingClassifier.java  \n",
            "  inflating: mallet-2.0.8/src/cc/mallet/classify/ConfidencePredictingClassifierTrainer.java  \n",
            "   creating: mallet-2.0.8/src/cc/mallet/classify/constraints/\n",
            "   creating: mallet-2.0.8/src/cc/mallet/classify/constraints/ge/\n",
            "  inflating: mallet-2.0.8/src/cc/mallet/classify/constraints/ge/MaxEntFLGEConstraints.java  \n",
            "  inflating: mallet-2.0.8/src/cc/mallet/classify/constraints/ge/MaxEntGEConstraint.java  \n",
            "  inflating: mallet-2.0.8/src/cc/mallet/classify/constraints/ge/MaxEntKLFLGEConstraints.java  \n",
            "  inflating: mallet-2.0.8/src/cc/mallet/classify/constraints/ge/MaxEntL2FLGEConstraints.java  \n",
            "  inflating: mallet-2.0.8/src/cc/mallet/classify/constraints/ge/MaxEntRangeL2FLGEConstraints.java  \n",
            "   creating: mallet-2.0.8/src/cc/mallet/classify/constraints/pr/\n",
            "  inflating: mallet-2.0.8/src/cc/mallet/classify/constraints/pr/MaxEntFLPRConstraints.java  \n",
            "  inflating: mallet-2.0.8/src/cc/mallet/classify/constraints/pr/MaxEntL2FLPRConstraints.java  \n",
            "  inflating: mallet-2.0.8/src/cc/mallet/classify/constraints/pr/MaxEntPRConstraint.java  \n",
            "  inflating: mallet-2.0.8/src/cc/mallet/classify/DecisionTree.java  \n",
            "  inflating: mallet-2.0.8/src/cc/mallet/classify/DecisionTreeTrainer.java  \n",
            "   creating: mallet-2.0.8/src/cc/mallet/classify/evaluate/\n",
            "  inflating: mallet-2.0.8/src/cc/mallet/classify/evaluate/AccuracyCoverage.java  \n",
            "  inflating: mallet-2.0.8/src/cc/mallet/classify/evaluate/ConfusionMatrix.java  \n",
            "  inflating: mallet-2.0.8/src/cc/mallet/classify/evaluate/Graph.java  \n",
            "  inflating: mallet-2.0.8/src/cc/mallet/classify/evaluate/Graph2.java  \n",
            "  inflating: mallet-2.0.8/src/cc/mallet/classify/evaluate/GraphItem.java  \n",
            "  inflating: mallet-2.0.8/src/cc/mallet/classify/evaluate/package.html  \n",
            "   creating: mallet-2.0.8/src/cc/mallet/classify/examples/\n",
            "  inflating: mallet-2.0.8/src/cc/mallet/classify/examples/DocumentClassifier.java  \n",
            "  inflating: mallet-2.0.8/src/cc/mallet/classify/examples/package.html  \n",
            "  inflating: mallet-2.0.8/src/cc/mallet/classify/FeatureConstraintUtil.java  \n",
            "  inflating: mallet-2.0.8/src/cc/mallet/classify/FeatureSelectingClassifierTrainer.java  \n",
            "  inflating: mallet-2.0.8/src/cc/mallet/classify/MaxEnt.java  \n",
            "  inflating: mallet-2.0.8/src/cc/mallet/classify/MaxEntGERangeTrainer.java  \n",
            "  inflating: mallet-2.0.8/src/cc/mallet/classify/MaxEntGETrainer.java  \n",
            "  inflating: mallet-2.0.8/src/cc/mallet/classify/MaxEntL1Trainer.java  \n",
            "  inflating: mallet-2.0.8/src/cc/mallet/classify/MaxEntOptimizableByGE.java  \n",
            "  inflating: mallet-2.0.8/src/cc/mallet/classify/MaxEntOptimizableByLabelDistribution.java  \n",
            "  inflating: mallet-2.0.8/src/cc/mallet/classify/MaxEntOptimizableByLabelLikelihood.java  \n",
            "  inflating: mallet-2.0.8/src/cc/mallet/classify/MaxEntPRTrainer.java  \n",
            "  inflating: mallet-2.0.8/src/cc/mallet/classify/MaxEntTrainer.java  \n",
            "  inflating: mallet-2.0.8/src/cc/mallet/classify/MCMaxEnt.java  \n",
            "  inflating: mallet-2.0.8/src/cc/mallet/classify/MCMaxEntTrainer.java  \n",
            "  inflating: mallet-2.0.8/src/cc/mallet/classify/MostFrequentClassAssignmentTrainer.java  \n",
            "  inflating: mallet-2.0.8/src/cc/mallet/classify/MostFrequentClassifier.java  \n",
            "  inflating: mallet-2.0.8/src/cc/mallet/classify/NaiveBayes.java  \n",
            "  inflating: mallet-2.0.8/src/cc/mallet/classify/NaiveBayesEMTrainer.java  \n",
            "  inflating: mallet-2.0.8/src/cc/mallet/classify/NaiveBayesTrainer.java  \n",
            "  inflating: mallet-2.0.8/src/cc/mallet/classify/package.html  \n",
            "  inflating: mallet-2.0.8/src/cc/mallet/classify/PRAuxClassifier.java  \n",
            "  inflating: mallet-2.0.8/src/cc/mallet/classify/PRAuxClassifierOptimizable.java  \n",
            "  inflating: mallet-2.0.8/src/cc/mallet/classify/RandomAssignmentTrainer.java  \n",
            "  inflating: mallet-2.0.8/src/cc/mallet/classify/RandomClassifier.java  \n",
            "  inflating: mallet-2.0.8/src/cc/mallet/classify/RankMaxEnt.java  \n",
            "  inflating: mallet-2.0.8/src/cc/mallet/classify/RankMaxEntTrainer.java  \n",
            "   creating: mallet-2.0.8/src/cc/mallet/classify/tests/\n",
            "   creating: mallet-2.0.8/src/cc/mallet/classify/tests/NaiveBayesData/\n",
            "   creating: mallet-2.0.8/src/cc/mallet/classify/tests/NaiveBayesData/learn/\n",
            "   creating: mallet-2.0.8/src/cc/mallet/classify/tests/NaiveBayesData/learn/a/\n",
            " extracting: mallet-2.0.8/src/cc/mallet/classify/tests/NaiveBayesData/learn/a/m1  \n",
            " extracting: mallet-2.0.8/src/cc/mallet/classify/tests/NaiveBayesData/learn/a/ma  \n",
            "   creating: mallet-2.0.8/src/cc/mallet/classify/tests/NaiveBayesData/learn/b/\n",
            " extracting: mallet-2.0.8/src/cc/mallet/classify/tests/NaiveBayesData/learn/b/m2  \n",
            "   creating: mallet-2.0.8/src/cc/mallet/classify/tests/NaiveBayesData/update/\n",
            "   creating: mallet-2.0.8/src/cc/mallet/classify/tests/NaiveBayesData/update/b/\n",
            " extracting: mallet-2.0.8/src/cc/mallet/classify/tests/NaiveBayesData/update/b/m3  \n",
            " extracting: mallet-2.0.8/src/cc/mallet/classify/tests/NaiveBayesData/update/b/m4  \n",
            " extracting: mallet-2.0.8/src/cc/mallet/classify/tests/NaiveBayesData/update/b/m5  \n",
            "  inflating: mallet-2.0.8/src/cc/mallet/classify/tests/package.html  \n",
            "  inflating: mallet-2.0.8/src/cc/mallet/classify/tests/TestClassifiers.java  \n",
            "  inflating: mallet-2.0.8/src/cc/mallet/classify/tests/TestMaxEntTrainer.java  \n",
            "  inflating: mallet-2.0.8/src/cc/mallet/classify/tests/TestNaiveBayes.java  \n",
            "  inflating: mallet-2.0.8/src/cc/mallet/classify/tests/TestStaticParameters.java  \n",
            "  inflating: mallet-2.0.8/src/cc/mallet/classify/Trial.java  \n",
            "   creating: mallet-2.0.8/src/cc/mallet/classify/tui/\n",
            "  inflating: mallet-2.0.8/src/cc/mallet/classify/tui/Calo2Classify.java  \n",
            "  inflating: mallet-2.0.8/src/cc/mallet/classify/tui/Classifier2Info.java  \n",
            "  inflating: mallet-2.0.8/src/cc/mallet/classify/tui/Csv2Classify.java  \n",
            "  inflating: mallet-2.0.8/src/cc/mallet/classify/tui/Csv2Vectors.java  \n",
            "  inflating: mallet-2.0.8/src/cc/mallet/classify/tui/package.html  \n",
            "  inflating: mallet-2.0.8/src/cc/mallet/classify/tui/SvmLight2Classify.java  \n",
            "  inflating: mallet-2.0.8/src/cc/mallet/classify/tui/SvmLight2Vectors.java  \n",
            "  inflating: mallet-2.0.8/src/cc/mallet/classify/tui/Text2Classify.java  \n",
            "  inflating: mallet-2.0.8/src/cc/mallet/classify/tui/Text2Vectors.java  \n",
            "  inflating: mallet-2.0.8/src/cc/mallet/classify/tui/TODO  \n",
            "  inflating: mallet-2.0.8/src/cc/mallet/classify/tui/Vectors2Classify.java  \n",
            "  inflating: mallet-2.0.8/src/cc/mallet/classify/tui/Vectors2FeatureConstraints.java  \n",
            "  inflating: mallet-2.0.8/src/cc/mallet/classify/tui/Vectors2Info.java  \n",
            "  inflating: mallet-2.0.8/src/cc/mallet/classify/tui/Vectors2Vectors.java  \n",
            "  inflating: mallet-2.0.8/src/cc/mallet/classify/Winnow.java  \n",
            "  inflating: mallet-2.0.8/src/cc/mallet/classify/WinnowTrainer.java  \n",
            "   creating: mallet-2.0.8/src/cc/mallet/cluster/\n",
            "  inflating: mallet-2.0.8/src/cc/mallet/cluster/Clusterer.java  \n",
            "  inflating: mallet-2.0.8/src/cc/mallet/cluster/Clustering.java  \n",
            "   creating: mallet-2.0.8/src/cc/mallet/cluster/clustering_scorer/\n",
            "  inflating: mallet-2.0.8/src/cc/mallet/cluster/clustering_scorer/ClusteringScorer.java  \n",
            "  inflating: mallet-2.0.8/src/cc/mallet/cluster/clustering_scorer/PairwiseScorer.java  \n",
            "  inflating: mallet-2.0.8/src/cc/mallet/cluster/Clusterings.java  \n",
            "   creating: mallet-2.0.8/src/cc/mallet/cluster/evaluate/\n",
            "  inflating: mallet-2.0.8/src/cc/mallet/cluster/evaluate/AccuracyEvaluator.java  \n",
            "  inflating: mallet-2.0.8/src/cc/mallet/cluster/evaluate/BCubedEvaluator.java  \n",
            "  inflating: mallet-2.0.8/src/cc/mallet/cluster/evaluate/ClusteringEvaluator.java  \n",
            "  inflating: mallet-2.0.8/src/cc/mallet/cluster/evaluate/ClusteringEvaluators.java  \n",
            "  inflating: mallet-2.0.8/src/cc/mallet/cluster/evaluate/MUCEvaluator.java  \n",
            "  inflating: mallet-2.0.8/src/cc/mallet/cluster/evaluate/PairF1Evaluator.java  \n",
            "   creating: mallet-2.0.8/src/cc/mallet/cluster/evaluate/tests/\n",
            "  inflating: mallet-2.0.8/src/cc/mallet/cluster/evaluate/tests/TestClusteringEvaluators.java  \n",
            "   creating: mallet-2.0.8/src/cc/mallet/cluster/examples/\n",
            "  inflating: mallet-2.0.8/src/cc/mallet/cluster/examples/FirstOrderClusterExample.java  \n",
            "  inflating: mallet-2.0.8/src/cc/mallet/cluster/GreedyAgglomerative.java  \n",
            "  inflating: mallet-2.0.8/src/cc/mallet/cluster/GreedyAgglomerativeByDensity.java  \n",
            "  inflating: mallet-2.0.8/src/cc/mallet/cluster/HillClimbingClusterer.java  \n",
            "   creating: mallet-2.0.8/src/cc/mallet/cluster/iterator/\n",
            "  inflating: mallet-2.0.8/src/cc/mallet/cluster/iterator/AllPairsIterator.java  \n",
            "  inflating: mallet-2.0.8/src/cc/mallet/cluster/iterator/ClusterSampleIterator.java  \n",
            "  inflating: mallet-2.0.8/src/cc/mallet/cluster/iterator/NeighborIterator.java  \n",
            "  inflating: mallet-2.0.8/src/cc/mallet/cluster/iterator/NodeClusterSampleIterator.java  \n",
            "  inflating: mallet-2.0.8/src/cc/mallet/cluster/iterator/PairSampleIterator.java  \n",
            "   creating: mallet-2.0.8/src/cc/mallet/cluster/iterator/tests/\n",
            "  inflating: mallet-2.0.8/src/cc/mallet/cluster/iterator/tests/TestIterators.java  \n",
            "  inflating: mallet-2.0.8/src/cc/mallet/cluster/KBestClusterer.java  \n",
            "  inflating: mallet-2.0.8/src/cc/mallet/cluster/KMeans.java  \n",
            "   creating: mallet-2.0.8/src/cc/mallet/cluster/neighbor_evaluator/\n",
            "  inflating: mallet-2.0.8/src/cc/mallet/cluster/neighbor_evaluator/AgglomerativeNeighbor.java  \n",
            "  inflating: mallet-2.0.8/src/cc/mallet/cluster/neighbor_evaluator/ClassifyingNeighborEvaluator.java  \n",
            "  inflating: mallet-2.0.8/src/cc/mallet/cluster/neighbor_evaluator/MedoidEvaluator.java  \n",
            "  inflating: mallet-2.0.8/src/cc/mallet/cluster/neighbor_evaluator/Neighbor.java  \n",
            "  inflating: mallet-2.0.8/src/cc/mallet/cluster/neighbor_evaluator/NeighborEvaluator.java  \n",
            "  inflating: mallet-2.0.8/src/cc/mallet/cluster/neighbor_evaluator/PairwiseEvaluator.java  \n",
            "  inflating: mallet-2.0.8/src/cc/mallet/cluster/neighbor_evaluator/RandomEvaluator.java  \n",
            "  inflating: mallet-2.0.8/src/cc/mallet/cluster/neighbor_evaluator/RankingNeighborEvaluator.java  \n",
            "  inflating: mallet-2.0.8/src/cc/mallet/cluster/package.html  \n",
            "  inflating: mallet-2.0.8/src/cc/mallet/cluster/README  \n",
            "  inflating: mallet-2.0.8/src/cc/mallet/cluster/Record.java  \n",
            "   creating: mallet-2.0.8/src/cc/mallet/cluster/tui/\n",
            "  inflating: mallet-2.0.8/src/cc/mallet/cluster/tui/Clusterings2Clusterer.java  \n",
            "  inflating: mallet-2.0.8/src/cc/mallet/cluster/tui/Clusterings2Clusterings.java  \n",
            "  inflating: mallet-2.0.8/src/cc/mallet/cluster/tui/Clusterings2Info.java  \n",
            "  inflating: mallet-2.0.8/src/cc/mallet/cluster/tui/Text2Clusterings.java  \n",
            "   creating: mallet-2.0.8/src/cc/mallet/cluster/util/\n",
            "  inflating: mallet-2.0.8/src/cc/mallet/cluster/util/ClusterUtils.java  \n",
            "  inflating: mallet-2.0.8/src/cc/mallet/cluster/util/PairwiseMatrix.java  \n",
            "   creating: mallet-2.0.8/src/cc/mallet/examples/\n",
            "  inflating: mallet-2.0.8/src/cc/mallet/examples/TestCRFPipe.java  \n",
            "  inflating: mallet-2.0.8/src/cc/mallet/examples/TopicModel.java  \n",
            "  inflating: mallet-2.0.8/src/cc/mallet/examples/TrainCRF.java  \n",
            "  inflating: mallet-2.0.8/src/cc/mallet/examples/TrainHMM.java  \n",
            "   creating: mallet-2.0.8/src/cc/mallet/extract/\n",
            "  inflating: mallet-2.0.8/src/cc/mallet/extract/AccuracyCoverageEvaluator.java  \n",
            "  inflating: mallet-2.0.8/src/cc/mallet/extract/BIOTokenizationFilter.java  \n",
            "  inflating: mallet-2.0.8/src/cc/mallet/extract/BIOTokenizationFilterWithTokenIndices.java  \n",
            "  inflating: mallet-2.0.8/src/cc/mallet/extract/ConfidenceTokenizationFilter.java  \n",
            "  inflating: mallet-2.0.8/src/cc/mallet/extract/CRFExtractor.java  \n",
            "  inflating: mallet-2.0.8/src/cc/mallet/extract/DefaultTokenizationFilter.java  \n",
            "  inflating: mallet-2.0.8/src/cc/mallet/extract/DocumentExtraction.java  \n",
            "  inflating: mallet-2.0.8/src/cc/mallet/extract/DocumentViewer.java  \n",
            "  inflating: mallet-2.0.8/src/cc/mallet/extract/ExactMatchComparator.java  \n",
            "  inflating: mallet-2.0.8/src/cc/mallet/extract/Extraction.java  \n",
            "  inflating: mallet-2.0.8/src/cc/mallet/extract/ExtractionConfidenceEstimator.java  \n",
            "  inflating: mallet-2.0.8/src/cc/mallet/extract/ExtractionEvaluator.java  \n",
            "  inflating: mallet-2.0.8/src/cc/mallet/extract/Extractor.java  \n",
            "  inflating: mallet-2.0.8/src/cc/mallet/extract/Field.java  \n",
            "  inflating: mallet-2.0.8/src/cc/mallet/extract/FieldCleaner.java  \n",
            "  inflating: mallet-2.0.8/src/cc/mallet/extract/FieldComparator.java  \n",
            "  inflating: mallet-2.0.8/src/cc/mallet/extract/HierarchicalTokenizationFilter.java  \n",
            "  inflating: mallet-2.0.8/src/cc/mallet/extract/LabeledSpan.java  \n",
            "  inflating: mallet-2.0.8/src/cc/mallet/extract/LabeledSpans.java  \n",
            "  inflating: mallet-2.0.8/src/cc/mallet/extract/LatticeViewer.java  \n",
            "  inflating: mallet-2.0.8/src/cc/mallet/extract/package.html  \n",
            "  inflating: mallet-2.0.8/src/cc/mallet/extract/PerDocumentF1Evaluator.java  \n",
            "  inflating: mallet-2.0.8/src/cc/mallet/extract/PerFieldF1Evaluator.java  \n",
            "   creating: mallet-2.0.8/src/cc/mallet/extract/pipe/\n",
            "  inflating: mallet-2.0.8/src/cc/mallet/extract/pipe/TokenSequence2Tokenization.java  \n",
            "  inflating: mallet-2.0.8/src/cc/mallet/extract/PunctuationIgnoringComparator.java  \n",
            "  inflating: mallet-2.0.8/src/cc/mallet/extract/Record.java  \n",
            "  inflating: mallet-2.0.8/src/cc/mallet/extract/RegexFieldCleaner.java  \n",
            "  inflating: mallet-2.0.8/src/cc/mallet/extract/Span.java  \n",
            "  inflating: mallet-2.0.8/src/cc/mallet/extract/StringSpan.java  \n",
            "  inflating: mallet-2.0.8/src/cc/mallet/extract/StringTokenization.java  \n",
            "   creating: mallet-2.0.8/src/cc/mallet/extract/test/\n",
            "  inflating: mallet-2.0.8/src/cc/mallet/extract/test/TestDocumentExtraction.java  \n",
            "  inflating: mallet-2.0.8/src/cc/mallet/extract/test/TestDocumentViewer.java  \n",
            "  inflating: mallet-2.0.8/src/cc/mallet/extract/test/TestLatticeViewer.java  \n",
            "  inflating: mallet-2.0.8/src/cc/mallet/extract/test/TestPerDocumentF1Evaluator.java  \n",
            "  inflating: mallet-2.0.8/src/cc/mallet/extract/Tokenization.java  \n",
            "  inflating: mallet-2.0.8/src/cc/mallet/extract/TokenizationFilter.java  \n",
            "  inflating: mallet-2.0.8/src/cc/mallet/extract/TransducerExtractionConfidenceEstimator.java  \n",
            "   creating: mallet-2.0.8/src/cc/mallet/fst/\n",
            "  inflating: mallet-2.0.8/src/cc/mallet/fst/CacheStaleIndicator.java  \n",
            "   creating: mallet-2.0.8/src/cc/mallet/fst/confidence/\n",
            "  inflating: mallet-2.0.8/src/cc/mallet/fst/confidence/ConfidenceCorrectorEvaluator.java  \n",
            "  inflating: mallet-2.0.8/src/cc/mallet/fst/confidence/ConfidenceEvaluator.java  \n",
            "  inflating: mallet-2.0.8/src/cc/mallet/fst/confidence/ConstrainedForwardBackwardConfidenceEstimator.java  \n",
            "  inflating: mallet-2.0.8/src/cc/mallet/fst/confidence/ConstrainedViterbiTransducerCorrector.java  \n",
            "  inflating: mallet-2.0.8/src/cc/mallet/fst/confidence/GammaAverageConfidenceEstimator.java  \n",
            "  inflating: mallet-2.0.8/src/cc/mallet/fst/confidence/GammaProductConfidenceEstimator.java  \n",
            "  inflating: mallet-2.0.8/src/cc/mallet/fst/confidence/InstanceWithConfidence.java  \n",
            "  inflating: mallet-2.0.8/src/cc/mallet/fst/confidence/IsolatedSegmentTransducerCorrector.java  \n",
            "  inflating: mallet-2.0.8/src/cc/mallet/fst/confidence/MaxEntConfidenceEstimator.java  \n",
            "  inflating: mallet-2.0.8/src/cc/mallet/fst/confidence/MaxEntSequenceConfidenceEstimator.java  \n",
            "  inflating: mallet-2.0.8/src/cc/mallet/fst/confidence/MinSegmentConfidenceEstimator.java  \n",
            "  inflating: mallet-2.0.8/src/cc/mallet/fst/confidence/NBestViterbiConfidenceEstimator.java  \n",
            "  inflating: mallet-2.0.8/src/cc/mallet/fst/confidence/PipedInstanceWithConfidence.java  \n",
            "  inflating: mallet-2.0.8/src/cc/mallet/fst/confidence/QBCSequenceConfidenceEstimator.java  \n",
            "  inflating: mallet-2.0.8/src/cc/mallet/fst/confidence/RandomConfidenceEstimator.java  \n",
            "  inflating: mallet-2.0.8/src/cc/mallet/fst/confidence/RandomSequenceConfidenceEstimator.java  \n",
            "  inflating: mallet-2.0.8/src/cc/mallet/fst/confidence/SegmentProductConfidenceEstimator.java  \n",
            "  inflating: mallet-2.0.8/src/cc/mallet/fst/confidence/SequenceConfidenceInstance.java  \n",
            "  inflating: mallet-2.0.8/src/cc/mallet/fst/confidence/TransducerConfidenceEstimator.java  \n",
            "  inflating: mallet-2.0.8/src/cc/mallet/fst/confidence/TransducerCorrector.java  \n",
            "  inflating: mallet-2.0.8/src/cc/mallet/fst/confidence/TransducerSequenceConfidenceEstimator.java  \n",
            "  inflating: mallet-2.0.8/src/cc/mallet/fst/confidence/ViterbiConfidenceEstimator.java  \n",
            "  inflating: mallet-2.0.8/src/cc/mallet/fst/confidence/ViterbiRatioConfidenceEstimator.java  \n",
            "  inflating: mallet-2.0.8/src/cc/mallet/fst/CRF.java  \n",
            "  inflating: mallet-2.0.8/src/cc/mallet/fst/CRFCacheStaleIndicator.java  \n",
            "  inflating: mallet-2.0.8/src/cc/mallet/fst/CRFOptimizableByBatchLabelLikelihood.java  \n",
            "  inflating: mallet-2.0.8/src/cc/mallet/fst/CRFOptimizableByGradientValues.java  \n",
            "  inflating: mallet-2.0.8/src/cc/mallet/fst/CRFOptimizableByLabelLikelihood.java  \n",
            "  inflating: mallet-2.0.8/src/cc/mallet/fst/CRFTrainerByL1LabelLikelihood.java  \n",
            "  inflating: mallet-2.0.8/src/cc/mallet/fst/CRFTrainerByLabelLikelihood.java  \n",
            "  inflating: mallet-2.0.8/src/cc/mallet/fst/CRFTrainerByStochasticGradient.java  \n",
            "  inflating: mallet-2.0.8/src/cc/mallet/fst/CRFTrainerByThreadedLabelLikelihood.java  \n",
            "  inflating: mallet-2.0.8/src/cc/mallet/fst/CRFTrainerByValueGradients.java  \n",
            "  inflating: mallet-2.0.8/src/cc/mallet/fst/CRFWriter.java  \n",
            "  inflating: mallet-2.0.8/src/cc/mallet/fst/FeatureTransducer.java  \n",
            "  inflating: mallet-2.0.8/src/cc/mallet/fst/HMM.java  \n",
            "  inflating: mallet-2.0.8/src/cc/mallet/fst/HMMTrainerByLikelihood.java  \n",
            "  inflating: mallet-2.0.8/src/cc/mallet/fst/InstanceAccuracyEvaluator.java  \n",
            "  inflating: mallet-2.0.8/src/cc/mallet/fst/LabelDistributionEvaluator.java  \n",
            "  inflating: mallet-2.0.8/src/cc/mallet/fst/MaxLattice.java  \n",
            "  inflating: mallet-2.0.8/src/cc/mallet/fst/MaxLatticeDefault.java  \n",
            "  inflating: mallet-2.0.8/src/cc/mallet/fst/MaxLatticeFactory.java  \n",
            "  inflating: mallet-2.0.8/src/cc/mallet/fst/MEMM.java  \n",
            "  inflating: mallet-2.0.8/src/cc/mallet/fst/MEMMTrainer.java  \n",
            "  inflating: mallet-2.0.8/src/cc/mallet/fst/MultiSegmentationEvaluator.java  \n",
            "  inflating: mallet-2.0.8/src/cc/mallet/fst/NoopTransducerTrainer.java  \n",
            "  inflating: mallet-2.0.8/src/cc/mallet/fst/package.html  \n",
            "  inflating: mallet-2.0.8/src/cc/mallet/fst/PerClassAccuracyEvaluator.java  \n",
            "  inflating: mallet-2.0.8/src/cc/mallet/fst/Segment.java  \n",
            "  inflating: mallet-2.0.8/src/cc/mallet/fst/SegmentationEvaluator.java  \n",
            "   creating: mallet-2.0.8/src/cc/mallet/fst/semi_supervised/\n",
            "   creating: mallet-2.0.8/src/cc/mallet/fst/semi_supervised/constraints/\n",
            "  inflating: mallet-2.0.8/src/cc/mallet/fst/semi_supervised/constraints/GEConstraint.java  \n",
            "  inflating: mallet-2.0.8/src/cc/mallet/fst/semi_supervised/constraints/OneLabelGEConstraints.java  \n",
            "  inflating: mallet-2.0.8/src/cc/mallet/fst/semi_supervised/constraints/OneLabelKLGEConstraints.java  \n",
            "  inflating: mallet-2.0.8/src/cc/mallet/fst/semi_supervised/constraints/OneLabelL2GEConstraints.java  \n",
            "  inflating: mallet-2.0.8/src/cc/mallet/fst/semi_supervised/constraints/OneLabelL2RangeGEConstraints.java  \n",
            "  inflating: mallet-2.0.8/src/cc/mallet/fst/semi_supervised/constraints/SelfTransitionGEConstraint.java  \n",
            "  inflating: mallet-2.0.8/src/cc/mallet/fst/semi_supervised/constraints/TwoLabelGEConstraints.java  \n",
            "  inflating: mallet-2.0.8/src/cc/mallet/fst/semi_supervised/constraints/TwoLabelKLGEConstraints.java  \n",
            "  inflating: mallet-2.0.8/src/cc/mallet/fst/semi_supervised/constraints/TwoLabelL2GEConstraints.java  \n",
            "  inflating: mallet-2.0.8/src/cc/mallet/fst/semi_supervised/CRFOptimizableByEntropyRegularization.java  \n",
            "  inflating: mallet-2.0.8/src/cc/mallet/fst/semi_supervised/CRFOptimizableByGE.java  \n",
            "  inflating: mallet-2.0.8/src/cc/mallet/fst/semi_supervised/CRFTrainerByEntropyRegularization.java  \n",
            "  inflating: mallet-2.0.8/src/cc/mallet/fst/semi_supervised/CRFTrainerByGE.java  \n",
            "  inflating: mallet-2.0.8/src/cc/mallet/fst/semi_supervised/CRFTrainerByLikelihoodAndGE.java  \n",
            "  inflating: mallet-2.0.8/src/cc/mallet/fst/semi_supervised/EntropyLattice.java  \n",
            "  inflating: mallet-2.0.8/src/cc/mallet/fst/semi_supervised/FSTConstraintUtil.java  \n",
            "  inflating: mallet-2.0.8/src/cc/mallet/fst/semi_supervised/GELattice.java  \n",
            "   creating: mallet-2.0.8/src/cc/mallet/fst/semi_supervised/pr/\n",
            "  inflating: mallet-2.0.8/src/cc/mallet/fst/semi_supervised/pr/CachedDotTransitionIterator.java  \n",
            "   creating: mallet-2.0.8/src/cc/mallet/fst/semi_supervised/pr/constraints/\n",
            "  inflating: mallet-2.0.8/src/cc/mallet/fst/semi_supervised/pr/constraints/OneLabelL2IndPRConstraints.java  \n",
            "  inflating: mallet-2.0.8/src/cc/mallet/fst/semi_supervised/pr/constraints/OneLabelL2PRConstraints.java  \n",
            "  inflating: mallet-2.0.8/src/cc/mallet/fst/semi_supervised/pr/constraints/PRConstraint.java  \n",
            "  inflating: mallet-2.0.8/src/cc/mallet/fst/semi_supervised/pr/ConstraintsOptimizableByPR.java  \n",
            "  inflating: mallet-2.0.8/src/cc/mallet/fst/semi_supervised/pr/CRFOptimizableByKL.java  \n",
            "  inflating: mallet-2.0.8/src/cc/mallet/fst/semi_supervised/pr/CRFTrainerByPR.java  \n",
            "  inflating: mallet-2.0.8/src/cc/mallet/fst/semi_supervised/pr/PRAuxiliaryModel.java  \n",
            "  inflating: mallet-2.0.8/src/cc/mallet/fst/semi_supervised/pr/SumLatticeDefaultCachedDot.java  \n",
            "  inflating: mallet-2.0.8/src/cc/mallet/fst/semi_supervised/pr/SumLatticeKL.java  \n",
            "  inflating: mallet-2.0.8/src/cc/mallet/fst/semi_supervised/pr/SumLatticePR.java  \n",
            "  inflating: mallet-2.0.8/src/cc/mallet/fst/semi_supervised/StateLabelMap.java  \n",
            "   creating: mallet-2.0.8/src/cc/mallet/fst/semi_supervised/tui/\n",
            "  inflating: mallet-2.0.8/src/cc/mallet/fst/semi_supervised/tui/SimpleTaggerWithConstraints.java  \n",
            "  inflating: mallet-2.0.8/src/cc/mallet/fst/ShallowTransducerTrainer.java  \n",
            "  inflating: mallet-2.0.8/src/cc/mallet/fst/SimpleTagger.java  \n",
            "  inflating: mallet-2.0.8/src/cc/mallet/fst/SumLattice.java  \n",
            "  inflating: mallet-2.0.8/src/cc/mallet/fst/SumLatticeBeam.java  \n",
            "  inflating: mallet-2.0.8/src/cc/mallet/fst/SumLatticeConstrained.java  \n",
            "  inflating: mallet-2.0.8/src/cc/mallet/fst/SumLatticeDefault.java  \n",
            "  inflating: mallet-2.0.8/src/cc/mallet/fst/SumLatticeFactory.java  \n",
            "  inflating: mallet-2.0.8/src/cc/mallet/fst/SumLatticeScaling.java  \n",
            "   creating: mallet-2.0.8/src/cc/mallet/fst/tests/\n",
            "  inflating: mallet-2.0.8/src/cc/mallet/fst/tests/package.html  \n",
            "  inflating: mallet-2.0.8/src/cc/mallet/fst/tests/TestCRF.java  \n",
            "  inflating: mallet-2.0.8/src/cc/mallet/fst/tests/TestFeatureTransducer.java  \n",
            "  inflating: mallet-2.0.8/src/cc/mallet/fst/tests/TestMEMM.java  \n",
            "  inflating: mallet-2.0.8/src/cc/mallet/fst/tests/TestSumNegLogProb2.java  \n",
            "  inflating: mallet-2.0.8/src/cc/mallet/fst/ThreadedOptimizable.java  \n",
            "  inflating: mallet-2.0.8/src/cc/mallet/fst/TokenAccuracyEvaluator.java  \n",
            "  inflating: mallet-2.0.8/src/cc/mallet/fst/Transducer.java  \n",
            "  inflating: mallet-2.0.8/src/cc/mallet/fst/TransducerEvaluator.java  \n",
            "  inflating: mallet-2.0.8/src/cc/mallet/fst/TransducerTrainer.java  \n",
            "  inflating: mallet-2.0.8/src/cc/mallet/fst/ViterbiWriter.java  \n",
            "   creating: mallet-2.0.8/src/cc/mallet/grmm/\n",
            "   creating: mallet-2.0.8/src/cc/mallet/grmm/examples/\n",
            "  inflating: mallet-2.0.8/src/cc/mallet/grmm/examples/CrossTemplate1.java  \n",
            "  inflating: mallet-2.0.8/src/cc/mallet/grmm/examples/ModelReaderExample.java  \n",
            "  inflating: mallet-2.0.8/src/cc/mallet/grmm/examples/SimpleCrfExample.java  \n",
            "  inflating: mallet-2.0.8/src/cc/mallet/grmm/examples/SimpleFactorExample.java  \n",
            "  inflating: mallet-2.0.8/src/cc/mallet/grmm/examples/SimpleGraphExample.java  \n",
            "   creating: mallet-2.0.8/src/cc/mallet/grmm/inference/\n",
            "  inflating: mallet-2.0.8/src/cc/mallet/grmm/inference/AbstractBeliefPropagation.java  \n",
            "  inflating: mallet-2.0.8/src/cc/mallet/grmm/inference/AbstractInferencer.java  \n",
            "  inflating: mallet-2.0.8/src/cc/mallet/grmm/inference/BruteForceInferencer.java  \n",
            "  inflating: mallet-2.0.8/src/cc/mallet/grmm/inference/ExactSampler.java  \n",
            "   creating: mallet-2.0.8/src/cc/mallet/grmm/inference/gbp/\n",
            "  inflating: mallet-2.0.8/src/cc/mallet/grmm/inference/gbp/AbstractMessageStrategy.java  \n",
            "  inflating: mallet-2.0.8/src/cc/mallet/grmm/inference/gbp/BPRegionGenerator.java  \n",
            "  inflating: mallet-2.0.8/src/cc/mallet/grmm/inference/gbp/ClusterVariationalRegionGenerator.java  \n",
            "  inflating: mallet-2.0.8/src/cc/mallet/grmm/inference/gbp/FactorizedRegion.java  \n",
            "  inflating: mallet-2.0.8/src/cc/mallet/grmm/inference/gbp/FullMessageStrategy.java  \n",
            "  inflating: mallet-2.0.8/src/cc/mallet/grmm/inference/gbp/Kikuchi4SquareRegionGenerator.java  \n",
            "  inflating: mallet-2.0.8/src/cc/mallet/grmm/inference/gbp/MessageArray.java  \n",
            "  inflating: mallet-2.0.8/src/cc/mallet/grmm/inference/gbp/MessageStrategy.java  \n",
            "  inflating: mallet-2.0.8/src/cc/mallet/grmm/inference/gbp/ParentChildGBP.java  \n",
            "  inflating: mallet-2.0.8/src/cc/mallet/grmm/inference/gbp/Region.java  \n",
            "  inflating: mallet-2.0.8/src/cc/mallet/grmm/inference/gbp/RegionEdge.java  \n",
            "  inflating: mallet-2.0.8/src/cc/mallet/grmm/inference/gbp/RegionGraph.java  \n",
            "  inflating: mallet-2.0.8/src/cc/mallet/grmm/inference/gbp/RegionGraphGenerator.java  \n",
            "  inflating: mallet-2.0.8/src/cc/mallet/grmm/inference/gbp/SparseMessageSender.java  \n",
            "  inflating: mallet-2.0.8/src/cc/mallet/grmm/inference/GibbsSampler.java  \n",
            "  inflating: mallet-2.0.8/src/cc/mallet/grmm/inference/Inferencer.java  \n",
            "  inflating: mallet-2.0.8/src/cc/mallet/grmm/inference/JunctionTree.java  \n",
            "  inflating: mallet-2.0.8/src/cc/mallet/grmm/inference/JunctionTreeInferencer.java  \n",
            "  inflating: mallet-2.0.8/src/cc/mallet/grmm/inference/JunctionTreePropagation.java  \n",
            "  inflating: mallet-2.0.8/src/cc/mallet/grmm/inference/LoopyBP.java  \n",
            "  inflating: mallet-2.0.8/src/cc/mallet/grmm/inference/MessageArray.java  \n",
            "  inflating: mallet-2.0.8/src/cc/mallet/grmm/inference/RandomGraphs.java  \n",
            "  inflating: mallet-2.0.8/src/cc/mallet/grmm/inference/ResidualBP.java  \n",
            "  inflating: mallet-2.0.8/src/cc/mallet/grmm/inference/Sampler.java  \n",
            "  inflating: mallet-2.0.8/src/cc/mallet/grmm/inference/SamplingInferencer.java  \n",
            "  inflating: mallet-2.0.8/src/cc/mallet/grmm/inference/TreeBP.java  \n",
            "  inflating: mallet-2.0.8/src/cc/mallet/grmm/inference/TRP.java  \n",
            "  inflating: mallet-2.0.8/src/cc/mallet/grmm/inference/Utils.java  \n",
            "  inflating: mallet-2.0.8/src/cc/mallet/grmm/inference/VariableElimination.java  \n",
            "   creating: mallet-2.0.8/src/cc/mallet/grmm/learning/\n",
            "  inflating: mallet-2.0.8/src/cc/mallet/grmm/learning/ACRF.java  \n",
            "  inflating: mallet-2.0.8/src/cc/mallet/grmm/learning/ACRFEvaluator.java  \n",
            "  inflating: mallet-2.0.8/src/cc/mallet/grmm/learning/AcrfSerialEvaluator.java  \n",
            "  inflating: mallet-2.0.8/src/cc/mallet/grmm/learning/ACRFTrainer.java  \n",
            "  inflating: mallet-2.0.8/src/cc/mallet/grmm/learning/DefaultAcrfTrainer.java  \n",
            "   creating: mallet-2.0.8/src/cc/mallet/grmm/learning/extract/\n",
            "  inflating: mallet-2.0.8/src/cc/mallet/grmm/learning/extract/ACRFExtractor.java  \n",
            "  inflating: mallet-2.0.8/src/cc/mallet/grmm/learning/extract/ACRFExtractorTrainer.java  \n",
            "  inflating: mallet-2.0.8/src/cc/mallet/grmm/learning/extract/AcrfExtractorTui.java  \n",
            "  inflating: mallet-2.0.8/src/cc/mallet/grmm/learning/GenericAcrfData2TokenSequence.java  \n",
            "  inflating: mallet-2.0.8/src/cc/mallet/grmm/learning/GenericAcrfTui.java  \n",
            "  inflating: mallet-2.0.8/src/cc/mallet/grmm/learning/MultiSegmentationEvaluatorACRF.java  \n",
            "  inflating: mallet-2.0.8/src/cc/mallet/grmm/learning/PiecewiseACRFTrainer.java  \n",
            "  inflating: mallet-2.0.8/src/cc/mallet/grmm/learning/PseudolikelihoodACRFTrainer.java  \n",
            "  inflating: mallet-2.0.8/src/cc/mallet/grmm/learning/PwplACRFTrainer.java  \n",
            "   creating: mallet-2.0.8/src/cc/mallet/grmm/learning/templates/\n",
            "  inflating: mallet-2.0.8/src/cc/mallet/grmm/learning/templates/SimilarTokensTemplate.java  \n",
            "   creating: mallet-2.0.8/src/cc/mallet/grmm/test/\n",
            "  inflating: mallet-2.0.8/src/cc/mallet/grmm/test/TestAbstractBeliefPropagation.java  \n",
            "  inflating: mallet-2.0.8/src/cc/mallet/grmm/test/TestAssignment.java  \n",
            "  inflating: mallet-2.0.8/src/cc/mallet/grmm/test/TestAssignmentIterator.java  \n",
            "  inflating: mallet-2.0.8/src/cc/mallet/grmm/test/TestBetaFactor.java  \n",
            "  inflating: mallet-2.0.8/src/cc/mallet/grmm/test/TestBitVarSet.java  \n",
            "  inflating: mallet-2.0.8/src/cc/mallet/grmm/test/TestDirectedModel.java  \n",
            "  inflating: mallet-2.0.8/src/cc/mallet/grmm/test/TestFactorGraph.java  \n",
            "  inflating: mallet-2.0.8/src/cc/mallet/grmm/test/TestFactors.java  \n",
            "  inflating: mallet-2.0.8/src/cc/mallet/grmm/test/TestGenericAcrfData2TokenSequence.java  \n",
            "  inflating: mallet-2.0.8/src/cc/mallet/grmm/test/TestGibbsSampler.java  \n",
            "  inflating: mallet-2.0.8/src/cc/mallet/grmm/test/TestHashClique.java  \n",
            "  inflating: mallet-2.0.8/src/cc/mallet/grmm/test/TestInference.java  \n",
            "  inflating: mallet-2.0.8/src/cc/mallet/grmm/test/TestListVarSet.java  \n",
            "  inflating: mallet-2.0.8/src/cc/mallet/grmm/test/TestLogTableFactor.java  \n",
            "  inflating: mallet-2.0.8/src/cc/mallet/grmm/test/TestMIntInt2ObjectMap.java  \n",
            "  inflating: mallet-2.0.8/src/cc/mallet/grmm/test/TestNormalFactor.java  \n",
            "  inflating: mallet-2.0.8/src/cc/mallet/grmm/test/TestPottsFactor.java  \n",
            "  inflating: mallet-2.0.8/src/cc/mallet/grmm/test/TestRandomGraphs.java  \n",
            "  inflating: mallet-2.0.8/src/cc/mallet/grmm/test/TestTableFactor.java  \n",
            "  inflating: mallet-2.0.8/src/cc/mallet/grmm/test/TestTRP.java  \n",
            "  inflating: mallet-2.0.8/src/cc/mallet/grmm/test/TestUndirectedModel.java  \n",
            "  inflating: mallet-2.0.8/src/cc/mallet/grmm/test/TestUniformFactor.java  \n",
            "  inflating: mallet-2.0.8/src/cc/mallet/grmm/test/TestUniNormalFactor.java  \n",
            "   creating: mallet-2.0.8/src/cc/mallet/grmm/types/\n",
            "  inflating: mallet-2.0.8/src/cc/mallet/grmm/types/AbstractAssignmentIterator.java  \n",
            "  inflating: mallet-2.0.8/src/cc/mallet/grmm/types/AbstractFactor.java  \n",
            "  inflating: mallet-2.0.8/src/cc/mallet/grmm/types/AbstractTableFactor.java  \n",
            "  inflating: mallet-2.0.8/src/cc/mallet/grmm/types/Assignment.java  \n",
            "  inflating: mallet-2.0.8/src/cc/mallet/grmm/types/AssignmentIterator.java  \n",
            "  inflating: mallet-2.0.8/src/cc/mallet/grmm/types/BetaFactor.java  \n",
            "  inflating: mallet-2.0.8/src/cc/mallet/grmm/types/BidirectionalIntObjectMap.java  \n",
            "  inflating: mallet-2.0.8/src/cc/mallet/grmm/types/BinaryUnaryFactor.java  \n",
            "  inflating: mallet-2.0.8/src/cc/mallet/grmm/types/BitVarSet.java  \n",
            "  inflating: mallet-2.0.8/src/cc/mallet/grmm/types/BoltzmannPairFactor.java  \n",
            "  inflating: mallet-2.0.8/src/cc/mallet/grmm/types/BoltzmannUnaryFactor.java  \n",
            "  inflating: mallet-2.0.8/src/cc/mallet/grmm/types/ConstantFactor.java  \n",
            "  inflating: mallet-2.0.8/src/cc/mallet/grmm/types/CPT.java  \n",
            "  inflating: mallet-2.0.8/src/cc/mallet/grmm/types/DenseAssignmentIterator.java  \n",
            "  inflating: mallet-2.0.8/src/cc/mallet/grmm/types/DirectedModel.java  \n",
            "  inflating: mallet-2.0.8/src/cc/mallet/grmm/types/DiscreteFactor.java  \n",
            "  inflating: mallet-2.0.8/src/cc/mallet/grmm/types/Factor.java  \n",
            "  inflating: mallet-2.0.8/src/cc/mallet/grmm/types/FactorGraph.java  \n",
            "  inflating: mallet-2.0.8/src/cc/mallet/grmm/types/Factors.java  \n",
            "  inflating: mallet-2.0.8/src/cc/mallet/grmm/types/HashVarSet.java  \n",
            "  inflating: mallet-2.0.8/src/cc/mallet/grmm/types/ListVarSet.java  \n",
            "  inflating: mallet-2.0.8/src/cc/mallet/grmm/types/LogTableFactor.java  \n",
            "  inflating: mallet-2.0.8/src/cc/mallet/grmm/types/NormalFactor.java  \n",
            "  inflating: mallet-2.0.8/src/cc/mallet/grmm/types/ParameterizedFactor.java  \n",
            "  inflating: mallet-2.0.8/src/cc/mallet/grmm/types/PottsTableFactor.java  \n",
            "  inflating: mallet-2.0.8/src/cc/mallet/grmm/types/SkeletonFactor.java  \n",
            "  inflating: mallet-2.0.8/src/cc/mallet/grmm/types/SparseAssignmentIterator.java  \n",
            "  inflating: mallet-2.0.8/src/cc/mallet/grmm/types/TableFactor.java  \n",
            "  inflating: mallet-2.0.8/src/cc/mallet/grmm/types/Tree.java  \n",
            "  inflating: mallet-2.0.8/src/cc/mallet/grmm/types/UndirectedGrid.java  \n",
            "  inflating: mallet-2.0.8/src/cc/mallet/grmm/types/UndirectedModel.java  \n",
            "  inflating: mallet-2.0.8/src/cc/mallet/grmm/types/UniformFactor.java  \n",
            "  inflating: mallet-2.0.8/src/cc/mallet/grmm/types/UniNormalFactor.java  \n",
            "  inflating: mallet-2.0.8/src/cc/mallet/grmm/types/Universe.java  \n",
            "  inflating: mallet-2.0.8/src/cc/mallet/grmm/types/UnmodifiableVarSet.java  \n",
            "  inflating: mallet-2.0.8/src/cc/mallet/grmm/types/Variable.java  \n",
            "  inflating: mallet-2.0.8/src/cc/mallet/grmm/types/VarSet.java  \n",
            "   creating: mallet-2.0.8/src/cc/mallet/grmm/util/\n",
            "  inflating: mallet-2.0.8/src/cc/mallet/grmm/util/CachingOptimizable.java  \n",
            "  inflating: mallet-2.0.8/src/cc/mallet/grmm/util/CSIntInt2ObjectMultiMap.java  \n",
            "  inflating: mallet-2.0.8/src/cc/mallet/grmm/util/Flops.java  \n",
            "  inflating: mallet-2.0.8/src/cc/mallet/grmm/util/GeneralUtils.java  \n",
            "  inflating: mallet-2.0.8/src/cc/mallet/grmm/util/Graphs.java  \n",
            "  inflating: mallet-2.0.8/src/cc/mallet/grmm/util/LabelsAssignment.java  \n",
            "  inflating: mallet-2.0.8/src/cc/mallet/grmm/util/LabelsSequence2Assignment.java  \n",
            "  inflating: mallet-2.0.8/src/cc/mallet/grmm/util/Matrices.java  \n",
            "  inflating: mallet-2.0.8/src/cc/mallet/grmm/util/MIntInt2ObjectMap.java  \n",
            "  inflating: mallet-2.0.8/src/cc/mallet/grmm/util/ModelReader.java  \n",
            "  inflating: mallet-2.0.8/src/cc/mallet/grmm/util/Models.java  \n",
            "  inflating: mallet-2.0.8/src/cc/mallet/grmm/util/ModelWriter.java  \n",
            "  inflating: mallet-2.0.8/src/cc/mallet/grmm/util/PipedIterator.java  \n",
            "  inflating: mallet-2.0.8/src/cc/mallet/grmm/util/RememberTokenizationPipe.java  \n",
            "  inflating: mallet-2.0.8/src/cc/mallet/grmm/util/SliceLabelsSequence.java  \n",
            "  inflating: mallet-2.0.8/src/cc/mallet/grmm/util/THashMultiMap.java  \n",
            "   creating: mallet-2.0.8/src/cc/mallet/optimize/\n",
            "  inflating: mallet-2.0.8/src/cc/mallet/optimize/AGIS.java  \n",
            "  inflating: mallet-2.0.8/src/cc/mallet/optimize/BackTrackLineSearch.java  \n",
            "  inflating: mallet-2.0.8/src/cc/mallet/optimize/ConjugateGradient.java  \n",
            "  inflating: mallet-2.0.8/src/cc/mallet/optimize/GradientAscent.java  \n",
            "  inflating: mallet-2.0.8/src/cc/mallet/optimize/GradientBracketLineOptimizer.java  \n",
            "  inflating: mallet-2.0.8/src/cc/mallet/optimize/InvalidOptimizableException.java  \n",
            "  inflating: mallet-2.0.8/src/cc/mallet/optimize/LimitedMemoryBFGS.java  \n",
            "  inflating: mallet-2.0.8/src/cc/mallet/optimize/LineOptimizer.java  \n",
            "  inflating: mallet-2.0.8/src/cc/mallet/optimize/Optimizable.java  \n",
            "  inflating: mallet-2.0.8/src/cc/mallet/optimize/OptimizableCollection.java  \n",
            "  inflating: mallet-2.0.8/src/cc/mallet/optimize/OptimizationException.java  \n",
            "  inflating: mallet-2.0.8/src/cc/mallet/optimize/Optimizer.java  \n",
            "  inflating: mallet-2.0.8/src/cc/mallet/optimize/OptimizerEvaluator.java  \n",
            "  inflating: mallet-2.0.8/src/cc/mallet/optimize/OrthantWiseLimitedMemoryBFGS.java  \n",
            "  inflating: mallet-2.0.8/src/cc/mallet/optimize/package.html  \n",
            "  inflating: mallet-2.0.8/src/cc/mallet/optimize/StochasticMetaAscent.java  \n",
            "   creating: mallet-2.0.8/src/cc/mallet/optimize/tests/\n",
            "  inflating: mallet-2.0.8/src/cc/mallet/optimize/tests/package.html  \n",
            "  inflating: mallet-2.0.8/src/cc/mallet/optimize/tests/TestOptimizable.java  \n",
            "  inflating: mallet-2.0.8/src/cc/mallet/optimize/tests/TestOptimizer.java  \n",
            "   creating: mallet-2.0.8/src/cc/mallet/pipe/\n",
            "  inflating: mallet-2.0.8/src/cc/mallet/pipe/AddClassifierTokenPredictions.java  \n",
            "  inflating: mallet-2.0.8/src/cc/mallet/pipe/Array2FeatureVector.java  \n",
            "  inflating: mallet-2.0.8/src/cc/mallet/pipe/AugmentableFeatureVectorAddConjunctions.java  \n",
            "  inflating: mallet-2.0.8/src/cc/mallet/pipe/AugmentableFeatureVectorLogScale.java  \n",
            "  inflating: mallet-2.0.8/src/cc/mallet/pipe/BranchingPipe.java  \n",
            "  inflating: mallet-2.0.8/src/cc/mallet/pipe/CharSequence2CharNGrams.java  \n",
            "  inflating: mallet-2.0.8/src/cc/mallet/pipe/CharSequence2TokenSequence.java  \n",
            "  inflating: mallet-2.0.8/src/cc/mallet/pipe/CharSequenceArray2TokenSequence.java  \n",
            "  inflating: mallet-2.0.8/src/cc/mallet/pipe/CharSequenceLowercase.java  \n",
            "  inflating: mallet-2.0.8/src/cc/mallet/pipe/CharSequenceRemoveHTML.java  \n",
            "  inflating: mallet-2.0.8/src/cc/mallet/pipe/CharSequenceRemoveUUEncodedBlocks.java  \n",
            "  inflating: mallet-2.0.8/src/cc/mallet/pipe/CharSequenceReplace.java  \n",
            "  inflating: mallet-2.0.8/src/cc/mallet/pipe/CharSubsequence.java  \n",
            "  inflating: mallet-2.0.8/src/cc/mallet/pipe/Classification2ConfidencePredictingFeatureVector.java  \n",
            "  inflating: mallet-2.0.8/src/cc/mallet/pipe/Csv2Array.java  \n",
            "  inflating: mallet-2.0.8/src/cc/mallet/pipe/Csv2FeatureVector.java  \n",
            "  inflating: mallet-2.0.8/src/cc/mallet/pipe/Directory2FileIterator.java  \n",
            "  inflating: mallet-2.0.8/src/cc/mallet/pipe/FeatureCountPipe.java  \n",
            "  inflating: mallet-2.0.8/src/cc/mallet/pipe/FeatureDocFreqPipe.java  \n",
            "  inflating: mallet-2.0.8/src/cc/mallet/pipe/FeatureSequence2AugmentableFeatureVector.java  \n",
            "  inflating: mallet-2.0.8/src/cc/mallet/pipe/FeatureSequence2FeatureVector.java  \n",
            "  inflating: mallet-2.0.8/src/cc/mallet/pipe/FeatureSequenceConvolution.java  \n",
            "  inflating: mallet-2.0.8/src/cc/mallet/pipe/FeatureValueString2FeatureVector.java  \n",
            "  inflating: mallet-2.0.8/src/cc/mallet/pipe/FeatureVectorConjunctions.java  \n",
            "  inflating: mallet-2.0.8/src/cc/mallet/pipe/FeatureVectorSequence2FeatureVectors.java  \n",
            "  inflating: mallet-2.0.8/src/cc/mallet/pipe/Filename2CharSequence.java  \n",
            "  inflating: mallet-2.0.8/src/cc/mallet/pipe/FilterEmptyFeatureVectors.java  \n",
            "  inflating: mallet-2.0.8/src/cc/mallet/pipe/FixedVocabTokenizer.java  \n",
            "  inflating: mallet-2.0.8/src/cc/mallet/pipe/HACKING  \n",
            "  inflating: mallet-2.0.8/src/cc/mallet/pipe/Input2CharSequence.java  \n",
            "  inflating: mallet-2.0.8/src/cc/mallet/pipe/InstanceListTrimFeaturesByCount.java  \n",
            "   creating: mallet-2.0.8/src/cc/mallet/pipe/iterator/\n",
            "  inflating: mallet-2.0.8/src/cc/mallet/pipe/iterator/ArrayDataAndTargetIterator.java  \n",
            "  inflating: mallet-2.0.8/src/cc/mallet/pipe/iterator/ArrayIterator.java  \n",
            "  inflating: mallet-2.0.8/src/cc/mallet/pipe/iterator/ConcatenatedInstanceIterator.java  \n",
            "  inflating: mallet-2.0.8/src/cc/mallet/pipe/iterator/CsvIterator.java  \n",
            "  inflating: mallet-2.0.8/src/cc/mallet/pipe/iterator/DBInstanceIterator.java  \n",
            "  inflating: mallet-2.0.8/src/cc/mallet/pipe/iterator/EmptyInstanceIterator.java  \n",
            "  inflating: mallet-2.0.8/src/cc/mallet/pipe/iterator/FileIterator.java  \n",
            "  inflating: mallet-2.0.8/src/cc/mallet/pipe/iterator/FileListIterator.java  \n",
            "  inflating: mallet-2.0.8/src/cc/mallet/pipe/iterator/FileUriIterator.java  \n",
            "  inflating: mallet-2.0.8/src/cc/mallet/pipe/iterator/LineGroupIterator.java  \n",
            "  inflating: mallet-2.0.8/src/cc/mallet/pipe/iterator/LineIterator.java  \n",
            "  inflating: mallet-2.0.8/src/cc/mallet/pipe/iterator/package.html  \n",
            "  inflating: mallet-2.0.8/src/cc/mallet/pipe/iterator/ParenGroupIterator.java  \n",
            "  inflating: mallet-2.0.8/src/cc/mallet/pipe/iterator/PatternMatchIterator.java  \n",
            "  inflating: mallet-2.0.8/src/cc/mallet/pipe/iterator/PipeExtendedIterator.java  \n",
            "  inflating: mallet-2.0.8/src/cc/mallet/pipe/iterator/PipeInputIterator.java  \n",
            "  inflating: mallet-2.0.8/src/cc/mallet/pipe/iterator/RandomFeatureVectorIterator.java  \n",
            "  inflating: mallet-2.0.8/src/cc/mallet/pipe/iterator/RandomTokenSequenceIterator.java  \n",
            "  inflating: mallet-2.0.8/src/cc/mallet/pipe/iterator/SegmentIterator.java  \n",
            "  inflating: mallet-2.0.8/src/cc/mallet/pipe/iterator/SelectiveFileLineIterator.java  \n",
            "  inflating: mallet-2.0.8/src/cc/mallet/pipe/iterator/SimpleFileLineIterator.java  \n",
            "  inflating: mallet-2.0.8/src/cc/mallet/pipe/iterator/StringArrayIterator.java  \n",
            "   creating: mallet-2.0.8/src/cc/mallet/pipe/iterator/tests/\n",
            "  inflating: mallet-2.0.8/src/cc/mallet/pipe/iterator/tests/TestPatternMatchIterator.java  \n",
            "  inflating: mallet-2.0.8/src/cc/mallet/pipe/iterator/UnlabeledFileIterator.java  \n",
            "  inflating: mallet-2.0.8/src/cc/mallet/pipe/LineGroupString2TokenSequence.java  \n",
            "  inflating: mallet-2.0.8/src/cc/mallet/pipe/MakeAmpersandXMLFriendly.java  \n",
            "  inflating: mallet-2.0.8/src/cc/mallet/pipe/NGramPreprocessor.java  \n",
            "  inflating: mallet-2.0.8/src/cc/mallet/pipe/Noop.java  \n",
            "  inflating: mallet-2.0.8/src/cc/mallet/pipe/package.html  \n",
            "  inflating: mallet-2.0.8/src/cc/mallet/pipe/Pipe.java  \n",
            "  inflating: mallet-2.0.8/src/cc/mallet/pipe/PipeException.java  \n",
            "  inflating: mallet-2.0.8/src/cc/mallet/pipe/PipeUtils.java  \n",
            "  inflating: mallet-2.0.8/src/cc/mallet/pipe/PrintInput.java  \n",
            "  inflating: mallet-2.0.8/src/cc/mallet/pipe/PrintInputAndTarget.java  \n",
            "  inflating: mallet-2.0.8/src/cc/mallet/pipe/PrintTokenSequenceFeatures.java  \n",
            "  inflating: mallet-2.0.8/src/cc/mallet/pipe/SaveDataInSource.java  \n",
            "  inflating: mallet-2.0.8/src/cc/mallet/pipe/SelectiveSGML2TokenSequence.java  \n",
            "  inflating: mallet-2.0.8/src/cc/mallet/pipe/SerialPipes.java  \n",
            "  inflating: mallet-2.0.8/src/cc/mallet/pipe/SGML2TokenSequence.java  \n",
            "  inflating: mallet-2.0.8/src/cc/mallet/pipe/SimpleTaggerSentence2StringTokenization.java  \n",
            "  inflating: mallet-2.0.8/src/cc/mallet/pipe/SimpleTaggerSentence2TokenSequence.java  \n",
            "  inflating: mallet-2.0.8/src/cc/mallet/pipe/SimpleTokenizer.java  \n",
            "  inflating: mallet-2.0.8/src/cc/mallet/pipe/SourceLocation2TokenSequence.java  \n",
            "  inflating: mallet-2.0.8/src/cc/mallet/pipe/StringAddNewLineDelimiter.java  \n",
            "  inflating: mallet-2.0.8/src/cc/mallet/pipe/StringList2FeatureSequence.java  \n",
            "  inflating: mallet-2.0.8/src/cc/mallet/pipe/SvmLight2FeatureVectorAndLabel.java  \n",
            "  inflating: mallet-2.0.8/src/cc/mallet/pipe/Target2Double.java  \n",
            "  inflating: mallet-2.0.8/src/cc/mallet/pipe/Target2FeatureSequence.java  \n",
            "  inflating: mallet-2.0.8/src/cc/mallet/pipe/Target2Integer.java  \n",
            "  inflating: mallet-2.0.8/src/cc/mallet/pipe/Target2Label.java  \n",
            "  inflating: mallet-2.0.8/src/cc/mallet/pipe/Target2LabelSequence.java  \n",
            "  inflating: mallet-2.0.8/src/cc/mallet/pipe/TargetRememberLastLabel.java  \n",
            "  inflating: mallet-2.0.8/src/cc/mallet/pipe/TargetStringToFeatures.java  \n",
            "   creating: mallet-2.0.8/src/cc/mallet/pipe/tests/\n",
            "  inflating: mallet-2.0.8/src/cc/mallet/pipe/tests/package.html  \n",
            "  inflating: mallet-2.0.8/src/cc/mallet/pipe/tests/TestInstancePipe.java  \n",
            "  inflating: mallet-2.0.8/src/cc/mallet/pipe/tests/TestIterators.java  \n",
            "  inflating: mallet-2.0.8/src/cc/mallet/pipe/tests/TestPipeUtils.java  \n",
            "  inflating: mallet-2.0.8/src/cc/mallet/pipe/tests/TestRainbowStyle.java  \n",
            "  inflating: mallet-2.0.8/src/cc/mallet/pipe/tests/TestSGML2TokenSequence.java  \n",
            "  inflating: mallet-2.0.8/src/cc/mallet/pipe/tests/TestSpacePipe.java  \n",
            "  inflating: mallet-2.0.8/src/cc/mallet/pipe/Token2FeatureVector.java  \n",
            "  inflating: mallet-2.0.8/src/cc/mallet/pipe/TokenSequence2FeatureSequence.java  \n",
            "  inflating: mallet-2.0.8/src/cc/mallet/pipe/TokenSequence2FeatureSequenceWithBigrams.java  \n",
            "  inflating: mallet-2.0.8/src/cc/mallet/pipe/TokenSequence2FeatureVectorSequence.java  \n",
            "  inflating: mallet-2.0.8/src/cc/mallet/pipe/TokenSequence2TokenInstances.java  \n",
            "  inflating: mallet-2.0.8/src/cc/mallet/pipe/TokenSequenceLowercase.java  \n",
            "  inflating: mallet-2.0.8/src/cc/mallet/pipe/TokenSequenceMatchDataAndTarget.java  \n",
            "  inflating: mallet-2.0.8/src/cc/mallet/pipe/TokenSequenceNGrams.java  \n",
            "  inflating: mallet-2.0.8/src/cc/mallet/pipe/TokenSequenceParseFeatureString.java  \n",
            "  inflating: mallet-2.0.8/src/cc/mallet/pipe/TokenSequenceRemoveNonAlpha.java  \n",
            "  inflating: mallet-2.0.8/src/cc/mallet/pipe/TokenSequenceRemoveStopPatterns.java  \n",
            "  inflating: mallet-2.0.8/src/cc/mallet/pipe/TokenSequenceRemoveStopwords.java  \n",
            "   creating: mallet-2.0.8/src/cc/mallet/pipe/tsf/\n",
            "  inflating: mallet-2.0.8/src/cc/mallet/pipe/tsf/CountMatches.java  \n",
            "  inflating: mallet-2.0.8/src/cc/mallet/pipe/tsf/CountMatchesAlignedWithOffsets.java  \n",
            "  inflating: mallet-2.0.8/src/cc/mallet/pipe/tsf/CountMatchesMatching.java  \n",
            "  inflating: mallet-2.0.8/src/cc/mallet/pipe/tsf/FeaturesInWindow.java  \n",
            "  inflating: mallet-2.0.8/src/cc/mallet/pipe/tsf/FeaturesOfFirstMention.java  \n",
            "  inflating: mallet-2.0.8/src/cc/mallet/pipe/tsf/LexiconMembership.java  \n",
            "  inflating: mallet-2.0.8/src/cc/mallet/pipe/tsf/OffsetConjunctions.java  \n",
            "  inflating: mallet-2.0.8/src/cc/mallet/pipe/tsf/OffsetFeatureConjunction.java  \n",
            "  inflating: mallet-2.0.8/src/cc/mallet/pipe/tsf/OffsetPropertyConjunctions.java  \n",
            "  inflating: mallet-2.0.8/src/cc/mallet/pipe/tsf/package.html  \n",
            "  inflating: mallet-2.0.8/src/cc/mallet/pipe/tsf/RegexMatches.java  \n",
            "  inflating: mallet-2.0.8/src/cc/mallet/pipe/tsf/SequencePrintingPipe.java  \n",
            "  inflating: mallet-2.0.8/src/cc/mallet/pipe/tsf/Target2BIOFormat.java  \n",
            "   creating: mallet-2.0.8/src/cc/mallet/pipe/tsf/tests/\n",
            "  inflating: mallet-2.0.8/src/cc/mallet/pipe/tsf/tests/package.html  \n",
            "  inflating: mallet-2.0.8/src/cc/mallet/pipe/tsf/tests/TestOffsetConjunctions.java  \n",
            "  inflating: mallet-2.0.8/src/cc/mallet/pipe/tsf/tests/TestOffsetFeatureConjunctions.java  \n",
            "  inflating: mallet-2.0.8/src/cc/mallet/pipe/tsf/tests/TestSequencePrintingPipe.java  \n",
            "  inflating: mallet-2.0.8/src/cc/mallet/pipe/tsf/TokenFirstPosition.java  \n",
            "  inflating: mallet-2.0.8/src/cc/mallet/pipe/tsf/TokenText.java  \n",
            "  inflating: mallet-2.0.8/src/cc/mallet/pipe/tsf/TokenTextCharNGrams.java  \n",
            "  inflating: mallet-2.0.8/src/cc/mallet/pipe/tsf/TokenTextCharPrefix.java  \n",
            "  inflating: mallet-2.0.8/src/cc/mallet/pipe/tsf/TokenTextCharSuffix.java  \n",
            "  inflating: mallet-2.0.8/src/cc/mallet/pipe/tsf/TokenTextNGrams.java  \n",
            "  inflating: mallet-2.0.8/src/cc/mallet/pipe/tsf/TrieLexiconMembership.java  \n",
            "  inflating: mallet-2.0.8/src/cc/mallet/pipe/tsf/WordVectors.java  \n",
            "  inflating: mallet-2.0.8/src/cc/mallet/pipe/ValueString2FeatureVector.java  \n",
            "   creating: mallet-2.0.8/src/cc/mallet/regression/\n",
            "  inflating: mallet-2.0.8/src/cc/mallet/regression/CoordinateDescent.java  \n",
            "  inflating: mallet-2.0.8/src/cc/mallet/regression/LeastSquares.java  \n",
            "  inflating: mallet-2.0.8/src/cc/mallet/regression/LinearRegression.java  \n",
            "  inflating: mallet-2.0.8/src/cc/mallet/regression/LinearRegressionTrainer.java  \n",
            "   creating: mallet-2.0.8/src/cc/mallet/regression/tui/\n",
            "  inflating: mallet-2.0.8/src/cc/mallet/regression/tui/Regression.java  \n",
            "  inflating: mallet-2.0.8/src/cc/mallet/regression/tui/RegressionImporter.java  \n",
            "   creating: mallet-2.0.8/src/cc/mallet/share/\n",
            "   creating: mallet-2.0.8/src/cc/mallet/share/casutton/\n",
            "   creating: mallet-2.0.8/src/cc/mallet/share/casutton/ner/\n",
            "  inflating: mallet-2.0.8/src/cc/mallet/share/casutton/ner/ConllNer2003Sentence2TokenSequence.java  \n",
            "   creating: mallet-2.0.8/src/cc/mallet/share/mccallum/\n",
            "   creating: mallet-2.0.8/src/cc/mallet/share/mccallum/ner/\n",
            "  inflating: mallet-2.0.8/src/cc/mallet/share/mccallum/ner/ConllNer2003Sentence2TokenSequence.java  \n",
            "  inflating: mallet-2.0.8/src/cc/mallet/share/mccallum/ner/package.html  \n",
            "  inflating: mallet-2.0.8/src/cc/mallet/share/mccallum/ner/TokenSequenceDocHeader.java  \n",
            "  inflating: mallet-2.0.8/src/cc/mallet/share/mccallum/ner/TUI.java  \n",
            "   creating: mallet-2.0.8/src/cc/mallet/share/upenn/\n",
            "  inflating: mallet-2.0.8/src/cc/mallet/share/upenn/MaxEntShell.java  \n",
            "   creating: mallet-2.0.8/src/cc/mallet/share/upenn/ner/\n",
            "  inflating: mallet-2.0.8/src/cc/mallet/share/upenn/ner/FeatureWindow.java  \n",
            "  inflating: mallet-2.0.8/src/cc/mallet/share/upenn/ner/LengthBins.java  \n",
            "  inflating: mallet-2.0.8/src/cc/mallet/share/upenn/ner/ListMember.java  \n",
            "  inflating: mallet-2.0.8/src/cc/mallet/share/upenn/ner/LongRegexMatches.java  \n",
            "  inflating: mallet-2.0.8/src/cc/mallet/share/upenn/ner/NEPipes.java  \n",
            "  inflating: mallet-2.0.8/src/cc/mallet/share/upenn/package.html  \n",
            "   creating: mallet-2.0.8/src/cc/mallet/share/weili/\n",
            "   creating: mallet-2.0.8/src/cc/mallet/share/weili/ner/\n",
            "   creating: mallet-2.0.8/src/cc/mallet/share/weili/ner/enron/\n",
            "  inflating: mallet-2.0.8/src/cc/mallet/share/weili/ner/enron/EnronMessage2TokenSequence.java  \n",
            "  inflating: mallet-2.0.8/src/cc/mallet/share/weili/ner/enron/TUI.java  \n",
            "  inflating: mallet-2.0.8/src/cc/mallet/share/weili/ner/WordTransformation.java  \n",
            "   creating: mallet-2.0.8/src/cc/mallet/topics/\n",
            "  inflating: mallet-2.0.8/src/cc/mallet/topics/AbstractTopicReports.java  \n",
            "  inflating: mallet-2.0.8/src/cc/mallet/topics/DMROptimizable.java  \n",
            "  inflating: mallet-2.0.8/src/cc/mallet/topics/DMRTopicModel.java  \n",
            "  inflating: mallet-2.0.8/src/cc/mallet/topics/HierarchicalLDA.java  \n",
            "  inflating: mallet-2.0.8/src/cc/mallet/topics/HierarchicalPAM.java  \n",
            "  inflating: mallet-2.0.8/src/cc/mallet/topics/JSONTopicReports.java  \n",
            "  inflating: mallet-2.0.8/src/cc/mallet/topics/LabeledLDA.java  \n",
            "  inflating: mallet-2.0.8/src/cc/mallet/topics/LDA.java  \n",
            "  inflating: mallet-2.0.8/src/cc/mallet/topics/LDAHyper.java  \n",
            "  inflating: mallet-2.0.8/src/cc/mallet/topics/LDAStream.java  \n",
            "  inflating: mallet-2.0.8/src/cc/mallet/topics/MarginalProbEstimator.java  \n",
            "  inflating: mallet-2.0.8/src/cc/mallet/topics/MultinomialHMM.java  \n",
            "  inflating: mallet-2.0.8/src/cc/mallet/topics/NPTopicModel.java  \n",
            "  inflating: mallet-2.0.8/src/cc/mallet/topics/PAM4L.java  \n",
            "  inflating: mallet-2.0.8/src/cc/mallet/topics/ParallelTopicModel.java  \n",
            "  inflating: mallet-2.0.8/src/cc/mallet/topics/PolylingualTopicModel.java  \n",
            "  inflating: mallet-2.0.8/src/cc/mallet/topics/RTopicModel.java  \n",
            "  inflating: mallet-2.0.8/src/cc/mallet/topics/SimpleLDA.java  \n",
            "  inflating: mallet-2.0.8/src/cc/mallet/topics/TopicalNGrams.java  \n",
            "  inflating: mallet-2.0.8/src/cc/mallet/topics/TopicAssignment.java  \n",
            "  inflating: mallet-2.0.8/src/cc/mallet/topics/TopicInferencer.java  \n",
            "  inflating: mallet-2.0.8/src/cc/mallet/topics/TopicModelDiagnostics.java  \n",
            "  inflating: mallet-2.0.8/src/cc/mallet/topics/TopicReports.java  \n",
            "   creating: mallet-2.0.8/src/cc/mallet/topics/tui/\n",
            "  inflating: mallet-2.0.8/src/cc/mallet/topics/tui/DMRLoader.java  \n",
            "  inflating: mallet-2.0.8/src/cc/mallet/topics/tui/EvaluateTopics.java  \n",
            "  inflating: mallet-2.0.8/src/cc/mallet/topics/tui/HierarchicalLDATUI.java  \n",
            "  inflating: mallet-2.0.8/src/cc/mallet/topics/tui/InferTopics.java  \n",
            "  inflating: mallet-2.0.8/src/cc/mallet/topics/tui/TopicTrainer.java  \n",
            "  inflating: mallet-2.0.8/src/cc/mallet/topics/tui/Vectors2Topics.java  \n",
            "  inflating: mallet-2.0.8/src/cc/mallet/topics/WeightedTopicModel.java  \n",
            "  inflating: mallet-2.0.8/src/cc/mallet/topics/WordEmbeddingRunnable.java  \n",
            "  inflating: mallet-2.0.8/src/cc/mallet/topics/WordEmbeddings.java  \n",
            "  inflating: mallet-2.0.8/src/cc/mallet/topics/WorkerRunnable.java  \n",
            "   creating: mallet-2.0.8/src/cc/mallet/types/\n",
            "  inflating: mallet-2.0.8/src/cc/mallet/types/Alphabet.java  \n",
            "  inflating: mallet-2.0.8/src/cc/mallet/types/AlphabetCarrying.java  \n",
            "  inflating: mallet-2.0.8/src/cc/mallet/types/AlphabetFactory.java  \n",
            "  inflating: mallet-2.0.8/src/cc/mallet/types/ArrayListSequence.java  \n",
            "  inflating: mallet-2.0.8/src/cc/mallet/types/ArraySequence.java  \n",
            "  inflating: mallet-2.0.8/src/cc/mallet/types/AugmentableFeatureVector.java  \n",
            "  inflating: mallet-2.0.8/src/cc/mallet/types/BiNormalSeparation.java  \n",
            "  inflating: mallet-2.0.8/src/cc/mallet/types/CachedMetric.java  \n",
            "  inflating: mallet-2.0.8/src/cc/mallet/types/ChainedInstanceIterator.java  \n",
            "  inflating: mallet-2.0.8/src/cc/mallet/types/ConstantMatrix.java  \n",
            "  inflating: mallet-2.0.8/src/cc/mallet/types/CrossValidationIterator.java  \n",
            "  inflating: mallet-2.0.8/src/cc/mallet/types/DenseMatrix.java  \n",
            "  inflating: mallet-2.0.8/src/cc/mallet/types/DenseVector.java  \n",
            "  inflating: mallet-2.0.8/src/cc/mallet/types/Dirichlet.java  \n",
            "  inflating: mallet-2.0.8/src/cc/mallet/types/EuclideanDistance.java  \n",
            "  inflating: mallet-2.0.8/src/cc/mallet/types/ExpGain.java  \n",
            "  inflating: mallet-2.0.8/src/cc/mallet/types/FeatureConjunction.java  \n",
            "  inflating: mallet-2.0.8/src/cc/mallet/types/FeatureCounter.java  \n",
            "  inflating: mallet-2.0.8/src/cc/mallet/types/FeatureCounts.java  \n",
            "  inflating: mallet-2.0.8/src/cc/mallet/types/FeatureInducer.java  \n",
            "  inflating: mallet-2.0.8/src/cc/mallet/types/FeatureSelection.java  \n",
            "  inflating: mallet-2.0.8/src/cc/mallet/types/FeatureSelector.java  \n",
            "  inflating: mallet-2.0.8/src/cc/mallet/types/FeatureSequence.java  \n",
            "  inflating: mallet-2.0.8/src/cc/mallet/types/FeatureSequenceWithBigrams.java  \n",
            "  inflating: mallet-2.0.8/src/cc/mallet/types/FeatureVector.java  \n",
            "  inflating: mallet-2.0.8/src/cc/mallet/types/FeatureVectorSequence.java  \n",
            "  inflating: mallet-2.0.8/src/cc/mallet/types/GainRatio.java  \n",
            "  inflating: mallet-2.0.8/src/cc/mallet/types/GradientGain.java  \n",
            "  inflating: mallet-2.0.8/src/cc/mallet/types/HashedSparseVector.java  \n",
            "  inflating: mallet-2.0.8/src/cc/mallet/types/IDSorter.java  \n",
            "  inflating: mallet-2.0.8/src/cc/mallet/types/IndexedSparseVector.java  \n",
            "  inflating: mallet-2.0.8/src/cc/mallet/types/InfiniteDistance.java  \n",
            "  inflating: mallet-2.0.8/src/cc/mallet/types/InfoGain.java  \n",
            "  inflating: mallet-2.0.8/src/cc/mallet/types/Instance.java  \n",
            "  inflating: mallet-2.0.8/src/cc/mallet/types/InstanceList.java  \n",
            "  inflating: mallet-2.0.8/src/cc/mallet/types/InstanceListTUI.java  \n",
            "  inflating: mallet-2.0.8/src/cc/mallet/types/InvertedIndex.java  \n",
            "  inflating: mallet-2.0.8/src/cc/mallet/types/KLGain.java  \n",
            "  inflating: mallet-2.0.8/src/cc/mallet/types/Label.java  \n",
            "  inflating: mallet-2.0.8/src/cc/mallet/types/LabelAlphabet.java  \n",
            "  inflating: mallet-2.0.8/src/cc/mallet/types/Labeler.java  \n",
            "  inflating: mallet-2.0.8/src/cc/mallet/types/Labeling.java  \n",
            "  inflating: mallet-2.0.8/src/cc/mallet/types/Labelings.java  \n",
            "  inflating: mallet-2.0.8/src/cc/mallet/types/Labels.java  \n",
            "  inflating: mallet-2.0.8/src/cc/mallet/types/LabelSequence.java  \n",
            "  inflating: mallet-2.0.8/src/cc/mallet/types/LabelsSequence.java  \n",
            "  inflating: mallet-2.0.8/src/cc/mallet/types/LabelVector.java  \n",
            "  inflating: mallet-2.0.8/src/cc/mallet/types/LogNumber.java  \n",
            "  inflating: mallet-2.0.8/src/cc/mallet/types/ManhattenDistance.java  \n",
            "  inflating: mallet-2.0.8/src/cc/mallet/types/Matrix.java  \n",
            "  inflating: mallet-2.0.8/src/cc/mallet/types/Matrix2.java  \n",
            "  inflating: mallet-2.0.8/src/cc/mallet/types/Matrixn.java  \n",
            "  inflating: mallet-2.0.8/src/cc/mallet/types/MatrixOps.java  \n",
            "  inflating: mallet-2.0.8/src/cc/mallet/types/Metric.java  \n",
            "  inflating: mallet-2.0.8/src/cc/mallet/types/Minkowski.java  \n",
            "  inflating: mallet-2.0.8/src/cc/mallet/types/MultiInstanceList.java  \n",
            "  inflating: mallet-2.0.8/src/cc/mallet/types/Multinomial.java  \n",
            "  inflating: mallet-2.0.8/src/cc/mallet/types/NormalizedDotProductMetric.java  \n",
            "  inflating: mallet-2.0.8/src/cc/mallet/types/NullLabel.java  \n",
            "  inflating: mallet-2.0.8/src/cc/mallet/types/package.html  \n",
            "  inflating: mallet-2.0.8/src/cc/mallet/types/PagedInstanceList.java  \n",
            "  inflating: mallet-2.0.8/src/cc/mallet/types/PartiallyRankedFeatureVector.java  \n",
            "  inflating: mallet-2.0.8/src/cc/mallet/types/PerLabelFeatureCounts.java  \n",
            "  inflating: mallet-2.0.8/src/cc/mallet/types/PerLabelInfoGain.java  \n",
            "  inflating: mallet-2.0.8/src/cc/mallet/types/PropertyHolder.java  \n",
            "  inflating: mallet-2.0.8/src/cc/mallet/types/RankedFeatureVector.java  \n",
            "  inflating: mallet-2.0.8/src/cc/mallet/types/ROCData.java  \n",
            "  inflating: mallet-2.0.8/src/cc/mallet/types/Sequence.java  \n",
            "  inflating: mallet-2.0.8/src/cc/mallet/types/SequencePair.java  \n",
            "  inflating: mallet-2.0.8/src/cc/mallet/types/SequencePairAlignment.java  \n",
            "  inflating: mallet-2.0.8/src/cc/mallet/types/SingleInstanceIterator.java  \n",
            "  inflating: mallet-2.0.8/src/cc/mallet/types/SparseMatrixn.java  \n",
            "  inflating: mallet-2.0.8/src/cc/mallet/types/SparseVector.java  \n",
            "  inflating: mallet-2.0.8/src/cc/mallet/types/StringEditFeatureVectorSequence.java  \n",
            "  inflating: mallet-2.0.8/src/cc/mallet/types/StringEditVector.java  \n",
            "  inflating: mallet-2.0.8/src/cc/mallet/types/StringKernel.java  \n",
            "   creating: mallet-2.0.8/src/cc/mallet/types/tests/\n",
            "  inflating: mallet-2.0.8/src/cc/mallet/types/tests/package.html  \n",
            "  inflating: mallet-2.0.8/src/cc/mallet/types/tests/TestAlphabet.java  \n",
            "  inflating: mallet-2.0.8/src/cc/mallet/types/tests/TestAugmentableFeatureVector.java  \n",
            "  inflating: mallet-2.0.8/src/cc/mallet/types/tests/TestBiNormalSeparation.java  \n",
            "  inflating: mallet-2.0.8/src/cc/mallet/types/tests/TestFeatureSequence.java  \n",
            "  inflating: mallet-2.0.8/src/cc/mallet/types/tests/TestFeatureVector.java  \n",
            "  inflating: mallet-2.0.8/src/cc/mallet/types/tests/TestHashedSparseVector.java  \n",
            "  inflating: mallet-2.0.8/src/cc/mallet/types/tests/TestIndexedSparseVector.java  \n",
            "  inflating: mallet-2.0.8/src/cc/mallet/types/tests/TestInstanceListWeights.java  \n",
            "  inflating: mallet-2.0.8/src/cc/mallet/types/tests/TestLabelAlphabet.java  \n",
            "  inflating: mallet-2.0.8/src/cc/mallet/types/tests/TestLabelsSequence.java  \n",
            "  inflating: mallet-2.0.8/src/cc/mallet/types/tests/TestLabelVector.java  \n",
            "  inflating: mallet-2.0.8/src/cc/mallet/types/tests/TestMatrix.java  \n",
            "  inflating: mallet-2.0.8/src/cc/mallet/types/tests/TestMatrixn.java  \n",
            "  inflating: mallet-2.0.8/src/cc/mallet/types/tests/TestMultinomial.java  \n",
            "  inflating: mallet-2.0.8/src/cc/mallet/types/tests/TestPagedInstanceList.java  \n",
            "  inflating: mallet-2.0.8/src/cc/mallet/types/tests/TestRankedFeatureVector.java  \n",
            "  inflating: mallet-2.0.8/src/cc/mallet/types/tests/TestSerializable.java  \n",
            "  inflating: mallet-2.0.8/src/cc/mallet/types/tests/TestSparseMatrixn.java  \n",
            "  inflating: mallet-2.0.8/src/cc/mallet/types/tests/TestSparseVector.java  \n",
            "  inflating: mallet-2.0.8/src/cc/mallet/types/tests/TestToken.java  \n",
            "  inflating: mallet-2.0.8/src/cc/mallet/types/Token.java  \n",
            "  inflating: mallet-2.0.8/src/cc/mallet/types/TokenSequence.java  \n",
            "  inflating: mallet-2.0.8/src/cc/mallet/types/Vector.java  \n",
            "   creating: mallet-2.0.8/src/cc/mallet/util/\n",
            "  inflating: mallet-2.0.8/src/cc/mallet/util/Addable.java  \n",
            "  inflating: mallet-2.0.8/src/cc/mallet/util/ArrayListUtils.java  \n",
            "  inflating: mallet-2.0.8/src/cc/mallet/util/ArrayUtils.java  \n",
            "  inflating: mallet-2.0.8/src/cc/mallet/util/BshInterpreter.java  \n",
            "  inflating: mallet-2.0.8/src/cc/mallet/util/BulkLoader.java  \n",
            "  inflating: mallet-2.0.8/src/cc/mallet/util/CharSequenceLexer.java  \n",
            "  inflating: mallet-2.0.8/src/cc/mallet/util/CollectionUtils.java  \n",
            "  inflating: mallet-2.0.8/src/cc/mallet/util/ColorUtils.java  \n",
            "  inflating: mallet-2.0.8/src/cc/mallet/util/CommandOption.java  \n",
            "  inflating: mallet-2.0.8/src/cc/mallet/util/DBBulkLoader.java  \n",
            "  inflating: mallet-2.0.8/src/cc/mallet/util/DBInstanceStore.java  \n",
            "  inflating: mallet-2.0.8/src/cc/mallet/util/DirectoryFilter.java  \n",
            "  inflating: mallet-2.0.8/src/cc/mallet/util/DocumentLengths.java  \n",
            "  inflating: mallet-2.0.8/src/cc/mallet/util/DoubleList.java  \n",
            "  inflating: mallet-2.0.8/src/cc/mallet/util/FeatureCooccurrenceCounter.java  \n",
            "  inflating: mallet-2.0.8/src/cc/mallet/util/FeatureCountTool.java  \n",
            "  inflating: mallet-2.0.8/src/cc/mallet/util/FileUtils.java  \n",
            "  inflating: mallet-2.0.8/src/cc/mallet/util/InstanceListPrinter.java  \n",
            "  inflating: mallet-2.0.8/src/cc/mallet/util/IoUtils.java  \n",
            "  inflating: mallet-2.0.8/src/cc/mallet/util/Lexer.java  \n",
            "  inflating: mallet-2.0.8/src/cc/mallet/util/MalletLogger.java  \n",
            "  inflating: mallet-2.0.8/src/cc/mallet/util/MalletProgressMessageLogger.java  \n",
            "  inflating: mallet-2.0.8/src/cc/mallet/util/Maths.java  \n",
            "  inflating: mallet-2.0.8/src/cc/mallet/util/MVNormal.java  \n",
            "  inflating: mallet-2.0.8/src/cc/mallet/util/package.html  \n",
            "  inflating: mallet-2.0.8/src/cc/mallet/util/PlainLogFormatter.java  \n",
            "  inflating: mallet-2.0.8/src/cc/mallet/util/PrintUtilities.java  \n",
            "  inflating: mallet-2.0.8/src/cc/mallet/util/ProgressMessageLogFormatter.java  \n",
            "  inflating: mallet-2.0.8/src/cc/mallet/util/ProgressMessageLogRecord.java  \n",
            "  inflating: mallet-2.0.8/src/cc/mallet/util/PropertyList.java  \n",
            "  inflating: mallet-2.0.8/src/cc/mallet/util/Randoms.java  \n",
            "  inflating: mallet-2.0.8/src/cc/mallet/util/RegexFileFilter.java  \n",
            "  inflating: mallet-2.0.8/src/cc/mallet/util/Replacement.java  \n",
            "  inflating: mallet-2.0.8/src/cc/mallet/util/Replacer.java  \n",
            "   creating: mallet-2.0.8/src/cc/mallet/util/resources/\n",
            "  inflating: mallet-2.0.8/src/cc/mallet/util/resources/logging.properties  \n",
            "   creating: mallet-2.0.8/src/cc/mallet/util/resources/wn/\n",
            "  inflating: mallet-2.0.8/src/cc/mallet/util/resources/wn/database_properties.xml  \n",
            "  inflating: mallet-2.0.8/src/cc/mallet/util/resources/wn/Examples.java  \n",
            "  inflating: mallet-2.0.8/src/cc/mallet/util/resources/wn/file_properties.xml  \n",
            "  inflating: mallet-2.0.8/src/cc/mallet/util/resources/wn/jwnl-properties.xml  \n",
            "  inflating: mallet-2.0.8/src/cc/mallet/util/resources/wn/jwnl_properties.dtd  \n",
            "  inflating: mallet-2.0.8/src/cc/mallet/util/resources/wn/jwnl_properties.xsd  \n",
            "  inflating: mallet-2.0.8/src/cc/mallet/util/resources/wn/map_properties.xml  \n",
            "  inflating: mallet-2.0.8/src/cc/mallet/util/resources/wn/README  \n",
            "   creating: mallet-2.0.8/src/cc/mallet/util/search/\n",
            "  inflating: mallet-2.0.8/src/cc/mallet/util/search/AStar.java  \n",
            "  inflating: mallet-2.0.8/src/cc/mallet/util/search/AStarNode.java  \n",
            "  inflating: mallet-2.0.8/src/cc/mallet/util/search/AStarState.java  \n",
            "  inflating: mallet-2.0.8/src/cc/mallet/util/search/MinHeap.java  \n",
            "  inflating: mallet-2.0.8/src/cc/mallet/util/search/PriorityQueue.java  \n",
            "  inflating: mallet-2.0.8/src/cc/mallet/util/search/QueueElement.java  \n",
            "  inflating: mallet-2.0.8/src/cc/mallet/util/search/SearchNode.java  \n",
            "  inflating: mallet-2.0.8/src/cc/mallet/util/search/SearchState.java  \n",
            "  inflating: mallet-2.0.8/src/cc/mallet/util/Sequences.java  \n",
            "  inflating: mallet-2.0.8/src/cc/mallet/util/StatFunctions.java  \n",
            "  inflating: mallet-2.0.8/src/cc/mallet/util/Strings.java  \n",
            "   creating: mallet-2.0.8/src/cc/mallet/util/tests/\n",
            "  inflating: mallet-2.0.8/src/cc/mallet/util/tests/package.html  \n",
            "  inflating: mallet-2.0.8/src/cc/mallet/util/tests/TestAStar.java  \n",
            "  inflating: mallet-2.0.8/src/cc/mallet/util/tests/TestMaths.java  \n",
            "  inflating: mallet-2.0.8/src/cc/mallet/util/tests/TestPriorityQueue.java  \n",
            "  inflating: mallet-2.0.8/src/cc/mallet/util/tests/TestPropertyList.java  \n",
            "  inflating: mallet-2.0.8/src/cc/mallet/util/tests/TestRandom.java  \n",
            "  inflating: mallet-2.0.8/src/cc/mallet/util/tests/TestStrings.java  \n",
            "  inflating: mallet-2.0.8/src/cc/mallet/util/Timing.java  \n",
            "  inflating: mallet-2.0.8/src/cc/mallet/util/Univariate.java  \n",
            "  inflating: mallet-2.0.8/src/cc/mallet/util/UriUtils.java  \n",
            "  inflating: mallet-2.0.8/src/cc/mallet/util/VectorStats.java  \n",
            "   creating: mallet-2.0.8/stoplists/\n",
            "  inflating: mallet-2.0.8/stoplists/de.txt  \n",
            "  inflating: mallet-2.0.8/stoplists/en.txt  \n",
            "  inflating: mallet-2.0.8/stoplists/fi.txt  \n",
            "  inflating: mallet-2.0.8/stoplists/fr.txt  \n",
            "  inflating: mallet-2.0.8/stoplists/jp.txt  \n",
            "  inflating: mallet-2.0.8/stoplists/README  \n",
            "   creating: mallet-2.0.8/test/\n"
          ],
          "name": "stdout"
        }
      ]
    },
    {
      "cell_type": "code",
      "metadata": {
        "id": "IvJBennDJ4SN"
      },
      "source": [
        "mallet_path = '/content/mallet-2.0.8/bin/mallet'  "
      ],
      "execution_count": null,
      "outputs": []
    },
    {
      "cell_type": "code",
      "metadata": {
        "id": "TfH9thDp12x0"
      },
      "source": [
        "iterations = [1000, 2000, 5000]\n",
        "alphas = [0.01, 0.2, 1, 5, 50]\n",
        "num_topics=[10,15,20,30,50]"
      ],
      "execution_count": null,
      "outputs": []
    },
    {
      "cell_type": "code",
      "metadata": {
        "id": "zrL1SI_Q12Nj"
      },
      "source": [
        "# num_topics=10"
      ],
      "execution_count": null,
      "outputs": []
    },
    {
      "cell_type": "markdown",
      "metadata": {
        "id": "bmtes31ygYxp"
      },
      "source": [
        ""
      ]
    },
    {
      "cell_type": "code",
      "metadata": {
        "colab": {
          "base_uri": "https://localhost:8080/"
        },
        "id": "7eVEcztNgkpH",
        "outputId": "a09448f3-2240-4a69-8a75-cff6d36b0390"
      },
      "source": [
        "for n in num_topics:\r\n",
        "  for alpha in alphas:\r\n",
        "    for i in iterations:\r\n",
        "      ldamallet = gensim.models.wrappers.LdaMallet( mallet_path, corpus=corpus, num_topics=n, id2word=id2word, iterations=i, alpha=alpha, workers=16)\r\n",
        "\r\n",
        "      coherence_model_ldamallet = CoherenceModel(model=ldamallet, texts=data_ready, dictionary=id2word, coherence='c_v')\r\n",
        "      coherence_ldamallet = coherence_model_ldamallet.get_coherence()\r\n",
        "      print('\\nCoherence Score: ', alpha, \"\\t\", i, \"\\t\", coherence_ldamallet)"
      ],
      "execution_count": null,
      "outputs": [
        {
          "output_type": "stream",
          "text": [
            "/usr/local/lib/python3.7/dist-packages/smart_open/smart_open_lib.py:479: DeprecationWarning: This function is deprecated.  See https://github.com/RaRe-Technologies/smart_open/blob/develop/MIGRATING_FROM_OLDER_VERSIONS.rst for more information\n",
            "  warnings.warn(message, category=DeprecationWarning)\n",
            "/usr/local/lib/python3.7/dist-packages/smart_open/smart_open_lib.py:479: DeprecationWarning: This function is deprecated.  See https://github.com/RaRe-Technologies/smart_open/blob/develop/MIGRATING_FROM_OLDER_VERSIONS.rst for more information\n",
            "  warnings.warn(message, category=DeprecationWarning)\n"
          ],
          "name": "stderr"
        },
        {
          "output_type": "stream",
          "text": [
            "\n",
            "Coherence Score:  0.01 \t 1000 \t 0.49895744883439425\n"
          ],
          "name": "stdout"
        },
        {
          "output_type": "stream",
          "text": [
            "/usr/local/lib/python3.7/dist-packages/smart_open/smart_open_lib.py:479: DeprecationWarning: This function is deprecated.  See https://github.com/RaRe-Technologies/smart_open/blob/develop/MIGRATING_FROM_OLDER_VERSIONS.rst for more information\n",
            "  warnings.warn(message, category=DeprecationWarning)\n",
            "/usr/local/lib/python3.7/dist-packages/smart_open/smart_open_lib.py:479: DeprecationWarning: This function is deprecated.  See https://github.com/RaRe-Technologies/smart_open/blob/develop/MIGRATING_FROM_OLDER_VERSIONS.rst for more information\n",
            "  warnings.warn(message, category=DeprecationWarning)\n"
          ],
          "name": "stderr"
        },
        {
          "output_type": "stream",
          "text": [
            "\n",
            "Coherence Score:  0.01 \t 2000 \t 0.46416915256761593\n"
          ],
          "name": "stdout"
        },
        {
          "output_type": "stream",
          "text": [
            "/usr/local/lib/python3.7/dist-packages/smart_open/smart_open_lib.py:479: DeprecationWarning: This function is deprecated.  See https://github.com/RaRe-Technologies/smart_open/blob/develop/MIGRATING_FROM_OLDER_VERSIONS.rst for more information\n",
            "  warnings.warn(message, category=DeprecationWarning)\n",
            "/usr/local/lib/python3.7/dist-packages/smart_open/smart_open_lib.py:479: DeprecationWarning: This function is deprecated.  See https://github.com/RaRe-Technologies/smart_open/blob/develop/MIGRATING_FROM_OLDER_VERSIONS.rst for more information\n",
            "  warnings.warn(message, category=DeprecationWarning)\n"
          ],
          "name": "stderr"
        },
        {
          "output_type": "stream",
          "text": [
            "\n",
            "Coherence Score:  0.01 \t 5000 \t 0.4858674275690588\n"
          ],
          "name": "stdout"
        },
        {
          "output_type": "stream",
          "text": [
            "/usr/local/lib/python3.7/dist-packages/smart_open/smart_open_lib.py:479: DeprecationWarning: This function is deprecated.  See https://github.com/RaRe-Technologies/smart_open/blob/develop/MIGRATING_FROM_OLDER_VERSIONS.rst for more information\n",
            "  warnings.warn(message, category=DeprecationWarning)\n",
            "/usr/local/lib/python3.7/dist-packages/smart_open/smart_open_lib.py:479: DeprecationWarning: This function is deprecated.  See https://github.com/RaRe-Technologies/smart_open/blob/develop/MIGRATING_FROM_OLDER_VERSIONS.rst for more information\n",
            "  warnings.warn(message, category=DeprecationWarning)\n"
          ],
          "name": "stderr"
        },
        {
          "output_type": "stream",
          "text": [
            "\n",
            "Coherence Score:  0.2 \t 1000 \t 0.5057105230050961\n"
          ],
          "name": "stdout"
        },
        {
          "output_type": "stream",
          "text": [
            "/usr/local/lib/python3.7/dist-packages/smart_open/smart_open_lib.py:479: DeprecationWarning: This function is deprecated.  See https://github.com/RaRe-Technologies/smart_open/blob/develop/MIGRATING_FROM_OLDER_VERSIONS.rst for more information\n",
            "  warnings.warn(message, category=DeprecationWarning)\n",
            "/usr/local/lib/python3.7/dist-packages/smart_open/smart_open_lib.py:479: DeprecationWarning: This function is deprecated.  See https://github.com/RaRe-Technologies/smart_open/blob/develop/MIGRATING_FROM_OLDER_VERSIONS.rst for more information\n",
            "  warnings.warn(message, category=DeprecationWarning)\n"
          ],
          "name": "stderr"
        },
        {
          "output_type": "stream",
          "text": [
            "\n",
            "Coherence Score:  0.2 \t 2000 \t 0.49864588441134394\n"
          ],
          "name": "stdout"
        },
        {
          "output_type": "stream",
          "text": [
            "/usr/local/lib/python3.7/dist-packages/smart_open/smart_open_lib.py:479: DeprecationWarning: This function is deprecated.  See https://github.com/RaRe-Technologies/smart_open/blob/develop/MIGRATING_FROM_OLDER_VERSIONS.rst for more information\n",
            "  warnings.warn(message, category=DeprecationWarning)\n",
            "/usr/local/lib/python3.7/dist-packages/smart_open/smart_open_lib.py:479: DeprecationWarning: This function is deprecated.  See https://github.com/RaRe-Technologies/smart_open/blob/develop/MIGRATING_FROM_OLDER_VERSIONS.rst for more information\n",
            "  warnings.warn(message, category=DeprecationWarning)\n"
          ],
          "name": "stderr"
        },
        {
          "output_type": "stream",
          "text": [
            "\n",
            "Coherence Score:  0.2 \t 5000 \t 0.5036666447069306\n"
          ],
          "name": "stdout"
        },
        {
          "output_type": "stream",
          "text": [
            "/usr/local/lib/python3.7/dist-packages/smart_open/smart_open_lib.py:479: DeprecationWarning: This function is deprecated.  See https://github.com/RaRe-Technologies/smart_open/blob/develop/MIGRATING_FROM_OLDER_VERSIONS.rst for more information\n",
            "  warnings.warn(message, category=DeprecationWarning)\n",
            "/usr/local/lib/python3.7/dist-packages/smart_open/smart_open_lib.py:479: DeprecationWarning: This function is deprecated.  See https://github.com/RaRe-Technologies/smart_open/blob/develop/MIGRATING_FROM_OLDER_VERSIONS.rst for more information\n",
            "  warnings.warn(message, category=DeprecationWarning)\n"
          ],
          "name": "stderr"
        },
        {
          "output_type": "stream",
          "text": [
            "\n",
            "Coherence Score:  1 \t 1000 \t 0.4941252424542192\n"
          ],
          "name": "stdout"
        },
        {
          "output_type": "stream",
          "text": [
            "/usr/local/lib/python3.7/dist-packages/smart_open/smart_open_lib.py:479: DeprecationWarning: This function is deprecated.  See https://github.com/RaRe-Technologies/smart_open/blob/develop/MIGRATING_FROM_OLDER_VERSIONS.rst for more information\n",
            "  warnings.warn(message, category=DeprecationWarning)\n",
            "/usr/local/lib/python3.7/dist-packages/smart_open/smart_open_lib.py:479: DeprecationWarning: This function is deprecated.  See https://github.com/RaRe-Technologies/smart_open/blob/develop/MIGRATING_FROM_OLDER_VERSIONS.rst for more information\n",
            "  warnings.warn(message, category=DeprecationWarning)\n"
          ],
          "name": "stderr"
        },
        {
          "output_type": "stream",
          "text": [
            "\n",
            "Coherence Score:  1 \t 2000 \t 0.5191145575951256\n"
          ],
          "name": "stdout"
        },
        {
          "output_type": "stream",
          "text": [
            "/usr/local/lib/python3.7/dist-packages/smart_open/smart_open_lib.py:479: DeprecationWarning: This function is deprecated.  See https://github.com/RaRe-Technologies/smart_open/blob/develop/MIGRATING_FROM_OLDER_VERSIONS.rst for more information\n",
            "  warnings.warn(message, category=DeprecationWarning)\n",
            "/usr/local/lib/python3.7/dist-packages/smart_open/smart_open_lib.py:479: DeprecationWarning: This function is deprecated.  See https://github.com/RaRe-Technologies/smart_open/blob/develop/MIGRATING_FROM_OLDER_VERSIONS.rst for more information\n",
            "  warnings.warn(message, category=DeprecationWarning)\n"
          ],
          "name": "stderr"
        },
        {
          "output_type": "stream",
          "text": [
            "\n",
            "Coherence Score:  1 \t 5000 \t 0.5231024094776264\n"
          ],
          "name": "stdout"
        },
        {
          "output_type": "stream",
          "text": [
            "/usr/local/lib/python3.7/dist-packages/smart_open/smart_open_lib.py:479: DeprecationWarning: This function is deprecated.  See https://github.com/RaRe-Technologies/smart_open/blob/develop/MIGRATING_FROM_OLDER_VERSIONS.rst for more information\n",
            "  warnings.warn(message, category=DeprecationWarning)\n",
            "/usr/local/lib/python3.7/dist-packages/smart_open/smart_open_lib.py:479: DeprecationWarning: This function is deprecated.  See https://github.com/RaRe-Technologies/smart_open/blob/develop/MIGRATING_FROM_OLDER_VERSIONS.rst for more information\n",
            "  warnings.warn(message, category=DeprecationWarning)\n"
          ],
          "name": "stderr"
        },
        {
          "output_type": "stream",
          "text": [
            "\n",
            "Coherence Score:  5 \t 1000 \t 0.5124197943636215\n"
          ],
          "name": "stdout"
        },
        {
          "output_type": "stream",
          "text": [
            "/usr/local/lib/python3.7/dist-packages/smart_open/smart_open_lib.py:479: DeprecationWarning: This function is deprecated.  See https://github.com/RaRe-Technologies/smart_open/blob/develop/MIGRATING_FROM_OLDER_VERSIONS.rst for more information\n",
            "  warnings.warn(message, category=DeprecationWarning)\n",
            "/usr/local/lib/python3.7/dist-packages/smart_open/smart_open_lib.py:479: DeprecationWarning: This function is deprecated.  See https://github.com/RaRe-Technologies/smart_open/blob/develop/MIGRATING_FROM_OLDER_VERSIONS.rst for more information\n",
            "  warnings.warn(message, category=DeprecationWarning)\n"
          ],
          "name": "stderr"
        },
        {
          "output_type": "stream",
          "text": [
            "\n",
            "Coherence Score:  5 \t 2000 \t 0.5017077909257283\n"
          ],
          "name": "stdout"
        },
        {
          "output_type": "stream",
          "text": [
            "/usr/local/lib/python3.7/dist-packages/smart_open/smart_open_lib.py:479: DeprecationWarning: This function is deprecated.  See https://github.com/RaRe-Technologies/smart_open/blob/develop/MIGRATING_FROM_OLDER_VERSIONS.rst for more information\n",
            "  warnings.warn(message, category=DeprecationWarning)\n",
            "/usr/local/lib/python3.7/dist-packages/smart_open/smart_open_lib.py:479: DeprecationWarning: This function is deprecated.  See https://github.com/RaRe-Technologies/smart_open/blob/develop/MIGRATING_FROM_OLDER_VERSIONS.rst for more information\n",
            "  warnings.warn(message, category=DeprecationWarning)\n"
          ],
          "name": "stderr"
        },
        {
          "output_type": "stream",
          "text": [
            "\n",
            "Coherence Score:  5 \t 5000 \t 0.5081812672083548\n"
          ],
          "name": "stdout"
        },
        {
          "output_type": "stream",
          "text": [
            "/usr/local/lib/python3.7/dist-packages/smart_open/smart_open_lib.py:479: DeprecationWarning: This function is deprecated.  See https://github.com/RaRe-Technologies/smart_open/blob/develop/MIGRATING_FROM_OLDER_VERSIONS.rst for more information\n",
            "  warnings.warn(message, category=DeprecationWarning)\n",
            "/usr/local/lib/python3.7/dist-packages/smart_open/smart_open_lib.py:479: DeprecationWarning: This function is deprecated.  See https://github.com/RaRe-Technologies/smart_open/blob/develop/MIGRATING_FROM_OLDER_VERSIONS.rst for more information\n",
            "  warnings.warn(message, category=DeprecationWarning)\n"
          ],
          "name": "stderr"
        },
        {
          "output_type": "stream",
          "text": [
            "\n",
            "Coherence Score:  50 \t 1000 \t 0.49379378380025996\n"
          ],
          "name": "stdout"
        },
        {
          "output_type": "stream",
          "text": [
            "/usr/local/lib/python3.7/dist-packages/smart_open/smart_open_lib.py:479: DeprecationWarning: This function is deprecated.  See https://github.com/RaRe-Technologies/smart_open/blob/develop/MIGRATING_FROM_OLDER_VERSIONS.rst for more information\n",
            "  warnings.warn(message, category=DeprecationWarning)\n",
            "/usr/local/lib/python3.7/dist-packages/smart_open/smart_open_lib.py:479: DeprecationWarning: This function is deprecated.  See https://github.com/RaRe-Technologies/smart_open/blob/develop/MIGRATING_FROM_OLDER_VERSIONS.rst for more information\n",
            "  warnings.warn(message, category=DeprecationWarning)\n"
          ],
          "name": "stderr"
        },
        {
          "output_type": "stream",
          "text": [
            "\n",
            "Coherence Score:  50 \t 2000 \t 0.5067224264281037\n"
          ],
          "name": "stdout"
        },
        {
          "output_type": "stream",
          "text": [
            "/usr/local/lib/python3.7/dist-packages/smart_open/smart_open_lib.py:479: DeprecationWarning: This function is deprecated.  See https://github.com/RaRe-Technologies/smart_open/blob/develop/MIGRATING_FROM_OLDER_VERSIONS.rst for more information\n",
            "  warnings.warn(message, category=DeprecationWarning)\n",
            "/usr/local/lib/python3.7/dist-packages/smart_open/smart_open_lib.py:479: DeprecationWarning: This function is deprecated.  See https://github.com/RaRe-Technologies/smart_open/blob/develop/MIGRATING_FROM_OLDER_VERSIONS.rst for more information\n",
            "  warnings.warn(message, category=DeprecationWarning)\n"
          ],
          "name": "stderr"
        },
        {
          "output_type": "stream",
          "text": [
            "\n",
            "Coherence Score:  50 \t 5000 \t 0.503437235944266\n"
          ],
          "name": "stdout"
        },
        {
          "output_type": "stream",
          "text": [
            "/usr/local/lib/python3.7/dist-packages/smart_open/smart_open_lib.py:479: DeprecationWarning: This function is deprecated.  See https://github.com/RaRe-Technologies/smart_open/blob/develop/MIGRATING_FROM_OLDER_VERSIONS.rst for more information\n",
            "  warnings.warn(message, category=DeprecationWarning)\n",
            "/usr/local/lib/python3.7/dist-packages/smart_open/smart_open_lib.py:479: DeprecationWarning: This function is deprecated.  See https://github.com/RaRe-Technologies/smart_open/blob/develop/MIGRATING_FROM_OLDER_VERSIONS.rst for more information\n",
            "  warnings.warn(message, category=DeprecationWarning)\n"
          ],
          "name": "stderr"
        },
        {
          "output_type": "stream",
          "text": [
            "\n",
            "Coherence Score:  0.01 \t 1000 \t 0.4966387821601723\n"
          ],
          "name": "stdout"
        },
        {
          "output_type": "stream",
          "text": [
            "/usr/local/lib/python3.7/dist-packages/smart_open/smart_open_lib.py:479: DeprecationWarning: This function is deprecated.  See https://github.com/RaRe-Technologies/smart_open/blob/develop/MIGRATING_FROM_OLDER_VERSIONS.rst for more information\n",
            "  warnings.warn(message, category=DeprecationWarning)\n",
            "/usr/local/lib/python3.7/dist-packages/smart_open/smart_open_lib.py:479: DeprecationWarning: This function is deprecated.  See https://github.com/RaRe-Technologies/smart_open/blob/develop/MIGRATING_FROM_OLDER_VERSIONS.rst for more information\n",
            "  warnings.warn(message, category=DeprecationWarning)\n"
          ],
          "name": "stderr"
        },
        {
          "output_type": "stream",
          "text": [
            "\n",
            "Coherence Score:  0.01 \t 2000 \t 0.4951879400376132\n"
          ],
          "name": "stdout"
        },
        {
          "output_type": "stream",
          "text": [
            "/usr/local/lib/python3.7/dist-packages/smart_open/smart_open_lib.py:479: DeprecationWarning: This function is deprecated.  See https://github.com/RaRe-Technologies/smart_open/blob/develop/MIGRATING_FROM_OLDER_VERSIONS.rst for more information\n",
            "  warnings.warn(message, category=DeprecationWarning)\n",
            "/usr/local/lib/python3.7/dist-packages/smart_open/smart_open_lib.py:479: DeprecationWarning: This function is deprecated.  See https://github.com/RaRe-Technologies/smart_open/blob/develop/MIGRATING_FROM_OLDER_VERSIONS.rst for more information\n",
            "  warnings.warn(message, category=DeprecationWarning)\n"
          ],
          "name": "stderr"
        },
        {
          "output_type": "stream",
          "text": [
            "\n",
            "Coherence Score:  0.01 \t 5000 \t 0.4935817473013597\n"
          ],
          "name": "stdout"
        },
        {
          "output_type": "stream",
          "text": [
            "/usr/local/lib/python3.7/dist-packages/smart_open/smart_open_lib.py:479: DeprecationWarning: This function is deprecated.  See https://github.com/RaRe-Technologies/smart_open/blob/develop/MIGRATING_FROM_OLDER_VERSIONS.rst for more information\n",
            "  warnings.warn(message, category=DeprecationWarning)\n",
            "/usr/local/lib/python3.7/dist-packages/smart_open/smart_open_lib.py:479: DeprecationWarning: This function is deprecated.  See https://github.com/RaRe-Technologies/smart_open/blob/develop/MIGRATING_FROM_OLDER_VERSIONS.rst for more information\n",
            "  warnings.warn(message, category=DeprecationWarning)\n"
          ],
          "name": "stderr"
        },
        {
          "output_type": "stream",
          "text": [
            "\n",
            "Coherence Score:  0.2 \t 1000 \t 0.5235236238022659\n"
          ],
          "name": "stdout"
        },
        {
          "output_type": "stream",
          "text": [
            "/usr/local/lib/python3.7/dist-packages/smart_open/smart_open_lib.py:479: DeprecationWarning: This function is deprecated.  See https://github.com/RaRe-Technologies/smart_open/blob/develop/MIGRATING_FROM_OLDER_VERSIONS.rst for more information\n",
            "  warnings.warn(message, category=DeprecationWarning)\n",
            "/usr/local/lib/python3.7/dist-packages/smart_open/smart_open_lib.py:479: DeprecationWarning: This function is deprecated.  See https://github.com/RaRe-Technologies/smart_open/blob/develop/MIGRATING_FROM_OLDER_VERSIONS.rst for more information\n",
            "  warnings.warn(message, category=DeprecationWarning)\n"
          ],
          "name": "stderr"
        },
        {
          "output_type": "stream",
          "text": [
            "\n",
            "Coherence Score:  0.2 \t 2000 \t 0.5229581496084597\n"
          ],
          "name": "stdout"
        },
        {
          "output_type": "stream",
          "text": [
            "/usr/local/lib/python3.7/dist-packages/smart_open/smart_open_lib.py:479: DeprecationWarning: This function is deprecated.  See https://github.com/RaRe-Technologies/smart_open/blob/develop/MIGRATING_FROM_OLDER_VERSIONS.rst for more information\n",
            "  warnings.warn(message, category=DeprecationWarning)\n",
            "/usr/local/lib/python3.7/dist-packages/smart_open/smart_open_lib.py:479: DeprecationWarning: This function is deprecated.  See https://github.com/RaRe-Technologies/smart_open/blob/develop/MIGRATING_FROM_OLDER_VERSIONS.rst for more information\n",
            "  warnings.warn(message, category=DeprecationWarning)\n"
          ],
          "name": "stderr"
        },
        {
          "output_type": "stream",
          "text": [
            "\n",
            "Coherence Score:  0.2 \t 5000 \t 0.5038537053706499\n"
          ],
          "name": "stdout"
        },
        {
          "output_type": "stream",
          "text": [
            "/usr/local/lib/python3.7/dist-packages/smart_open/smart_open_lib.py:479: DeprecationWarning: This function is deprecated.  See https://github.com/RaRe-Technologies/smart_open/blob/develop/MIGRATING_FROM_OLDER_VERSIONS.rst for more information\n",
            "  warnings.warn(message, category=DeprecationWarning)\n",
            "/usr/local/lib/python3.7/dist-packages/smart_open/smart_open_lib.py:479: DeprecationWarning: This function is deprecated.  See https://github.com/RaRe-Technologies/smart_open/blob/develop/MIGRATING_FROM_OLDER_VERSIONS.rst for more information\n",
            "  warnings.warn(message, category=DeprecationWarning)\n"
          ],
          "name": "stderr"
        },
        {
          "output_type": "stream",
          "text": [
            "\n",
            "Coherence Score:  1 \t 1000 \t 0.5316035111771471\n"
          ],
          "name": "stdout"
        },
        {
          "output_type": "stream",
          "text": [
            "/usr/local/lib/python3.7/dist-packages/smart_open/smart_open_lib.py:479: DeprecationWarning: This function is deprecated.  See https://github.com/RaRe-Technologies/smart_open/blob/develop/MIGRATING_FROM_OLDER_VERSIONS.rst for more information\n",
            "  warnings.warn(message, category=DeprecationWarning)\n",
            "/usr/local/lib/python3.7/dist-packages/smart_open/smart_open_lib.py:479: DeprecationWarning: This function is deprecated.  See https://github.com/RaRe-Technologies/smart_open/blob/develop/MIGRATING_FROM_OLDER_VERSIONS.rst for more information\n",
            "  warnings.warn(message, category=DeprecationWarning)\n"
          ],
          "name": "stderr"
        },
        {
          "output_type": "stream",
          "text": [
            "\n",
            "Coherence Score:  1 \t 2000 \t 0.5140581978594783\n"
          ],
          "name": "stdout"
        },
        {
          "output_type": "stream",
          "text": [
            "/usr/local/lib/python3.7/dist-packages/smart_open/smart_open_lib.py:479: DeprecationWarning: This function is deprecated.  See https://github.com/RaRe-Technologies/smart_open/blob/develop/MIGRATING_FROM_OLDER_VERSIONS.rst for more information\n",
            "  warnings.warn(message, category=DeprecationWarning)\n",
            "/usr/local/lib/python3.7/dist-packages/smart_open/smart_open_lib.py:479: DeprecationWarning: This function is deprecated.  See https://github.com/RaRe-Technologies/smart_open/blob/develop/MIGRATING_FROM_OLDER_VERSIONS.rst for more information\n",
            "  warnings.warn(message, category=DeprecationWarning)\n"
          ],
          "name": "stderr"
        },
        {
          "output_type": "stream",
          "text": [
            "\n",
            "Coherence Score:  1 \t 5000 \t 0.5297579122694862\n"
          ],
          "name": "stdout"
        },
        {
          "output_type": "stream",
          "text": [
            "/usr/local/lib/python3.7/dist-packages/smart_open/smart_open_lib.py:479: DeprecationWarning: This function is deprecated.  See https://github.com/RaRe-Technologies/smart_open/blob/develop/MIGRATING_FROM_OLDER_VERSIONS.rst for more information\n",
            "  warnings.warn(message, category=DeprecationWarning)\n",
            "/usr/local/lib/python3.7/dist-packages/smart_open/smart_open_lib.py:479: DeprecationWarning: This function is deprecated.  See https://github.com/RaRe-Technologies/smart_open/blob/develop/MIGRATING_FROM_OLDER_VERSIONS.rst for more information\n",
            "  warnings.warn(message, category=DeprecationWarning)\n"
          ],
          "name": "stderr"
        },
        {
          "output_type": "stream",
          "text": [
            "\n",
            "Coherence Score:  5 \t 1000 \t 0.5189405812626041\n"
          ],
          "name": "stdout"
        },
        {
          "output_type": "stream",
          "text": [
            "/usr/local/lib/python3.7/dist-packages/smart_open/smart_open_lib.py:479: DeprecationWarning: This function is deprecated.  See https://github.com/RaRe-Technologies/smart_open/blob/develop/MIGRATING_FROM_OLDER_VERSIONS.rst for more information\n",
            "  warnings.warn(message, category=DeprecationWarning)\n",
            "/usr/local/lib/python3.7/dist-packages/smart_open/smart_open_lib.py:479: DeprecationWarning: This function is deprecated.  See https://github.com/RaRe-Technologies/smart_open/blob/develop/MIGRATING_FROM_OLDER_VERSIONS.rst for more information\n",
            "  warnings.warn(message, category=DeprecationWarning)\n"
          ],
          "name": "stderr"
        },
        {
          "output_type": "stream",
          "text": [
            "\n",
            "Coherence Score:  5 \t 2000 \t 0.5429476025781669\n"
          ],
          "name": "stdout"
        },
        {
          "output_type": "stream",
          "text": [
            "/usr/local/lib/python3.7/dist-packages/smart_open/smart_open_lib.py:479: DeprecationWarning: This function is deprecated.  See https://github.com/RaRe-Technologies/smart_open/blob/develop/MIGRATING_FROM_OLDER_VERSIONS.rst for more information\n",
            "  warnings.warn(message, category=DeprecationWarning)\n",
            "/usr/local/lib/python3.7/dist-packages/smart_open/smart_open_lib.py:479: DeprecationWarning: This function is deprecated.  See https://github.com/RaRe-Technologies/smart_open/blob/develop/MIGRATING_FROM_OLDER_VERSIONS.rst for more information\n",
            "  warnings.warn(message, category=DeprecationWarning)\n"
          ],
          "name": "stderr"
        },
        {
          "output_type": "stream",
          "text": [
            "\n",
            "Coherence Score:  5 \t 5000 \t 0.529753676272584\n"
          ],
          "name": "stdout"
        },
        {
          "output_type": "stream",
          "text": [
            "/usr/local/lib/python3.7/dist-packages/smart_open/smart_open_lib.py:479: DeprecationWarning: This function is deprecated.  See https://github.com/RaRe-Technologies/smart_open/blob/develop/MIGRATING_FROM_OLDER_VERSIONS.rst for more information\n",
            "  warnings.warn(message, category=DeprecationWarning)\n",
            "/usr/local/lib/python3.7/dist-packages/smart_open/smart_open_lib.py:479: DeprecationWarning: This function is deprecated.  See https://github.com/RaRe-Technologies/smart_open/blob/develop/MIGRATING_FROM_OLDER_VERSIONS.rst for more information\n",
            "  warnings.warn(message, category=DeprecationWarning)\n"
          ],
          "name": "stderr"
        },
        {
          "output_type": "stream",
          "text": [
            "\n",
            "Coherence Score:  50 \t 1000 \t 0.5032046581915872\n"
          ],
          "name": "stdout"
        },
        {
          "output_type": "stream",
          "text": [
            "/usr/local/lib/python3.7/dist-packages/smart_open/smart_open_lib.py:479: DeprecationWarning: This function is deprecated.  See https://github.com/RaRe-Technologies/smart_open/blob/develop/MIGRATING_FROM_OLDER_VERSIONS.rst for more information\n",
            "  warnings.warn(message, category=DeprecationWarning)\n",
            "/usr/local/lib/python3.7/dist-packages/smart_open/smart_open_lib.py:479: DeprecationWarning: This function is deprecated.  See https://github.com/RaRe-Technologies/smart_open/blob/develop/MIGRATING_FROM_OLDER_VERSIONS.rst for more information\n",
            "  warnings.warn(message, category=DeprecationWarning)\n"
          ],
          "name": "stderr"
        },
        {
          "output_type": "stream",
          "text": [
            "\n",
            "Coherence Score:  50 \t 2000 \t 0.5208126375690144\n"
          ],
          "name": "stdout"
        },
        {
          "output_type": "stream",
          "text": [
            "/usr/local/lib/python3.7/dist-packages/smart_open/smart_open_lib.py:479: DeprecationWarning: This function is deprecated.  See https://github.com/RaRe-Technologies/smart_open/blob/develop/MIGRATING_FROM_OLDER_VERSIONS.rst for more information\n",
            "  warnings.warn(message, category=DeprecationWarning)\n",
            "/usr/local/lib/python3.7/dist-packages/smart_open/smart_open_lib.py:479: DeprecationWarning: This function is deprecated.  See https://github.com/RaRe-Technologies/smart_open/blob/develop/MIGRATING_FROM_OLDER_VERSIONS.rst for more information\n",
            "  warnings.warn(message, category=DeprecationWarning)\n"
          ],
          "name": "stderr"
        },
        {
          "output_type": "stream",
          "text": [
            "\n",
            "Coherence Score:  50 \t 5000 \t 0.5184493161058451\n"
          ],
          "name": "stdout"
        },
        {
          "output_type": "stream",
          "text": [
            "/usr/local/lib/python3.7/dist-packages/smart_open/smart_open_lib.py:479: DeprecationWarning: This function is deprecated.  See https://github.com/RaRe-Technologies/smart_open/blob/develop/MIGRATING_FROM_OLDER_VERSIONS.rst for more information\n",
            "  warnings.warn(message, category=DeprecationWarning)\n",
            "/usr/local/lib/python3.7/dist-packages/smart_open/smart_open_lib.py:479: DeprecationWarning: This function is deprecated.  See https://github.com/RaRe-Technologies/smart_open/blob/develop/MIGRATING_FROM_OLDER_VERSIONS.rst for more information\n",
            "  warnings.warn(message, category=DeprecationWarning)\n"
          ],
          "name": "stderr"
        },
        {
          "output_type": "stream",
          "text": [
            "\n",
            "Coherence Score:  0.01 \t 1000 \t 0.48954133385776294\n"
          ],
          "name": "stdout"
        },
        {
          "output_type": "stream",
          "text": [
            "/usr/local/lib/python3.7/dist-packages/smart_open/smart_open_lib.py:479: DeprecationWarning: This function is deprecated.  See https://github.com/RaRe-Technologies/smart_open/blob/develop/MIGRATING_FROM_OLDER_VERSIONS.rst for more information\n",
            "  warnings.warn(message, category=DeprecationWarning)\n",
            "/usr/local/lib/python3.7/dist-packages/smart_open/smart_open_lib.py:479: DeprecationWarning: This function is deprecated.  See https://github.com/RaRe-Technologies/smart_open/blob/develop/MIGRATING_FROM_OLDER_VERSIONS.rst for more information\n",
            "  warnings.warn(message, category=DeprecationWarning)\n"
          ],
          "name": "stderr"
        },
        {
          "output_type": "stream",
          "text": [
            "\n",
            "Coherence Score:  0.01 \t 2000 \t 0.4898014377400523\n"
          ],
          "name": "stdout"
        },
        {
          "output_type": "stream",
          "text": [
            "/usr/local/lib/python3.7/dist-packages/smart_open/smart_open_lib.py:479: DeprecationWarning: This function is deprecated.  See https://github.com/RaRe-Technologies/smart_open/blob/develop/MIGRATING_FROM_OLDER_VERSIONS.rst for more information\n",
            "  warnings.warn(message, category=DeprecationWarning)\n",
            "/usr/local/lib/python3.7/dist-packages/smart_open/smart_open_lib.py:479: DeprecationWarning: This function is deprecated.  See https://github.com/RaRe-Technologies/smart_open/blob/develop/MIGRATING_FROM_OLDER_VERSIONS.rst for more information\n",
            "  warnings.warn(message, category=DeprecationWarning)\n"
          ],
          "name": "stderr"
        },
        {
          "output_type": "stream",
          "text": [
            "\n",
            "Coherence Score:  0.01 \t 5000 \t 0.4811900681953463\n"
          ],
          "name": "stdout"
        },
        {
          "output_type": "stream",
          "text": [
            "/usr/local/lib/python3.7/dist-packages/smart_open/smart_open_lib.py:479: DeprecationWarning: This function is deprecated.  See https://github.com/RaRe-Technologies/smart_open/blob/develop/MIGRATING_FROM_OLDER_VERSIONS.rst for more information\n",
            "  warnings.warn(message, category=DeprecationWarning)\n",
            "/usr/local/lib/python3.7/dist-packages/smart_open/smart_open_lib.py:479: DeprecationWarning: This function is deprecated.  See https://github.com/RaRe-Technologies/smart_open/blob/develop/MIGRATING_FROM_OLDER_VERSIONS.rst for more information\n",
            "  warnings.warn(message, category=DeprecationWarning)\n"
          ],
          "name": "stderr"
        },
        {
          "output_type": "stream",
          "text": [
            "\n",
            "Coherence Score:  0.2 \t 1000 \t 0.5165320173854864\n"
          ],
          "name": "stdout"
        },
        {
          "output_type": "stream",
          "text": [
            "/usr/local/lib/python3.7/dist-packages/smart_open/smart_open_lib.py:479: DeprecationWarning: This function is deprecated.  See https://github.com/RaRe-Technologies/smart_open/blob/develop/MIGRATING_FROM_OLDER_VERSIONS.rst for more information\n",
            "  warnings.warn(message, category=DeprecationWarning)\n",
            "/usr/local/lib/python3.7/dist-packages/smart_open/smart_open_lib.py:479: DeprecationWarning: This function is deprecated.  See https://github.com/RaRe-Technologies/smart_open/blob/develop/MIGRATING_FROM_OLDER_VERSIONS.rst for more information\n",
            "  warnings.warn(message, category=DeprecationWarning)\n"
          ],
          "name": "stderr"
        },
        {
          "output_type": "stream",
          "text": [
            "\n",
            "Coherence Score:  0.2 \t 2000 \t 0.526837539752687\n"
          ],
          "name": "stdout"
        },
        {
          "output_type": "stream",
          "text": [
            "/usr/local/lib/python3.7/dist-packages/smart_open/smart_open_lib.py:479: DeprecationWarning: This function is deprecated.  See https://github.com/RaRe-Technologies/smart_open/blob/develop/MIGRATING_FROM_OLDER_VERSIONS.rst for more information\n",
            "  warnings.warn(message, category=DeprecationWarning)\n",
            "/usr/local/lib/python3.7/dist-packages/smart_open/smart_open_lib.py:479: DeprecationWarning: This function is deprecated.  See https://github.com/RaRe-Technologies/smart_open/blob/develop/MIGRATING_FROM_OLDER_VERSIONS.rst for more information\n",
            "  warnings.warn(message, category=DeprecationWarning)\n"
          ],
          "name": "stderr"
        },
        {
          "output_type": "stream",
          "text": [
            "\n",
            "Coherence Score:  0.2 \t 5000 \t 0.5192455462951318\n"
          ],
          "name": "stdout"
        },
        {
          "output_type": "stream",
          "text": [
            "/usr/local/lib/python3.7/dist-packages/smart_open/smart_open_lib.py:479: DeprecationWarning: This function is deprecated.  See https://github.com/RaRe-Technologies/smart_open/blob/develop/MIGRATING_FROM_OLDER_VERSIONS.rst for more information\n",
            "  warnings.warn(message, category=DeprecationWarning)\n",
            "/usr/local/lib/python3.7/dist-packages/smart_open/smart_open_lib.py:479: DeprecationWarning: This function is deprecated.  See https://github.com/RaRe-Technologies/smart_open/blob/develop/MIGRATING_FROM_OLDER_VERSIONS.rst for more information\n",
            "  warnings.warn(message, category=DeprecationWarning)\n"
          ],
          "name": "stderr"
        },
        {
          "output_type": "stream",
          "text": [
            "\n",
            "Coherence Score:  1 \t 1000 \t 0.5250373226691515\n"
          ],
          "name": "stdout"
        },
        {
          "output_type": "stream",
          "text": [
            "/usr/local/lib/python3.7/dist-packages/smart_open/smart_open_lib.py:479: DeprecationWarning: This function is deprecated.  See https://github.com/RaRe-Technologies/smart_open/blob/develop/MIGRATING_FROM_OLDER_VERSIONS.rst for more information\n",
            "  warnings.warn(message, category=DeprecationWarning)\n"
          ],
          "name": "stderr"
        }
      ]
    },
    {
      "cell_type": "code",
      "metadata": {
        "id": "-MVwJcdk12tN",
        "colab": {
          "base_uri": "https://localhost:8080/"
        },
        "outputId": "4f9d35ea-092f-4248-f309-a077706ea6a0"
      },
      "source": [
        "for alpha in alphas:\n",
        "  for i in iterations:\n",
        "    ldamallet = gensim.models.wrappers.LdaMallet( mallet_path, corpus=corpus, num_topics=num_topics, id2word=id2word, iterations=i, alpha=alpha, workers=16)\n",
        "\n",
        "    coherence_model_ldamallet = CoherenceModel(model=ldamallet, texts=data_ready, dictionary=id2word, coherence='c_v')\n",
        "    coherence_ldamallet = coherence_model_ldamallet.get_coherence()\n",
        "    print('\\nCoherence Score: ', alpha, \"\\t\", i, \"\\t\", coherence_ldamallet)"
      ],
      "execution_count": null,
      "outputs": [
        {
          "output_type": "stream",
          "text": [
            "/usr/local/lib/python3.7/dist-packages/smart_open/smart_open_lib.py:479: DeprecationWarning: This function is deprecated.  See https://github.com/RaRe-Technologies/smart_open/blob/develop/MIGRATING_FROM_OLDER_VERSIONS.rst for more information\n",
            "  warnings.warn(message, category=DeprecationWarning)\n",
            "/usr/local/lib/python3.7/dist-packages/smart_open/smart_open_lib.py:479: DeprecationWarning: This function is deprecated.  See https://github.com/RaRe-Technologies/smart_open/blob/develop/MIGRATING_FROM_OLDER_VERSIONS.rst for more information\n",
            "  warnings.warn(message, category=DeprecationWarning)\n"
          ],
          "name": "stderr"
        },
        {
          "output_type": "stream",
          "text": [
            "\n",
            "Coherence Score:  0.01 \t 1000 \t 0.4735612268462237\n"
          ],
          "name": "stdout"
        },
        {
          "output_type": "stream",
          "text": [
            "/usr/local/lib/python3.7/dist-packages/smart_open/smart_open_lib.py:479: DeprecationWarning: This function is deprecated.  See https://github.com/RaRe-Technologies/smart_open/blob/develop/MIGRATING_FROM_OLDER_VERSIONS.rst for more information\n",
            "  warnings.warn(message, category=DeprecationWarning)\n",
            "/usr/local/lib/python3.7/dist-packages/smart_open/smart_open_lib.py:479: DeprecationWarning: This function is deprecated.  See https://github.com/RaRe-Technologies/smart_open/blob/develop/MIGRATING_FROM_OLDER_VERSIONS.rst for more information\n",
            "  warnings.warn(message, category=DeprecationWarning)\n"
          ],
          "name": "stderr"
        },
        {
          "output_type": "stream",
          "text": [
            "\n",
            "Coherence Score:  0.01 \t 2000 \t 0.4613007769738946\n"
          ],
          "name": "stdout"
        },
        {
          "output_type": "stream",
          "text": [
            "/usr/local/lib/python3.7/dist-packages/smart_open/smart_open_lib.py:479: DeprecationWarning: This function is deprecated.  See https://github.com/RaRe-Technologies/smart_open/blob/develop/MIGRATING_FROM_OLDER_VERSIONS.rst for more information\n",
            "  warnings.warn(message, category=DeprecationWarning)\n",
            "/usr/local/lib/python3.7/dist-packages/smart_open/smart_open_lib.py:479: DeprecationWarning: This function is deprecated.  See https://github.com/RaRe-Technologies/smart_open/blob/develop/MIGRATING_FROM_OLDER_VERSIONS.rst for more information\n",
            "  warnings.warn(message, category=DeprecationWarning)\n"
          ],
          "name": "stderr"
        },
        {
          "output_type": "stream",
          "text": [
            "\n",
            "Coherence Score:  0.01 \t 5000 \t 0.49073706816367213\n"
          ],
          "name": "stdout"
        },
        {
          "output_type": "stream",
          "text": [
            "/usr/local/lib/python3.7/dist-packages/smart_open/smart_open_lib.py:479: DeprecationWarning: This function is deprecated.  See https://github.com/RaRe-Technologies/smart_open/blob/develop/MIGRATING_FROM_OLDER_VERSIONS.rst for more information\n",
            "  warnings.warn(message, category=DeprecationWarning)\n",
            "/usr/local/lib/python3.7/dist-packages/smart_open/smart_open_lib.py:479: DeprecationWarning: This function is deprecated.  See https://github.com/RaRe-Technologies/smart_open/blob/develop/MIGRATING_FROM_OLDER_VERSIONS.rst for more information\n",
            "  warnings.warn(message, category=DeprecationWarning)\n"
          ],
          "name": "stderr"
        },
        {
          "output_type": "stream",
          "text": [
            "\n",
            "Coherence Score:  0.2 \t 1000 \t 0.5022945464365929\n"
          ],
          "name": "stdout"
        },
        {
          "output_type": "stream",
          "text": [
            "/usr/local/lib/python3.7/dist-packages/smart_open/smart_open_lib.py:479: DeprecationWarning: This function is deprecated.  See https://github.com/RaRe-Technologies/smart_open/blob/develop/MIGRATING_FROM_OLDER_VERSIONS.rst for more information\n",
            "  warnings.warn(message, category=DeprecationWarning)\n",
            "/usr/local/lib/python3.7/dist-packages/smart_open/smart_open_lib.py:479: DeprecationWarning: This function is deprecated.  See https://github.com/RaRe-Technologies/smart_open/blob/develop/MIGRATING_FROM_OLDER_VERSIONS.rst for more information\n",
            "  warnings.warn(message, category=DeprecationWarning)\n"
          ],
          "name": "stderr"
        },
        {
          "output_type": "stream",
          "text": [
            "\n",
            "Coherence Score:  0.2 \t 2000 \t 0.5124312202226047\n"
          ],
          "name": "stdout"
        },
        {
          "output_type": "stream",
          "text": [
            "/usr/local/lib/python3.7/dist-packages/smart_open/smart_open_lib.py:479: DeprecationWarning: This function is deprecated.  See https://github.com/RaRe-Technologies/smart_open/blob/develop/MIGRATING_FROM_OLDER_VERSIONS.rst for more information\n",
            "  warnings.warn(message, category=DeprecationWarning)\n",
            "/usr/local/lib/python3.7/dist-packages/smart_open/smart_open_lib.py:479: DeprecationWarning: This function is deprecated.  See https://github.com/RaRe-Technologies/smart_open/blob/develop/MIGRATING_FROM_OLDER_VERSIONS.rst for more information\n",
            "  warnings.warn(message, category=DeprecationWarning)\n"
          ],
          "name": "stderr"
        },
        {
          "output_type": "stream",
          "text": [
            "\n",
            "Coherence Score:  0.2 \t 5000 \t 0.5087270052144846\n"
          ],
          "name": "stdout"
        },
        {
          "output_type": "stream",
          "text": [
            "/usr/local/lib/python3.7/dist-packages/smart_open/smart_open_lib.py:479: DeprecationWarning: This function is deprecated.  See https://github.com/RaRe-Technologies/smart_open/blob/develop/MIGRATING_FROM_OLDER_VERSIONS.rst for more information\n",
            "  warnings.warn(message, category=DeprecationWarning)\n",
            "/usr/local/lib/python3.7/dist-packages/smart_open/smart_open_lib.py:479: DeprecationWarning: This function is deprecated.  See https://github.com/RaRe-Technologies/smart_open/blob/develop/MIGRATING_FROM_OLDER_VERSIONS.rst for more information\n",
            "  warnings.warn(message, category=DeprecationWarning)\n"
          ],
          "name": "stderr"
        },
        {
          "output_type": "stream",
          "text": [
            "\n",
            "Coherence Score:  1 \t 1000 \t 0.519925614095324\n"
          ],
          "name": "stdout"
        },
        {
          "output_type": "stream",
          "text": [
            "/usr/local/lib/python3.7/dist-packages/smart_open/smart_open_lib.py:479: DeprecationWarning: This function is deprecated.  See https://github.com/RaRe-Technologies/smart_open/blob/develop/MIGRATING_FROM_OLDER_VERSIONS.rst for more information\n",
            "  warnings.warn(message, category=DeprecationWarning)\n",
            "/usr/local/lib/python3.7/dist-packages/smart_open/smart_open_lib.py:479: DeprecationWarning: This function is deprecated.  See https://github.com/RaRe-Technologies/smart_open/blob/develop/MIGRATING_FROM_OLDER_VERSIONS.rst for more information\n",
            "  warnings.warn(message, category=DeprecationWarning)\n"
          ],
          "name": "stderr"
        },
        {
          "output_type": "stream",
          "text": [
            "\n",
            "Coherence Score:  1 \t 2000 \t 0.489299878854355\n"
          ],
          "name": "stdout"
        },
        {
          "output_type": "stream",
          "text": [
            "/usr/local/lib/python3.7/dist-packages/smart_open/smart_open_lib.py:479: DeprecationWarning: This function is deprecated.  See https://github.com/RaRe-Technologies/smart_open/blob/develop/MIGRATING_FROM_OLDER_VERSIONS.rst for more information\n",
            "  warnings.warn(message, category=DeprecationWarning)\n",
            "/usr/local/lib/python3.7/dist-packages/smart_open/smart_open_lib.py:479: DeprecationWarning: This function is deprecated.  See https://github.com/RaRe-Technologies/smart_open/blob/develop/MIGRATING_FROM_OLDER_VERSIONS.rst for more information\n",
            "  warnings.warn(message, category=DeprecationWarning)\n"
          ],
          "name": "stderr"
        },
        {
          "output_type": "stream",
          "text": [
            "\n",
            "Coherence Score:  1 \t 5000 \t 0.501492418653045\n"
          ],
          "name": "stdout"
        },
        {
          "output_type": "stream",
          "text": [
            "/usr/local/lib/python3.7/dist-packages/smart_open/smart_open_lib.py:479: DeprecationWarning: This function is deprecated.  See https://github.com/RaRe-Technologies/smart_open/blob/develop/MIGRATING_FROM_OLDER_VERSIONS.rst for more information\n",
            "  warnings.warn(message, category=DeprecationWarning)\n",
            "/usr/local/lib/python3.7/dist-packages/smart_open/smart_open_lib.py:479: DeprecationWarning: This function is deprecated.  See https://github.com/RaRe-Technologies/smart_open/blob/develop/MIGRATING_FROM_OLDER_VERSIONS.rst for more information\n",
            "  warnings.warn(message, category=DeprecationWarning)\n"
          ],
          "name": "stderr"
        },
        {
          "output_type": "stream",
          "text": [
            "\n",
            "Coherence Score:  50 \t 1000 \t 0.4801350047494646\n"
          ],
          "name": "stdout"
        },
        {
          "output_type": "stream",
          "text": [
            "/usr/local/lib/python3.7/dist-packages/smart_open/smart_open_lib.py:479: DeprecationWarning: This function is deprecated.  See https://github.com/RaRe-Technologies/smart_open/blob/develop/MIGRATING_FROM_OLDER_VERSIONS.rst for more information\n",
            "  warnings.warn(message, category=DeprecationWarning)\n",
            "/usr/local/lib/python3.7/dist-packages/smart_open/smart_open_lib.py:479: DeprecationWarning: This function is deprecated.  See https://github.com/RaRe-Technologies/smart_open/blob/develop/MIGRATING_FROM_OLDER_VERSIONS.rst for more information\n",
            "  warnings.warn(message, category=DeprecationWarning)\n"
          ],
          "name": "stderr"
        },
        {
          "output_type": "stream",
          "text": [
            "\n",
            "Coherence Score:  50 \t 2000 \t 0.507700698398515\n"
          ],
          "name": "stdout"
        },
        {
          "output_type": "stream",
          "text": [
            "/usr/local/lib/python3.7/dist-packages/smart_open/smart_open_lib.py:479: DeprecationWarning: This function is deprecated.  See https://github.com/RaRe-Technologies/smart_open/blob/develop/MIGRATING_FROM_OLDER_VERSIONS.rst for more information\n",
            "  warnings.warn(message, category=DeprecationWarning)\n",
            "/usr/local/lib/python3.7/dist-packages/smart_open/smart_open_lib.py:479: DeprecationWarning: This function is deprecated.  See https://github.com/RaRe-Technologies/smart_open/blob/develop/MIGRATING_FROM_OLDER_VERSIONS.rst for more information\n",
            "  warnings.warn(message, category=DeprecationWarning)\n"
          ],
          "name": "stderr"
        },
        {
          "output_type": "stream",
          "text": [
            "\n",
            "Coherence Score:  50 \t 5000 \t 0.5010213658406316\n"
          ],
          "name": "stdout"
        }
      ]
    },
    {
      "cell_type": "code",
      "metadata": {
        "id": "r9VOBKbgXFYk",
        "colab": {
          "base_uri": "https://localhost:8080/"
        },
        "outputId": "bbc9e759-70cd-4ab8-cba2-b6ab97ce139a"
      },
      "source": [
        "ldamallet = gensim.models.wrappers.LdaMallet(mallet_path, corpus=corpus, num_topics=num_topics, id2word=id2word, iterations=2000, alpha=0.2, workers=64)"
      ],
      "execution_count": null,
      "outputs": [
        {
          "output_type": "stream",
          "text": [
            "/usr/local/lib/python3.7/dist-packages/smart_open/smart_open_lib.py:479: DeprecationWarning: This function is deprecated.  See https://github.com/RaRe-Technologies/smart_open/blob/develop/MIGRATING_FROM_OLDER_VERSIONS.rst for more information\n",
            "  warnings.warn(message, category=DeprecationWarning)\n",
            "/usr/local/lib/python3.7/dist-packages/smart_open/smart_open_lib.py:479: DeprecationWarning: This function is deprecated.  See https://github.com/RaRe-Technologies/smart_open/blob/develop/MIGRATING_FROM_OLDER_VERSIONS.rst for more information\n",
            "  warnings.warn(message, category=DeprecationWarning)\n"
          ],
          "name": "stderr"
        }
      ]
    },
    {
      "cell_type": "code",
      "metadata": {
        "colab": {
          "base_uri": "https://localhost:8080/"
        },
        "id": "clrTt4PQfCGK",
        "outputId": "48bc4b46-8eef-4397-dbd7-4182b88c1aed"
      },
      "source": [
        "ldamallet = gensim.models.wrappers.LdaMallet(mallet_path, corpus=corpus, num_topics=num_topics, id2word=id2word, iterations=1000, alpha=1, workers=64)\r\n"
      ],
      "execution_count": null,
      "outputs": [
        {
          "output_type": "stream",
          "text": [
            "/usr/local/lib/python3.7/dist-packages/smart_open/smart_open_lib.py:479: DeprecationWarning: This function is deprecated.  See https://github.com/RaRe-Technologies/smart_open/blob/develop/MIGRATING_FROM_OLDER_VERSIONS.rst for more information\n",
            "  warnings.warn(message, category=DeprecationWarning)\n",
            "/usr/local/lib/python3.7/dist-packages/smart_open/smart_open_lib.py:479: DeprecationWarning: This function is deprecated.  See https://github.com/RaRe-Technologies/smart_open/blob/develop/MIGRATING_FROM_OLDER_VERSIONS.rst for more information\n",
            "  warnings.warn(message, category=DeprecationWarning)\n"
          ],
          "name": "stderr"
        }
      ]
    },
    {
      "cell_type": "markdown",
      "metadata": {
        "id": "Z1cu9pd1pFJ9"
      },
      "source": [
        "Below you can find the 10 topics formed by the model. For each topic there are 10 terms and their relative weights next to it in descending order."
      ]
    },
    {
      "cell_type": "code",
      "metadata": {
        "id": "jv9ejWP3XFU-",
        "colab": {
          "base_uri": "https://localhost:8080/"
        },
        "outputId": "2db75aa4-a1e1-42a4-a5d6-57f6adb5e8d1"
      },
      "source": [
        "# Show Topics\n",
        "pprint(ldamallet.show_topics(formatted=False, num_topics=10))\n",
        "\n",
        "# Compute Coherence Score\n",
        "coherence_model_ldamallet = CoherenceModel(model=ldamallet, texts=data_ready, dictionary=id2word, coherence='c_v')\n",
        "coherence_ldamallet = coherence_model_ldamallet.get_coherence()\n",
        "print('\\nCoherence Score: ', coherence_ldamallet)"
      ],
      "execution_count": null,
      "outputs": [
        {
          "output_type": "stream",
          "text": [
            "[(0,\n",
            "  [('food', 0.04798673177923155),\n",
            "   ('menu', 0.018280659725421543),\n",
            "   ('dining', 0.012733806320832949),\n",
            "   ('wine', 0.012236248042016033),\n",
            "   ('attribute', 0.011683405509997236),\n",
            "   ('consumer', 0.010983138302773426),\n",
            "   ('order', 0.010651432783562148),\n",
            "   ('quality', 0.009877453238735833),\n",
            "   ('price', 0.008790196259098867),\n",
            "   ('meal', 0.007887220123468165)]),\n",
            " (1,\n",
            "  [('code', 0.013176039538184343),\n",
            "   ('process', 0.01216946661700907),\n",
            "   ('approach', 0.010126123587023262),\n",
            "   ('qualitative', 0.010025466294905734),\n",
            "   ('category', 0.009491982646682839),\n",
            "   ('content', 0.008636395663683856),\n",
            "   ('theme', 0.008334423787331274),\n",
            "   ('case', 0.007861334514378895),\n",
            "   ('data', 0.007750611493049614),\n",
            "   ('focus', 0.006844695863991867)]),\n",
            " (2,\n",
            "  [('market', 0.01645899314004818),\n",
            "   ('size', 0.013401973611807432),\n",
            "   ('control', 0.01314518397143521),\n",
            "   ('asset', 0.011873463847687058),\n",
            "   ('return', 0.011188691473361132),\n",
            "   ('sale', 0.010662884114503723),\n",
            "   ('financial', 0.01028381369300187),\n",
            "   ('estimate', 0.009941427505838908),\n",
            "   ('ratio', 0.008865356631898165),\n",
            "   ('period', 0.008791988163220387)]),\n",
            " (3,\n",
            "  [('company', 0.016825149170338824),\n",
            "   ('management', 0.013493853971199055),\n",
            "   ('business', 0.01169115941723418),\n",
            "   ('activity', 0.011016466718674229),\n",
            "   ('environmental', 0.00899238862299437),\n",
            "   ('innovation', 0.008823715448354382),\n",
            "   ('practice', 0.008212275190284425),\n",
            "   ('strategy', 0.006472833076809547),\n",
            "   ('chain', 0.006177655021189567),\n",
            "   ('resource', 0.005798140378249594)]),\n",
            " (4,\n",
            "  [('supervisor', 0.01635122956096305),\n",
            "   ('casino', 0.01627076091154886),\n",
            "   ('percent', 0.01601326123342346),\n",
            "   ('team', 0.014275138406076993),\n",
            "   ('average', 0.011136861078923652),\n",
            "   ('control', 0.009688425389468264),\n",
            "   ('member', 0.009173426033217458),\n",
            "   ('female', 0.008754989056263679),\n",
            "   ('family', 0.008706707866615166),\n",
            "   ('management', 0.008626239217200979)]),\n",
            " (5,\n",
            "  [('brand', 0.02792385926662434),\n",
            "   ('scenario', 0.024988919103465627),\n",
            "   ('condition', 0.014650742120584113),\n",
            "   ('consumer', 0.012494459551732813),\n",
            "   ('perceive', 0.011452256310121351),\n",
            "   ('positive', 0.010218383506834218),\n",
            "   ('negative', 0.009188159612827486),\n",
            "   ('student', 0.007954286809540353),\n",
            "   ('failure', 0.007882410723911975),\n",
            "   ('subject', 0.007774596595469411)]),\n",
            " (6,\n",
            "  [('score', 0.011595180347855411),\n",
            "   ('function', 0.008910390267311708),\n",
            "   ('input', 0.008573170257195107),\n",
            "   ('attribute', 0.008352680250580408),\n",
            "   ('estimate', 0.008339710250191307),\n",
            "   ('cost', 0.008002490240074708),\n",
            "   ('output', 0.007678240230347207),\n",
            "   ('efficiency', 0.007678240230347207),\n",
            "   ('calculate', 0.0072242902167287066),\n",
            "   ('weight', 0.006601730198051906)]),\n",
            " (7,\n",
            "  [('tourism', 0.038665667634479095),\n",
            "   ('tourist', 0.026911429552620898),\n",
            "   ('destination', 0.022025537760294714),\n",
            "   ('article', 0.015094751959039681),\n",
            "   ('travel', 0.014361087696294215),\n",
            "   ('country', 0.013003028316318567),\n",
            "   ('visitor', 0.010364958946021042),\n",
            "   ('author', 0.008663482251568792),\n",
            "   ('local', 0.008554213106053511),\n",
            "   ('paper', 0.008538603228122756)]),\n",
            " (8,\n",
            "  [('cent', 0.012789785721728925),\n",
            "   ('satisfaction', 0.011007332737354181),\n",
            "   ('reliability', 0.010255960248556214),\n",
            "   ('assess', 0.009098736926392919),\n",
            "   ('dimension', 0.008517383029950695),\n",
            "   ('validity', 0.00809507878442191),\n",
            "   ('adapt', 0.007332737354181634),\n",
            "   ('range', 0.006745898987018258),\n",
            "   ('complete', 0.00657039592394136),\n",
            "   ('demographic', 0.006180998502739493)]),\n",
            " (9,\n",
            "  [('room', 0.039769180407740676),\n",
            "   ('price', 0.025715982277440277),\n",
            "   ('guest', 0.019503951034577263),\n",
            "   ('online', 0.015316920172353416),\n",
            "   ('rating', 0.014388160599278308),\n",
            "   ('stay', 0.014312032765419693),\n",
            "   ('website', 0.01152575404619437),\n",
            "   ('average', 0.01084060354146683),\n",
            "   ('property', 0.009927069535163447),\n",
            "   ('attribute', 0.008891730994686277)])]\n",
            "\n",
            "Coherence Score:  0.5252684922709705\n"
          ],
          "name": "stdout"
        }
      ]
    },
    {
      "cell_type": "markdown",
      "metadata": {
        "id": "8MYYdImIqs3F"
      },
      "source": [
        "### LDA Tuning: Finding the Optimal Number of Topics"
      ]
    },
    {
      "cell_type": "code",
      "metadata": {
        "id": "tm-R0skIZ-TC"
      },
      "source": [
        "from tqdm import tqdm\n",
        "\n",
        "def topic_model_coherence_generator(corpus, texts, dictionary, start_topic_count=5, end_topic_count=50, step=5, cpus=1):\n",
        "  models = []\n",
        "  coherence_scores = []\n",
        "  for topic_nums in tqdm(range(start_topic_count, end_topic_count+1, step)):\n",
        "    mallet_lda_model = gensim.models.wrappers.LdaMallet(mallet_path=mallet_path, corpus=corpus, num_topics=topic_nums,\n",
        "                                                            id2word=dictionary, iterations=2000, workers=cpus, alpha=5/topic_nums)\n",
        "      \n",
        "    cv_coherence_model_mallet_lda = gensim. models.CoherenceModel (model=mallet_lda_model, corpus=corpus, texts=texts,\n",
        "                                                                     dictionary=dictionary, coherence='c_v')\n",
        "      \n",
        "    coherence_score = cv_coherence_model_mallet_lda.get_coherence()\n",
        "    coherence_scores.append(coherence_score)\n",
        "    models.append(mallet_lda_model)\n",
        "  return models, coherence_scores"
      ],
      "execution_count": null,
      "outputs": []
    },
    {
      "cell_type": "markdown",
      "metadata": {
        "id": "qMBpTPZ4rnhU"
      },
      "source": [
        "* We build several topic models, with the number of topics ranging from 2 to 50."
      ]
    },
    {
      "cell_type": "code",
      "metadata": {
        "id": "j3YtnuMlZ-Pc",
        "colab": {
          "base_uri": "https://localhost:8080/"
        },
        "outputId": "13fa5e61-dfec-4fd7-84c1-5ea2363e3c41"
      },
      "source": [
        "lda_models, coherence_scores = topic_model_coherence_generator(corpus=corpus, texts=data_ready, dictionary=id2word,\n",
        "                                                               start_topic_count=5, end_topic_count=50, step=5, cpus=64)"
      ],
      "execution_count": null,
      "outputs": [
        {
          "output_type": "stream",
          "text": [
            "\r  0%|          | 0/10 [00:00<?, ?it/s]/usr/local/lib/python3.7/dist-packages/smart_open/smart_open_lib.py:479: DeprecationWarning: This function is deprecated.  See https://github.com/RaRe-Technologies/smart_open/blob/develop/MIGRATING_FROM_OLDER_VERSIONS.rst for more information\n",
            "  warnings.warn(message, category=DeprecationWarning)\n",
            "/usr/local/lib/python3.7/dist-packages/smart_open/smart_open_lib.py:479: DeprecationWarning: This function is deprecated.  See https://github.com/RaRe-Technologies/smart_open/blob/develop/MIGRATING_FROM_OLDER_VERSIONS.rst for more information\n",
            "  warnings.warn(message, category=DeprecationWarning)\n",
            " 10%|█         | 1/10 [04:21<39:09, 261.03s/it]/usr/local/lib/python3.7/dist-packages/smart_open/smart_open_lib.py:479: DeprecationWarning: This function is deprecated.  See https://github.com/RaRe-Technologies/smart_open/blob/develop/MIGRATING_FROM_OLDER_VERSIONS.rst for more information\n",
            "  warnings.warn(message, category=DeprecationWarning)\n",
            "/usr/local/lib/python3.7/dist-packages/smart_open/smart_open_lib.py:479: DeprecationWarning: This function is deprecated.  See https://github.com/RaRe-Technologies/smart_open/blob/develop/MIGRATING_FROM_OLDER_VERSIONS.rst for more information\n",
            "  warnings.warn(message, category=DeprecationWarning)\n",
            " 20%|██        | 2/10 [09:34<36:54, 276.78s/it]/usr/local/lib/python3.7/dist-packages/smart_open/smart_open_lib.py:479: DeprecationWarning: This function is deprecated.  See https://github.com/RaRe-Technologies/smart_open/blob/develop/MIGRATING_FROM_OLDER_VERSIONS.rst for more information\n",
            "  warnings.warn(message, category=DeprecationWarning)\n",
            "/usr/local/lib/python3.7/dist-packages/smart_open/smart_open_lib.py:479: DeprecationWarning: This function is deprecated.  See https://github.com/RaRe-Technologies/smart_open/blob/develop/MIGRATING_FROM_OLDER_VERSIONS.rst for more information\n",
            "  warnings.warn(message, category=DeprecationWarning)\n",
            " 30%|███       | 3/10 [15:21<34:45, 297.91s/it]/usr/local/lib/python3.7/dist-packages/smart_open/smart_open_lib.py:479: DeprecationWarning: This function is deprecated.  See https://github.com/RaRe-Technologies/smart_open/blob/develop/MIGRATING_FROM_OLDER_VERSIONS.rst for more information\n",
            "  warnings.warn(message, category=DeprecationWarning)\n",
            "/usr/local/lib/python3.7/dist-packages/smart_open/smart_open_lib.py:479: DeprecationWarning: This function is deprecated.  See https://github.com/RaRe-Technologies/smart_open/blob/develop/MIGRATING_FROM_OLDER_VERSIONS.rst for more information\n",
            "  warnings.warn(message, category=DeprecationWarning)\n",
            " 40%|████      | 4/10 [21:39<32:11, 321.90s/it]/usr/local/lib/python3.7/dist-packages/smart_open/smart_open_lib.py:479: DeprecationWarning: This function is deprecated.  See https://github.com/RaRe-Technologies/smart_open/blob/develop/MIGRATING_FROM_OLDER_VERSIONS.rst for more information\n",
            "  warnings.warn(message, category=DeprecationWarning)\n",
            "/usr/local/lib/python3.7/dist-packages/smart_open/smart_open_lib.py:479: DeprecationWarning: This function is deprecated.  See https://github.com/RaRe-Technologies/smart_open/blob/develop/MIGRATING_FROM_OLDER_VERSIONS.rst for more information\n",
            "  warnings.warn(message, category=DeprecationWarning)\n",
            " 50%|█████     | 5/10 [28:19<28:46, 345.31s/it]/usr/local/lib/python3.7/dist-packages/smart_open/smart_open_lib.py:479: DeprecationWarning: This function is deprecated.  See https://github.com/RaRe-Technologies/smart_open/blob/develop/MIGRATING_FROM_OLDER_VERSIONS.rst for more information\n",
            "  warnings.warn(message, category=DeprecationWarning)\n",
            "/usr/local/lib/python3.7/dist-packages/smart_open/smart_open_lib.py:479: DeprecationWarning: This function is deprecated.  See https://github.com/RaRe-Technologies/smart_open/blob/develop/MIGRATING_FROM_OLDER_VERSIONS.rst for more information\n",
            "  warnings.warn(message, category=DeprecationWarning)\n",
            " 60%|██████    | 6/10 [35:28<24:42, 370.53s/it]/usr/local/lib/python3.7/dist-packages/smart_open/smart_open_lib.py:479: DeprecationWarning: This function is deprecated.  See https://github.com/RaRe-Technologies/smart_open/blob/develop/MIGRATING_FROM_OLDER_VERSIONS.rst for more information\n",
            "  warnings.warn(message, category=DeprecationWarning)\n",
            "/usr/local/lib/python3.7/dist-packages/smart_open/smart_open_lib.py:479: DeprecationWarning: This function is deprecated.  See https://github.com/RaRe-Technologies/smart_open/blob/develop/MIGRATING_FROM_OLDER_VERSIONS.rst for more information\n",
            "  warnings.warn(message, category=DeprecationWarning)\n",
            " 70%|███████   | 7/10 [42:56<19:40, 393.51s/it]/usr/local/lib/python3.7/dist-packages/smart_open/smart_open_lib.py:479: DeprecationWarning: This function is deprecated.  See https://github.com/RaRe-Technologies/smart_open/blob/develop/MIGRATING_FROM_OLDER_VERSIONS.rst for more information\n",
            "  warnings.warn(message, category=DeprecationWarning)\n",
            "/usr/local/lib/python3.7/dist-packages/smart_open/smart_open_lib.py:479: DeprecationWarning: This function is deprecated.  See https://github.com/RaRe-Technologies/smart_open/blob/develop/MIGRATING_FROM_OLDER_VERSIONS.rst for more information\n",
            "  warnings.warn(message, category=DeprecationWarning)\n",
            " 80%|████████  | 8/10 [50:53<13:57, 418.61s/it]/usr/local/lib/python3.7/dist-packages/smart_open/smart_open_lib.py:479: DeprecationWarning: This function is deprecated.  See https://github.com/RaRe-Technologies/smart_open/blob/develop/MIGRATING_FROM_OLDER_VERSIONS.rst for more information\n",
            "  warnings.warn(message, category=DeprecationWarning)\n",
            "/usr/local/lib/python3.7/dist-packages/smart_open/smart_open_lib.py:479: DeprecationWarning: This function is deprecated.  See https://github.com/RaRe-Technologies/smart_open/blob/develop/MIGRATING_FROM_OLDER_VERSIONS.rst for more information\n",
            "  warnings.warn(message, category=DeprecationWarning)\n",
            " 90%|█████████ | 9/10 [58:58<07:18, 438.52s/it]/usr/local/lib/python3.7/dist-packages/smart_open/smart_open_lib.py:479: DeprecationWarning: This function is deprecated.  See https://github.com/RaRe-Technologies/smart_open/blob/develop/MIGRATING_FROM_OLDER_VERSIONS.rst for more information\n",
            "  warnings.warn(message, category=DeprecationWarning)\n",
            "/usr/local/lib/python3.7/dist-packages/smart_open/smart_open_lib.py:479: DeprecationWarning: This function is deprecated.  See https://github.com/RaRe-Technologies/smart_open/blob/develop/MIGRATING_FROM_OLDER_VERSIONS.rst for more information\n",
            "  warnings.warn(message, category=DeprecationWarning)\n",
            "100%|██████████| 10/10 [1:07:35<00:00, 405.52s/it]\n"
          ],
          "name": "stderr"
        }
      ]
    },
    {
      "cell_type": "code",
      "metadata": {
        "id": "vArkOsaj1g3h",
        "colab": {
          "base_uri": "https://localhost:8080/",
          "height": 388
        },
        "outputId": "195402b8-d48d-4355-9e54-a6a54db8137d"
      },
      "source": [
        "x_ax = range(5, 51, 5)\n",
        "y_ax = coherence_scores\n",
        "\n",
        "plt.figure(figsize=(12, 6))\n",
        "plt.plot(x_ax, y_ax, c='r')\n",
        "\n",
        "plt.axhline(y=0.50, c='k', linestyle='--', linewidth=2)\n",
        "plt.rcParams['figure.facecolor'] = 'white'\n",
        "\n",
        "xl = plt.xlabel('Number of Topics')\n",
        "yl = plt.ylabel('Coherence Score')\n",
        "\n",
        "plt.show()"
      ],
      "execution_count": null,
      "outputs": [
        {
          "output_type": "display_data",
          "data": {
            "image/png": "[encoded data removed]",
            "text/plain": [
              "<Figure size 864x432 with 1 Axes>"
            ]
          },
          "metadata": {
            "tags": [],
            "needs_background": "light"
          }
        }
      ]
    },
    {
      "cell_type": "code",
      "metadata": {
        "id": "C5KUjERPZ-Nz",
        "colab": {
          "base_uri": "https://localhost:8080/",
          "height": 359
        },
        "outputId": "a73db32e-4636-4fb1-9945-abcb01fa4755"
      },
      "source": [
        "coherence_df = pd.DataFrame({'Number of Topics': range(5, 51, 5), 'Coherence Score': np.round(coherence_scores, 4)})\n",
        "\n",
        "coherence_df.sort_values(by=['Coherence Score'], ascending=False).head(10)"
      ],
      "execution_count": null,
      "outputs": [
        {
          "output_type": "execute_result",
          "data": {
            "text/html": [
              "<div>\n",
              "<style scoped>\n",
              "    .dataframe tbody tr th:only-of-type {\n",
              "        vertical-align: middle;\n",
              "    }\n",
              "\n",
              "    .dataframe tbody tr th {\n",
              "        vertical-align: top;\n",
              "    }\n",
              "\n",
              "    .dataframe thead th {\n",
              "        text-align: right;\n",
              "    }\n",
              "</style>\n",
              "<table border=\"1\" class=\"dataframe\">\n",
              "  <thead>\n",
              "    <tr style=\"text-align: right;\">\n",
              "      <th></th>\n",
              "      <th>Number of Topics</th>\n",
              "      <th>Coherence Score</th>\n",
              "    </tr>\n",
              "  </thead>\n",
              "  <tbody>\n",
              "    <tr>\n",
              "      <th>8</th>\n",
              "      <td>45</td>\n",
              "      <td>0.5247</td>\n",
              "    </tr>\n",
              "    <tr>\n",
              "      <th>6</th>\n",
              "      <td>35</td>\n",
              "      <td>0.5216</td>\n",
              "    </tr>\n",
              "    <tr>\n",
              "      <th>5</th>\n",
              "      <td>30</td>\n",
              "      <td>0.5211</td>\n",
              "    </tr>\n",
              "    <tr>\n",
              "      <th>4</th>\n",
              "      <td>25</td>\n",
              "      <td>0.5168</td>\n",
              "    </tr>\n",
              "    <tr>\n",
              "      <th>2</th>\n",
              "      <td>15</td>\n",
              "      <td>0.5164</td>\n",
              "    </tr>\n",
              "    <tr>\n",
              "      <th>3</th>\n",
              "      <td>20</td>\n",
              "      <td>0.5139</td>\n",
              "    </tr>\n",
              "    <tr>\n",
              "      <th>1</th>\n",
              "      <td>10</td>\n",
              "      <td>0.5107</td>\n",
              "    </tr>\n",
              "    <tr>\n",
              "      <th>9</th>\n",
              "      <td>50</td>\n",
              "      <td>0.5079</td>\n",
              "    </tr>\n",
              "    <tr>\n",
              "      <th>7</th>\n",
              "      <td>40</td>\n",
              "      <td>0.4989</td>\n",
              "    </tr>\n",
              "    <tr>\n",
              "      <th>0</th>\n",
              "      <td>5</td>\n",
              "      <td>0.4925</td>\n",
              "    </tr>\n",
              "  </tbody>\n",
              "</table>\n",
              "</div>"
            ],
            "text/plain": [
              "   Number of Topics  Coherence Score\n",
              "8                45           0.5247\n",
              "6                35           0.5216\n",
              "5                30           0.5211\n",
              "4                25           0.5168\n",
              "2                15           0.5164\n",
              "3                20           0.5139\n",
              "1                10           0.5107\n",
              "9                50           0.5079\n",
              "7                40           0.4989\n",
              "0                 5           0.4925"
            ]
          },
          "metadata": {
            "tags": []
          },
          "execution_count": 27
        }
      ]
    },
    {
      "cell_type": "code",
      "metadata": {
        "id": "mnbhp1XGBx4c"
      },
      "source": [
        ""
      ],
      "execution_count": null,
      "outputs": []
    }
  ]
}